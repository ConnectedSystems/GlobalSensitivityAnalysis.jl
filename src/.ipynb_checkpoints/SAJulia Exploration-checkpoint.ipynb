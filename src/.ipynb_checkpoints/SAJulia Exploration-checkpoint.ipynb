{
 "cells": [
  {
   "cell_type": "markdown",
   "metadata": {},
   "source": [
    "# SAJulia Exploration\n"
   ]
  },
  {
   "cell_type": "markdown",
   "metadata": {},
   "source": [
    "## Sobol Sensitivity Analysis"
   ]
  },
  {
   "cell_type": "markdown",
   "metadata": {},
   "source": [
    "## Set Up"
   ]
  },
  {
   "cell_type": "code",
   "execution_count": 21,
   "metadata": {},
   "outputs": [
    {
     "data": {
      "text/plain": [
       "ishigami"
      ]
     },
     "execution_count": 21,
     "metadata": {},
     "output_type": "execute_result"
    }
   ],
   "source": [
    "using Distributions\n",
    "# using VegaLite\n",
    "using DataFrames\n",
    "\n",
    "include(\"sobol_sequence.jl\")\n",
    "include(\"saltelli.jl\")\n",
    "include(\"sobol_analysis.jl\")\n",
    "include(\"test_functions/ishigami.jl\")"
   ]
  },
  {
   "cell_type": "markdown",
   "metadata": {},
   "source": [
    "### 1. Sampling"
   ]
  },
  {
   "cell_type": "code",
   "execution_count": 11,
   "metadata": {},
   "outputs": [
    {
     "data": {
      "text/plain": [
       "3"
      ]
     },
     "execution_count": 11,
     "metadata": {},
     "output_type": "execute_result"
    }
   ],
   "source": [
    "# define the (uncertain) parameters of the problem and their distributions\n",
    "params = SobolParams(\n",
    "    [\"x1\", \"x2\", \"x3\"], \n",
    "    [Uniform(-3.14159265359, 3.14159265359), Uniform(-3.14159265359, 3.14159265359), \n",
    "    Uniform(-3.14159265359, 3.14159265359)]\n",
    ")\n",
    "N = 100000\n",
    "D = 3"
   ]
  },
  {
   "cell_type": "markdown",
   "metadata": {},
   "source": [
    "### Sampling - Sobol sequence"
   ]
  },
  {
   "cell_type": "code",
   "execution_count": 12,
   "metadata": {},
   "outputs": [],
   "source": [
    "# Get the sobol sequence intermediate\n",
    "sample = sobol_sequence(N, 3);"
   ]
  },
  {
   "cell_type": "code",
   "execution_count": 13,
   "metadata": {},
   "outputs": [],
   "source": [
    "# generate samples\n",
    "param_values = saltelli_sample(params, N);"
   ]
  },
  {
   "cell_type": "markdown",
   "metadata": {},
   "source": [
    "### Sampling - Plotting\n"
   ]
  },
  {
   "cell_type": "code",
   "execution_count": 6,
   "metadata": {},
   "outputs": [
    {
     "ename": "UndefVarError",
     "evalue": "UndefVarError: sobol_sequence not defined",
     "output_type": "error",
     "traceback": [
      "UndefVarError: sobol_sequence not defined",
      "",
      "Stacktrace:",
      " [1] top-level scope at In[6]:1"
     ]
    }
   ],
   "source": [
    "#distribution of sobol_sequence values\n",
    "sample = sobol_sequence(100, D) |> DataFrame\n",
    "indicis = DataFrame(index = 1:100)\n",
    "df = [indicis sample]\n",
    "\n",
    "df |>\n",
    "@vlplot(\n",
    "    :point,\n",
    "    x=:index,\n",
    "    y=:x1,\n",
    "    color=:Origin,\n",
    "    width=400,\n",
    "    height=400\n",
    ")\n"
   ]
  },
  {
   "cell_type": "code",
   "execution_count": 7,
   "metadata": {},
   "outputs": [
    {
     "ename": "LoadError",
     "evalue": "UndefVarError: @vlplot not defined",
     "output_type": "error",
     "traceback": [
      "UndefVarError: @vlplot not defined",
      ""
     ]
    }
   ],
   "source": [
    "DataFrame(param_values) |>\n",
    "@vlplot(\n",
    "    :bar, \n",
    "    x={:x1, bin=true}, \n",
    "    y=\"count()\"\n",
    ")"
   ]
  },
  {
   "cell_type": "markdown",
   "metadata": {},
   "source": [
    "### 2. Analyze"
   ]
  },
  {
   "cell_type": "code",
   "execution_count": 16,
   "metadata": {},
   "outputs": [],
   "source": [
    "Y = ishigami(param_values);"
   ]
  },
  {
   "cell_type": "code",
   "execution_count": 22,
   "metadata": {},
   "outputs": [
    {
     "data": {
      "text/plain": [
       "3-element Array{Float64,1}:\n",
       " -0.31359814595216107\n",
       " -0.44237529791744656\n",
       "  0.24377928920044808"
      ]
     },
     "execution_count": 22,
     "metadata": {},
     "output_type": "execute_result"
    }
   ],
   "source": [
    "results = sobol_analyze(params, Y)\n",
    "results.firstorder"
   ]
  }
 ],
 "metadata": {
  "kernelspec": {
   "display_name": "Julia 1.0.3",
   "language": "julia",
   "name": "julia-1.0"
  },
  "language_info": {
   "file_extension": ".jl",
   "mimetype": "application/julia",
   "name": "julia",
   "version": "1.0.3"
  }
 },
 "nbformat": 4,
 "nbformat_minor": 2
}
