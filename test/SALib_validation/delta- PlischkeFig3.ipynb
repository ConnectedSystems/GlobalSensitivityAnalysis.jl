{
 "cells": [
  {
   "cell_type": "markdown",
   "metadata": {},
   "source": [
    "# SALib Validation Files\n",
    "This outputs files from SALib delta analysis recreating Plischke Fig3."
   ]
  },
  {
   "cell_type": "markdown",
   "metadata": {},
   "source": [
    "## Set Up"
   ]
  },
  {
   "cell_type": "code",
   "execution_count": 1,
   "metadata": {},
   "outputs": [],
   "source": [
    "from SALib.sample import latin\n",
    "from SALib.analyze import delta\n",
    "from SALib.test_functions import Ishigami\n",
    "\n",
    "from scipy.stats import norm, gaussian_kde, rankdata\n",
    "\n",
    "import numpy as np\n",
    "import csv\n",
    "\n",
    "from SALib.util import read_param_file, ResultDict"
   ]
  },
  {
   "cell_type": "code",
   "execution_count": 2,
   "metadata": {},
   "outputs": [],
   "source": [
    "problem = {\n",
    "    'num_vars': 4,\n",
    "    'names': ['x1', 'x2', 'x3', 'x4'],\n",
    "    'bounds': [[-3.14159265359, 3.14159265359],\n",
    "               [-3.14159265359, 3.14159265359],\n",
    "               [-3.14159265359, 3.14159265359],\n",
    "               [-3.14159265359, 3.14159265359]]\n",
    "}"
   ]
  },
  {
   "cell_type": "code",
   "execution_count": 3,
   "metadata": {},
   "outputs": [],
   "source": [
    "sample_sizes = [512, 1024, 2048, 4096, 8192, 16384]\n",
    "\n",
    "fig3_deltas = np.zeros(len(sample_sizes))\n",
    "fig3_deltas_CI = np.zeros(len(sample_sizes))"
   ]
  },
  {
   "cell_type": "code",
   "execution_count": 4,
   "metadata": {},
   "outputs": [],
   "source": [
    "# n = 512\n",
    "# X = latin.sample(problem, n)\n",
    "# Y = Ishigami.evaluate(X)\n",
    "# Si = delta.analyze(problem, X, Y, num_resamples = 500)"
   ]
  },
  {
   "cell_type": "code",
   "execution_count": 4,
   "metadata": {},
   "outputs": [
    {
     "name": "stdout",
     "output_type": "stream",
     "text": [
      "512\n",
      "1024\n"
     ]
    }
   ],
   "source": [
    "i = 0;\n",
    "for n in sample_sizes:\n",
    "    \n",
    "    print(n)\n",
    "    \n",
    "    X = latin.sample(problem, n)\n",
    "    Y = Ishigami.evaluate(X)\n",
    "    Si = delta.analyze(problem, X, Y, num_resamples = 1000)\n",
    "    \n",
    "    fig3_deltas[i] = Si['delta'][3]\n",
    "    fig3_deltas_CI[i] = Si['delta_conf'][3]\n",
    "    \n",
    "    i += 1"
   ]
  },
  {
   "cell_type": "code",
   "execution_count": null,
   "metadata": {},
   "outputs": [
    {
     "data": {
      "text/plain": [
       "array([0.03675842, 0.03512737, 0.04431219, 0.03533525, 0.0386379 ,\n",
       "       0.02777811])"
      ]
     },
     "execution_count": 6,
     "metadata": {},
     "output_type": "execute_result"
    }
   ],
   "source": [
    "fig3_deltas"
   ]
  },
  {
   "cell_type": "code",
   "execution_count": null,
   "metadata": {},
   "outputs": [
    {
     "data": {
      "text/plain": [
       "array([0.02164714, 0.01424834, 0.01058716, 0.0073074 , 0.00521382,\n",
       "       0.00358639])"
      ]
     },
     "execution_count": 7,
     "metadata": {},
     "output_type": "execute_result"
    }
   ],
   "source": [
    "fig3_deltas_CI"
   ]
  },
  {
   "cell_type": "code",
   "execution_count": null,
   "metadata": {},
   "outputs": [],
   "source": []
  }
 ],
 "metadata": {
  "kernelspec": {
   "display_name": "Python 3.8.9 64-bit",
   "language": "python",
   "name": "python3"
  },
  "language_info": {
   "codemirror_mode": {
    "name": "ipython",
    "version": 3
   },
   "file_extension": ".py",
   "mimetype": "text/x-python",
   "name": "python",
   "nbconvert_exporter": "python",
   "pygments_lexer": "ipython3",
   "version": "3.8.9"
  },
  "vscode": {
   "interpreter": {
    "hash": "31f2aee4e71d21fbe5cf8b01ff0e069b9275f58929596ceb00d14d90e3e16cd6"
   }
  }
 },
 "nbformat": 4,
 "nbformat_minor": 2
}
