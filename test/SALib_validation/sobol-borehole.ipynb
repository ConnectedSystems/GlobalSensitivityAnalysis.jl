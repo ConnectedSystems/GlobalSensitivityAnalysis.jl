{
 "cells": [
  {
   "cell_type": "markdown",
   "metadata": {},
   "source": [
    "# SALib Validation Files\n",
    "This outputs files from SALib sobol analysis with Borehole function."
   ]
  },
  {
   "cell_type": "markdown",
   "metadata": {},
   "source": [
    "## Set Up"
   ]
  },
  {
   "cell_type": "code",
   "execution_count": 38,
   "metadata": {},
   "outputs": [],
   "source": [
    "import SALib\n",
    "\n",
    "from SALib.sample import saltelli\n",
    "from SALib.analyze import sobol\n",
    "from __future__ import division\n",
    "\n",
    "import numpy as np\n",
    "import csv\n",
    "import math\n",
    "\n",
    "#extra plotting\n",
    "import matplotlib.pyplot as plt\n",
    "%matplotlib inline\n",
    "import pandas as pd"
   ]
  },
  {
   "cell_type": "markdown",
   "metadata": {},
   "source": [
    "## Define the Borehole Function"
   ]
  },
  {
   "cell_type": "code",
   "execution_count": 39,
   "metadata": {},
   "outputs": [],
   "source": [
    "def borehole_evaluate(values):\n",
    "    \n",
    "    Y = np.zeros([values.shape[0]])\n",
    "    \n",
    "    for i, X in enumerate(values):\n",
    "        \n",
    "        rw =    X[0] # radius of borehole (m)\n",
    "        r =     X[1] # radius of influence (m)\n",
    "        Tu =    X[2] # transmissivity of upper aquifer (m2/yr)\n",
    "        Hu =    X[3] # potentiometric head of upper aquifer (m)\n",
    "        Tl =    X[4] # transmissivity of lower aquifer (m2/yr)\n",
    "        Hl =    X[5] # potentiometric head of lower aquifer (m)\n",
    "        L =     X[6] # length of borehole (m)\n",
    "        Kw =    X[7] # hydraulic conductivity of borehole (m/yr)\n",
    "\n",
    "        l = np.log(r/rw)\n",
    "        num = 2 * np.pi * Tu * (Hu - Hl)\n",
    "        denom = l * (1 + ((2 * L * Tu) / (l * (rw**2) * Kw)) + (Tu/Tl))\n",
    "        Y[i] = num / denom\n",
    "        \n",
    "        Y[i] \n",
    "\n",
    "    return Y"
   ]
  },
  {
   "cell_type": "markdown",
   "metadata": {},
   "source": [
    "## SALib"
   ]
  },
  {
   "cell_type": "code",
   "execution_count": 40,
   "metadata": {},
   "outputs": [
    {
     "name": "stderr",
     "output_type": "stream",
     "text": [
      "/Users/lisarennels/Library/Python/3.8/lib/python/site-packages/SALib/sample/saltelli.py:94: UserWarning: \n",
      "        Convergence properties of the Sobol' sequence is only valid if\n",
      "        `N` (1000) is equal to `2^n`.\n",
      "        \n",
      "  warnings.warn(msg)\n"
     ]
    },
    {
     "name": "stdout",
     "output_type": "stream",
     "text": [
      "              ST       ST_conf\n",
      "rw  7.025910e-01  5.319668e-02\n",
      "r   2.925095e-06  5.878706e-07\n",
      "Tu  7.940419e-12  1.135924e-12\n",
      "Hu  1.083814e-01  1.273212e-02\n",
      "Tl  8.254856e-06  1.574075e-06\n",
      "Hl  1.077613e-01  1.309971e-02\n",
      "L   1.027682e-01  1.238959e-02\n",
      "Kw  2.528156e-02  2.874352e-03\n",
      "              S1       S1_conf\n",
      "rw  6.694499e-01  9.278070e-02\n",
      "r   3.607764e-05  1.627473e-04\n",
      "Tu  7.116191e-08  2.244192e-07\n",
      "Hu  9.244930e-02  3.006366e-02\n",
      "Tl -2.261054e-05  2.466677e-04\n",
      "Hl  9.478102e-02  2.588314e-02\n",
      "L   9.207041e-02  2.786445e-02\n",
      "Kw  1.902297e-02  1.376782e-02\n",
      "                    S2       S2_conf\n",
      "(rw, r)   3.780759e-03  1.459057e-01\n",
      "(rw, Tu)  3.830417e-03  1.459379e-01\n",
      "(rw, Hu)  2.223501e-02  1.577520e-01\n",
      "(rw, Tl)  3.869545e-03  1.459463e-01\n",
      "(rw, Hl)  2.025179e-02  1.564222e-01\n",
      "(rw, L)   1.152497e-02  1.502130e-01\n",
      "(rw, Kw)  7.732570e-03  1.445833e-01\n",
      "(r, Tu)  -8.885077e-05  2.688673e-04\n",
      "(r, Hu)  -9.564009e-05  2.726761e-04\n",
      "(r, Tl)  -8.871930e-05  2.688242e-04\n",
      "(r, Hl)  -9.000310e-05  2.836887e-04\n",
      "(r, L)   -1.007280e-04  2.938659e-04\n",
      "(r, Kw)  -8.972951e-05  2.736920e-04\n",
      "(Tu, Hu) -8.275100e-08  3.961576e-07\n",
      "(Tu, Tl) -9.162866e-08  3.747786e-07\n",
      "(Tu, Hl) -1.307374e-07  3.683568e-07\n",
      "(Tu, L)  -6.636851e-08  3.946834e-07\n",
      "(Tu, Kw) -9.769927e-08  3.783349e-07\n",
      "(Hu, Tl) -8.016984e-04  4.502515e-02\n",
      "(Hu, Hl) -1.702912e-03  4.525937e-02\n",
      "(Hu, L)   2.443730e-03  4.718643e-02\n",
      "(Hu, Kw) -1.105932e-03  4.645921e-02\n",
      "(Tl, Hl)  6.827115e-05  3.846283e-04\n",
      "(Tl, L)   5.016880e-05  3.972949e-04\n",
      "(Tl, Kw)  6.150149e-05  3.880458e-04\n",
      "(Hl, L)   6.936239e-04  4.256998e-02\n",
      "(Hl, Kw)  1.082340e-03  3.863097e-02\n",
      "(L, Kw)  -3.677699e-03  4.010180e-02\n",
      "[ 6.69449904e-01  3.60776443e-05  7.11619099e-08  9.24493033e-02\n",
      " -2.26105383e-05  9.47810203e-02  9.20704057e-02  1.90229740e-02]\n"
     ]
    }
   ],
   "source": [
    "# SHORT EXAMPLE\n",
    "\n",
    "# Define the model inputs\n",
    "            \n",
    "problem = {\n",
    "    'num_vars': 8,\n",
    "    'names': ['rw', 'r', 'Tu', 'Hu', 'Tl', 'Hl', 'L', 'Kw'],\n",
    "    'bounds': [[0.10, 0.0161812],\n",
    "               [7.71, 1.0056],\n",
    "               [63070, 115600],\n",
    "               [990, 1110],\n",
    "               [63.1, 116],\n",
    "               [700, 820],\n",
    "               [1120, 1680],\n",
    "               [9855, 12045]\n",
    "              ],\n",
    "    'dists': ['norm','lognorm', 'unif', 'unif','unif','unif','unif','unif']\n",
    "}\n",
    "\n",
    "# Generate samples\n",
    "param_values = saltelli.sample(problem, 1000, calc_second_order = True)\n",
    "\n",
    "# Run model (example)\n",
    "Y = borehole_evaluate(param_values)\n",
    "\n",
    "# Perform analysis\n",
    "Si = sobol.analyze(problem, Y, print_to_console=True)\n",
    "\n",
    "# Print the first-order sensitivity indices\n",
    "print (Si['S1'])"
   ]
  },
  {
   "cell_type": "code",
   "execution_count": 41,
   "metadata": {},
   "outputs": [
    {
     "name": "stdout",
     "output_type": "stream",
     "text": [
      "[9.27807024e-02 1.62747270e-04 2.24419157e-07 3.00636562e-02\n",
      " 2.46667698e-04 2.58831365e-02 2.78644477e-02 1.37678239e-02]\n",
      "[5.31966794e-02 5.87870640e-07 1.13592445e-12 1.27321228e-02\n",
      " 1.57407485e-06 1.30997058e-02 1.23895944e-02 2.87435234e-03]\n",
      "\n",
      "[[           nan 1.45905656e-01 1.45937878e-01 1.57751957e-01\n",
      "  1.45946326e-01 1.56422190e-01 1.50213026e-01 1.44583314e-01]\n",
      " [           nan            nan 2.68867294e-04 2.72676121e-04\n",
      "  2.68824250e-04 2.83688720e-04 2.93865918e-04 2.73692017e-04]\n",
      " [           nan            nan            nan 3.96157590e-07\n",
      "  3.74778559e-07 3.68356813e-07 3.94683355e-07 3.78334893e-07]\n",
      " [           nan            nan            nan            nan\n",
      "  4.50251491e-02 4.52593747e-02 4.71864322e-02 4.64592076e-02]\n",
      " [           nan            nan            nan            nan\n",
      "             nan 3.84628303e-04 3.97294904e-04 3.88045765e-04]\n",
      " [           nan            nan            nan            nan\n",
      "             nan            nan 4.25699812e-02 3.86309692e-02]\n",
      " [           nan            nan            nan            nan\n",
      "             nan            nan            nan 4.01018012e-02]\n",
      " [           nan            nan            nan            nan\n",
      "             nan            nan            nan            nan]]\n"
     ]
    }
   ],
   "source": [
    "# CONFIDENCE INTERVALS\n",
    "\n",
    "print (Si['S1_conf'])\n",
    "print (Si['ST_conf'])\n",
    "print ()\n",
    "print (Si['S2_conf'])"
   ]
  },
  {
   "cell_type": "markdown",
   "metadata": {},
   "source": [
    "### 1. Sampling"
   ]
  },
  {
   "cell_type": "markdown",
   "metadata": {},
   "source": [
    "`SALib.sample.saltelli.sample(problem, N, calc_second_order=True, seed=None)`\n",
    "\n",
    "Generates model inputs using Saltelli’s extension of the Sobol sequence.\n",
    "\n",
    "Returns a NumPy matrix containing the model inputs using Saltelli’s sampling scheme. Saltelli’s scheme extends the Sobol sequence in a way to reduce the error rates in the resulting sensitivity index calculations. If `calc_second_order` is `False`, the resulting matrix has N * (D + 2) rows, where D is the number of parameters. If `calc_second_order` is True, the resulting matrix has N * (2D + 2) rows. These model inputs are intended to be used with `SALib.analyze.sobol.analyze()`.\n",
    "\n",
    "Parameters:\t\n",
    "- problem (dict) – The problem definition\n",
    "- N (int) – The number of samples to generate\n",
    "- calc_second_order (bool) – Calculate second-order sensitivities (default True)"
   ]
  },
  {
   "cell_type": "code",
   "execution_count": 42,
   "metadata": {},
   "outputs": [],
   "source": [
    "# Define the model inputs\n",
    "problem = {\n",
    "    'num_vars': 8,\n",
    "    'names': ['rw', 'r', 'Tu', 'Hu', 'Tl', 'Hl', 'L', 'Kw'],\n",
    "    'bounds': [[0.10, 0.0161812],\n",
    "               [7.71, 1.0056],\n",
    "               [63070, 115600],\n",
    "               [990, 1110],\n",
    "               [63.1, 116],\n",
    "               [700, 820],\n",
    "               [1120, 1680],\n",
    "               [9855, 12045]\n",
    "              ],\n",
    "    'dists': ['norm','lognorm', 'unif', 'unif','unif','unif','unif','unif']\n",
    "}\n",
    "N = 1000\n",
    "D = problem['num_vars']"
   ]
  },
  {
   "cell_type": "code",
   "execution_count": 43,
   "metadata": {},
   "outputs": [],
   "source": [
    "# Get the sobol-sequence intermediate\n",
    "from SALib.sample import sobol_sequence\n",
    "sample = sobol_sequence.sample(N, D);"
   ]
  },
  {
   "cell_type": "code",
   "execution_count": 44,
   "metadata": {},
   "outputs": [],
   "source": [
    "path = \"../data/sobol/py_borehole/py_sobolseq.csv\"\n",
    "with open(path, 'w') as myfile:\n",
    "    wr = csv.writer(myfile)\n",
    "    wr.writerows(sample)"
   ]
  },
  {
   "cell_type": "code",
   "execution_count": 62,
   "metadata": {},
   "outputs": [
    {
     "name": "stderr",
     "output_type": "stream",
     "text": [
      "/Users/lisarennels/Library/Python/3.8/lib/python/site-packages/SALib/sample/saltelli.py:94: UserWarning: \n",
      "        Convergence properties of the Sobol' sequence is only valid if\n",
      "        `N` (1000) is equal to `2^n`.\n",
      "        \n",
      "  warnings.warn(msg)\n",
      "/Users/lisarennels/Library/Python/3.8/lib/python/site-packages/SALib/sample/saltelli.py:111: UserWarning: \n",
      "            Convergence properties of the Sobol' sequence is only valid if\n",
      "            `skip_values` (1000) is a power of 2.\n",
      "            \n",
      "  warnings.warn(msg)\n"
     ]
    },
    {
     "data": {
      "text/plain": [
       "array([[8.74900388e-02, 6.03056464e+02, 9.03096777e+04, ...,\n",
       "        8.08867188e+02, 1.14570312e+03, 1.18247168e+04],\n",
       "       [1.00039610e-01, 6.03056464e+02, 9.03096777e+04, ...,\n",
       "        8.08867188e+02, 1.14570312e+03, 1.18247168e+04],\n",
       "       [8.74900388e-02, 5.03182428e+02, 9.03096777e+04, ...,\n",
       "        8.08867188e+02, 1.14570312e+03, 1.18247168e+04],\n",
       "       ...,\n",
       "       [9.71532956e-02, 1.45884137e+03, 6.38138330e+04, ...,\n",
       "        7.79160156e+02, 1.31714844e+03, 1.14429639e+04],\n",
       "       [9.71532956e-02, 1.45884137e+03, 6.38138330e+04, ...,\n",
       "        7.79160156e+02, 1.59496094e+03, 1.09168506e+04],\n",
       "       [9.71532956e-02, 1.45884137e+03, 6.38138330e+04, ...,\n",
       "        7.79160156e+02, 1.59496094e+03, 1.14429639e+04]])"
      ]
     },
     "execution_count": 62,
     "metadata": {},
     "output_type": "execute_result"
    }
   ],
   "source": [
    "# Generate samples\n",
    "param_values = saltelli.sample(problem, N, calc_second_order=True, skip_values = 1000)\n",
    "param_values"
   ]
  },
  {
   "cell_type": "code",
   "execution_count": 64,
   "metadata": {},
   "outputs": [],
   "source": [
    "#quick test\n",
    "param_values2 = saltelli.sample(problem, N, calc_second_order=True, skip_values = 1000)\n",
    "test = param_values == param_values2\n",
    "for i in range(test.shape[0]):\n",
    "    for j in range(test.shape[1]):\n",
    "        if test[i][j] == False:\n",
    "            print(\"found false\")"
   ]
  },
  {
   "cell_type": "code",
   "execution_count": 47,
   "metadata": {},
   "outputs": [],
   "source": [
    "# print csv for comparison\n",
    "path = \"../data/sobol/py_borehole/py_samples.csv\"\n",
    "with open(path, 'w') as myfile:\n",
    "    wr = csv.writer(myfile)\n",
    "    wr.writerows(param_values)"
   ]
  },
  {
   "cell_type": "markdown",
   "metadata": {},
   "source": [
    "### Sampling - Plotting"
   ]
  },
  {
   "cell_type": "code",
   "execution_count": 48,
   "metadata": {},
   "outputs": [
    {
     "data": {
      "image/png": "[encoded data removed]",
      "text/plain": [
       "<Figure size 432x288 with 1 Axes>"
      ]
     },
     "metadata": {
      "needs_background": "light"
     },
     "output_type": "display_data"
    }
   ],
   "source": [
    "#distribution of SALib sobol_sequence values\n",
    "sobol_sample = {'id': range(1000), 'x1': sample[:,0], 'x2': sample[:,1], 'x3': sample[:,2]}\n",
    "df = pd.DataFrame(sobol_sample)\n",
    "plt.scatter(df['id'], df['x2'])\n",
    "plt.show()"
   ]
  },
  {
   "cell_type": "code",
   "execution_count": 49,
   "metadata": {},
   "outputs": [
    {
     "data": {
      "image/png": "[encoded data removed]",
      "text/plain": [
       "<Figure size 432x288 with 1 Axes>"
      ]
     },
     "metadata": {
      "needs_background": "light"
     },
     "output_type": "display_data"
    }
   ],
   "source": [
    "plt.hist(param_values)\n",
    "plt.show()"
   ]
  },
  {
   "cell_type": "markdown",
   "metadata": {},
   "source": [
    "### 2. Analyze"
   ]
  },
  {
   "cell_type": "markdown",
   "metadata": {},
   "source": [
    "`SALib.analyze.sobol.analyze(problem, Y, calc_second_order=True, num_resamples=100, conf_level=0.95, print_to_console=False, parallel=False, n_processors=None, seed=None)`\n",
    "\n",
    "Perform Sobol Analysis on model outputs.\n",
    "\n",
    "Returns a dictionary with keys ‘S1’, ‘S1_conf’, ‘ST’, and ‘ST_conf’, where each entry is a list of size D (the number of parameters) containing the indices in the same order as the parameter file. If calc_second_order is True, the dictionary also contains keys ‘S2’ and ‘S2_conf’.\n",
    "\n",
    "Parameters:\t\n",
    "- problem (dict) – The problem definition\n",
    "- Y (numpy.array) – A NumPy array containing the model outputs\n",
    "- calc_second_order (bool) – Calculate second-order sensitivities (default True)\n",
    "- num_resamples (int) – The number of resamples (default 100)\n",
    "- conf_level (float) – The confidence interval level (default 0.95)\n",
    "- print_to_console (bool) – Print results directly to console (default False)"
   ]
  },
  {
   "cell_type": "code",
   "execution_count": 50,
   "metadata": {},
   "outputs": [],
   "source": [
    "# Run model (example)\n",
    "Y = borehole_evaluate(param_values)"
   ]
  },
  {
   "cell_type": "code",
   "execution_count": 51,
   "metadata": {},
   "outputs": [],
   "source": [
    "# print csv for comparison\n",
    "path = \"../data/sobol/py_borehole/py_borehole.csv\"\n",
    "\n",
    "with open(path, 'w') as myfile:\n",
    "    wr = csv.writer(myfile,delimiter=',', quotechar='\"', quoting=csv.QUOTE_MINIMAL)\n",
    "    for i in range(len(Y)):\n",
    "        wr.writerow([Y[i]])"
   ]
  },
  {
   "cell_type": "code",
   "execution_count": 52,
   "metadata": {},
   "outputs": [],
   "source": [
    "# get intermediate matrices for testing\n",
    "def separate_output_values(Y, D, N, calc_second_order):\n",
    "    AB = np.zeros((N, D))\n",
    "    BA = np.zeros((N, D)) if calc_second_order else None\n",
    "    step = 2 * D + 2 if calc_second_order else D + 2\n",
    "\n",
    "    A = Y[0:Y.size:step]\n",
    "    B = Y[(step - 1):Y.size:step]\n",
    "    for j in range(D):\n",
    "        AB[:, j] = Y[(j + 1):Y.size:step]\n",
    "        if calc_second_order:\n",
    "            BA[:, j] = Y[(j + 1 + D):Y.size:step]\n",
    "\n",
    "    return A,B,AB,BA\n",
    "\n",
    "A,B,AB,BA = separate_output_values(Y, D, N, calc_second_order=True)"
   ]
  },
  {
   "cell_type": "code",
   "execution_count": 53,
   "metadata": {},
   "outputs": [],
   "source": [
    "# print csv for comparison\n",
    "\n",
    "path = \"../data/sobol/py_borehole/py_A.csv\"\n",
    "with open(path, 'w') as myfile:\n",
    "    wr = csv.writer(myfile,delimiter=',', quotechar='\"', quoting=csv.QUOTE_MINIMAL)\n",
    "    for i in range(len(A)):\n",
    "        wr.writerow([A[i]])\n",
    "    \n",
    "path = \"../data/sobol/py_borehole/py_B.csv\"\n",
    "with open(path, 'w') as myfile:\n",
    "    wr = csv.writer(myfile,delimiter=',', quotechar='\"', quoting=csv.QUOTE_MINIMAL)\n",
    "    for i in range(len(B)):\n",
    "        wr.writerow([B[i]])\n",
    "    \n",
    "path = \"../data/sobol/py_borehole/py_AB.csv\"\n",
    "with open(path, 'w') as myfile:\n",
    "    wr = csv.writer(myfile)\n",
    "    wr.writerows(AB)\n",
    "    \n",
    "path = \"../data/sobol/py_borehole/py_BA.csv\"\n",
    "with open(path, 'w') as myfile:\n",
    "    wr = csv.writer(myfile)\n",
    "    wr.writerows(BA)"
   ]
  },
  {
   "cell_type": "code",
   "execution_count": 54,
   "metadata": {},
   "outputs": [
    {
     "name": "stdout",
     "output_type": "stream",
     "text": [
      "              ST       ST_conf\n",
      "rw  6.993656e-01  5.828751e-02\n",
      "r   2.931494e-06  5.104861e-07\n",
      "Tu  7.923877e-12  1.298267e-12\n",
      "Hu  1.100930e-01  1.263765e-02\n",
      "Tl  8.240910e-06  1.548689e-06\n",
      "Hl  1.078126e-01  1.240312e-02\n",
      "L   1.034462e-01  1.221563e-02\n",
      "Kw  2.523642e-02  2.971785e-03\n",
      "              S1       S1_conf\n",
      "rw  6.678523e-01  8.164400e-02\n",
      "r   6.224038e-05  1.546815e-04\n",
      "Tu  4.448038e-08  2.437470e-07\n",
      "Hu  9.131347e-02  2.873072e-02\n",
      "Tl -4.945711e-05  2.283644e-04\n",
      "Hl  9.378517e-02  2.665523e-02\n",
      "L   9.136634e-02  2.600881e-02\n",
      "Kw  1.804448e-02  1.426069e-02\n",
      "                    S2       S2_conf\n",
      "(rw, r)   2.466110e-03  1.239985e-01\n",
      "(rw, Tu)  2.524685e-03  1.240465e-01\n",
      "(rw, Hu)  2.680982e-02  1.339067e-01\n",
      "(rw, Tl)  2.612442e-03  1.240675e-01\n",
      "(rw, Hl)  1.737219e-02  1.333589e-01\n",
      "(rw, L)   6.854062e-03  1.306403e-01\n",
      "(rw, Kw)  7.498686e-03  1.258700e-01\n",
      "(r, Tu)  -1.231038e-04  2.382384e-04\n",
      "(r, Hu)  -1.333253e-04  2.468491e-04\n",
      "(r, Tl)  -1.229549e-04  2.381907e-04\n",
      "(r, Hl)  -1.366188e-04  2.569707e-04\n",
      "(r, L)   -1.298421e-04  2.627944e-04\n",
      "(r, Kw)  -1.234815e-04  2.393289e-04\n",
      "(Tu, Hu) -7.150653e-08  3.992292e-07\n",
      "(Tu, Tl) -7.278415e-08  3.775890e-07\n",
      "(Tu, Hl) -1.239694e-07  3.923027e-07\n",
      "(Tu, L)  -4.240455e-08  4.002447e-07\n",
      "(Tu, Kw) -7.231223e-08  3.853724e-07\n",
      "(Hu, Tl) -1.173433e-03  4.118033e-02\n",
      "(Hu, Hl) -5.589374e-04  4.333386e-02\n",
      "(Hu, L)   2.077957e-03  4.427252e-02\n",
      "(Hu, Kw) -1.813705e-03  4.165056e-02\n",
      "(Tl, Hl)  9.332275e-05  3.514610e-04\n",
      "(Tl, L)   8.345842e-05  3.629556e-04\n",
      "(Tl, Kw)  1.058705e-04  3.386165e-04\n",
      "(Hl, L)   2.007827e-03  4.261822e-02\n",
      "(Hl, Kw)  2.966357e-03  3.967119e-02\n",
      "(L, Kw)   7.115650e-04  3.939571e-02\n",
      "[ 6.67852250e-01  6.22403806e-05  4.44803774e-08  9.13134681e-02\n",
      " -4.94571064e-05  9.37851655e-02  9.13663434e-02  1.80444763e-02]\n",
      "[8.16439978e-02 1.54681507e-04 2.43746967e-07 2.87307224e-02\n",
      " 2.28364445e-04 2.66552298e-02 2.60088056e-02 1.42606943e-02]\n"
     ]
    }
   ],
   "source": [
    "# Perform analysis\n",
    "Si = sobol.analyze(problem, Y, calc_second_order=True, print_to_console=True, num_resamples = 10000)\n",
    "print(Si['S1'])\n",
    "print(Si['S1_conf'])"
   ]
  },
  {
   "cell_type": "code",
   "execution_count": 55,
   "metadata": {},
   "outputs": [],
   "source": [
    "# print csvs of indices for comparison \n",
    "firstorder = Si[\"S1\"]\n",
    "totalorder = Si[\"ST\"]\n",
    "secondorder = Si[\"S2\"]\n",
    "\n",
    "path = \"../data/sobol/py_borehole/py_firstorder.csv\"\n",
    "with open(path, 'w') as myfile:\n",
    "    wr = csv.writer(myfile,delimiter=',', quotechar='\"', quoting=csv.QUOTE_MINIMAL)\n",
    "    for i in range(len(firstorder)):\n",
    "        wr.writerow([firstorder[i]])\n",
    "\n",
    "                \n",
    "path = \"../data/sobol/py_borehole/py_secondorder.csv\"\n",
    "with open(path, 'w') as myfile:\n",
    "    wr = csv.writer(myfile)\n",
    "    wr.writerows(secondorder)\n",
    "\n",
    "    \n",
    "path = \"../data/sobol/py_borehole/py_totalorder.csv\"\n",
    "with open(path, 'w') as myfile:\n",
    "    wr = csv.writer(myfile,delimiter=',', quotechar='\"', quoting=csv.QUOTE_MINIMAL)\n",
    "    for i in range(len(totalorder)):\n",
    "        wr.writerow([totalorder[i]])\n"
   ]
  },
  {
   "cell_type": "code",
   "execution_count": 56,
   "metadata": {},
   "outputs": [],
   "source": [
    "# print csvs of CIs for comparisons\n",
    "firstorder_conf = Si[\"S1_conf\"]\n",
    "secondorder_conf = Si[\"S2_conf\"]\n",
    "totalorder_conf = Si[\"ST_conf\"]\n",
    "\n",
    "path = \"../data/sobol/py_borehole/py_firstorder_conf.csv\"\n",
    "with open(path, 'w') as myfile:\n",
    "    wr = csv.writer(myfile,delimiter=',', quotechar='\"', quoting=csv.QUOTE_MINIMAL)\n",
    "    for i in range(len(firstorder_conf)):\n",
    "        wr.writerow([firstorder_conf[i]])\n",
    "        \n",
    "path = \"../data/sobol/py_borehole/py_secondorder_conf.csv\"\n",
    "with open(path, 'w') as myfile:\n",
    "    wr = csv.writer(myfile)\n",
    "    wr.writerows(secondorder_conf)\n",
    "\n",
    "\n",
    "path = \"../data/sobol/py_borehole/py_totalorder_conf.csv\"\n",
    "with open(path, 'w') as myfile:\n",
    "    wr = csv.writer(myfile,delimiter=',', quotechar='\"', quoting=csv.QUOTE_MINIMAL)\n",
    "    for i in range(len(totalorder_conf)):\n",
    "        wr.writerow([totalorder_conf[i]])"
   ]
  },
  {
   "cell_type": "markdown",
   "metadata": {},
   "source": [
    "### Analyze - Plotting "
   ]
  },
  {
   "cell_type": "code",
   "execution_count": 57,
   "metadata": {},
   "outputs": [
    {
     "data": {
      "image/png": "[encoded data removed]",
      "text/plain": [
       "<Figure size 432x288 with 1 Axes>"
      ]
     },
     "metadata": {
      "needs_background": "light"
     },
     "output_type": "display_data"
    }
   ],
   "source": [
    "#simple scatter\n",
    "plt.scatter(Y, param_values[:,1])\n",
    "plt.show()"
   ]
  },
  {
   "cell_type": "code",
   "execution_count": 58,
   "metadata": {},
   "outputs": [
    {
     "data": {
      "image/png": "[encoded data removed]",
      "text/plain": [
       "<Figure size 432x288 with 1 Axes>"
      ]
     },
     "metadata": {
      "needs_background": "light"
     },
     "output_type": "display_data"
    }
   ],
   "source": [
    "#parallel coordinates (1) \n",
    "#http://benalexkeen.com/parallel-coordinates-in-matplotlib/\n",
    "\n",
    "d = {'output':Y[0:5], 'rw': param_values[0:5,0], 'r': param_values[0:5,1], 'Tu': param_values[0:5,2], 'Hu': param_values[0:5,3], 'Tl': param_values[0:5,4], 'Hl': param_values[0:5,5], 'L': param_values[0:5,6], 'Kw': param_values[0:5,7]}\n",
    "df = pd.DataFrame(d)\n",
    "pd.plotting.parallel_coordinates(df, 'output')\n",
    "\n",
    "plt.show()"
   ]
  },
  {
   "cell_type": "code",
   "execution_count": 59,
   "metadata": {},
   "outputs": [],
   "source": [
    "#parallel coordinates (2)\n",
    "#https://stackoverflow.com/questions/23547347/parallel-coordinates-plot-for-continous-data-in-pandas\n",
    "def parallel_coordinates(frame, class_column, cols=None, ax=None, color=None,\n",
    "                     use_columns=False, xticks=None, colormap=None,\n",
    "                     **kwds):\n",
    "    import matplotlib.pyplot as plt\n",
    "    import matplotlib as mpl\n",
    "\n",
    "    n = len(frame)\n",
    "    class_col = frame[class_column]\n",
    "    class_min = np.amin(class_col)\n",
    "    class_max = np.amax(class_col)\n",
    "\n",
    "    if cols is None:\n",
    "        df = frame.drop(class_column, axis=1)\n",
    "    else:\n",
    "        df = frame[cols]\n",
    "\n",
    "    used_legends = set([])\n",
    "\n",
    "    ncols = len(df.columns)\n",
    "\n",
    "    # determine values to use for xticks\n",
    "    if use_columns is True:\n",
    "        if not np.all(np.isreal(list(df.columns))):\n",
    "            raise ValueError('Columns must be numeric to be used as xticks')\n",
    "        x = df.columns\n",
    "    elif xticks is not None:\n",
    "        if not np.all(np.isreal(xticks)):\n",
    "            raise ValueError('xticks specified must be numeric')\n",
    "        elif len(xticks) != ncols:\n",
    "            raise ValueError('Length of xticks must match number of columns')\n",
    "        x = xticks\n",
    "    else:\n",
    "        x = range(ncols)\n",
    "\n",
    "    fig = plt.figure()\n",
    "    ax = plt.gca()\n",
    "\n",
    "    Colorm = plt.get_cmap(colormap)\n",
    "\n",
    "    for i in range(n):\n",
    "        y = df.iloc[i].values\n",
    "        kls = class_col.iat[i]\n",
    "        ax.plot(x, y, color=Colorm((kls - class_min)/(class_max-class_min)), **kwds)\n",
    "\n",
    "    for i in x:\n",
    "        ax.axvline(i, linewidth=1, color='black')\n",
    "\n",
    "    ax.set_xticks(x)\n",
    "    ax.set_xticklabels(df.columns)\n",
    "    ax.set_xlim(x[0], x[-1])\n",
    "    ax.legend(loc='upper right')\n",
    "    ax.grid()\n",
    "\n",
    "    bounds = np.linspace(class_min,class_max,10)\n",
    "    cax,_ = mpl.colorbar.make_axes(ax)\n",
    "    cb = mpl.colorbar.ColorbarBase(cax, cmap=Colorm, spacing='proportional', ticks=bounds, boundaries=bounds, format='%.2f')\n",
    "\n",
    "    return fig"
   ]
  },
  {
   "cell_type": "code",
   "execution_count": 60,
   "metadata": {},
   "outputs": [
    {
     "name": "stderr",
     "output_type": "stream",
     "text": [
      "No artists with labels found to put in legend.  Note that artists whose label start with an underscore are ignored when legend() is called with no argument.\n"
     ]
    },
    {
     "data": {
      "image/png": "[encoded data removed]",
      "text/plain": [
       "<Figure size 432x288 with 2 Axes>"
      ]
     },
     "metadata": {
      "needs_background": "light"
     },
     "output_type": "display_data"
    }
   ],
   "source": [
    "d = {'output':Y[0:500], 'rw': param_values[0:500,0], 'r': param_values[0:500,1], 'Tu': param_values[0:500,2], 'Hu': param_values[0:500,3], 'Tl': param_values[0:500,4], 'Hl': param_values[0:500,5], 'L': param_values[0:500,6], 'Kw': param_values[0:500,7]}\n",
    "df = pd.DataFrame(d)\n",
    "parallel_coordinates(df, 'output', colormap=\"viridis\");"
   ]
  },
  {
   "cell_type": "code",
   "execution_count": 61,
   "metadata": {},
   "outputs": [
    {
     "data": {
      "image/png": "[encoded data removed]",
      "text/plain": [
       "<Figure size 432x288 with 1 Axes>"
      ]
     },
     "metadata": {
      "needs_background": "light"
     },
     "output_type": "display_data"
    }
   ],
   "source": [
    "#histogram of output \n",
    "plt.hist(df['output'], 50)\n",
    "plt.show()"
   ]
  }
 ],
 "metadata": {
  "kernelspec": {
   "display_name": "Python 3.8.9 64-bit",
   "language": "python",
   "name": "python3"
  },
  "language_info": {
   "codemirror_mode": {
    "name": "ipython",
    "version": 3
   },
   "file_extension": ".py",
   "mimetype": "text/x-python",
   "name": "python",
   "nbconvert_exporter": "python",
   "pygments_lexer": "ipython3",
   "version": "3.8.9"
  },
  "vscode": {
   "interpreter": {
    "hash": "31f2aee4e71d21fbe5cf8b01ff0e069b9275f58929596ceb00d14d90e3e16cd6"
   }
  }
 },
 "nbformat": 4,
 "nbformat_minor": 2
}
