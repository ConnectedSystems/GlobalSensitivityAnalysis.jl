{
 "cells": [
  {
   "cell_type": "markdown",
   "metadata": {},
   "source": [
    "# SAJulia Exploration\n"
   ]
  },
  {
   "cell_type": "markdown",
   "metadata": {},
   "source": [
    "## Sobol Sensitivity Analysis"
   ]
  },
  {
   "cell_type": "markdown",
   "metadata": {},
   "source": [
    "## Set Up"
   ]
  },
  {
   "cell_type": "code",
   "execution_count": 4,
   "metadata": {},
   "outputs": [
    {
     "data": {
      "text/plain": [
       "ishigami"
      ]
     },
     "execution_count": 4,
     "metadata": {},
     "output_type": "execute_result"
    }
   ],
   "source": [
    "using Distributions\n",
    "using VegaLite\n",
    "using DataFrames\n",
    "using DataStructures\n",
    "\n",
    "include(\"../src/sample_sobol.jl\")\n",
    "include(\"../src/analyze_sobol.jl\")\n",
    "include(\"../src/test_functions/ishigami.jl\")"
   ]
  },
  {
   "cell_type": "markdown",
   "metadata": {},
   "source": [
    "### 1. Sampling"
   ]
  },
  {
   "cell_type": "code",
   "execution_count": 6,
   "metadata": {},
   "outputs": [
    {
     "data": {
      "text/plain": [
       "SobolPayload(OrderedDict(:x1=>Uniform{Float64}(a=-3.14159, b=3.14159),:x2=>Uniform{Float64}(a=-3.14159, b=3.14159),:x3=>Uniform{Float64}(a=-3.14159, b=3.14159)), false, 1000)"
      ]
     },
     "execution_count": 6,
     "metadata": {},
     "output_type": "execute_result"
    }
   ],
   "source": [
    "# define the data payload\n",
    "data = SobolPayload(\n",
    "    params = OrderedDict(:x1 => Uniform(-3.14159265359, 3.14159265359),\n",
    "        :x2 => Uniform(-3.14159265359, 3.14159265359),\n",
    "        :x3 => Uniform(-3.14159265359, 3.14159265359)),\n",
    "    N = 1000\n",
    ")"
   ]
  },
  {
   "cell_type": "markdown",
   "metadata": {},
   "source": [
    "### Sampling - Sobol sequence"
   ]
  },
  {
   "cell_type": "code",
   "execution_count": 12,
   "metadata": {},
   "outputs": [],
   "source": [
    "# Get the sobol sequence intermediate\n",
    "sequence = sobol_sequence(data.N, 3);"
   ]
  },
  {
   "cell_type": "code",
   "execution_count": 13,
   "metadata": {},
   "outputs": [],
   "source": [
    "# generate samples\n",
    "param_values = sample(data);"
   ]
  },
  {
   "cell_type": "markdown",
   "metadata": {},
   "source": [
    "### Sampling - Plotting\n"
   ]
  },
  {
   "cell_type": "code",
   "execution_count": 17,
   "metadata": {},
   "outputs": [
    {
     "name": "stderr",
     "output_type": "stream",
     "text": [
      "WARN Invalid field type \"undefined\" for channel \"color\", using \"nominal\" instead.\n",
      "WARN Invalid field type \"undefined\" for channel \"color\", using \"nominal\" instead.\n"
     ]
    },
    {
     "data": {
      "application/vnd.vegalite.v2+json": {
       "data": {
        "values": [
         {
          "index": 1,
          "x1": 0,
          "x2": 0,
          "x3": 0
         },
         {
          "index": 2,
          "x1": 0.5,
          "x2": 0.5,
          "x3": 0.5
         },
         {
          "index": 3,
          "x1": 0.75,
          "x2": 0.25,
          "x3": 0.25
         },
         {
          "index": 4,
          "x1": 0.25,
          "x2": 0.75,
          "x3": 0.75
         },
         {
          "index": 5,
          "x1": 0.375,
          "x2": 0.375,
          "x3": 0.625
         },
         {
          "index": 6,
          "x1": 0.875,
          "x2": 0.875,
          "x3": 0.125
         },
         {
          "index": 7,
          "x1": 0.625,
          "x2": 0.125,
          "x3": 0.875
         },
         {
          "index": 8,
          "x1": 0.125,
          "x2": 0.625,
          "x3": 0.375
         },
         {
          "index": 9,
          "x1": 0.1875,
          "x2": 0.3125,
          "x3": 0.9375
         },
         {
          "index": 10,
          "x1": 0.6875,
          "x2": 0.8125,
          "x3": 0.4375
         },
         {
          "index": 11,
          "x1": 0.9375,
          "x2": 0.0625,
          "x3": 0.6875
         },
         {
          "index": 12,
          "x1": 0.4375,
          "x2": 0.5625,
          "x3": 0.1875
         },
         {
          "index": 13,
          "x1": 0.3125,
          "x2": 0.1875,
          "x3": 0.3125
         },
         {
          "index": 14,
          "x1": 0.8125,
          "x2": 0.6875,
          "x3": 0.8125
         },
         {
          "index": 15,
          "x1": 0.5625,
          "x2": 0.4375,
          "x3": 0.0625
         },
         {
          "index": 16,
          "x1": 0.0625,
          "x2": 0.9375,
          "x3": 0.5625
         },
         {
          "index": 17,
          "x1": 0.09375,
          "x2": 0.46875,
          "x3": 0.46875
         },
         {
          "index": 18,
          "x1": 0.59375,
          "x2": 0.96875,
          "x3": 0.96875
         },
         {
          "index": 19,
          "x1": 0.84375,
          "x2": 0.21875,
          "x3": 0.21875
         },
         {
          "index": 20,
          "x1": 0.34375,
          "x2": 0.71875,
          "x3": 0.71875
         },
         {
          "index": 21,
          "x1": 0.46875,
          "x2": 0.09375,
          "x3": 0.84375
         },
         {
          "index": 22,
          "x1": 0.96875,
          "x2": 0.59375,
          "x3": 0.34375
         },
         {
          "index": 23,
          "x1": 0.71875,
          "x2": 0.34375,
          "x3": 0.59375
         },
         {
          "index": 24,
          "x1": 0.21875,
          "x2": 0.84375,
          "x3": 0.09375
         },
         {
          "index": 25,
          "x1": 0.15625,
          "x2": 0.15625,
          "x3": 0.53125
         },
         {
          "index": 26,
          "x1": 0.65625,
          "x2": 0.65625,
          "x3": 0.03125
         },
         {
          "index": 27,
          "x1": 0.90625,
          "x2": 0.40625,
          "x3": 0.78125
         },
         {
          "index": 28,
          "x1": 0.40625,
          "x2": 0.90625,
          "x3": 0.28125
         },
         {
          "index": 29,
          "x1": 0.28125,
          "x2": 0.28125,
          "x3": 0.15625
         },
         {
          "index": 30,
          "x1": 0.78125,
          "x2": 0.78125,
          "x3": 0.65625
         },
         {
          "index": 31,
          "x1": 0.53125,
          "x2": 0.03125,
          "x3": 0.40625
         },
         {
          "index": 32,
          "x1": 0.03125,
          "x2": 0.53125,
          "x3": 0.90625
         },
         {
          "index": 33,
          "x1": 0.046875,
          "x2": 0.265625,
          "x3": 0.703125
         },
         {
          "index": 34,
          "x1": 0.546875,
          "x2": 0.765625,
          "x3": 0.203125
         },
         {
          "index": 35,
          "x1": 0.796875,
          "x2": 0.015625,
          "x3": 0.953125
         },
         {
          "index": 36,
          "x1": 0.296875,
          "x2": 0.515625,
          "x3": 0.453125
         },
         {
          "index": 37,
          "x1": 0.421875,
          "x2": 0.140625,
          "x3": 0.078125
         },
         {
          "index": 38,
          "x1": 0.921875,
          "x2": 0.640625,
          "x3": 0.578125
         },
         {
          "index": 39,
          "x1": 0.671875,
          "x2": 0.390625,
          "x3": 0.328125
         },
         {
          "index": 40,
          "x1": 0.171875,
          "x2": 0.890625,
          "x3": 0.828125
         },
         {
          "index": 41,
          "x1": 0.234375,
          "x2": 0.078125,
          "x3": 0.265625
         },
         {
          "index": 42,
          "x1": 0.734375,
          "x2": 0.578125,
          "x3": 0.765625
         },
         {
          "index": 43,
          "x1": 0.984375,
          "x2": 0.328125,
          "x3": 0.015625
         },
         {
          "index": 44,
          "x1": 0.484375,
          "x2": 0.828125,
          "x3": 0.515625
         },
         {
          "index": 45,
          "x1": 0.359375,
          "x2": 0.453125,
          "x3": 0.890625
         },
         {
          "index": 46,
          "x1": 0.859375,
          "x2": 0.953125,
          "x3": 0.390625
         },
         {
          "index": 47,
          "x1": 0.609375,
          "x2": 0.203125,
          "x3": 0.640625
         },
         {
          "index": 48,
          "x1": 0.109375,
          "x2": 0.703125,
          "x3": 0.140625
         },
         {
          "index": 49,
          "x1": 0.078125,
          "x2": 0.234375,
          "x3": 0.796875
         },
         {
          "index": 50,
          "x1": 0.578125,
          "x2": 0.734375,
          "x3": 0.296875
         },
         {
          "index": 51,
          "x1": 0.828125,
          "x2": 0.484375,
          "x3": 0.546875
         },
         {
          "index": 52,
          "x1": 0.328125,
          "x2": 0.984375,
          "x3": 0.046875
         },
         {
          "index": 53,
          "x1": 0.453125,
          "x2": 0.359375,
          "x3": 0.421875
         },
         {
          "index": 54,
          "x1": 0.953125,
          "x2": 0.859375,
          "x3": 0.921875
         },
         {
          "index": 55,
          "x1": 0.703125,
          "x2": 0.109375,
          "x3": 0.171875
         },
         {
          "index": 56,
          "x1": 0.203125,
          "x2": 0.609375,
          "x3": 0.671875
         },
         {
          "index": 57,
          "x1": 0.140625,
          "x2": 0.421875,
          "x3": 0.234375
         },
         {
          "index": 58,
          "x1": 0.640625,
          "x2": 0.921875,
          "x3": 0.734375
         },
         {
          "index": 59,
          "x1": 0.890625,
          "x2": 0.171875,
          "x3": 0.484375
         },
         {
          "index": 60,
          "x1": 0.390625,
          "x2": 0.671875,
          "x3": 0.984375
         },
         {
          "index": 61,
          "x1": 0.265625,
          "x2": 0.046875,
          "x3": 0.609375
         },
         {
          "index": 62,
          "x1": 0.765625,
          "x2": 0.546875,
          "x3": 0.109375
         },
         {
          "index": 63,
          "x1": 0.515625,
          "x2": 0.296875,
          "x3": 0.859375
         },
         {
          "index": 64,
          "x1": 0.015625,
          "x2": 0.796875,
          "x3": 0.359375
         },
         {
          "index": 65,
          "x1": 0.0234375,
          "x2": 0.3984375,
          "x3": 0.8203125
         },
         {
          "index": 66,
          "x1": 0.5234375,
          "x2": 0.8984375,
          "x3": 0.3203125
         },
         {
          "index": 67,
          "x1": 0.7734375,
          "x2": 0.1484375,
          "x3": 0.5703125
         },
         {
          "index": 68,
          "x1": 0.2734375,
          "x2": 0.6484375,
          "x3": 0.0703125
         },
         {
          "index": 69,
          "x1": 0.3984375,
          "x2": 0.0234375,
          "x3": 0.4453125
         },
         {
          "index": 70,
          "x1": 0.8984375,
          "x2": 0.5234375,
          "x3": 0.9453125
         },
         {
          "index": 71,
          "x1": 0.6484375,
          "x2": 0.2734375,
          "x3": 0.1953125
         },
         {
          "index": 72,
          "x1": 0.1484375,
          "x2": 0.7734375,
          "x3": 0.6953125
         },
         {
          "index": 73,
          "x1": 0.2109375,
          "x2": 0.2109375,
          "x3": 0.1328125
         },
         {
          "index": 74,
          "x1": 0.7109375,
          "x2": 0.7109375,
          "x3": 0.6328125
         },
         {
          "index": 75,
          "x1": 0.9609375,
          "x2": 0.4609375,
          "x3": 0.3828125
         },
         {
          "index": 76,
          "x1": 0.4609375,
          "x2": 0.9609375,
          "x3": 0.8828125
         },
         {
          "index": 77,
          "x1": 0.3359375,
          "x2": 0.3359375,
          "x3": 0.5078125
         },
         {
          "index": 78,
          "x1": 0.8359375,
          "x2": 0.8359375,
          "x3": 0.0078125
         },
         {
          "index": 79,
          "x1": 0.5859375,
          "x2": 0.0859375,
          "x3": 0.7578125
         },
         {
          "index": 80,
          "x1": 0.0859375,
          "x2": 0.5859375,
          "x3": 0.2578125
         },
         {
          "index": 81,
          "x1": 0.1171875,
          "x2": 0.1171875,
          "x3": 0.6640625
         },
         {
          "index": 82,
          "x1": 0.6171875,
          "x2": 0.6171875,
          "x3": 0.1640625
         },
         {
          "index": 83,
          "x1": 0.8671875,
          "x2": 0.3671875,
          "x3": 0.9140625
         },
         {
          "index": 84,
          "x1": 0.3671875,
          "x2": 0.8671875,
          "x3": 0.4140625
         },
         {
          "index": 85,
          "x1": 0.4921875,
          "x2": 0.4921875,
          "x3": 0.0390625
         },
         {
          "index": 86,
          "x1": 0.9921875,
          "x2": 0.9921875,
          "x3": 0.5390625
         },
         {
          "index": 87,
          "x1": 0.7421875,
          "x2": 0.2421875,
          "x3": 0.2890625
         },
         {
          "index": 88,
          "x1": 0.2421875,
          "x2": 0.7421875,
          "x3": 0.7890625
         },
         {
          "index": 89,
          "x1": 0.1796875,
          "x2": 0.3046875,
          "x3": 0.3515625
         },
         {
          "index": 90,
          "x1": 0.6796875,
          "x2": 0.8046875,
          "x3": 0.8515625
         },
         {
          "index": 91,
          "x1": 0.9296875,
          "x2": 0.0546875,
          "x3": 0.1015625
         },
         {
          "index": 92,
          "x1": 0.4296875,
          "x2": 0.5546875,
          "x3": 0.6015625
         },
         {
          "index": 93,
          "x1": 0.3046875,
          "x2": 0.1796875,
          "x3": 0.9765625
         },
         {
          "index": 94,
          "x1": 0.8046875,
          "x2": 0.6796875,
          "x3": 0.4765625
         },
         {
          "index": 95,
          "x1": 0.5546875,
          "x2": 0.4296875,
          "x3": 0.7265625
         },
         {
          "index": 96,
          "x1": 0.0546875,
          "x2": 0.9296875,
          "x3": 0.2265625
         },
         {
          "index": 97,
          "x1": 0.0390625,
          "x2": 0.1328125,
          "x3": 0.3984375
         },
         {
          "index": 98,
          "x1": 0.5390625,
          "x2": 0.6328125,
          "x3": 0.8984375
         },
         {
          "index": 99,
          "x1": 0.7890625,
          "x2": 0.3828125,
          "x3": 0.1484375
         },
         {
          "index": 100,
          "x1": 0.2890625,
          "x2": 0.8828125,
          "x3": 0.6484375
         }
        ]
       },
       "encoding": {
        "color": {
         "field": "Origin"
        },
        "x": {
         "field": "index",
         "type": "quantitative"
        },
        "y": {
         "field": "x1",
         "type": "quantitative"
        }
       },
       "height": 400,
       "mark": "point",
       "width": 400
      },
      "image/png": "[encoded data removed]",
      "image/svg+xml": [
       "<?xml version=\"1.0\" encoding=\"utf-8\"?>\n",
       "<!DOCTYPE svg PUBLIC \"-//W3C//DTD SVG 1.1//EN\" \"http://www.w3.org/Graphics/SVG/1.1/DTD/svg11.dtd\">\n",
       "<svg class=\"marks\" width=\"566\" height=\"451\" viewBox=\"0 0 566 451\" version=\"1.1\" xmlns=\"http://www.w3.org/2000/svg\" xmlns:xlink=\"http://www.w3.org/1999/xlink\"><g transform=\"translate(54,11)\"><g class=\"mark-group role-frame root\"><g transform=\"translate(0,0)\"><path class=\"background\" d=\"M0.5,0.5h400v400h-400Z\" style=\"fill: none; stroke: #ddd;\"></path><g><g class=\"mark-group role-axis\"><g transform=\"translate(0.5,400.5)\"><path class=\"background\" d=\"M0,0h0v0h0Z\" style=\"pointer-events: none; fill: none;\"></path><g><g class=\"mark-rule role-axis-grid\" style=\"pointer-events: none;\"><line transform=\"translate(0,-400)\" x2=\"0\" y2=\"400\" style=\"fill: none; stroke: #ddd; stroke-width: 1; opacity: 1;\"></line><line transform=\"translate(40,-400)\" x2=\"0\" y2=\"400\" style=\"fill: none; stroke: #ddd; stroke-width: 1; opacity: 1;\"></line><line transform=\"translate(80,-400)\" x2=\"0\" y2=\"400\" style=\"fill: none; stroke: #ddd; stroke-width: 1; opacity: 1;\"></line><line transform=\"translate(120,-400)\" x2=\"0\" y2=\"400\" style=\"fill: none; stroke: #ddd; stroke-width: 1; opacity: 1;\"></line><line transform=\"translate(160,-400)\" x2=\"0\" y2=\"400\" style=\"fill: none; stroke: #ddd; stroke-width: 1; opacity: 1;\"></line><line transform=\"translate(200,-400)\" x2=\"0\" y2=\"400\" style=\"fill: none; stroke: #ddd; stroke-width: 1; opacity: 1;\"></line><line transform=\"translate(240,-400)\" x2=\"0\" y2=\"400\" style=\"fill: none; stroke: #ddd; stroke-width: 1; opacity: 1;\"></line><line transform=\"translate(280,-400)\" x2=\"0\" y2=\"400\" style=\"fill: none; stroke: #ddd; stroke-width: 1; opacity: 1;\"></line><line transform=\"translate(320,-400)\" x2=\"0\" y2=\"400\" style=\"fill: none; stroke: #ddd; stroke-width: 1; opacity: 1;\"></line><line transform=\"translate(360,-400)\" x2=\"0\" y2=\"400\" style=\"fill: none; stroke: #ddd; stroke-width: 1; opacity: 1;\"></line><line transform=\"translate(400,-400)\" x2=\"0\" y2=\"400\" style=\"fill: none; stroke: #ddd; stroke-width: 1; opacity: 1;\"></line></g></g></g></g><g class=\"mark-group role-axis\"><g transform=\"translate(0.5,0.5)\"><path class=\"background\" d=\"M0,0h0v0h0Z\" style=\"pointer-events: none; fill: none;\"></path><g><g class=\"mark-rule role-axis-grid\" style=\"pointer-events: none;\"><line transform=\"translate(0,400)\" x2=\"400\" y2=\"0\" style=\"fill: none; stroke: #ddd; stroke-width: 1; opacity: 1;\"></line><line transform=\"translate(0,360)\" x2=\"400\" y2=\"0\" style=\"fill: none; stroke: #ddd; stroke-width: 1; opacity: 1;\"></line><line transform=\"translate(0,320)\" x2=\"400\" y2=\"0\" style=\"fill: none; stroke: #ddd; stroke-width: 1; opacity: 1;\"></line><line transform=\"translate(0,280)\" x2=\"400\" y2=\"0\" style=\"fill: none; stroke: #ddd; stroke-width: 1; opacity: 1;\"></line><line transform=\"translate(0,240)\" x2=\"400\" y2=\"0\" style=\"fill: none; stroke: #ddd; stroke-width: 1; opacity: 1;\"></line><line transform=\"translate(0,200)\" x2=\"400\" y2=\"0\" style=\"fill: none; stroke: #ddd; stroke-width: 1; opacity: 1;\"></line><line transform=\"translate(0,160)\" x2=\"400\" y2=\"0\" style=\"fill: none; stroke: #ddd; stroke-width: 1; opacity: 1;\"></line><line transform=\"translate(0,120)\" x2=\"400\" y2=\"0\" style=\"fill: none; stroke: #ddd; stroke-width: 1; opacity: 1;\"></line><line transform=\"translate(0,80)\" x2=\"400\" y2=\"0\" style=\"fill: none; stroke: #ddd; stroke-width: 1; opacity: 1;\"></line><line transform=\"translate(0,40)\" x2=\"400\" y2=\"0\" style=\"fill: none; stroke: #ddd; stroke-width: 1; opacity: 1;\"></line><line transform=\"translate(0,0)\" x2=\"400\" y2=\"0\" style=\"fill: none; stroke: #ddd; stroke-width: 1; opacity: 1;\"></line></g></g></g></g><g class=\"mark-symbol role-mark marks\"><path transform=\"translate(4,400)\" d=\"M2.7386127875258306,0A2.7386127875258306,2.7386127875258306,0,1,1,-2.7386127875258306,0A2.7386127875258306,2.7386127875258306,0,1,1,2.7386127875258306,0\" style=\"fill: none; stroke: #4c78a8; stroke-width: 2; opacity: 0.7;\"></path><path transform=\"translate(8,200)\" d=\"M2.7386127875258306,0A2.7386127875258306,2.7386127875258306,0,1,1,-2.7386127875258306,0A2.7386127875258306,2.7386127875258306,0,1,1,2.7386127875258306,0\" style=\"fill: none; stroke: #4c78a8; stroke-width: 2; opacity: 0.7;\"></path><path transform=\"translate(12,100)\" d=\"M2.7386127875258306,0A2.7386127875258306,2.7386127875258306,0,1,1,-2.7386127875258306,0A2.7386127875258306,2.7386127875258306,0,1,1,2.7386127875258306,0\" style=\"fill: none; stroke: #4c78a8; stroke-width: 2; opacity: 0.7;\"></path><path transform=\"translate(16,300)\" d=\"M2.7386127875258306,0A2.7386127875258306,2.7386127875258306,0,1,1,-2.7386127875258306,0A2.7386127875258306,2.7386127875258306,0,1,1,2.7386127875258306,0\" style=\"fill: none; stroke: #4c78a8; stroke-width: 2; opacity: 0.7;\"></path><path transform=\"translate(20,250)\" d=\"M2.7386127875258306,0A2.7386127875258306,2.7386127875258306,0,1,1,-2.7386127875258306,0A2.7386127875258306,2.7386127875258306,0,1,1,2.7386127875258306,0\" style=\"fill: none; stroke: #4c78a8; stroke-width: 2; opacity: 0.7;\"></path><path transform=\"translate(24,50)\" d=\"M2.7386127875258306,0A2.7386127875258306,2.7386127875258306,0,1,1,-2.7386127875258306,0A2.7386127875258306,2.7386127875258306,0,1,1,2.7386127875258306,0\" style=\"fill: none; stroke: #4c78a8; stroke-width: 2; opacity: 0.7;\"></path><path transform=\"translate(28.000000000000004,150)\" d=\"M2.7386127875258306,0A2.7386127875258306,2.7386127875258306,0,1,1,-2.7386127875258306,0A2.7386127875258306,2.7386127875258306,0,1,1,2.7386127875258306,0\" style=\"fill: none; stroke: #4c78a8; stroke-width: 2; opacity: 0.7;\"></path><path transform=\"translate(32,350)\" d=\"M2.7386127875258306,0A2.7386127875258306,2.7386127875258306,0,1,1,-2.7386127875258306,0A2.7386127875258306,2.7386127875258306,0,1,1,2.7386127875258306,0\" style=\"fill: none; stroke: #4c78a8; stroke-width: 2; opacity: 0.7;\"></path><path transform=\"translate(36,325)\" d=\"M2.7386127875258306,0A2.7386127875258306,2.7386127875258306,0,1,1,-2.7386127875258306,0A2.7386127875258306,2.7386127875258306,0,1,1,2.7386127875258306,0\" style=\"fill: none; stroke: #4c78a8; stroke-width: 2; opacity: 0.7;\"></path><path transform=\"translate(40,125)\" d=\"M2.7386127875258306,0A2.7386127875258306,2.7386127875258306,0,1,1,-2.7386127875258306,0A2.7386127875258306,2.7386127875258306,0,1,1,2.7386127875258306,0\" style=\"fill: none; stroke: #4c78a8; stroke-width: 2; opacity: 0.7;\"></path><path transform=\"translate(44,25)\" d=\"M2.7386127875258306,0A2.7386127875258306,2.7386127875258306,0,1,1,-2.7386127875258306,0A2.7386127875258306,2.7386127875258306,0,1,1,2.7386127875258306,0\" style=\"fill: none; stroke: #4c78a8; stroke-width: 2; opacity: 0.7;\"></path><path transform=\"translate(48,225)\" d=\"M2.7386127875258306,0A2.7386127875258306,2.7386127875258306,0,1,1,-2.7386127875258306,0A2.7386127875258306,2.7386127875258306,0,1,1,2.7386127875258306,0\" style=\"fill: none; stroke: #4c78a8; stroke-width: 2; opacity: 0.7;\"></path><path transform=\"translate(52,275)\" d=\"M2.7386127875258306,0A2.7386127875258306,2.7386127875258306,0,1,1,-2.7386127875258306,0A2.7386127875258306,2.7386127875258306,0,1,1,2.7386127875258306,0\" style=\"fill: none; stroke: #4c78a8; stroke-width: 2; opacity: 0.7;\"></path><path transform=\"translate(56.00000000000001,75)\" d=\"M2.7386127875258306,0A2.7386127875258306,2.7386127875258306,0,1,1,-2.7386127875258306,0A2.7386127875258306,2.7386127875258306,0,1,1,2.7386127875258306,0\" style=\"fill: none; stroke: #4c78a8; stroke-width: 2; opacity: 0.7;\"></path><path transform=\"translate(60,175)\" d=\"M2.7386127875258306,0A2.7386127875258306,2.7386127875258306,0,1,1,-2.7386127875258306,0A2.7386127875258306,2.7386127875258306,0,1,1,2.7386127875258306,0\" style=\"fill: none; stroke: #4c78a8; stroke-width: 2; opacity: 0.7;\"></path><path transform=\"translate(64,375)\" d=\"M2.7386127875258306,0A2.7386127875258306,2.7386127875258306,0,1,1,-2.7386127875258306,0A2.7386127875258306,2.7386127875258306,0,1,1,2.7386127875258306,0\" style=\"fill: none; stroke: #4c78a8; stroke-width: 2; opacity: 0.7;\"></path><path transform=\"translate(68,362.5)\" d=\"M2.7386127875258306,0A2.7386127875258306,2.7386127875258306,0,1,1,-2.7386127875258306,0A2.7386127875258306,2.7386127875258306,0,1,1,2.7386127875258306,0\" style=\"fill: none; stroke: #4c78a8; stroke-width: 2; opacity: 0.7;\"></path><path transform=\"translate(72,162.5)\" d=\"M2.7386127875258306,0A2.7386127875258306,2.7386127875258306,0,1,1,-2.7386127875258306,0A2.7386127875258306,2.7386127875258306,0,1,1,2.7386127875258306,0\" style=\"fill: none; stroke: #4c78a8; stroke-width: 2; opacity: 0.7;\"></path><path transform=\"translate(76,62.5)\" d=\"M2.7386127875258306,0A2.7386127875258306,2.7386127875258306,0,1,1,-2.7386127875258306,0A2.7386127875258306,2.7386127875258306,0,1,1,2.7386127875258306,0\" style=\"fill: none; stroke: #4c78a8; stroke-width: 2; opacity: 0.7;\"></path><path transform=\"translate(80,262.5)\" d=\"M2.7386127875258306,0A2.7386127875258306,2.7386127875258306,0,1,1,-2.7386127875258306,0A2.7386127875258306,2.7386127875258306,0,1,1,2.7386127875258306,0\" style=\"fill: none; stroke: #4c78a8; stroke-width: 2; opacity: 0.7;\"></path><path transform=\"translate(84,212.5)\" d=\"M2.7386127875258306,0A2.7386127875258306,2.7386127875258306,0,1,1,-2.7386127875258306,0A2.7386127875258306,2.7386127875258306,0,1,1,2.7386127875258306,0\" style=\"fill: none; stroke: #4c78a8; stroke-width: 2; opacity: 0.7;\"></path><path transform=\"translate(88,12.5)\" d=\"M2.7386127875258306,0A2.7386127875258306,2.7386127875258306,0,1,1,-2.7386127875258306,0A2.7386127875258306,2.7386127875258306,0,1,1,2.7386127875258306,0\" style=\"fill: none; stroke: #4c78a8; stroke-width: 2; opacity: 0.7;\"></path><path transform=\"translate(92,112.5)\" d=\"M2.7386127875258306,0A2.7386127875258306,2.7386127875258306,0,1,1,-2.7386127875258306,0A2.7386127875258306,2.7386127875258306,0,1,1,2.7386127875258306,0\" style=\"fill: none; stroke: #4c78a8; stroke-width: 2; opacity: 0.7;\"></path><path transform=\"translate(96,312.5)\" d=\"M2.7386127875258306,0A2.7386127875258306,2.7386127875258306,0,1,1,-2.7386127875258306,0A2.7386127875258306,2.7386127875258306,0,1,1,2.7386127875258306,0\" style=\"fill: none; stroke: #4c78a8; stroke-width: 2; opacity: 0.7;\"></path><path transform=\"translate(100,337.5)\" d=\"M2.7386127875258306,0A2.7386127875258306,2.7386127875258306,0,1,1,-2.7386127875258306,0A2.7386127875258306,2.7386127875258306,0,1,1,2.7386127875258306,0\" style=\"fill: none; stroke: #4c78a8; stroke-width: 2; opacity: 0.7;\"></path><path transform=\"translate(104,137.5)\" d=\"M2.7386127875258306,0A2.7386127875258306,2.7386127875258306,0,1,1,-2.7386127875258306,0A2.7386127875258306,2.7386127875258306,0,1,1,2.7386127875258306,0\" style=\"fill: none; stroke: #4c78a8; stroke-width: 2; opacity: 0.7;\"></path><path transform=\"translate(108,37.5)\" d=\"M2.7386127875258306,0A2.7386127875258306,2.7386127875258306,0,1,1,-2.7386127875258306,0A2.7386127875258306,2.7386127875258306,0,1,1,2.7386127875258306,0\" style=\"fill: none; stroke: #4c78a8; stroke-width: 2; opacity: 0.7;\"></path><path transform=\"translate(112.00000000000001,237.5)\" d=\"M2.7386127875258306,0A2.7386127875258306,2.7386127875258306,0,1,1,-2.7386127875258306,0A2.7386127875258306,2.7386127875258306,0,1,1,2.7386127875258306,0\" style=\"fill: none; stroke: #4c78a8; stroke-width: 2; opacity: 0.7;\"></path><path transform=\"translate(115.99999999999999,287.5)\" d=\"M2.7386127875258306,0A2.7386127875258306,2.7386127875258306,0,1,1,-2.7386127875258306,0A2.7386127875258306,2.7386127875258306,0,1,1,2.7386127875258306,0\" style=\"fill: none; stroke: #4c78a8; stroke-width: 2; opacity: 0.7;\"></path><path transform=\"translate(120,87.5)\" d=\"M2.7386127875258306,0A2.7386127875258306,2.7386127875258306,0,1,1,-2.7386127875258306,0A2.7386127875258306,2.7386127875258306,0,1,1,2.7386127875258306,0\" style=\"fill: none; stroke: #4c78a8; stroke-width: 2; opacity: 0.7;\"></path><path transform=\"translate(124,187.5)\" d=\"M2.7386127875258306,0A2.7386127875258306,2.7386127875258306,0,1,1,-2.7386127875258306,0A2.7386127875258306,2.7386127875258306,0,1,1,2.7386127875258306,0\" style=\"fill: none; stroke: #4c78a8; stroke-width: 2; opacity: 0.7;\"></path><path transform=\"translate(128,387.5)\" d=\"M2.7386127875258306,0A2.7386127875258306,2.7386127875258306,0,1,1,-2.7386127875258306,0A2.7386127875258306,2.7386127875258306,0,1,1,2.7386127875258306,0\" style=\"fill: none; stroke: #4c78a8; stroke-width: 2; opacity: 0.7;\"></path><path transform=\"translate(132,381.25)\" d=\"M2.7386127875258306,0A2.7386127875258306,2.7386127875258306,0,1,1,-2.7386127875258306,0A2.7386127875258306,2.7386127875258306,0,1,1,2.7386127875258306,0\" style=\"fill: none; stroke: #4c78a8; stroke-width: 2; opacity: 0.7;\"></path><path transform=\"translate(136,181.25)\" d=\"M2.7386127875258306,0A2.7386127875258306,2.7386127875258306,0,1,1,-2.7386127875258306,0A2.7386127875258306,2.7386127875258306,0,1,1,2.7386127875258306,0\" style=\"fill: none; stroke: #4c78a8; stroke-width: 2; opacity: 0.7;\"></path><path transform=\"translate(140,81.25)\" d=\"M2.7386127875258306,0A2.7386127875258306,2.7386127875258306,0,1,1,-2.7386127875258306,0A2.7386127875258306,2.7386127875258306,0,1,1,2.7386127875258306,0\" style=\"fill: none; stroke: #4c78a8; stroke-width: 2; opacity: 0.7;\"></path><path transform=\"translate(144,281.25)\" d=\"M2.7386127875258306,0A2.7386127875258306,2.7386127875258306,0,1,1,-2.7386127875258306,0A2.7386127875258306,2.7386127875258306,0,1,1,2.7386127875258306,0\" style=\"fill: none; stroke: #4c78a8; stroke-width: 2; opacity: 0.7;\"></path><path transform=\"translate(148,231.25)\" d=\"M2.7386127875258306,0A2.7386127875258306,2.7386127875258306,0,1,1,-2.7386127875258306,0A2.7386127875258306,2.7386127875258306,0,1,1,2.7386127875258306,0\" style=\"fill: none; stroke: #4c78a8; stroke-width: 2; opacity: 0.7;\"></path><path transform=\"translate(152,31.25)\" d=\"M2.7386127875258306,0A2.7386127875258306,2.7386127875258306,0,1,1,-2.7386127875258306,0A2.7386127875258306,2.7386127875258306,0,1,1,2.7386127875258306,0\" style=\"fill: none; stroke: #4c78a8; stroke-width: 2; opacity: 0.7;\"></path><path transform=\"translate(156,131.25)\" d=\"M2.7386127875258306,0A2.7386127875258306,2.7386127875258306,0,1,1,-2.7386127875258306,0A2.7386127875258306,2.7386127875258306,0,1,1,2.7386127875258306,0\" style=\"fill: none; stroke: #4c78a8; stroke-width: 2; opacity: 0.7;\"></path><path transform=\"translate(160,331.25)\" d=\"M2.7386127875258306,0A2.7386127875258306,2.7386127875258306,0,1,1,-2.7386127875258306,0A2.7386127875258306,2.7386127875258306,0,1,1,2.7386127875258306,0\" style=\"fill: none; stroke: #4c78a8; stroke-width: 2; opacity: 0.7;\"></path><path transform=\"translate(164,306.25)\" d=\"M2.7386127875258306,0A2.7386127875258306,2.7386127875258306,0,1,1,-2.7386127875258306,0A2.7386127875258306,2.7386127875258306,0,1,1,2.7386127875258306,0\" style=\"fill: none; stroke: #4c78a8; stroke-width: 2; opacity: 0.7;\"></path><path transform=\"translate(168,106.25)\" d=\"M2.7386127875258306,0A2.7386127875258306,2.7386127875258306,0,1,1,-2.7386127875258306,0A2.7386127875258306,2.7386127875258306,0,1,1,2.7386127875258306,0\" style=\"fill: none; stroke: #4c78a8; stroke-width: 2; opacity: 0.7;\"></path><path transform=\"translate(172,6.25)\" d=\"M2.7386127875258306,0A2.7386127875258306,2.7386127875258306,0,1,1,-2.7386127875258306,0A2.7386127875258306,2.7386127875258306,0,1,1,2.7386127875258306,0\" style=\"fill: none; stroke: #4c78a8; stroke-width: 2; opacity: 0.7;\"></path><path transform=\"translate(176,206.25)\" d=\"M2.7386127875258306,0A2.7386127875258306,2.7386127875258306,0,1,1,-2.7386127875258306,0A2.7386127875258306,2.7386127875258306,0,1,1,2.7386127875258306,0\" style=\"fill: none; stroke: #4c78a8; stroke-width: 2; opacity: 0.7;\"></path><path transform=\"translate(180,256.25)\" d=\"M2.7386127875258306,0A2.7386127875258306,2.7386127875258306,0,1,1,-2.7386127875258306,0A2.7386127875258306,2.7386127875258306,0,1,1,2.7386127875258306,0\" style=\"fill: none; stroke: #4c78a8; stroke-width: 2; opacity: 0.7;\"></path><path transform=\"translate(184,56.25)\" d=\"M2.7386127875258306,0A2.7386127875258306,2.7386127875258306,0,1,1,-2.7386127875258306,0A2.7386127875258306,2.7386127875258306,0,1,1,2.7386127875258306,0\" style=\"fill: none; stroke: #4c78a8; stroke-width: 2; opacity: 0.7;\"></path><path transform=\"translate(188,156.25)\" d=\"M2.7386127875258306,0A2.7386127875258306,2.7386127875258306,0,1,1,-2.7386127875258306,0A2.7386127875258306,2.7386127875258306,0,1,1,2.7386127875258306,0\" style=\"fill: none; stroke: #4c78a8; stroke-width: 2; opacity: 0.7;\"></path><path transform=\"translate(192,356.25)\" d=\"M2.7386127875258306,0A2.7386127875258306,2.7386127875258306,0,1,1,-2.7386127875258306,0A2.7386127875258306,2.7386127875258306,0,1,1,2.7386127875258306,0\" style=\"fill: none; stroke: #4c78a8; stroke-width: 2; opacity: 0.7;\"></path><path transform=\"translate(196,368.75)\" d=\"M2.7386127875258306,0A2.7386127875258306,2.7386127875258306,0,1,1,-2.7386127875258306,0A2.7386127875258306,2.7386127875258306,0,1,1,2.7386127875258306,0\" style=\"fill: none; stroke: #4c78a8; stroke-width: 2; opacity: 0.7;\"></path><path transform=\"translate(200,168.75)\" d=\"M2.7386127875258306,0A2.7386127875258306,2.7386127875258306,0,1,1,-2.7386127875258306,0A2.7386127875258306,2.7386127875258306,0,1,1,2.7386127875258306,0\" style=\"fill: none; stroke: #4c78a8; stroke-width: 2; opacity: 0.7;\"></path><path transform=\"translate(204,68.75)\" d=\"M2.7386127875258306,0A2.7386127875258306,2.7386127875258306,0,1,1,-2.7386127875258306,0A2.7386127875258306,2.7386127875258306,0,1,1,2.7386127875258306,0\" style=\"fill: none; stroke: #4c78a8; stroke-width: 2; opacity: 0.7;\"></path><path transform=\"translate(208,268.75)\" d=\"M2.7386127875258306,0A2.7386127875258306,2.7386127875258306,0,1,1,-2.7386127875258306,0A2.7386127875258306,2.7386127875258306,0,1,1,2.7386127875258306,0\" style=\"fill: none; stroke: #4c78a8; stroke-width: 2; opacity: 0.7;\"></path><path transform=\"translate(212,218.75)\" d=\"M2.7386127875258306,0A2.7386127875258306,2.7386127875258306,0,1,1,-2.7386127875258306,0A2.7386127875258306,2.7386127875258306,0,1,1,2.7386127875258306,0\" style=\"fill: none; stroke: #4c78a8; stroke-width: 2; opacity: 0.7;\"></path><path transform=\"translate(216,18.75)\" d=\"M2.7386127875258306,0A2.7386127875258306,2.7386127875258306,0,1,1,-2.7386127875258306,0A2.7386127875258306,2.7386127875258306,0,1,1,2.7386127875258306,0\" style=\"fill: none; stroke: #4c78a8; stroke-width: 2; opacity: 0.7;\"></path><path transform=\"translate(220.00000000000003,118.75)\" d=\"M2.7386127875258306,0A2.7386127875258306,2.7386127875258306,0,1,1,-2.7386127875258306,0A2.7386127875258306,2.7386127875258306,0,1,1,2.7386127875258306,0\" style=\"fill: none; stroke: #4c78a8; stroke-width: 2; opacity: 0.7;\"></path><path transform=\"translate(224.00000000000003,318.75)\" d=\"M2.7386127875258306,0A2.7386127875258306,2.7386127875258306,0,1,1,-2.7386127875258306,0A2.7386127875258306,2.7386127875258306,0,1,1,2.7386127875258306,0\" style=\"fill: none; stroke: #4c78a8; stroke-width: 2; opacity: 0.7;\"></path><path transform=\"translate(227.99999999999997,343.75)\" d=\"M2.7386127875258306,0A2.7386127875258306,2.7386127875258306,0,1,1,-2.7386127875258306,0A2.7386127875258306,2.7386127875258306,0,1,1,2.7386127875258306,0\" style=\"fill: none; stroke: #4c78a8; stroke-width: 2; opacity: 0.7;\"></path><path transform=\"translate(231.99999999999997,143.75)\" d=\"M2.7386127875258306,0A2.7386127875258306,2.7386127875258306,0,1,1,-2.7386127875258306,0A2.7386127875258306,2.7386127875258306,0,1,1,2.7386127875258306,0\" style=\"fill: none; stroke: #4c78a8; stroke-width: 2; opacity: 0.7;\"></path><path transform=\"translate(236,43.75)\" d=\"M2.7386127875258306,0A2.7386127875258306,2.7386127875258306,0,1,1,-2.7386127875258306,0A2.7386127875258306,2.7386127875258306,0,1,1,2.7386127875258306,0\" style=\"fill: none; stroke: #4c78a8; stroke-width: 2; opacity: 0.7;\"></path><path transform=\"translate(240,243.75)\" d=\"M2.7386127875258306,0A2.7386127875258306,2.7386127875258306,0,1,1,-2.7386127875258306,0A2.7386127875258306,2.7386127875258306,0,1,1,2.7386127875258306,0\" style=\"fill: none; stroke: #4c78a8; stroke-width: 2; opacity: 0.7;\"></path><path transform=\"translate(244,293.75)\" d=\"M2.7386127875258306,0A2.7386127875258306,2.7386127875258306,0,1,1,-2.7386127875258306,0A2.7386127875258306,2.7386127875258306,0,1,1,2.7386127875258306,0\" style=\"fill: none; stroke: #4c78a8; stroke-width: 2; opacity: 0.7;\"></path><path transform=\"translate(248,93.75)\" d=\"M2.7386127875258306,0A2.7386127875258306,2.7386127875258306,0,1,1,-2.7386127875258306,0A2.7386127875258306,2.7386127875258306,0,1,1,2.7386127875258306,0\" style=\"fill: none; stroke: #4c78a8; stroke-width: 2; opacity: 0.7;\"></path><path transform=\"translate(252,193.75)\" d=\"M2.7386127875258306,0A2.7386127875258306,2.7386127875258306,0,1,1,-2.7386127875258306,0A2.7386127875258306,2.7386127875258306,0,1,1,2.7386127875258306,0\" style=\"fill: none; stroke: #4c78a8; stroke-width: 2; opacity: 0.7;\"></path><path transform=\"translate(256,393.75)\" d=\"M2.7386127875258306,0A2.7386127875258306,2.7386127875258306,0,1,1,-2.7386127875258306,0A2.7386127875258306,2.7386127875258306,0,1,1,2.7386127875258306,0\" style=\"fill: none; stroke: #4c78a8; stroke-width: 2; opacity: 0.7;\"></path><path transform=\"translate(260,390.625)\" d=\"M2.7386127875258306,0A2.7386127875258306,2.7386127875258306,0,1,1,-2.7386127875258306,0A2.7386127875258306,2.7386127875258306,0,1,1,2.7386127875258306,0\" style=\"fill: none; stroke: #4c78a8; stroke-width: 2; opacity: 0.7;\"></path><path transform=\"translate(264,190.625)\" d=\"M2.7386127875258306,0A2.7386127875258306,2.7386127875258306,0,1,1,-2.7386127875258306,0A2.7386127875258306,2.7386127875258306,0,1,1,2.7386127875258306,0\" style=\"fill: none; stroke: #4c78a8; stroke-width: 2; opacity: 0.7;\"></path><path transform=\"translate(268,90.625)\" d=\"M2.7386127875258306,0A2.7386127875258306,2.7386127875258306,0,1,1,-2.7386127875258306,0A2.7386127875258306,2.7386127875258306,0,1,1,2.7386127875258306,0\" style=\"fill: none; stroke: #4c78a8; stroke-width: 2; opacity: 0.7;\"></path><path transform=\"translate(272,290.625)\" d=\"M2.7386127875258306,0A2.7386127875258306,2.7386127875258306,0,1,1,-2.7386127875258306,0A2.7386127875258306,2.7386127875258306,0,1,1,2.7386127875258306,0\" style=\"fill: none; stroke: #4c78a8; stroke-width: 2; opacity: 0.7;\"></path><path transform=\"translate(276,240.625)\" d=\"M2.7386127875258306,0A2.7386127875258306,2.7386127875258306,0,1,1,-2.7386127875258306,0A2.7386127875258306,2.7386127875258306,0,1,1,2.7386127875258306,0\" style=\"fill: none; stroke: #4c78a8; stroke-width: 2; opacity: 0.7;\"></path><path transform=\"translate(280,40.625)\" d=\"M2.7386127875258306,0A2.7386127875258306,2.7386127875258306,0,1,1,-2.7386127875258306,0A2.7386127875258306,2.7386127875258306,0,1,1,2.7386127875258306,0\" style=\"fill: none; stroke: #4c78a8; stroke-width: 2; opacity: 0.7;\"></path><path transform=\"translate(284,140.625)\" d=\"M2.7386127875258306,0A2.7386127875258306,2.7386127875258306,0,1,1,-2.7386127875258306,0A2.7386127875258306,2.7386127875258306,0,1,1,2.7386127875258306,0\" style=\"fill: none; stroke: #4c78a8; stroke-width: 2; opacity: 0.7;\"></path><path transform=\"translate(288,340.625)\" d=\"M2.7386127875258306,0A2.7386127875258306,2.7386127875258306,0,1,1,-2.7386127875258306,0A2.7386127875258306,2.7386127875258306,0,1,1,2.7386127875258306,0\" style=\"fill: none; stroke: #4c78a8; stroke-width: 2; opacity: 0.7;\"></path><path transform=\"translate(292,315.625)\" d=\"M2.7386127875258306,0A2.7386127875258306,2.7386127875258306,0,1,1,-2.7386127875258306,0A2.7386127875258306,2.7386127875258306,0,1,1,2.7386127875258306,0\" style=\"fill: none; stroke: #4c78a8; stroke-width: 2; opacity: 0.7;\"></path><path transform=\"translate(296,115.625)\" d=\"M2.7386127875258306,0A2.7386127875258306,2.7386127875258306,0,1,1,-2.7386127875258306,0A2.7386127875258306,2.7386127875258306,0,1,1,2.7386127875258306,0\" style=\"fill: none; stroke: #4c78a8; stroke-width: 2; opacity: 0.7;\"></path><path transform=\"translate(300,15.625)\" d=\"M2.7386127875258306,0A2.7386127875258306,2.7386127875258306,0,1,1,-2.7386127875258306,0A2.7386127875258306,2.7386127875258306,0,1,1,2.7386127875258306,0\" style=\"fill: none; stroke: #4c78a8; stroke-width: 2; opacity: 0.7;\"></path><path transform=\"translate(304,215.625)\" d=\"M2.7386127875258306,0A2.7386127875258306,2.7386127875258306,0,1,1,-2.7386127875258306,0A2.7386127875258306,2.7386127875258306,0,1,1,2.7386127875258306,0\" style=\"fill: none; stroke: #4c78a8; stroke-width: 2; opacity: 0.7;\"></path><path transform=\"translate(308,265.625)\" d=\"M2.7386127875258306,0A2.7386127875258306,2.7386127875258306,0,1,1,-2.7386127875258306,0A2.7386127875258306,2.7386127875258306,0,1,1,2.7386127875258306,0\" style=\"fill: none; stroke: #4c78a8; stroke-width: 2; opacity: 0.7;\"></path><path transform=\"translate(312,65.625)\" d=\"M2.7386127875258306,0A2.7386127875258306,2.7386127875258306,0,1,1,-2.7386127875258306,0A2.7386127875258306,2.7386127875258306,0,1,1,2.7386127875258306,0\" style=\"fill: none; stroke: #4c78a8; stroke-width: 2; opacity: 0.7;\"></path><path transform=\"translate(316,165.625)\" d=\"M2.7386127875258306,0A2.7386127875258306,2.7386127875258306,0,1,1,-2.7386127875258306,0A2.7386127875258306,2.7386127875258306,0,1,1,2.7386127875258306,0\" style=\"fill: none; stroke: #4c78a8; stroke-width: 2; opacity: 0.7;\"></path><path transform=\"translate(320,365.625)\" d=\"M2.7386127875258306,0A2.7386127875258306,2.7386127875258306,0,1,1,-2.7386127875258306,0A2.7386127875258306,2.7386127875258306,0,1,1,2.7386127875258306,0\" style=\"fill: none; stroke: #4c78a8; stroke-width: 2; opacity: 0.7;\"></path><path transform=\"translate(324,353.125)\" d=\"M2.7386127875258306,0A2.7386127875258306,2.7386127875258306,0,1,1,-2.7386127875258306,0A2.7386127875258306,2.7386127875258306,0,1,1,2.7386127875258306,0\" style=\"fill: none; stroke: #4c78a8; stroke-width: 2; opacity: 0.7;\"></path><path transform=\"translate(328,153.125)\" d=\"M2.7386127875258306,0A2.7386127875258306,2.7386127875258306,0,1,1,-2.7386127875258306,0A2.7386127875258306,2.7386127875258306,0,1,1,2.7386127875258306,0\" style=\"fill: none; stroke: #4c78a8; stroke-width: 2; opacity: 0.7;\"></path><path transform=\"translate(332,53.125)\" d=\"M2.7386127875258306,0A2.7386127875258306,2.7386127875258306,0,1,1,-2.7386127875258306,0A2.7386127875258306,2.7386127875258306,0,1,1,2.7386127875258306,0\" style=\"fill: none; stroke: #4c78a8; stroke-width: 2; opacity: 0.7;\"></path><path transform=\"translate(336,253.125)\" d=\"M2.7386127875258306,0A2.7386127875258306,2.7386127875258306,0,1,1,-2.7386127875258306,0A2.7386127875258306,2.7386127875258306,0,1,1,2.7386127875258306,0\" style=\"fill: none; stroke: #4c78a8; stroke-width: 2; opacity: 0.7;\"></path><path transform=\"translate(340,203.125)\" d=\"M2.7386127875258306,0A2.7386127875258306,2.7386127875258306,0,1,1,-2.7386127875258306,0A2.7386127875258306,2.7386127875258306,0,1,1,2.7386127875258306,0\" style=\"fill: none; stroke: #4c78a8; stroke-width: 2; opacity: 0.7;\"></path><path transform=\"translate(344,3.125)\" d=\"M2.7386127875258306,0A2.7386127875258306,2.7386127875258306,0,1,1,-2.7386127875258306,0A2.7386127875258306,2.7386127875258306,0,1,1,2.7386127875258306,0\" style=\"fill: none; stroke: #4c78a8; stroke-width: 2; opacity: 0.7;\"></path><path transform=\"translate(348,103.125)\" d=\"M2.7386127875258306,0A2.7386127875258306,2.7386127875258306,0,1,1,-2.7386127875258306,0A2.7386127875258306,2.7386127875258306,0,1,1,2.7386127875258306,0\" style=\"fill: none; stroke: #4c78a8; stroke-width: 2; opacity: 0.7;\"></path><path transform=\"translate(352,303.125)\" d=\"M2.7386127875258306,0A2.7386127875258306,2.7386127875258306,0,1,1,-2.7386127875258306,0A2.7386127875258306,2.7386127875258306,0,1,1,2.7386127875258306,0\" style=\"fill: none; stroke: #4c78a8; stroke-width: 2; opacity: 0.7;\"></path><path transform=\"translate(356,328.125)\" d=\"M2.7386127875258306,0A2.7386127875258306,2.7386127875258306,0,1,1,-2.7386127875258306,0A2.7386127875258306,2.7386127875258306,0,1,1,2.7386127875258306,0\" style=\"fill: none; stroke: #4c78a8; stroke-width: 2; opacity: 0.7;\"></path><path transform=\"translate(360,128.125)\" d=\"M2.7386127875258306,0A2.7386127875258306,2.7386127875258306,0,1,1,-2.7386127875258306,0A2.7386127875258306,2.7386127875258306,0,1,1,2.7386127875258306,0\" style=\"fill: none; stroke: #4c78a8; stroke-width: 2; opacity: 0.7;\"></path><path transform=\"translate(364,28.125)\" d=\"M2.7386127875258306,0A2.7386127875258306,2.7386127875258306,0,1,1,-2.7386127875258306,0A2.7386127875258306,2.7386127875258306,0,1,1,2.7386127875258306,0\" style=\"fill: none; stroke: #4c78a8; stroke-width: 2; opacity: 0.7;\"></path><path transform=\"translate(368,228.125)\" d=\"M2.7386127875258306,0A2.7386127875258306,2.7386127875258306,0,1,1,-2.7386127875258306,0A2.7386127875258306,2.7386127875258306,0,1,1,2.7386127875258306,0\" style=\"fill: none; stroke: #4c78a8; stroke-width: 2; opacity: 0.7;\"></path><path transform=\"translate(372,278.125)\" d=\"M2.7386127875258306,0A2.7386127875258306,2.7386127875258306,0,1,1,-2.7386127875258306,0A2.7386127875258306,2.7386127875258306,0,1,1,2.7386127875258306,0\" style=\"fill: none; stroke: #4c78a8; stroke-width: 2; opacity: 0.7;\"></path><path transform=\"translate(376,78.125)\" d=\"M2.7386127875258306,0A2.7386127875258306,2.7386127875258306,0,1,1,-2.7386127875258306,0A2.7386127875258306,2.7386127875258306,0,1,1,2.7386127875258306,0\" style=\"fill: none; stroke: #4c78a8; stroke-width: 2; opacity: 0.7;\"></path><path transform=\"translate(380,178.125)\" d=\"M2.7386127875258306,0A2.7386127875258306,2.7386127875258306,0,1,1,-2.7386127875258306,0A2.7386127875258306,2.7386127875258306,0,1,1,2.7386127875258306,0\" style=\"fill: none; stroke: #4c78a8; stroke-width: 2; opacity: 0.7;\"></path><path transform=\"translate(384,378.125)\" d=\"M2.7386127875258306,0A2.7386127875258306,2.7386127875258306,0,1,1,-2.7386127875258306,0A2.7386127875258306,2.7386127875258306,0,1,1,2.7386127875258306,0\" style=\"fill: none; stroke: #4c78a8; stroke-width: 2; opacity: 0.7;\"></path><path transform=\"translate(388,384.375)\" d=\"M2.7386127875258306,0A2.7386127875258306,2.7386127875258306,0,1,1,-2.7386127875258306,0A2.7386127875258306,2.7386127875258306,0,1,1,2.7386127875258306,0\" style=\"fill: none; stroke: #4c78a8; stroke-width: 2; opacity: 0.7;\"></path><path transform=\"translate(392,184.375)\" d=\"M2.7386127875258306,0A2.7386127875258306,2.7386127875258306,0,1,1,-2.7386127875258306,0A2.7386127875258306,2.7386127875258306,0,1,1,2.7386127875258306,0\" style=\"fill: none; stroke: #4c78a8; stroke-width: 2; opacity: 0.7;\"></path><path transform=\"translate(396,84.375)\" d=\"M2.7386127875258306,0A2.7386127875258306,2.7386127875258306,0,1,1,-2.7386127875258306,0A2.7386127875258306,2.7386127875258306,0,1,1,2.7386127875258306,0\" style=\"fill: none; stroke: #4c78a8; stroke-width: 2; opacity: 0.7;\"></path><path transform=\"translate(400,284.375)\" d=\"M2.7386127875258306,0A2.7386127875258306,2.7386127875258306,0,1,1,-2.7386127875258306,0A2.7386127875258306,2.7386127875258306,0,1,1,2.7386127875258306,0\" style=\"fill: none; stroke: #4c78a8; stroke-width: 2; opacity: 0.7;\"></path></g><g class=\"mark-group role-legend\"><g transform=\"translate(418,0)\"><path class=\"background\" d=\"M0,0h89v29h-89Z\" style=\"pointer-events: none; fill: none;\"></path><g><g class=\"mark-group role-legend-entry\"><g transform=\"translate(0,16)\"><path class=\"background\" d=\"M0,0h0v0h0Z\" style=\"pointer-events: none; fill: none;\"></path><g><g class=\"mark-group role-scope\"><g transform=\"translate(0,0)\"><path class=\"background\" d=\"M0,0h89v12.5h-89Z\" style=\"pointer-events: none; fill: none; opacity: 1;\"></path><g><g class=\"mark-symbol role-legend-symbol\" style=\"pointer-events: none;\"><path transform=\"translate(6,6)\" d=\"M5,0A5,5,0,1,1,-5,0A5,5,0,1,1,5,0\" style=\"fill: none; stroke: #4c78a8; stroke-width: 1.5; opacity: 0.7;\"></path></g><g class=\"mark-text role-legend-label\" style=\"pointer-events: none;\"><text text-anchor=\"start\" transform=\"translate(16,9)\" style=\"font-family: sans-serif; font-size: 10px; fill: #000; opacity: 1;\">undefined</text></g></g></g></g></g></g></g><g class=\"mark-text role-legend-title\" style=\"pointer-events: none;\"><text text-anchor=\"start\" transform=\"translate(0,9)\" style=\"font-family: sans-serif; font-size: 11px; font-weight: bold; fill: #000; opacity: 1;\">Origin</text></g></g></g></g><g class=\"mark-group role-axis\"><g transform=\"translate(0.5,400.5)\"><path class=\"background\" d=\"M0,0h0v0h0Z\" style=\"pointer-events: none; fill: none;\"></path><g><g class=\"mark-rule role-axis-tick\" style=\"pointer-events: none;\"><line transform=\"translate(0,0)\" x2=\"0\" y2=\"5\" style=\"fill: none; stroke: #888; stroke-width: 1; opacity: 1;\"></line><line transform=\"translate(40,0)\" x2=\"0\" y2=\"5\" style=\"fill: none; stroke: #888; stroke-width: 1; opacity: 1;\"></line><line transform=\"translate(80,0)\" x2=\"0\" y2=\"5\" style=\"fill: none; stroke: #888; stroke-width: 1; opacity: 1;\"></line><line transform=\"translate(120,0)\" x2=\"0\" y2=\"5\" style=\"fill: none; stroke: #888; stroke-width: 1; opacity: 1;\"></line><line transform=\"translate(160,0)\" x2=\"0\" y2=\"5\" style=\"fill: none; stroke: #888; stroke-width: 1; opacity: 1;\"></line><line transform=\"translate(200,0)\" x2=\"0\" y2=\"5\" style=\"fill: none; stroke: #888; stroke-width: 1; opacity: 1;\"></line><line transform=\"translate(240,0)\" x2=\"0\" y2=\"5\" style=\"fill: none; stroke: #888; stroke-width: 1; opacity: 1;\"></line><line transform=\"translate(280,0)\" x2=\"0\" y2=\"5\" style=\"fill: none; stroke: #888; stroke-width: 1; opacity: 1;\"></line><line transform=\"translate(320,0)\" x2=\"0\" y2=\"5\" style=\"fill: none; stroke: #888; stroke-width: 1; opacity: 1;\"></line><line transform=\"translate(360,0)\" x2=\"0\" y2=\"5\" style=\"fill: none; stroke: #888; stroke-width: 1; opacity: 1;\"></line><line transform=\"translate(400,0)\" x2=\"0\" y2=\"5\" style=\"fill: none; stroke: #888; stroke-width: 1; opacity: 1;\"></line></g><g class=\"mark-text role-axis-label\" style=\"pointer-events: none;\"><text text-anchor=\"start\" transform=\"translate(0,15)\" style=\"font-family: sans-serif; font-size: 10px; fill: #000; opacity: 1;\">0</text><text text-anchor=\"middle\" transform=\"translate(40,15)\" style=\"font-family: sans-serif; font-size: 10px; fill: #000; opacity: 1;\">10</text><text text-anchor=\"middle\" transform=\"translate(80,15)\" style=\"font-family: sans-serif; font-size: 10px; fill: #000; opacity: 1;\">20</text><text text-anchor=\"middle\" transform=\"translate(120,15)\" style=\"font-family: sans-serif; font-size: 10px; fill: #000; opacity: 1;\">30</text><text text-anchor=\"middle\" transform=\"translate(160,15)\" style=\"font-family: sans-serif; font-size: 10px; fill: #000; opacity: 1;\">40</text><text text-anchor=\"middle\" transform=\"translate(200,15)\" style=\"font-family: sans-serif; font-size: 10px; fill: #000; opacity: 1;\">50</text><text text-anchor=\"middle\" transform=\"translate(240,15)\" style=\"font-family: sans-serif; font-size: 10px; fill: #000; opacity: 1;\">60</text><text text-anchor=\"middle\" transform=\"translate(280,15)\" style=\"font-family: sans-serif; font-size: 10px; fill: #000; opacity: 1;\">70</text><text text-anchor=\"middle\" transform=\"translate(320,15)\" style=\"font-family: sans-serif; font-size: 10px; fill: #000; opacity: 1;\">80</text><text text-anchor=\"middle\" transform=\"translate(360,15)\" style=\"font-family: sans-serif; font-size: 10px; fill: #000; opacity: 1;\">90</text><text text-anchor=\"end\" transform=\"translate(400,15)\" style=\"font-family: sans-serif; font-size: 10px; fill: #000; opacity: 1;\">100</text></g><g class=\"mark-rule role-axis-domain\" style=\"pointer-events: none;\"><line transform=\"translate(0,0)\" x2=\"400\" y2=\"0\" style=\"fill: none; stroke: #888; stroke-width: 1; opacity: 1;\"></line></g><g class=\"mark-text role-axis-title\" style=\"pointer-events: none;\"><text text-anchor=\"middle\" transform=\"translate(200,31)\" style=\"font-family: sans-serif; font-size: 11px; font-weight: bold; fill: #000; opacity: 1;\">index</text></g></g></g></g><g class=\"mark-group role-axis\"><g transform=\"translate(0.5,0.5)\"><path class=\"background\" d=\"M0,0h0v0h0Z\" style=\"pointer-events: none; fill: none;\"></path><g><g class=\"mark-rule role-axis-tick\" style=\"pointer-events: none;\"><line transform=\"translate(0,400)\" x2=\"-5\" y2=\"0\" style=\"fill: none; stroke: #888; stroke-width: 1; opacity: 1;\"></line><line transform=\"translate(0,360)\" x2=\"-5\" y2=\"0\" style=\"fill: none; stroke: #888; stroke-width: 1; opacity: 1;\"></line><line transform=\"translate(0,320)\" x2=\"-5\" y2=\"0\" style=\"fill: none; stroke: #888; stroke-width: 1; opacity: 1;\"></line><line transform=\"translate(0,280)\" x2=\"-5\" y2=\"0\" style=\"fill: none; stroke: #888; stroke-width: 1; opacity: 1;\"></line><line transform=\"translate(0,240)\" x2=\"-5\" y2=\"0\" style=\"fill: none; stroke: #888; stroke-width: 1; opacity: 1;\"></line><line transform=\"translate(0,200)\" x2=\"-5\" y2=\"0\" style=\"fill: none; stroke: #888; stroke-width: 1; opacity: 1;\"></line><line transform=\"translate(0,160)\" x2=\"-5\" y2=\"0\" style=\"fill: none; stroke: #888; stroke-width: 1; opacity: 1;\"></line><line transform=\"translate(0,120)\" x2=\"-5\" y2=\"0\" style=\"fill: none; stroke: #888; stroke-width: 1; opacity: 1;\"></line><line transform=\"translate(0,80)\" x2=\"-5\" y2=\"0\" style=\"fill: none; stroke: #888; stroke-width: 1; opacity: 1;\"></line><line transform=\"translate(0,40)\" x2=\"-5\" y2=\"0\" style=\"fill: none; stroke: #888; stroke-width: 1; opacity: 1;\"></line><line transform=\"translate(0,0)\" x2=\"-5\" y2=\"0\" style=\"fill: none; stroke: #888; stroke-width: 1; opacity: 1;\"></line></g><g class=\"mark-text role-axis-label\" style=\"pointer-events: none;\"><text text-anchor=\"end\" transform=\"translate(-7,403)\" style=\"font-family: sans-serif; font-size: 10px; fill: #000; opacity: 1;\">0.0</text><text text-anchor=\"end\" transform=\"translate(-7,363)\" style=\"font-family: sans-serif; font-size: 10px; fill: #000; opacity: 1;\">0.1</text><text text-anchor=\"end\" transform=\"translate(-7,323)\" style=\"font-family: sans-serif; font-size: 10px; fill: #000; opacity: 1;\">0.2</text><text text-anchor=\"end\" transform=\"translate(-7,283)\" style=\"font-family: sans-serif; font-size: 10px; fill: #000; opacity: 1;\">0.3</text><text text-anchor=\"end\" transform=\"translate(-7,243)\" style=\"font-family: sans-serif; font-size: 10px; fill: #000; opacity: 1;\">0.4</text><text text-anchor=\"end\" transform=\"translate(-7,203)\" style=\"font-family: sans-serif; font-size: 10px; fill: #000; opacity: 1;\">0.5</text><text text-anchor=\"end\" transform=\"translate(-7,163)\" style=\"font-family: sans-serif; font-size: 10px; fill: #000; opacity: 1;\">0.6</text><text text-anchor=\"end\" transform=\"translate(-7,123)\" style=\"font-family: sans-serif; font-size: 10px; fill: #000; opacity: 1;\">0.7</text><text text-anchor=\"end\" transform=\"translate(-7,83)\" style=\"font-family: sans-serif; font-size: 10px; fill: #000; opacity: 1;\">0.8</text><text text-anchor=\"end\" transform=\"translate(-7,43)\" style=\"font-family: sans-serif; font-size: 10px; fill: #000; opacity: 1;\">0.9</text><text text-anchor=\"end\" transform=\"translate(-7,3)\" style=\"font-family: sans-serif; font-size: 10px; fill: #000; opacity: 1;\">1.0</text></g><g class=\"mark-rule role-axis-domain\" style=\"pointer-events: none;\"><line transform=\"translate(0,400)\" x2=\"0\" y2=\"-400\" style=\"fill: none; stroke: #888; stroke-width: 1; opacity: 1;\"></line></g><g class=\"mark-text role-axis-title\" style=\"pointer-events: none;\"><text text-anchor=\"middle\" transform=\"translate(-36,200) rotate(-90) translate(0,-2)\" style=\"font-family: sans-serif; font-size: 11px; font-weight: bold; fill: #000; opacity: 1;\">x1</text></g></g></g></g></g></g></g></g></svg>"
      ],
      "text/plain": [
       "VegaLite.VLSpec{:plot}"
      ]
     },
     "execution_count": 17,
     "metadata": {},
     "output_type": "execute_result"
    }
   ],
   "source": [
    "#distribution of sobol_sequence values\n",
    "sequence = sobol_sequence(100, length(data.params)) |> DataFrame\n",
    "indicis = DataFrame(index = 1:100)\n",
    "df = [indicis sequence]\n",
    "\n",
    "df |>\n",
    "@vlplot(\n",
    "    :point,\n",
    "    x=:index,\n",
    "    y=:x1,\n",
    "    color=:Origin,\n",
    "    width=400,\n",
    "    height=400\n",
    ")\n"
   ]
  },
  {
   "cell_type": "code",
   "execution_count": 18,
   "metadata": {},
   "outputs": [
    {
     "data": {
      "application/vnd.vegalite.v2+json": {
       "data": {
        "values": [
         {
          "x1": -1.761009944492832,
          "x2": -2.5341362615872463,
          "x3": 0.11658253987931655
         },
         {
          "x1": 1.1106020904292775,
          "x2": -2.5341362615872463,
          "x3": 0.11658253987931655
         },
         {
          "x1": -1.761009944492832,
          "x2": -1.380582709097168,
          "x3": 0.11658253987931655
         },
         {
          "x1": -1.761009944492832,
          "x2": -2.5341362615872463,
          "x3": 2.558679954193418
         },
         {
          "x1": 1.1106020904292775,
          "x2": -1.380582709097168,
          "x3": 2.558679954193418
         },
         {
          "x1": 1.380582709097168,
          "x2": 0.6074563920027538,
          "x3": -3.0250101137106835
         },
         {
          "x1": -2.0309905631607226,
          "x2": 0.6074563920027538,
          "x3": -3.0250101137106835
         },
         {
          "x1": 1.380582709097168,
          "x2": 1.761009944492832,
          "x3": -3.0250101137106835
         },
         {
          "x1": 1.380582709097168,
          "x2": 0.6074563920027538,
          "x3": -0.5829126993965819
         },
         {
          "x1": -2.0309905631607226,
          "x2": 1.761009944492832,
          "x3": -0.5829126993965819
         },
         {
          "x1": 2.9513790358921677,
          "x2": -0.9633399347922462,
          "x3": 1.6873788666743161
         },
         {
          "x1": 2.681398417224277,
          "x2": -0.9633399347922462,
          "x3": 1.6873788666743161
         },
         {
          "x1": 2.9513790358921677,
          "x2": 0.19021361769783196,
          "x3": 1.6873788666743161
         },
         {
          "x1": 2.9513790358921677,
          "x2": -0.9633399347922462,
          "x3": -2.1537090261915823
         },
         {
          "x1": 2.681398417224277,
          "x2": 0.19021361769783196,
          "x3": -2.1537090261915823
         },
         {
          "x1": -0.19021361769783196,
          "x2": 2.1782527187977543,
          "x3": -1.4542137869156837
         },
         {
          "x1": -0.46019423636572254,
          "x2": 2.1782527187977543,
          "x3": -1.4542137869156837
         },
         {
          "x1": -0.19021361769783196,
          "x2": -2.951379035892168,
          "x3": -1.4542137869156837
         },
         {
          "x1": -0.19021361769783196,
          "x2": 2.1782527187977543,
          "x3": 0.9878836273984177
         },
         {
          "x1": -0.46019423636572254,
          "x2": -2.951379035892168,
          "x3": 0.9878836273984177
         },
         {
          "x1": -0.9756117810953322,
          "x2": -0.17794177139474598,
          "x3": -2.2396119503131837
         },
         {
          "x1": -1.2455923997632228,
          "x2": -0.17794177139474598,
          "x3": -2.2396119503131837
         },
         {
          "x1": -0.9756117810953322,
          "x2": -2.165980872494668,
          "x3": -2.2396119503131837
         },
         {
          "x1": -0.9756117810953322,
          "x2": -0.17794177139474598,
          "x3": 1.7732817907959184
         },
         {
          "x1": -1.2455923997632228,
          "x2": -2.165980872494668,
          "x3": 1.7732817907959184
         },
         {
          "x1": 2.165980872494668,
          "x2": 2.963650882195254,
          "x3": 0.9019807032768163
         },
         {
          "x1": 1.8960002538267773,
          "x2": 2.963650882195254,
          "x3": 0.9019807032768163
         },
         {
          "x1": 2.165980872494668,
          "x2": 0.9756117810953322,
          "x3": 0.9019807032768163
         },
         {
          "x1": 2.165980872494668,
          "x2": 2.963650882195254,
          "x3": -1.368310862794082
         },
         {
          "x1": 1.8960002538267773,
          "x2": 0.9756117810953322,
          "x3": -1.368310862794082
         },
         {
          "x1": 0.5951845456996678,
          "x2": -1.7487380981897462,
          "x3": -0.6688156235181837
         },
         {
          "x1": -2.816388726558223,
          "x2": -1.7487380981897462,
          "x3": -0.6688156235181837
         },
         {
          "x1": 0.5951845456996678,
          "x2": 2.546408107890332,
          "x3": -0.6688156235181837
         },
         {
          "x1": 0.5951845456996678,
          "x2": -1.7487380981897462,
          "x3": -2.939107189589082
         },
         {
          "x1": -2.816388726558223,
          "x2": 2.546408107890332,
          "x3": -2.939107189589082
         },
         {
          "x1": -2.5464081078903322,
          "x2": 1.3928545554002536,
          "x3": 2.472777030071817
         },
         {
          "x1": 0.32520392703177725,
          "x2": 1.3928545554002536,
          "x3": 2.472777030071817
         },
         {
          "x1": -2.5464081078903322,
          "x2": -0.5951845456996678,
          "x3": 2.472777030071817
         },
         {
          "x1": -2.5464081078903322,
          "x2": 1.3928545554002536,
          "x3": 0.20248546400091794
         },
         {
          "x1": 0.32520392703177725,
          "x2": -0.5951845456996678,
          "x3": 0.20248546400091794
         },
         {
          "x1": -2.742757648739707,
          "x2": -1.9450876390391212,
          "x3": -2.828660572861309
         },
         {
          "x1": -0.2638446955163478,
          "x2": -1.9450876390391212,
          "x3": -2.828660572861309
         },
         {
          "x1": -2.742757648739707,
          "x2": 0.779262240245957,
          "x3": -2.828660572861309
         },
         {
          "x1": -2.742757648739707,
          "x2": -1.9450876390391212,
          "x3": -1.564660403643457
         },
         {
          "x1": -0.2638446955163478,
          "x2": 0.779262240245957,
          "x3": -1.564660403643457
         },
         {
          "x1": 0.3988350048502931,
          "x2": 1.1965050145508789,
          "x3": 0.3129320807286913
         },
         {
          "x1": 2.8777479580736527,
          "x2": 1.1965050145508789,
          "x3": 0.3129320807286913
         },
         {
          "x1": 0.3988350048502931,
          "x2": -2.362330413344043,
          "x3": 0.3129320807286913
         },
         {
          "x1": 0.3988350048502931,
          "x2": 1.1965050145508789,
          "x3": 1.5769322499465428
         },
         {
          "x1": 2.8777479580736527,
          "x2": -2.362330413344043,
          "x3": 1.5769322499465428
         },
         {
          "x1": 1.9696313316452931,
          "x2": -0.37429131224412115,
          "x3": -1.2578642460663085
         },
         {
          "x1": -1.8346410223113476,
          "x2": -0.37429131224412115,
          "x3": -1.2578642460663085
         },
         {
          "x1": 1.9696313316452931,
          "x2": -0.791534086549043,
          "x3": -1.2578642460663085
         },
         {
          "x1": 1.9696313316452931,
          "x2": -0.37429131224412115,
          "x3": 0.006135923151542766
         },
         {
          "x1": -1.8346410223113476,
          "x2": -0.791534086549043,
          "x3": 0.006135923151542766
         },
         {
          "x1": -1.1719613219447071,
          "x2": 2.7673013413458794,
          "x3": 1.8837284075236918
         },
         {
          "x1": 1.3069516312786522,
          "x2": 2.7673013413458794,
          "x3": 1.8837284075236918
         },
         {
          "x1": -1.1719613219447071,
          "x2": 2.350058567040957,
          "x3": 1.8837284075236918
         },
         {
          "x1": -1.1719613219447071,
          "x2": 2.7673013413458794,
          "x3": -3.1354567304384573
         },
         {
          "x1": 1.3069516312786522,
          "x2": 2.350058567040957,
          "x3": -3.1354567304384573
         },
         {
          "x1": -0.38656315854720713,
          "x2": -1.1596894756416212,
          "x3": 1.098330244126191
         },
         {
          "x1": 0.5215534678811524,
          "x2": -1.1596894756416212,
          "x3": 1.098330244126191
         },
         {
          "x1": -0.38656315854720713,
          "x2": 3.135456730438457,
          "x3": 1.098330244126191
         },
         {
          "x1": -0.38656315854720713,
          "x2": -1.1596894756416212,
          "x3": -0.779262240245957
         },
         {
          "x1": 0.5215534678811524,
          "x2": 3.135456730438457,
          "x3": -0.779262240245957
         },
         {
          "x1": 2.755029495042793,
          "x2": 1.9819031779483787,
          "x3": -2.0432624094638085
         },
         {
          "x1": -2.6200391857088476,
          "x2": 1.9819031779483787,
          "x3": -2.0432624094638085
         },
         {
          "x1": 2.755029495042793,
          "x2": -0.006135923151542766,
          "x3": -2.0432624094638085
         },
         {
          "x1": 2.755029495042793,
          "x2": 1.9819031779483787,
          "x3": 2.3623304133440426
         },
         {
          "x1": -2.6200391857088476,
          "x2": -0.006135923151542766,
          "x3": 2.3623304133440426
         },
         {
          "x1": 1.1842331682477933,
          "x2": -2.730485802436621,
          "x3": 2.6691265709211915
         },
         {
          "x1": 2.092349794676152,
          "x2": -2.730485802436621,
          "x3": 2.6691265709211915
         },
         {
          "x1": 1.1842331682477933,
          "x2": -1.576932249946543,
          "x3": 2.6691265709211915
         },
         {
          "x1": 1.1842331682477933,
          "x2": -2.730485802436621,
          "x3": 0.791534086549043
         },
         {
          "x1": 2.092349794676152,
          "x2": -1.576932249946543,
          "x3": 0.791534086549043
         },
         {
          "x1": -1.9573594853422072,
          "x2": 0.4111068511533791,
          "x3": -0.4724660826688085
         },
         {
          "x1": -1.0492428589138476,
          "x2": 0.4111068511533791,
          "x3": -0.4724660826688085
         },
         {
          "x1": -1.9573594853422072,
          "x2": 1.5646604036434573,
          "x3": -0.4724660826688085
         },
         {
          "x1": -1.9573594853422072,
          "x2": 0.4111068511533791,
          "x3": -2.350058567040957
         },
         {
          "x1": -1.0492428589138476,
          "x2": 1.5646604036434573,
          "x3": -2.350058567040957
         },
         {
          "x1": -2.350058567040957,
          "x2": -0.766990393942871,
          "x3": 3.061825652619942
         },
         {
          "x1": -3.0127382674075975,
          "x2": -0.766990393942871,
          "x3": 3.061825652619942
         },
         {
          "x1": -2.350058567040957,
          "x2": -2.755029495042793,
          "x3": 3.061825652619942
         },
         {
          "x1": -2.350058567040957,
          "x2": -0.766990393942871,
          "x3": -2.742757648739707
         },
         {
          "x1": -3.0127382674075975,
          "x2": -2.755029495042793,
          "x3": -2.742757648739707
         },
         {
          "x1": 0.791534086549043,
          "x2": 2.374602259647129,
          "x3": -0.07976700097005862
         },
         {
          "x1": 0.12885438618240252,
          "x2": 2.374602259647129,
          "x3": -0.07976700097005862
         },
         {
          "x1": 0.791534086549043,
          "x2": 0.38656315854720713,
          "x3": -0.07976700097005862
         },
         {
          "x1": 0.791534086549043,
          "x2": 2.374602259647129,
          "x3": 0.3988350048502931
         },
         {
          "x1": 0.12885438618240252,
          "x2": 0.38656315854720713,
          "x3": 0.3988350048502931
         },
         {
          "x1": 2.3623304133440426,
          "x2": -2.337786720737871,
          "x3": 1.4910293258249414
         },
         {
          "x1": -1.4419419406125977,
          "x2": -2.337786720737871,
          "x3": 1.4910293258249414
         },
         {
          "x1": 2.3623304133440426,
          "x2": 1.9573594853422067,
          "x3": 1.4910293258249414
         },
         {
          "x1": 2.3623304133440426,
          "x2": -2.337786720737871,
          "x3": 1.9696313316452931
         },
         {
          "x1": -1.4419419406125977,
          "x2": 1.9573594853422067,
          "x3": 1.9696313316452931
         },
         {
          "x1": -0.779262240245957,
          "x2": 0.803805932852129,
          "x3": -1.6505633277650587
         },
         {
          "x1": 1.6996507129774026,
          "x2": 0.803805932852129,
          "x3": -1.6505633277650587
         },
         {
          "x1": -0.779262240245957,
          "x2": -1.184233168247793,
          "x3": -1.6505633277650587
         },
         {
          "x1": -0.779262240245957,
          "x2": 0.803805932852129,
          "x3": -1.1719613219447071
         },
         {
          "x1": 1.6996507129774026,
          "x2": -1.184233168247793,
          "x3": -1.1719613219447071
         },
         {
          "x1": -1.564660403643457,
          "x2": -3.1231848841353713,
          "x3": -0.8651651643675584
         },
         {
          "x1": 2.4850488763749023,
          "x2": -3.1231848841353713,
          "x3": -0.8651651643675584
         },
         {
          "x1": -1.564660403643457,
          "x2": -0.3988350048502931,
          "x3": -0.8651651643675584
         },
         {
          "x1": -1.564660403643457,
          "x2": -3.1231848841353713,
          "x3": -1.9573594853422072
         },
         {
          "x1": 2.4850488763749023,
          "x2": -0.3988350048502931,
          "x3": -1.9573594853422072
         },
         {
          "x1": 1.5769322499465428,
          "x2": 0.018407769454628742,
          "x3": 2.276427489222441
         },
         {
          "x1": -0.6565437772150977,
          "x2": 0.018407769454628742,
          "x3": 2.276427489222441
         },
         {
          "x1": 1.5769322499465428,
          "x2": 2.7427576487397074,
          "x3": 2.276427489222441
         },
         {
          "x1": 1.5769322499465428,
          "x2": 0.018407769454628742,
          "x3": 1.1842331682477933
         },
         {
          "x1": -0.6565437772150977,
          "x2": 2.7427576487397074,
          "x3": 1.1842331682477933
         },
         {
          "x1": 0.006135923151542766,
          "x2": -1.552388557340371,
          "x3": -2.4359614911625584
         },
         {
          "x1": 0.9142525495799028,
          "x2": -1.552388557340371,
          "x3": -2.4359614911625584
         },
         {
          "x1": 0.006135923151542766,
          "x2": 1.171961321944707,
          "x3": -2.4359614911625584
         },
         {
          "x1": 0.006135923151542766,
          "x2": -1.552388557340371,
          "x3": 2.755029495042793
         },
         {
          "x1": 0.9142525495799028,
          "x2": 1.171961321944707,
          "x3": 2.755029495042793
         },
         {
          "x1": -3.1354567304384573,
          "x2": 1.5892040962496292,
          "x3": 0.7056311624274416
         },
         {
          "x1": -2.2273401040100977,
          "x2": 1.5892040962496292,
          "x3": 0.7056311624274416
         },
         {
          "x1": -3.1354567304384573,
          "x2": -1.969631331645293,
          "x3": 0.7056311624274416
         },
         {
          "x1": -3.1354567304384573,
          "x2": 1.5892040962496292,
          "x3": -0.38656315854720713
         },
         {
          "x1": -2.2273401040100977,
          "x2": -1.969631331645293,
          "x3": -0.38656315854720713
         },
         {
          "x1": -3.1323887688626857,
          "x2": -0.7761942786701854,
          "x3": -0.32827188860754886
         },
         {
          "x1": -0.08283496254583023,
          "x2": -0.7761942786701854,
          "x3": -0.32827188860754886
         },
         {
          "x1": -3.1323887688626857,
          "x2": 0.3589515043652636,
          "x3": -0.32827188860754886
         },
         {
          "x1": -3.1323887688626857,
          "x2": -0.7761942786701854,
          "x3": 2.1629129109188963
         },
         {
          "x1": -0.08283496254583023,
          "x2": 0.3589515043652636,
          "x3": 2.1629129109188963
         },
         {
          "x1": 0.009203884727314371,
          "x2": 2.365398374919814,
          "x3": 2.8133207649824516
         },
         {
          "x1": 3.0587576910441703,
          "x2": 2.365398374919814,
          "x3": 2.8133207649824516
         },
         {
          "x1": 0.009203884727314371,
          "x2": -2.7826411492247365,
          "x3": 2.8133207649824516
         },
         {
          "x1": 0.009203884727314371,
          "x2": 2.365398374919814,
          "x3": -0.9786797426711034
         },
         {
          "x1": 3.0587576910441703,
          "x2": -2.7826411492247365,
          "x3": -0.9786797426711034
         },
         {
          "x1": 1.5800002115223144,
          "x2": -2.3469906054651855,
          "x3": -1.8990682154025489
         },
         {
          "x1": -1.65363128934083,
          "x2": -2.3469906054651855,
          "x3": -1.8990682154025489
         },
         {
          "x1": 1.5800002115223144,
          "x2": -1.2118448224297365,
          "x3": -1.8990682154025489
         },
         {
          "x1": 1.5800002115223144,
          "x2": -2.3469906054651855,
          "x3": -2.5494760694661034
         },
         {
          "x1": -1.65363128934083,
          "x2": -1.2118448224297365,
          "x3": -2.5494760694661034
         },
         {
          "x1": -1.5615924420676857,
          "x2": 0.7946020481248146,
          "x3": 1.2425244381874512
         },
         {
          "x1": 1.4879613642491698,
          "x2": 0.7946020481248146,
          "x3": 1.2425244381874512
         },
         {
          "x1": -1.5615924420676857,
          "x2": 1.929747831160264,
          "x3": 1.2425244381874512
         },
         {
          "x1": -1.5615924420676857,
          "x2": 0.7946020481248146,
          "x3": 0.5921165841238967
         },
         {
          "x1": 1.4879613642491698,
          "x2": 1.929747831160264,
          "x3": 0.5921165841238967
         },
         {
          "x1": -0.7761942786701854,
          "x2": -3.1323887688626857,
          "x3": 2.027922601584951
         },
         {
          "x1": 0.70256320085167,
          "x2": -3.1323887688626857,
          "x3": 2.027922601584951
         },
         {
          "x1": -0.7761942786701854,
          "x2": 2.715145994557764,
          "x3": 2.027922601584951
         },
         {
          "x1": -0.7761942786701854,
          "x2": -3.1323887688626857,
          "x3": 2.948311074316397
         },
         {
          "x1": 0.70256320085167,
          "x2": 2.715145994557764,
          "x3": 2.948311074316397
         },
         {
          "x1": 2.365398374919814,
          "x2": 0.009203884727314371,
          "x3": -1.1136700520050486
         },
         {
          "x1": -2.43902945273833,
          "x2": 0.009203884727314371,
          "x3": -1.1136700520050486
         },
         {
          "x1": 2.365398374919814,
          "x2": -0.4264466590322362,
          "x3": -1.1136700520050486
         },
         {
          "x1": 2.365398374919814,
          "x2": 0.009203884727314371,
          "x3": -0.19328157927360357
         },
         {
          "x1": -2.43902945273833,
          "x2": -0.4264466590322362,
          "x3": -0.19328157927360357
         },
         {
          "x1": 0.7946020481248146,
          "x2": -1.5615924420676857,
          "x3": 0.4571262747899514
         },
         {
          "x1": 2.2733595276466696,
          "x2": -1.5615924420676857,
          "x3": 0.4571262747899514
         },
         {
          "x1": 0.7946020481248146,
          "x2": -1.9972429858272365,
          "x3": 0.4571262747899514
         },
         {
          "x1": 0.7946020481248146,
          "x2": -1.5615924420676857,
          "x3": -1.7640779060686036
         },
         {
          "x1": 2.2733595276466696,
          "x2": -1.9972429858272365,
          "x3": -1.7640779060686036
         },
         {
          "x1": -2.3469906054651855,
          "x2": 1.5800002115223144,
          "x3": -2.6844663788000487
         },
         {
          "x1": -0.86823312594333,
          "x2": 1.5800002115223144,
          "x3": -2.6844663788000487
         },
         {
          "x1": -2.3469906054651855,
          "x2": 1.1443496677627634,
          "x3": -2.6844663788000487
         },
         {
          "x1": -2.3469906054651855,
          "x2": 1.5800002115223144,
          "x3": 1.3775147475213965
         },
         {
          "x1": -0.86823312594333,
          "x2": 1.1443496677627634,
          "x3": 1.3775147475213965
         },
         {
          "x1": -1.9542915237664356,
          "x2": -1.9542915237664356,
          "x3": 0.06442719309120104
         },
         {
          "x1": -2.83172853443708,
          "x2": -1.9542915237664356,
          "x3": 0.06442719309120104
         },
         {
          "x1": -1.9542915237664356,
          "x2": -2.389942067525986,
          "x3": 0.06442719309120104
         },
         {
          "x1": -1.9542915237664356,
          "x2": -1.9542915237664356,
          "x3": 0.19941750242514633
         },
         {
          "x1": -2.83172853443708,
          "x2": -2.389942067525986,
          "x3": 0.19941750242514633
         },
         {
          "x1": 1.187301129823564,
          "x2": 1.187301129823564,
          "x3": -3.077165460498799
         },
         {
          "x1": 0.3098641191529201,
          "x2": 1.187301129823564,
          "x3": -3.077165460498799
         },
         {
          "x1": 1.187301129823564,
          "x2": 0.7516505860640135,
          "x3": -3.077165460498799
         },
         {
          "x1": 1.187301129823564,
          "x2": 1.187301129823564,
          "x3": -2.9421751511648537
         },
         {
          "x1": 0.3098641191529201,
          "x2": 0.7516505860640135,
          "x3": -2.9421751511648537
         },
         {
          "x1": 2.7580974566185645,
          "x2": -0.3834951969714355,
          "x3": 1.6352235198862015
         },
         {
          "x1": -1.2609322076420801,
          "x2": -0.3834951969714355,
          "x3": 1.6352235198862015
         },
         {
          "x1": 2.7580974566185645,
          "x2": 2.3224469128590135,
          "x3": 1.6352235198862015
         },
         {
          "x1": 2.7580974566185645,
          "x2": -0.3834951969714355,
          "x3": -1.3713788243698535
         },
         {
          "x1": -1.2609322076420801,
          "x2": 2.3224469128590135,
          "x3": -1.3713788243698535
         },
         {
          "x1": -0.3834951969714355,
          "x2": 2.7580974566185645,
          "x3": -1.5063691337037988
         },
         {
          "x1": 1.8806604459479201,
          "x2": 2.7580974566185645,
          "x3": -1.5063691337037988
         },
         {
          "x1": -0.3834951969714355,
          "x2": -0.8191457407309866,
          "x3": -1.5063691337037988
         },
         {
          "x1": -0.3834951969714355,
          "x2": 2.7580974566185645,
          "x3": 1.7702138292201468
         },
         {
          "x1": 1.8806604459479201,
          "x2": -0.8191457407309866,
          "x3": 1.7702138292201468
         },
         {
          "x1": -1.1688933603689355,
          "x2": -1.1688933603689355,
          "x3": -2.291767297101299
         },
         {
          "x1": 2.66605860934542,
          "x2": -1.1688933603689355,
          "x3": -2.291767297101299
         },
         {
          "x1": -1.1688933603689355,
          "x2": -0.03374757733348632,
          "x3": -2.291767297101299
         },
         {
          "x1": -1.1688933603689355,
          "x2": -1.1688933603689355,
          "x3": 0.9848156658226461
         },
         {
          "x1": 2.66605860934542,
          "x2": -0.03374757733348632,
          "x3": 0.9848156658226461
         },
         {
          "x1": 1.9726992932210647,
          "x2": 1.9726992932210647,
          "x3": 0.8498253564887013
         },
         {
          "x1": -0.4755340442445801,
          "x2": 1.9726992932210647,
          "x3": 0.8498253564887013
         },
         {
          "x1": 1.9726992932210647,
          "x2": 3.1078450762565133,
          "x3": 0.8498253564887013
         },
         {
          "x1": 1.9726992932210647,
          "x2": 1.9726992932210647,
          "x3": -2.1567769877673535
         },
         {
          "x1": -0.4755340442445801,
          "x2": 3.1078450762565133,
          "x3": -2.1567769877673535
         },
         {
          "x1": 0.40190296642606427,
          "x2": -2.739689687163936,
          "x3": -0.7209709703062988
         },
         {
          "x1": 1.0952622825504204,
          "x2": -2.739689687163936,
          "x3": -0.7209709703062988
         },
         {
          "x1": 0.40190296642606427,
          "x2": 1.5370487494615137,
          "x3": -0.7209709703062988
         },
         {
          "x1": 0.40190296642606427,
          "x2": -2.739689687163936,
          "x3": -0.5859806609723535
         },
         {
          "x1": 1.0952622825504204,
          "x2": 1.5370487494615137,
          "x3": -0.5859806609723535
         },
         {
          "x1": -2.739689687163936,
          "x2": 0.40190296642606427,
          "x3": 2.4206216832837013
         },
         {
          "x1": -2.04633037103958,
          "x2": 0.40190296642606427,
          "x3": 2.4206216832837013
         },
         {
          "x1": -2.739689687163936,
          "x2": -1.6045439041284864,
          "x3": 2.4206216832837013
         },
         {
          "x1": -2.739689687163936,
          "x2": 0.40190296642606427,
          "x3": 2.5556119926176466
         },
         {
          "x1": -2.04633037103958,
          "x2": -1.6045439041284864,
          "x3": 2.5556119926176466
         },
         {
          "x1": -2.5433401463145606,
          "x2": -2.5433401463145606,
          "x3": -2.880815919649424
         },
         {
          "x1": 2.077009986797295,
          "x2": -2.5433401463145606,
          "x3": -2.880815919649424
         },
         {
          "x1": -2.5433401463145606,
          "x2": 1.7333982903108884,
          "x3": -2.880815919649424
         },
         {
          "x1": -2.5433401463145606,
          "x2": -2.5433401463145606,
          "x3": -2.3531265286167287
         },
         {
          "x1": 2.077009986797295,
          "x2": 1.7333982903108884,
          "x3": -2.3531265286167287
         },
         {
          "x1": 0.5982525072754394,
          "x2": 0.5982525072754394,
          "x3": 0.2607767339405762
         },
         {
          "x1": -1.0645826667927052,
          "x2": 0.5982525072754394,
          "x3": 0.2607767339405762
         },
         {
          "x1": 0.5982525072754394,
          "x2": -1.4081943632791114,
          "x3": 0.2607767339405762
         },
         {
          "x1": 0.5982525072754394,
          "x2": 0.5982525072754394,
          "x3": 0.7884661249732714
         },
         {
          "x1": -1.0645826667927052,
          "x2": -1.4081943632791114,
          "x3": 0.7884661249732714
         },
         {
          "x1": 2.1690488340704395,
          "x2": -0.9725438195195606,
          "x3": -1.3100195928544238
         },
         {
          "x1": 0.5062136600022948,
          "x2": -0.9725438195195606,
          "x3": -1.3100195928544238
         },
         {
          "x1": 2.1690488340704395,
          "x2": -2.978990690074111,
          "x3": -1.3100195928544238
         },
         {
          "x1": 2.1690488340704395,
          "x2": -0.9725438195195606,
          "x3": 2.359262451768272
         },
         {
          "x1": 0.5062136600022948,
          "x2": -2.978990690074111,
          "x3": 2.359262451768272
         },
         {
          "x1": -0.9725438195195606,
          "x2": 2.1690488340704395,
          "x3": 1.8315730607355762
         },
         {
          "x1": -2.635378993587705,
          "x2": 2.1690488340704395,
          "x3": 1.8315730607355762
         },
         {
          "x1": -0.9725438195195606,
          "x2": 0.16260196351588885,
          "x3": 1.8315730607355762
         },
         {
          "x1": -0.9725438195195606,
          "x2": 2.1690488340704395,
          "x3": -0.7823302018217286
         },
         {
          "x1": -2.635378993587705,
          "x2": 0.16260196351588885,
          "x3": -0.7823302018217286
         },
         {
          "x1": -0.18714565612206036,
          "x2": -0.18714565612206036,
          "x3": 1.0461748973380764
         },
         {
          "x1": -1.8499808301902052,
          "x2": -0.18714565612206036,
          "x3": 1.0461748973380764
         },
         {
          "x1": -0.18714565612206036,
          "x2": 0.9480001269133886,
          "x3": 1.0461748973380764
         },
         {
          "x1": -0.18714565612206036,
          "x2": -0.18714565612206036,
          "x3": -3.1385246920142285
         },
         {
          "x1": -1.8499808301902052,
          "x2": 0.9480001269133886,
          "x3": -3.1385246920142285
         },
         {
          "x1": 2.9544469974679393,
          "x2": 2.9544469974679393,
          "x3": -2.0954177562519236
         },
         {
          "x1": 1.291611823399795,
          "x2": 2.9544469974679393,
          "x3": -2.0954177562519236
         },
         {
          "x1": 2.9544469974679393,
          "x2": -2.1935925266766114,
          "x3": -2.0954177562519236
         },
         {
          "x1": 2.9544469974679393,
          "x2": 2.9544469974679393,
          "x3": 0.003067961575771605
         },
         {
          "x1": 1.291611823399795,
          "x2": -2.1935925266766114,
          "x3": 0.003067961575771605
         },
         {
          "x1": 1.3836506706729397,
          "x2": -1.7579419829170606,
          "x3": 2.616971224133076
         },
         {
          "x1": -0.27918450339520495,
          "x2": -1.7579419829170606,
          "x3": 2.616971224133076
         },
         {
          "x1": 1.3836506706729397,
          "x2": -0.6227961998816114,
          "x3": 2.616971224133076
         },
         {
          "x1": 1.3836506706729397,
          "x2": -1.7579419829170606,
          "x3": 1.5738642883707712
         },
         {
          "x1": -0.27918450339520495,
          "x2": -0.6227961998816114,
          "x3": 1.5738642883707712
         },
         {
          "x1": -1.7579419829170606,
          "x2": 1.3836506706729397,
          "x3": -0.524621429456924
         },
         {
          "x1": 2.8624081501947947,
          "x2": 1.3836506706729397,
          "x3": -0.524621429456924
         },
         {
          "x1": -1.7579419829170606,
          "x2": 2.518796453708389,
          "x3": -0.524621429456924
         },
         {
          "x1": -1.7579419829170606,
          "x2": 1.3836506706729397,
          "x3": -1.5677283652192286
         },
         {
          "x1": 2.8624081501947947,
          "x2": 2.518796453708389,
          "x3": -1.5677283652192286
         },
         {
          "x1": -2.1506410646158107,
          "x2": -1.3652429012183105,
          "x3": 3.0096703058318264
         },
         {
          "x1": 0.8989127417010447,
          "x2": -1.3652429012183105,
          "x3": 3.0096703058318264
         },
         {
          "x1": -2.1506410646158107,
          "x2": -1.0154952815803613,
          "x3": 3.0096703058318264
         },
         {
          "x1": -2.1506410646158107,
          "x2": -1.3652429012183105,
          "x3": -0.38963112012297874
         },
         {
          "x1": 0.8989127417010447,
          "x2": -1.0154952815803613,
          "x3": -0.38963112012297874
         },
         {
          "x1": 0.9909515889741893,
          "x2": 1.7763497523716891,
          "x3": -0.13192234775817369
         },
         {
          "x1": -2.2426799118889553,
          "x2": 1.7763497523716891,
          "x3": -0.13192234775817369
         },
         {
          "x1": 0.9909515889741893,
          "x2": 2.1260973720096388,
          "x3": -0.13192234775817369
         },
         {
          "x1": 0.9909515889741893,
          "x2": 1.7763497523716891,
          "x3": 2.7519615334670213
         },
         {
          "x1": -2.2426799118889553,
          "x2": 2.1260973720096388,
          "x3": 2.7519615334670213
         },
         {
          "x1": 2.56174791576919,
          "x2": -2.9360392280133105,
          "x3": 1.438873979036826
         },
         {
          "x1": 2.469709068496045,
          "x2": -2.9360392280133105,
          "x3": 1.438873979036826
         },
         {
          "x1": 2.56174791576919,
          "x2": 0.5553010452146387,
          "x3": 1.438873979036826
         },
         {
          "x1": 2.56174791576919,
          "x2": -2.9360392280133105,
          "x3": 1.1811652066720217
         },
         {
          "x1": 2.469709068496045,
          "x2": 0.5553010452146387,
          "x3": 1.1811652066720217
         },
         {
          "x1": -0.5798447378208107,
          "x2": 0.20555342557668954,
          "x3": -1.702718674553174
         },
         {
          "x1": -0.6718835850939553,
          "x2": 0.20555342557668954,
          "x3": -1.702718674553174
         },
         {
          "x1": -0.5798447378208107,
          "x2": -2.5862916083753613,
          "x3": -1.702718674553174
         },
         {
          "x1": -0.5798447378208107,
          "x2": 0.20555342557668954,
          "x3": -1.9604274469179785
         },
         {
          "x1": -0.6718835850939553,
          "x2": -2.5862916083753613,
          "x3": -1.9604274469179785
         },
         {
          "x1": -1.3652429012183105,
          "x2": -2.1506410646158107,
          "x3": -0.9173205111556739
         },
         {
          "x1": -1.457281748491455,
          "x2": -2.1506410646158107,
          "x3": -0.9173205111556739
         },
         {
          "x1": -1.3652429012183105,
          "x2": -1.8008934449778613,
          "x3": -0.9173205111556739
         },
         {
          "x1": -1.3652429012183105,
          "x2": -2.1506410646158107,
          "x3": -1.1750292835204785
         },
         {
          "x1": -1.457281748491455,
          "x2": -1.8008934449778613,
          "x3": -1.1750292835204785
         },
         {
          "x1": 1.7763497523716891,
          "x2": 0.9909515889741893,
          "x3": 2.2242721424343266
         },
         {
          "x1": 1.6843109050985445,
          "x2": 0.9909515889741893,
          "x3": 2.2242721424343266
         },
         {
          "x1": 1.7763497523716891,
          "x2": 1.340699208612139,
          "x3": 2.2242721424343266
         },
         {
          "x1": 1.7763497523716891,
          "x2": 0.9909515889741893,
          "x3": 1.9665633700695215
         },
         {
          "x1": 1.6843109050985445,
          "x2": 1.340699208612139,
          "x3": 1.9665633700695215
         },
         {
          "x1": 0.20555342557668954,
          "x2": -0.5798447378208107,
          "x3": -2.488116837950674
         },
         {
          "x1": -3.028078075286455,
          "x2": -0.5798447378208107,
          "x3": -2.488116837950674
         },
         {
          "x1": 0.20555342557668954,
          "x2": 2.9114955354071386,
          "x3": -2.488116837950674
         },
         {
          "x1": 0.20555342557668954,
          "x2": -0.5798447378208107,
          "x3": 0.3957670432745215
         },
         {
          "x1": -3.028078075286455,
          "x2": 2.9114955354071386,
          "x3": 0.3957670432745215
         },
         {
          "x1": -2.9360392280133105,
          "x2": 2.56174791576919,
          "x3": 0.6534758156393261
         },
         {
          "x1": 0.11351457830354494,
          "x2": 2.56174791576919,
          "x3": 0.6534758156393261
         },
         {
          "x1": -2.9360392280133105,
          "x2": -0.2300971181828615,
          "x3": 0.6534758156393261
         },
         {
          "x1": -2.9360392280133105,
          "x2": 2.56174791576919,
          "x3": -2.7458256103154786
         },
         {
          "x1": 0.11351457830354494,
          "x2": -0.2300971181828615,
          "x3": -2.7458256103154786
         },
         {
          "x1": -2.837864457588623,
          "x2": -2.248815835040498,
          "x3": 1.7333982903108884
         },
         {
          "x1": 2.7642333797701077,
          "x2": -2.248815835040498,
          "x3": 1.7333982903108884
         },
         {
          "x1": -2.837864457588623,
          "x2": 1.0461748973380764,
          "x3": 1.7333982903108884
         },
         {
          "x1": -2.837864457588623,
          "x2": -2.248815835040498,
          "x3": -1.862252676493291
         },
         {
          "x1": 2.7642333797701077,
          "x2": 1.0461748973380764,
          "x3": -1.862252676493291
         },
         {
          "x1": 0.3037281960013769,
          "x2": 0.8927768185495015,
          "x3": -1.4081943632791114
         },
         {
          "x1": -0.37735927381989276,
          "x2": 0.8927768185495015,
          "x3": -1.4081943632791114
         },
         {
          "x1": 0.3037281960013769,
          "x2": -2.0954177562519236,
          "x3": -1.4081943632791114
         },
         {
          "x1": 0.3037281960013769,
          "x2": 0.8927768185495015,
          "x3": 1.2793399770967087
         },
         {
          "x1": -0.37735927381989276,
          "x2": -2.0954177562519236,
          "x3": 1.2793399770967087
         },
         {
          "x1": 1.874524522796377,
          "x2": -0.6780195082454981,
          "x3": 0.16260196351588885
         },
         {
          "x1": 1.1934370529751073,
          "x2": -0.6780195082454981,
          "x3": 0.16260196351588885
         },
         {
          "x1": 1.874524522796377,
          "x2": -0.524621429456924,
          "x3": 0.16260196351588885
         },
         {
          "x1": 1.874524522796377,
          "x2": -0.6780195082454981,
          "x3": 2.850136303891709
         },
         {
          "x1": 1.1934370529751073,
          "x2": -0.524621429456924,
          "x3": 2.850136303891709
         },
         {
          "x1": -1.2670681307936231,
          "x2": 2.463573145344502,
          "x3": -2.978990690074111
         },
         {
          "x1": -1.9481556006148926,
          "x2": 2.463573145344502,
          "x3": -2.978990690074111
         },
         {
          "x1": -1.2670681307936231,
          "x2": 2.616971224133076,
          "x3": -2.978990690074111
         },
         {
          "x1": -1.2670681307936231,
          "x2": 2.463573145344502,
          "x3": -0.29145634969829093
         },
         {
          "x1": -1.9481556006148926,
          "x2": 2.616971224133076,
          "x3": -0.29145634969829093
         },
         {
          "x1": -0.4816699673961229,
          "x2": -1.463417671642998,
          "x3": -0.6227961998816114
         },
         {
          "x1": -2.7335537640123926,
          "x2": -1.463417671642998,
          "x3": -0.6227961998816114
         },
         {
          "x1": -0.4816699673961229,
          "x2": 1.8315730607355762,
          "x3": -0.6227961998816114
         },
         {
          "x1": -0.4816699673961229,
          "x2": -1.463417671642998,
          "x3": -2.647650839890791
         },
         {
          "x1": -2.7335537640123926,
          "x2": 1.8315730607355762,
          "x3": -2.647650839890791
         },
         {
          "x1": 2.6599226861938767,
          "x2": 1.6781749819470022,
          "x3": 2.518796453708389
         },
         {
          "x1": 0.4080388895776075,
          "x2": 1.6781749819470022,
          "x3": 2.518796453708389
         },
         {
          "x1": 2.6599226861938767,
          "x2": -1.3100195928544238,
          "x3": 2.518796453708389
         },
         {
          "x1": 2.6599226861938767,
          "x2": 1.6781749819470022,
          "x3": 0.49394181369920886
         },
         {
          "x1": 0.4080388895776075,
          "x2": -1.3100195928544238,
          "x3": 0.49394181369920886
         },
         {
          "x1": 1.0891263593988771,
          "x2": -3.0342139984379983,
          "x3": -2.1935925266766114
         },
         {
          "x1": -1.1627574372173926,
          "x2": -3.0342139984379983,
          "x3": -2.1935925266766114
         },
         {
          "x1": 1.0891263593988771,
          "x2": -2.880815919649424,
          "x3": -2.1935925266766114
         },
         {
          "x1": 1.0891263593988771,
          "x2": -3.0342139984379983,
          "x3": 2.0647381404942093
         },
         {
          "x1": -1.1627574372173926,
          "x2": -2.880815919649424,
          "x3": 2.0647381404942093
         },
         {
          "x1": -2.052466294191123,
          "x2": 0.10737865515200173,
          "x3": 0.9480001269133886
         },
         {
          "x1": 1.978835216372607,
          "x2": 0.10737865515200173,
          "x3": 0.9480001269133886
         },
         {
          "x1": -2.052466294191123,
          "x2": 0.2607767339405762,
          "x3": 0.9480001269133886
         },
         {
          "x1": -2.052466294191123,
          "x2": 0.10737865515200173,
          "x3": -1.0768545130957912
         },
         {
          "x1": 1.978835216372607,
          "x2": 0.2607767339405762,
          "x3": -1.0768545130957912
         },
         {
          "x1": -1.659767212492373,
          "x2": -0.28532042654674816,
          "x3": -1.8008934449778613
         },
         {
          "x1": 0.015339807878857581,
          "x2": -0.28532042654674816,
          "x3": -1.8008934449778613
         },
         {
          "x1": -1.659767212492373,
          "x2": -1.702718674553174,
          "x3": -1.8008934449778613
         },
         {
          "x1": -1.659767212492373,
          "x2": -0.28532042654674816,
          "x3": -0.6841554313970408
         },
         {
          "x1": 0.015339807878857581,
          "x2": -1.702718674553174,
          "x3": -0.6841554313970408
         },
         {
          "x1": 1.4818254410976266,
          "x2": 2.8562722270432523,
          "x3": 1.340699208612139
         },
         {
          "x1": -3.1262528457111425,
          "x2": 2.8562722270432523,
          "x3": 1.340699208612139
         },
         {
          "x1": 1.4818254410976266,
          "x2": 1.438873979036826,
          "x3": 1.340699208612139
         },
         {
          "x1": 1.4818254410976266,
          "x2": 2.8562722270432523,
          "x3": 2.457437222192959
         },
         {
          "x1": -3.1262528457111425,
          "x2": 1.438873979036826,
          "x3": 2.457437222192959
         },
         {
          "x1": 3.052621767892627,
          "x2": -1.8561167533417482,
          "x3": -0.2300971181828615
         },
         {
          "x1": 1.5861361346738576,
          "x2": -1.8561167533417482,
          "x3": -0.2300971181828615
         },
         {
          "x1": 3.052621767892627,
          "x2": 3.0096703058318264,
          "x3": -0.2300971181828615
         },
         {
          "x1": 3.052621767892627,
          "x2": -1.8561167533417482,
          "x3": 0.8866408953979592
         },
         {
          "x1": 1.5861361346738576,
          "x2": 3.0096703058318264,
          "x3": 0.8866408953979592
         },
         {
          "x1": -0.08897088569737299,
          "x2": 1.2854759002482519,
          "x3": 2.9114955354071386
         },
         {
          "x1": -1.5554565189161427,
          "x2": 1.2854759002482519,
          "x3": 2.9114955354071386
         },
         {
          "x1": -0.08897088569737299,
          "x2": -0.13192234775817369,
          "x3": 2.9114955354071386
         },
         {
          "x1": -0.08897088569737299,
          "x2": 1.2854759002482519,
          "x3": -2.254951758192041
         },
         {
          "x1": -1.5554565189161427,
          "x2": -0.13192234775817369,
          "x3": -2.254951758192041
         },
         {
          "x1": -0.8743690490948732,
          "x2": -2.641514916739248,
          "x3": 0.5553010452146387
         },
         {
          "x1": -0.7700583555186427,
          "x2": -2.641514916739248,
          "x3": 0.5553010452146387
         },
         {
          "x1": -0.8743690490948732,
          "x2": -0.9173205111556739,
          "x3": 0.5553010452146387
         },
         {
          "x1": -0.8743690490948732,
          "x2": -2.641514916739248,
          "x3": -1.469553594794541
         },
         {
          "x1": -0.7700583555186427,
          "x2": -0.9173205111556739,
          "x3": -1.469553594794541
         },
         {
          "x1": 2.2672236044951273,
          "x2": 0.5000777368507521,
          "x3": -2.5862916083753613
         },
         {
          "x1": 2.3715342980713574,
          "x2": 0.5000777368507521,
          "x3": -2.5862916083753613
         },
         {
          "x1": 2.2672236044951273,
          "x2": 2.2242721424343266,
          "x3": -2.5862916083753613
         },
         {
          "x1": 2.2672236044951273,
          "x2": 0.5000777368507521,
          "x3": 1.672039058795459
         },
         {
          "x1": 2.3715342980713574,
          "x2": 2.2242721424343266,
          "x3": 1.672039058795459
         },
         {
          "x1": 0.6964272777001268,
          "x2": -1.070718589944248,
          "x3": 2.1260973720096388
         },
         {
          "x1": -2.3408546823136427,
          "x2": -1.070718589944248,
          "x3": 2.1260973720096388
         },
         {
          "x1": 0.6964272777001268,
          "x2": 0.6534758156393261,
          "x3": 2.1260973720096388
         },
         {
          "x1": 0.6964272777001268,
          "x2": -1.070718589944248,
          "x3": 0.10124273200045897
         },
         {
          "x1": -2.3408546823136427,
          "x2": 0.6534758156393261,
          "x3": 0.10124273200045897
         },
         {
          "x1": -2.4451653758898733,
          "x2": 2.0708740636457517,
          "x3": -1.0154952815803613
         },
         {
          "x1": 0.8007379712763574,
          "x2": 2.0708740636457517,
          "x3": -1.0154952815803613
         },
         {
          "x1": -2.4451653758898733,
          "x2": -2.488116837950674,
          "x3": -1.0154952815803613
         },
         {
          "x1": -2.4451653758898733,
          "x2": 2.0708740636457517,
          "x3": -3.040349921589541
         },
         {
          "x1": 0.8007379712763574,
          "x2": -2.488116837950674,
          "x3": -3.040349921589541
         },
         {
          "x1": -2.641514916739248,
          "x2": -0.8743690490948732,
          "x3": 1.5370487494615137
         },
         {
          "x1": -0.9664078963680174,
          "x2": -0.8743690490948732,
          "x3": 1.5370487494615137
         },
         {
          "x1": -2.641514916739248,
          "x2": 2.4206216832837013,
          "x3": 1.5370487494615137
         },
         {
          "x1": -2.641514916739248,
          "x2": -0.8743690490948732,
          "x3": 1.8683885996448337
         },
         {
          "x1": -0.9664078963680174,
          "x2": 2.4206216832837013,
          "x3": 1.8683885996448337
         },
         {
          "x1": 0.5000777368507521,
          "x2": 2.2672236044951273,
          "x3": -1.6045439041284864
         },
         {
          "x1": 2.1751847572219827,
          "x2": 2.2672236044951273,
          "x3": -1.6045439041284864
         },
         {
          "x1": 0.5000777368507521,
          "x2": -0.7209709703062988,
          "x3": -1.6045439041284864
         },
         {
          "x1": 0.5000777368507521,
          "x2": 2.2672236044951273,
          "x3": -1.2732040539451661
         },
         {
          "x1": 2.1751847572219827,
          "x2": -0.7209709703062988,
          "x3": -1.2732040539451661
         },
         {
          "x1": 2.0708740636457517,
          "x2": -2.4451653758898733,
          "x3": 3.1078450762565133
         },
         {
          "x1": -2.537204223163018,
          "x2": -2.4451653758898733,
          "x3": 3.1078450762565133
         },
         {
          "x1": 2.0708740636457517,
          "x2": -2.291767297101299,
          "x3": 3.1078450762565133
         },
         {
          "x1": 2.0708740636457517,
          "x2": -2.4451653758898733,
          "x3": -2.844000380740166
         },
         {
          "x1": -2.537204223163018,
          "x2": -2.291767297101299,
          "x3": -2.844000380740166
         },
         {
          "x1": -1.070718589944248,
          "x2": 0.6964272777001268,
          "x3": -0.03374757733348632
         },
         {
          "x1": 0.6043884304269826,
          "x2": 0.6964272777001268,
          "x3": -0.03374757733348632
         },
         {
          "x1": -1.070718589944248,
          "x2": 0.8498253564887013,
          "x3": -0.03374757733348632
         },
         {
          "x1": -1.070718589944248,
          "x2": 0.6964272777001268,
          "x3": 0.29759227284983414
         },
         {
          "x1": 0.6043884304269826,
          "x2": 0.8498253564887013,
          "x3": 0.29759227284983414
         },
         {
          "x1": -0.28532042654674816,
          "x2": -1.659767212492373,
          "x3": -2.389942067525986
         },
         {
          "x1": 1.3897865938244829,
          "x2": -1.659767212492373,
          "x3": -2.389942067525986
         },
         {
          "x1": -0.28532042654674816,
          "x2": 0.06442719309120104,
          "x3": -2.389942067525986
         },
         {
          "x1": -0.28532042654674816,
          "x2": -1.659767212492373,
          "x3": 2.6537867630423344
         },
         {
          "x1": 1.3897865938244829,
          "x2": 0.06442719309120104,
          "x3": 2.6537867630423344
         },
         {
          "x1": 2.8562722270432523,
          "x2": 1.4818254410976266,
          "x3": 0.7516505860640135
         },
         {
          "x1": -1.7518060597655176,
          "x2": 1.4818254410976266,
          "x3": 0.7516505860640135
         },
         {
          "x1": 2.8562722270432523,
          "x2": -3.077165460498799,
          "x3": 0.7516505860640135
         },
         {
          "x1": 2.8562722270432523,
          "x2": 1.4818254410976266,
          "x3": -0.4878058905476661
         },
         {
          "x1": -1.7518060597655176,
          "x2": -3.077165460498799,
          "x3": -0.4878058905476661
         },
         {
          "x1": 1.2854759002482519,
          "x2": -0.08897088569737299,
          "x3": -0.8191457407309866
         },
         {
          "x1": 2.9605829206194825,
          "x2": -0.08897088569737299,
          "x3": -0.8191457407309866
         },
         {
          "x1": 1.2854759002482519,
          "x2": -1.5063691337037988,
          "x3": -0.8191457407309866
         },
         {
          "x1": 1.2854759002482519,
          "x2": -0.08897088569737299,
          "x3": -2.058602217342666
         },
         {
          "x1": 2.9605829206194825,
          "x2": -1.5063691337037988,
          "x3": -2.058602217342666
         },
         {
          "x1": -1.8561167533417482,
          "x2": 3.052621767892627,
          "x3": 2.3224469128590135
         },
         {
          "x1": -0.1810097329705176,
          "x2": 3.052621767892627,
          "x3": 2.3224469128590135
         },
         {
          "x1": -1.8561167533417482,
          "x2": 1.6352235198862015,
          "x3": 2.3224469128590135
         },
         {
          "x1": -1.8561167533417482,
          "x2": 3.052621767892627,
          "x3": 1.082990436247334
         },
         {
          "x1": -0.1810097329705176,
          "x2": 1.6352235198862015,
          "x3": 1.082990436247334
         },
         {
          "x1": -2.248815835040498,
          "x2": -2.837864457588623,
          "x3": -1.2118448224297365
         },
         {
          "x1": -2.1445051414642675,
          "x2": -2.837864457588623,
          "x3": -1.2118448224297365
         },
         {
          "x1": -2.248815835040498,
          "x2": -0.32827188860754886,
          "x3": -1.2118448224297365
         },
         {
          "x1": -2.248815835040498,
          "x2": -2.837864457588623,
          "x3": 0.690291354548584
         },
         {
          "x1": -2.1445051414642675,
          "x2": -0.32827188860754886,
          "x3": 0.690291354548584
         },
         {
          "x1": 0.8927768185495015,
          "x2": 0.3037281960013769,
          "x3": 1.929747831160264
         },
         {
          "x1": 0.9970875121257325,
          "x2": 0.3037281960013769,
          "x3": 1.929747831160264
         },
         {
          "x1": 0.8927768185495015,
          "x2": 2.8133207649824516,
          "x3": 1.929747831160264
         },
         {
          "x1": 0.8927768185495015,
          "x2": 0.3037281960013769,
          "x3": -2.451301299041416
         },
         {
          "x1": 0.9970875121257325,
          "x2": 2.8133207649824516,
          "x3": -2.451301299041416
         },
         {
          "x1": 2.463573145344502,
          "x2": -1.2670681307936231,
          "x3": -2.7826411492247365
         },
         {
          "x1": -0.5737088146692675,
          "x2": -1.2670681307936231,
          "x3": -2.7826411492247365
         },
         {
          "x1": 2.463573145344502,
          "x2": 1.2425244381874512,
          "x3": -2.7826411492247365
         },
         {
          "x1": 2.463573145344502,
          "x2": -1.2670681307936231,
          "x3": -0.880504972246416
         },
         {
          "x1": -0.5737088146692675,
          "x2": 1.2425244381874512,
          "x3": -0.880504972246416
         },
         {
          "x1": -0.6780195082454981,
          "x2": 1.874524522796377,
          "x3": 0.3589515043652636
         },
         {
          "x1": 2.567883838920732,
          "x2": 1.874524522796377,
          "x3": 0.3589515043652636
         },
         {
          "x1": -0.6780195082454981,
          "x2": -1.8990682154025489,
          "x3": 0.3589515043652636
         },
         {
          "x1": -0.6780195082454981,
          "x2": 1.874524522796377,
          "x3": 2.261087681343584
         },
         {
          "x1": 2.567883838920732,
          "x2": -1.8990682154025489,
          "x3": 2.261087681343584
         },
         {
          "x1": -1.463417671642998,
          "x2": -0.4816699673961229,
          "x3": 2.715145994557764
         },
         {
          "x1": 1.7824856755232323,
          "x2": -0.4816699673961229,
          "x3": 2.715145994557764
         },
         {
          "x1": -1.463417671642998,
          "x2": -2.6844663788000487,
          "x3": 2.715145994557764
         },
         {
          "x1": -1.463417671642998,
          "x2": -0.4816699673961229,
          "x3": 1.4756895179460843
         },
         {
          "x1": 1.7824856755232323,
          "x2": -2.6844663788000487,
          "x3": 1.4756895179460843
         },
         {
          "x1": 1.6781749819470022,
          "x2": 2.6599226861938767,
          "x3": -0.4264466590322362
         },
         {
          "x1": -1.3591069780667675,
          "x2": 2.6599226861938767,
          "x3": -0.4264466590322362
         },
         {
          "x1": 1.6781749819470022,
          "x2": 0.4571262747899514,
          "x3": -0.4264466590322362
         },
         {
          "x1": 1.6781749819470022,
          "x2": 2.6599226861938767,
          "x3": -1.665903135643916
         },
         {
          "x1": -1.3591069780667675,
          "x2": 0.4571262747899514,
          "x3": -1.665903135643916
         },
         {
          "x1": 0.10737865515200173,
          "x2": -2.052466294191123,
          "x3": 1.1443496677627634
         },
         {
          "x1": 0.2116893487282323,
          "x2": -2.052466294191123,
          "x3": 1.1443496677627634
         },
         {
          "x1": 0.10737865515200173,
          "x2": 2.027922601584951,
          "x3": 1.1443496677627634
         },
         {
          "x1": 0.10737865515200173,
          "x2": -2.052466294191123,
          "x3": -0.0951068088489162
         },
         {
          "x1": 0.2116893487282323,
          "x2": 2.027922601584951,
          "x3": -0.0951068088489162
         },
         {
          "x1": -3.0342139984379983,
          "x2": 1.0891263593988771,
          "x3": -1.9972429858272365
         },
         {
          "x1": -2.9299033048617678,
          "x2": 1.0891263593988771,
          "x3": -1.9972429858272365
         },
         {
          "x1": -3.0342139984379983,
          "x2": -1.1136700520050486,
          "x3": -1.9972429858272365
         },
         {
          "x1": -3.0342139984379983,
          "x2": 1.0891263593988771,
          "x3": 3.046485844741084
         },
         {
          "x1": -2.9299033048617678,
          "x2": -1.1136700520050486,
          "x3": 3.046485844741084
         },
         {
          "x1": -2.9851266132256544,
          "x2": -2.9851266132256544,
          "x3": 0.8007379712763574
         },
         {
          "x1": 1.0461748973380764,
          "x2": -2.9851266132256544,
          "x3": 0.8007379712763574
         },
         {
          "x1": -2.9851266132256544,
          "x2": -2.1445051414642675,
          "x3": 0.8007379712763574
         },
         {
          "x1": -2.9851266132256544,
          "x2": -2.9851266132256544,
          "x3": 1.03390305103499
         },
         {
          "x1": 1.0461748973380764,
          "x2": -2.1445051414642675,
          "x3": 1.03390305103499
         },
         {
          "x1": 0.15646604036434564,
          "x2": 0.15646604036434564,
          "x3": -2.3408546823136427
         },
         {
          "x1": -2.0954177562519236,
          "x2": 0.15646604036434564,
          "x3": -2.3408546823136427
         },
         {
          "x1": 0.15646604036434564,
          "x2": 0.9970875121257325,
          "x3": -2.3408546823136427
         },
         {
          "x1": 0.15646604036434564,
          "x2": 0.15646604036434564,
          "x3": -2.10768960255501
         },
         {
          "x1": -2.0954177562519236,
          "x2": 0.9970875121257325,
          "x3": -2.10768960255501
         },
         {
          "x1": 1.7272623671593461,
          "x2": -1.4143302864306544,
          "x3": 2.3715342980713574
         },
         {
          "x1": 2.616971224133076,
          "x2": -1.4143302864306544,
          "x3": 2.3715342980713574
         },
         {
          "x1": 1.7272623671593461,
          "x2": 2.567883838920732,
          "x3": 2.3715342980713574
         },
         {
          "x1": 1.7272623671593461,
          "x2": -1.4143302864306544,
          "x3": -0.5368932757600096
         },
         {
          "x1": 2.616971224133076,
          "x2": 2.567883838920732,
          "x3": -0.5368932757600096
         },
         {
          "x1": -1.4143302864306544,
          "x2": 1.7272623671593461,
          "x3": -0.7700583555186427
         },
         {
          "x1": -0.524621429456924,
          "x2": 1.7272623671593461,
          "x3": -0.7700583555186427
         },
         {
          "x1": -1.4143302864306544,
          "x2": -0.5737088146692675,
          "x3": -0.7700583555186427
         },
         {
          "x1": -1.4143302864306544,
          "x2": 1.7272623671593461,
          "x3": 2.6046993778299905
         },
         {
          "x1": -0.524621429456924,
          "x2": -0.5737088146692675,
          "x3": 2.6046993778299905
         },
         {
          "x1": -0.6289321230331542,
          "x2": -0.6289321230331542,
          "x3": -3.1262528457111425
         },
         {
          "x1": -1.3100195928544238,
          "x2": -0.6289321230331542,
          "x3": -3.1262528457111425
         },
         {
          "x1": -0.6289321230331542,
          "x2": -1.3591069780667675,
          "x3": -3.1262528457111425
         },
         {
          "x1": -0.6289321230331542,
          "x2": -0.6289321230331542,
          "x3": 0.24850488763749023
         },
         {
          "x1": -1.3100195928544238,
          "x2": -1.3591069780667675,
          "x3": 0.24850488763749023
         },
         {
          "x1": 2.512660530556846,
          "x2": 2.512660530556846,
          "x3": 0.015339807878857581
         },
         {
          "x1": 1.8315730607355762,
          "x2": 2.512660530556846,
          "x3": 0.015339807878857581
         },
         {
          "x1": 2.512660530556846,
          "x2": 1.7824856755232323,
          "x3": 0.015339807878857581
         },
         {
          "x1": 2.512660530556846,
          "x2": 2.512660530556846,
          "x3": -2.89308776595251
         },
         {
          "x1": 1.8315730607355762,
          "x2": 1.7824856755232323,
          "x3": -2.89308776595251
         },
         {
          "x1": 0.9418642037618454,
          "x2": -2.199728449828154,
          "x3": -1.5554565189161427
         },
         {
          "x1": -2.880815919649424,
          "x2": -2.199728449828154,
          "x3": -1.5554565189161427
         },
         {
          "x1": 0.9418642037618454,
          "x2": 0.2116893487282323,
          "x3": -1.5554565189161427
         },
         {
          "x1": 0.9418642037618454,
          "x2": -2.199728449828154,
          "x3": -1.3222914391575098
         },
         {
          "x1": -2.880815919649424,
          "x2": 0.2116893487282323,
          "x3": -1.3222914391575098
         },
         {
          "x1": -2.199728449828154,
          "x2": 0.9418642037618454,
          "x3": 1.5861361346738576
         },
         {
          "x1": 0.2607767339405762,
          "x2": 0.9418642037618454,
          "x3": 1.5861361346738576
         },
         {
          "x1": -2.199728449828154,
          "x2": -2.9299033048617678,
          "x3": 1.5861361346738576
         },
         {
          "x1": -2.199728449828154,
          "x2": 0.9418642037618454,
          "x3": 1.8193012144324907
         },
         {
          "x1": 0.2607767339405762,
          "x2": -2.9299033048617678,
          "x3": 1.8193012144324907
         },
         {
          "x1": -1.8070293681294043,
          "x2": -1.0216312047319045,
          "x3": -1.1627574372173926
         },
         {
          "x1": 2.2242721424343266,
          "x2": -1.0216312047319045,
          "x3": -1.1627574372173926
         },
         {
          "x1": -1.8070293681294043,
          "x2": 1.3897865938244829,
          "x3": -1.1627574372173926
         },
         {
          "x1": -1.8070293681294043,
          "x2": -1.0216312047319045,
          "x3": 2.99739845952874
         },
         {
          "x1": 2.2242721424343266,
          "x2": 1.3897865938244829,
          "x3": 2.99739845952874
         },
         {
          "x1": 1.3345632854605958,
          "x2": 2.1199614488580956,
          "x3": 1.978835216372607
         },
         {
          "x1": -0.9173205111556739,
          "x2": 2.1199614488580956,
          "x3": 1.978835216372607
         },
         {
          "x1": 1.3345632854605958,
          "x2": -1.7518060597655176,
          "x3": 1.978835216372607
         },
         {
          "x1": 1.3345632854605958,
          "x2": 2.1199614488580956,
          "x3": -0.14419419406125966
         },
         {
          "x1": -0.9173205111556739,
          "x2": -1.7518060597655176,
          "x3": -0.14419419406125966
         },
         {
          "x1": 2.9053596122555954,
          "x2": -2.592427531526904,
          "x3": -2.7335537640123926
         },
         {
          "x1": 0.6534758156393261,
          "x2": -2.592427531526904,
          "x3": -2.7335537640123926
         },
         {
          "x1": 2.9053596122555954,
          "x2": -0.1810097329705176,
          "x3": -2.7335537640123926
         },
         {
          "x1": 2.9053596122555954,
          "x2": -2.592427531526904,
          "x3": -1.7149905208562597
         },
         {
          "x1": 0.6534758156393261,
          "x2": -0.1810097329705176,
          "x3": -1.7149905208562597
         },
         {
          "x1": -0.23623304133440426,
          "x2": 0.5491651220630955,
          "x3": 0.4080388895776075
         },
         {
          "x1": -2.488116837950674,
          "x2": 0.5491651220630955,
          "x3": 0.4080388895776075
         },
         {
          "x1": -0.23623304133440426,
          "x2": 2.9605829206194825,
          "x3": 0.4080388895776075
         },
         {
          "x1": -0.23623304133440426,
          "x2": 0.5491651220630955,
          "x3": 1.4266021327337404
         },
         {
          "x1": -2.488116837950674,
          "x2": 2.9605829206194825,
          "x3": 1.4266021327337404
         },
         {
          "x1": -1.0216312047319045,
          "x2": -1.8070293681294043,
          "x3": 2.7642333797701077
         },
         {
          "x1": -1.702718674553174,
          "x2": -1.8070293681294043,
          "x3": 2.7642333797701077
         },
         {
          "x1": -1.0216312047319045,
          "x2": 2.1751847572219827,
          "x3": 2.7642333797701077
         },
         {
          "x1": -1.0216312047319045,
          "x2": -1.8070293681294043,
          "x3": 2.21200029613124
         },
         {
          "x1": -1.702718674553174,
          "x2": 2.1751847572219827,
          "x3": 2.21200029613124
         },
         {
          "x1": 2.1199614488580956,
          "x2": 1.3345632854605958,
          "x3": -0.37735927381989276
         },
         {
          "x1": 1.438873979036826,
          "x2": 1.3345632854605958,
          "x3": -0.37735927381989276
         },
         {
          "x1": 2.1199614488580956,
          "x2": -0.9664078963680174,
          "x3": -0.37735927381989276
         },
         {
          "x1": 2.1199614488580956,
          "x2": 1.3345632854605958,
          "x3": -0.9295923574587599
         },
         {
          "x1": 1.438873979036826,
          "x2": -0.9664078963680174,
          "x3": -0.9295923574587599
         },
         {
          "x1": 0.5491651220630955,
          "x2": -0.23623304133440426,
          "x3": 1.1934370529751073
         },
         {
          "x1": -0.13192234775817369,
          "x2": -0.23623304133440426,
          "x3": 1.1934370529751073
         },
         {
          "x1": 0.5491651220630955,
          "x2": -2.537204223163018,
          "x3": 1.1934370529751073
         },
         {
          "x1": 0.5491651220630955,
          "x2": -0.23623304133440426,
          "x3": -2.50038868425376
         },
         {
          "x1": -0.13192234775817369,
          "x2": -2.537204223163018,
          "x3": -2.50038868425376
         },
         {
          "x1": -2.592427531526904,
          "x2": 2.9053596122555954,
          "x3": -1.9481556006148926
         },
         {
          "x1": 3.0096703058318264,
          "x2": 2.9053596122555954,
          "x3": -1.9481556006148926
         },
         {
          "x1": -2.592427531526904,
          "x2": 0.6043884304269826,
          "x3": -1.9481556006148926
         },
         {
          "x1": -2.592427531526904,
          "x2": 2.9053596122555954,
          "x3": 0.6412039693362401
         },
         {
          "x1": 3.0096703058318264,
          "x2": 0.6043884304269826,
          "x3": 0.6412039693362401
         },
         {
          "x1": -2.3960779906775294,
          "x2": -0.03988350048502909,
          "x3": 2.1751847572219827
         },
         {
          "x1": -3.077165460498799,
          "x2": -0.03988350048502909,
          "x3": 2.1751847572219827
         },
         {
          "x1": -2.3960779906775294,
          "x2": -0.7700583555186427,
          "x3": 2.1751847572219827
         },
         {
          "x1": -2.3960779906775294,
          "x2": -0.03988350048502909,
          "x3": -1.1259418983081346
         },
         {
          "x1": -3.077165460498799,
          "x2": -0.7700583555186427,
          "x3": -1.1259418983081346
         },
         {
          "x1": 0.7455146629124707,
          "x2": 3.101709153104971,
          "x3": -0.9664078963680174
         },
         {
          "x1": 0.06442719309120104,
          "x2": 3.101709153104971,
          "x3": -0.9664078963680174
         },
         {
          "x1": 0.7455146629124707,
          "x2": 2.3715342980713574,
          "x3": -0.9664078963680174
         },
         {
          "x1": 0.7455146629124707,
          "x2": 3.101709153104971,
          "x3": 2.0156507552818654
         },
         {
          "x1": 0.06442719309120104,
          "x2": 2.3715342980713574,
          "x3": 2.0156507552818654
         },
         {
          "x1": 2.316310989707471,
          "x2": -1.6106798272800293,
          "x3": 0.6043884304269826
         },
         {
          "x1": -1.5063691337037988,
          "x2": -1.6106798272800293,
          "x3": 0.6043884304269826
         },
         {
          "x1": 2.316310989707471,
          "x2": 0.8007379712763574,
          "x3": 0.6043884304269826
         },
         {
          "x1": 2.316310989707471,
          "x2": -1.6106798272800293,
          "x3": 0.4448544284868654
         },
         {
          "x1": -1.5063691337037988,
          "x2": 0.8007379712763574,
          "x3": 0.4448544284868654
         },
         {
          "x1": -0.8252816638825293,
          "x2": 1.5309128263099705,
          "x3": -2.537204223163018
         },
         {
          "x1": 1.6352235198862015,
          "x2": 1.5309128263099705,
          "x3": -2.537204223163018
         },
         {
          "x1": -0.8252816638825293,
          "x2": -2.3408546823136427,
          "x3": -2.537204223163018
         },
         {
          "x1": -0.8252816638825293,
          "x2": 1.5309128263099705,
          "x3": -2.6967382251031347
         },
         {
          "x1": 1.6352235198862015,
          "x2": -2.3408546823136427,
          "x3": -2.6967382251031347
         },
         {
          "x1": -0.03988350048502909,
          "x2": -2.3960779906775294,
          "x3": -0.1810097329705176
         },
         {
          "x1": 2.4206216832837013,
          "x2": -2.3960779906775294,
          "x3": -0.1810097329705176
         },
         {
          "x1": -0.03988350048502909,
          "x2": -3.1262528457111425,
          "x3": -0.1810097329705176
         },
         {
          "x1": -0.03988350048502909,
          "x2": -2.3960779906775294,
          "x3": -0.34054373491063483
         },
         {
          "x1": 2.4206216832837013,
          "x2": -3.1262528457111425,
          "x3": -0.34054373491063483
         },
         {
          "x1": 3.101709153104971,
          "x2": 0.7455146629124707,
          "x3": 2.9605829206194825
         },
         {
          "x1": -0.7209709703062988,
          "x2": 0.7455146629124707,
          "x3": 2.9605829206194825
         },
         {
          "x1": 3.101709153104971,
          "x2": 0.015339807878857581,
          "x3": 2.9605829206194825
         },
         {
          "x1": 3.101709153104971,
          "x2": 0.7455146629124707,
          "x3": 2.8010489186793652
         },
         {
          "x1": -0.7209709703062988,
          "x2": 0.015339807878857581,
          "x3": 2.8010489186793652
         },
         {
          "x1": 1.5309128263099705,
          "x2": -0.8252816638825293,
          "x3": -1.7518060597655176
         },
         {
          "x1": 0.8498253564887013,
          "x2": -0.8252816638825293,
          "x3": -1.7518060597655176
         },
         {
          "x1": 1.5309128263099705,
          "x2": 1.5861361346738576,
          "x3": -1.7518060597655176
         },
         {
          "x1": 1.5309128263099705,
          "x2": -0.8252816638825293,
          "x3": 1.2302525918843656
         },
         {
          "x1": 0.8498253564887013,
          "x2": 1.5861361346738576,
          "x3": 1.2302525918843656
         },
         {
          "x1": -1.6106798272800293,
          "x2": 2.316310989707471,
          "x3": 1.3897865938244829
         },
         {
          "x1": -2.291767297101299,
          "x2": 2.316310989707471,
          "x3": 1.3897865938244829
         },
         {
          "x1": -1.6106798272800293,
          "x2": -1.5554565189161427,
          "x3": 1.3897865938244829
         },
         {
          "x1": -1.6106798272800293,
          "x2": 2.316310989707471,
          "x3": -1.9113400617056349
         },
         {
          "x1": -2.291767297101299,
          "x2": -1.5554565189161427,
          "x3": -1.9113400617056349
         },
         {
          "x1": -2.003378908978779,
          "x2": -2.003378908978779,
          "x3": -2.1445051414642675
         },
         {
          "x1": -0.32827188860754886,
          "x2": -2.003378908978779,
          "x3": -2.1445051414642675
         },
         {
          "x1": -2.003378908978779,
          "x2": 2.7642333797701077,
          "x3": -2.1445051414642675
         },
         {
          "x1": -2.003378908978779,
          "x2": -2.003378908978779,
          "x3": -3.089437306801885
         },
         {
          "x1": -0.32827188860754886,
          "x2": 2.7642333797701077,
          "x3": -3.089437306801885
         },
         {
          "x1": 1.138213744611221,
          "x2": 1.138213744611221,
          "x3": 0.9970875121257325
         },
         {
          "x1": 2.8133207649824516,
          "x2": 1.138213744611221,
          "x3": 0.9970875121257325
         },
         {
          "x1": 1.138213744611221,
          "x2": -0.37735927381989276,
          "x3": 0.9970875121257325
         },
         {
          "x1": 1.138213744611221,
          "x2": 1.138213744611221,
          "x3": 0.052155346788115065
         },
         {
          "x1": 2.8133207649824516,
          "x2": -0.37735927381989276,
          "x3": 0.052155346788115065
         },
         {
          "x1": 2.7090100714062206,
          "x2": -0.43258258218377943,
          "x3": -0.5737088146692675
         },
         {
          "x1": -1.8990682154025489,
          "x2": -0.43258258218377943,
          "x3": -0.5737088146692675
         },
         {
          "x1": 2.7090100714062206,
          "x2": -1.9481556006148926,
          "x3": -0.5737088146692675
         },
         {
          "x1": 2.7090100714062206,
          "x2": -0.43258258218377943,
          "x3": 1.622951673583115
         },
         {
          "x1": -1.8990682154025489,
          "x2": -1.9481556006148926,
          "x3": 1.622951673583115
         },
         {
          "x1": -0.43258258218377943,
          "x2": 2.7090100714062206,
          "x3": 2.567883838920732
         },
         {
          "x1": 1.2425244381874512,
          "x2": 2.7090100714062206,
          "x3": 2.567883838920732
         },
         {
          "x1": -0.43258258218377943,
          "x2": 1.1934370529751073,
          "x3": 2.567883838920732
         },
         {
          "x1": -0.43258258218377943,
          "x2": 2.7090100714062206,
          "x3": -1.5186409800068847
         },
         {
          "x1": 1.2425244381874512,
          "x2": 1.1934370529751073,
          "x3": -1.5186409800068847
         },
         {
          "x1": -1.2179807455812792,
          "x2": -1.2179807455812792,
          "x3": 0.2116893487282323
         },
         {
          "x1": 0.4571262747899514,
          "x2": -1.2179807455812792,
          "x3": 0.2116893487282323
         },
         {
          "x1": -1.2179807455812792,
          "x2": 0.4080388895776075,
          "x3": 0.2116893487282323
         },
         {
          "x1": -1.2179807455812792,
          "x2": -1.2179807455812792,
          "x3": -2.3040391434043848
         },
         {
          "x1": 0.4571262747899514,
          "x2": 0.4080388895776075,
          "x3": -2.3040391434043848
         },
         {
          "x1": 1.9236119080087208,
          "x2": 1.9236119080087208,
          "x3": -2.9299033048617678
         },
         {
          "x1": -2.6844663788000487,
          "x2": 1.9236119080087208,
          "x3": -2.9299033048617678
         },
         {
          "x1": 1.9236119080087208,
          "x2": -2.7335537640123926,
          "x3": -2.9299033048617678
         },
         {
          "x1": 1.9236119080087208,
          "x2": 1.9236119080087208,
          "x3": 0.8375535101856153
         },
         {
          "x1": -2.6844663788000487,
          "x2": -2.7335537640123926,
          "x3": 0.8375535101856153
         },
         {
          "x1": 0.3528155812137208,
          "x2": -2.7887770723762793,
          "x3": 1.7824856755232323
         },
         {
          "x1": 2.027922601584951,
          "x2": -2.7887770723762793,
          "x3": 1.7824856755232323
         },
         {
          "x1": 0.3528155812137208,
          "x2": -1.1627574372173926,
          "x3": 1.7824856755232323
         },
         {
          "x1": 0.3528155812137208,
          "x2": -2.7887770723762793,
          "x3": 2.408349836980615
         },
         {
          "x1": 2.027922601584951,
          "x2": -1.1627574372173926,
          "x3": 2.408349836980615
         },
         {
          "x1": -2.7887770723762793,
          "x2": 0.3528155812137208,
          "x3": -1.3591069780667675
         },
         {
          "x1": -1.1136700520050486,
          "x2": 0.3528155812137208,
          "x3": -1.3591069780667675
         },
         {
          "x1": -2.7887770723762793,
          "x2": 1.978835216372607,
          "x3": -1.3591069780667675
         },
         {
          "x1": -2.7887770723762793,
          "x2": 0.3528155812137208,
          "x3": -0.7332428166093847
         },
         {
          "x1": -1.1136700520050486,
          "x2": 1.978835216372607,
          "x3": -0.7332428166093847
         },
         {
          "x1": -2.8869518428009666,
          "x2": -1.5125050568553418,
          "x3": -2.635378993587705
         },
         {
          "x1": -2.1935925266766114,
          "x2": -1.5125050568553418,
          "x3": -2.635378993587705
         },
         {
          "x1": -2.8869518428009666,
          "x2": -2.83172853443708,
          "x3": -2.635378993587705
         },
         {
          "x1": -2.8869518428009666,
          "x2": -1.5125050568553418,
          "x3": -1.4204662095821974
         },
         {
          "x1": -2.1935925266766114,
          "x2": -2.83172853443708,
          "x3": -1.4204662095821974
         },
         {
          "x1": 0.254640810789033,
          "x2": 1.6290875967346583,
          "x3": 0.5062136600022948
         },
         {
          "x1": 0.9480001269133886,
          "x2": 1.6290875967346583,
          "x3": 0.5062136600022948
         },
         {
          "x1": 0.254640810789033,
          "x2": 0.3098641191529201,
          "x3": 0.5062136600022948
         },
         {
          "x1": 0.254640810789033,
          "x2": 1.6290875967346583,
          "x3": 1.721126444007803
         },
         {
          "x1": 0.9480001269133886,
          "x2": 0.3098641191529201,
          "x3": 1.721126444007803
         },
         {
          "x1": 1.825437137584033,
          "x2": -3.083301383650342,
          "x3": -1.0645826667927052
         },
         {
          "x1": -0.6227961998816114,
          "x2": -3.083301383650342,
          "x3": -1.0645826667927052
         },
         {
          "x1": 1.825437137584033,
          "x2": 1.8806604459479201,
          "x3": -1.0645826667927052
         },
         {
          "x1": 1.825437137584033,
          "x2": -3.083301383650342,
          "x3": 0.15033011721280287
         },
         {
          "x1": -0.6227961998816114,
          "x2": 1.8806604459479201,
          "x3": 0.15033011721280287
         },
         {
          "x1": -1.3161555160059668,
          "x2": 0.058291269939658275,
          "x3": 2.077009986797295
         },
         {
          "x1": 2.518796453708389,
          "x2": 0.058291269939658275,
          "x3": 2.077009986797295
         },
         {
          "x1": -1.3161555160059668,
          "x2": -1.2609322076420801,
          "x3": 2.077009986797295
         },
         {
          "x1": -1.3161555160059668,
          "x2": 0.058291269939658275,
          "x3": -2.991262536377197
         },
         {
          "x1": 2.518796453708389,
          "x2": -1.2609322076420801,
          "x3": -2.991262536377197
         },
         {
          "x1": -0.5307573526084668,
          "x2": -2.297903220252842,
          "x3": 1.291611823399795
         },
         {
          "x1": 1.7333982903108884,
          "x2": -2.297903220252842,
          "x3": 1.291611823399795
         },
         {
          "x1": -0.5307573526084668,
          "x2": -0.4755340442445801,
          "x3": 1.291611823399795
         },
         {
          "x1": -0.5307573526084668,
          "x2": -2.297903220252842,
          "x3": -0.6350680461846974
         },
         {
          "x1": 1.7333982903108884,
          "x2": -0.4755340442445801,
          "x3": -0.6350680461846974
         },
         {
          "x1": 2.610835300981533,
          "x2": 0.8436894333371581,
          "x3": -1.8499808301902052
         },
         {
          "x1": -1.4081943632791114,
          "x2": 0.8436894333371581,
          "x3": -1.8499808301902052
         },
         {
          "x1": 2.610835300981533,
          "x2": 2.66605860934542,
          "x3": -1.8499808301902052
         },
         {
          "x1": 2.610835300981533,
          "x2": 0.8436894333371581,
          "x3": 2.5065246074053027
         },
         {
          "x1": -1.4081943632791114,
          "x2": 2.66605860934542,
          "x3": 2.5065246074053027
         },
         {
          "x1": 1.0400389741865332,
          "x2": -0.727106893457842,
          "x3": 2.8624081501947947
         },
         {
          "x1": 0.16260196351588885,
          "x2": -0.727106893457842,
          "x3": 2.8624081501947947
         },
         {
          "x1": 1.0400389741865332,
          "x2": 1.0952622825504204,
          "x3": 2.8624081501947947
         },
         {
          "x1": 1.0400389741865332,
          "x2": -0.727106893457842,
          "x3": 0.9357282806103031
         },
         {
          "x1": 0.16260196351588885,
          "x2": 1.0952622825504204,
          "x3": 0.9357282806103031
         },
         {
          "x1": -2.101553679403467,
          "x2": 2.414485760132158,
          "x3": -0.27918450339520495
         },
         {
          "x1": -2.978990690074111,
          "x2": 2.414485760132158,
          "x3": -0.27918450339520495
         },
         {
          "x1": -2.101553679403467,
          "x2": -2.04633037103958,
          "x3": -0.27918450339520495
         },
         {
          "x1": -2.101553679403467,
          "x2": 2.414485760132158,
          "x3": -2.2058643729796974
         },
         {
          "x1": -2.978990690074111,
          "x2": -2.04633037103958,
          "x3": -2.2058643729796974
         },
         {
          "x1": -1.708854597704717,
          "x2": -2.690602301951592,
          "x3": 2.469709068496045
         },
         {
          "x1": -1.0154952815803613,
          "x2": -2.690602301951592,
          "x3": 2.469709068496045
         },
         {
          "x1": -1.708854597704717,
          "x2": 0.70256320085167,
          "x3": 2.469709068496045
         },
         {
          "x1": -1.708854597704717,
          "x2": -2.690602301951592,
          "x3": -2.5985634546784473
         },
         {
          "x1": -1.0154952815803613,
          "x2": 0.70256320085167,
          "x3": -2.5985634546784473
         },
         {
          "x1": 1.4327380558852836,
          "x2": 0.45099035163840817,
          "x3": -0.6718835850939553
         },
         {
          "x1": 2.1260973720096388,
          "x2": 0.45099035163840817,
          "x3": -0.6718835850939553
         },
         {
          "x1": 1.4327380558852836,
          "x2": -2.43902945273833,
          "x3": -0.6718835850939553
         },
         {
          "x1": 1.4327380558852836,
          "x2": 0.45099035163840817,
          "x3": 0.5430291989115528
         },
         {
          "x1": 2.1260973720096388,
          "x2": -2.43902945273833,
          "x3": 0.5430291989115528
         },
         {
          "x1": 3.003534382680283,
          "x2": -1.1198059751565919,
          "x3": 0.8989127417010447
         },
         {
          "x1": -2.5862916083753613,
          "x2": -1.1198059751565919,
          "x3": 0.8989127417010447
         },
         {
          "x1": 3.003534382680283,
          "x2": -0.86823312594333,
          "x3": 0.8989127417010447
         },
         {
          "x1": 3.003534382680283,
          "x2": -1.1198059751565919,
          "x3": 2.1138255257065524
         },
         {
          "x1": -2.5862916083753613,
          "x2": -0.86823312594333,
          "x3": 2.1138255257065524
         },
         {
          "x1": -0.1380582709097169,
          "x2": 2.0217866784334086,
          "x3": -2.2426799118889553
         },
         {
          "x1": 0.5553010452146387,
          "x2": 2.0217866784334086,
          "x3": -2.2426799118889553
         },
         {
          "x1": -0.1380582709097169,
          "x2": 2.2733595276466696,
          "x3": -2.2426799118889553
         },
         {
          "x1": -0.1380582709097169,
          "x2": 2.0217866784334086,
          "x3": -1.0277671278834473
         },
         {
          "x1": 0.5553010452146387,
          "x2": 2.2733595276466696,
          "x3": -1.0277671278834473
         },
         {
          "x1": -0.9234564343072167,
          "x2": -0.3344078117590916,
          "x3": -1.457281748491455
         },
         {
          "x1": 1.340699208612139,
          "x2": -0.3344078117590916,
          "x3": -1.457281748491455
         },
         {
          "x1": -0.9234564343072167,
          "x2": 3.0587576910441703,
          "x3": -1.457281748491455
         },
         {
          "x1": -0.9234564343072167,
          "x2": -0.3344078117590916,
          "x3": -1.8131652912809473
         },
         {
          "x1": 1.340699208612139,
          "x2": 3.0587576910441703,
          "x3": -1.8131652912809473
         },
         {
          "x1": 2.2181362192827834,
          "x2": 2.8071848418309084,
          "x3": 1.6843109050985445
         },
         {
          "x1": -1.8008934449778613,
          "x2": 2.8071848418309084,
          "x3": 1.6843109050985445
         },
         {
          "x1": 2.2181362192827834,
          "x2": -0.08283496254583023,
          "x3": 1.6843109050985445
         },
         {
          "x1": 2.2181362192827834,
          "x2": 2.8071848418309084,
          "x3": 1.3284273623090526
         },
         {
          "x1": -1.8008934449778613,
          "x2": -0.08283496254583023,
          "x3": 1.3284273623090526
         },
         {
          "x1": 0.6473398924877833,
          "x2": -1.9052041385540919,
          "x3": -3.028078075286455
         },
         {
          "x1": 2.9114955354071386,
          "x2": -1.9052041385540919,
          "x3": -3.028078075286455
         },
         {
          "x1": 0.6473398924877833,
          "x2": -1.65363128934083,
          "x3": -3.028078075286455
         },
         {
          "x1": 0.6473398924877833,
          "x2": -1.9052041385540919,
          "x3": 2.899223689104053
         },
         {
          "x1": 2.9114955354071386,
          "x2": -1.65363128934083,
          "x3": 2.899223689104053
         },
         {
          "x1": -2.4942527611022167,
          "x2": 1.236388515035908,
          "x3": 0.11351457830354494
         },
         {
          "x1": -0.2300971181828615,
          "x2": 1.236388515035908,
          "x3": 0.11351457830354494
         },
         {
          "x1": -2.4942527611022167,
          "x2": 1.4879613642491698,
          "x3": 0.11351457830354494
         },
         {
          "x1": -2.4942527611022167,
          "x2": 1.236388515035908,
          "x3": -0.24236896448594747
         },
         {
          "x1": -0.2300971181828615,
          "x2": 1.4879613642491698,
          "x3": -0.24236896448594747
         },
         {
          "x1": -2.690602301951592,
          "x2": -1.708854597704717,
          "x3": -0.4755340442445801
         },
         {
          "x1": 0.3589515043652636,
          "x2": -1.708854597704717,
          "x3": -0.4755340442445801
         },
         {
          "x1": -2.690602301951592,
          "x2": -1.457281748491455,
          "x3": -0.4755340442445801
         },
         {
          "x1": -2.690602301951592,
          "x2": -1.708854597704717,
          "x3": 1.5247769031584282
         },
         {
          "x1": 0.3589515043652636,
          "x2": -1.457281748491455,
          "x3": 1.5247769031584282
         },
         {
          "x1": 0.45099035163840817,
          "x2": 1.4327380558852836,
          "x3": 2.66605860934542
         },
         {
          "x1": -2.7826411492247365,
          "x2": 1.4327380558852836,
          "x3": 2.66605860934542
         },
         {
          "x1": 0.45099035163840817,
          "x2": 1.6843109050985445,
          "x3": 2.66605860934542
         },
         {
          "x1": 0.45099035163840817,
          "x2": 1.4327380558852836,
          "x3": -1.6168157504315723
         },
         {
          "x1": -2.7826411492247365,
          "x2": 1.6843109050985445,
          "x3": -1.6168157504315723
         },
         {
          "x1": 2.0217866784334086,
          "x2": -0.1380582709097169,
          "x3": -2.04633037103958
         },
         {
          "x1": 1.929747831160264,
          "x2": -0.1380582709097169,
          "x3": -2.04633037103958
         },
         {
          "x1": 2.0217866784334086,
          "x2": 0.11351457830354494,
          "x3": -2.04633037103958
         },
         {
          "x1": 2.0217866784334086,
          "x2": -0.1380582709097169,
          "x3": -0.0460194236365723
         },
         {
          "x1": 1.929747831160264,
          "x2": 0.11351457830354494,
          "x3": -0.0460194236365723
         },
         {
          "x1": -1.1198059751565919,
          "x2": 3.003534382680283,
          "x3": 1.0952622825504204
         },
         {
          "x1": -1.2118448224297365,
          "x2": 3.003534382680283,
          "x3": 1.0952622825504204
         },
         {
          "x1": -1.1198059751565919,
          "x2": -3.028078075286455,
          "x3": 1.0952622825504204
         },
         {
          "x1": -1.1198059751565919,
          "x2": 3.003534382680283,
          "x3": 3.0955732299534278
         },
         {
          "x1": -1.2118448224297365,
          "x2": -3.028078075286455,
          "x3": 3.0955732299534278
         },
         {
          "x1": -0.3344078117590916,
          "x2": -0.9234564343072167,
          "x3": 1.8806604459479201
         },
         {
          "x1": -0.4264466590322362,
          "x2": -0.9234564343072167,
          "x3": 1.8806604459479201
         },
         {
          "x1": -0.3344078117590916,
          "x2": -2.2426799118889553,
          "x3": 1.8806604459479201
         },
         {
          "x1": -0.3344078117590916,
          "x2": -0.9234564343072167,
          "x3": 0.7393787397609279
         },
         {
          "x1": -0.4264466590322362,
          "x2": -2.2426799118889553,
          "x3": 0.7393787397609279
         },
         {
          "x1": 2.8071848418309084,
          "x2": 2.2181362192827834,
          "x3": -1.2609322076420801
         },
         {
          "x1": 2.715145994557764,
          "x2": 2.2181362192827834,
          "x3": -1.2609322076420801
         },
         {
          "x1": 2.8071848418309084,
          "x2": 0.8989127417010447,
          "x3": -1.2609322076420801
         },
         {
          "x1": 2.8071848418309084,
          "x2": 2.2181362192827834,
          "x3": -2.4022139138290726
         },
         {
          "x1": 2.715145994557764,
          "x2": 0.8989127417010447,
          "x3": -2.4022139138290726
         },
         {
          "x1": 1.236388515035908,
          "x2": -2.4942527611022167,
          "x3": 0.3098641191529201
         },
         {
          "x1": -1.9972429858272365,
          "x2": -2.4942527611022167,
          "x3": 0.3098641191529201
         },
         {
          "x1": 1.236388515035908,
          "x2": 2.469709068496045,
          "x3": 0.3098641191529201
         },
         {
          "x1": 1.236388515035908,
          "x2": -2.4942527611022167,
          "x3": -0.8314175870340721
         },
         {
          "x1": -1.9972429858272365,
          "x2": 2.469709068496045,
          "x3": -0.8314175870340721
         },
         {
          "x1": -1.9052041385540919,
          "x2": 0.6473398924877833,
          "x3": -2.83172853443708
         },
         {
          "x1": 1.1443496677627634,
          "x2": 0.6473398924877833,
          "x3": -2.83172853443708
         },
         {
          "x1": -1.9052041385540919,
          "x2": -0.6718835850939553,
          "x3": -2.83172853443708
         },
         {
          "x1": -1.9052041385540919,
          "x2": 0.6473398924877833,
          "x3": 2.310175066555928
         },
         {
          "x1": 1.1443496677627634,
          "x2": -0.6718835850939553,
          "x3": 2.310175066555928
         },
         {
          "x1": -2.297903220252842,
          "x2": -0.5307573526084668,
          "x3": 0.70256320085167
         },
         {
          "x1": 3.1078450762565133,
          "x2": -0.5307573526084668,
          "x3": 0.70256320085167
         },
         {
          "x1": -2.297903220252842,
          "x2": 2.077009986797295,
          "x3": 0.70256320085167
         },
         {
          "x1": -2.297903220252842,
          "x2": -0.5307573526084668,
          "x3": 2.7028741482546774
         },
         {
          "x1": 3.1078450762565133,
          "x2": 2.077009986797295,
          "x3": 2.7028741482546774
         },
         {
          "x1": 0.8436894333371581,
          "x2": 2.610835300981533,
          "x3": -2.43902945273833
         },
         {
          "x1": -0.03374757733348632,
          "x2": 2.610835300981533,
          "x3": -2.43902945273833
         },
         {
          "x1": 0.8436894333371581,
          "x2": -1.0645826667927052,
          "x3": -2.43902945273833
         },
         {
          "x1": 0.8436894333371581,
          "x2": 2.610835300981533,
          "x3": -0.4387185053353222
         },
         {
          "x1": -0.03374757733348632,
          "x2": -1.0645826667927052,
          "x3": -0.4387185053353222
         },
         {
          "x1": 2.414485760132158,
          "x2": -2.101553679403467,
          "x3": 2.2733595276466696
         },
         {
          "x1": 1.5370487494615137,
          "x2": -2.101553679403467,
          "x3": 2.2733595276466696
         },
         {
          "x1": 2.414485760132158,
          "x2": -2.635378993587705,
          "x3": 2.2733595276466696
         },
         {
          "x1": 2.414485760132158,
          "x2": -2.101553679403467,
          "x3": -2.0095148321303222
         },
         {
          "x1": 1.5370487494615137,
          "x2": -2.635378993587705,
          "x3": -2.0095148321303222
         },
         {
          "x1": -0.727106893457842,
          "x2": 1.0400389741865332,
          "x3": -0.86823312594333
         },
         {
          "x1": -1.6045439041284864,
          "x2": 1.0400389741865332,
          "x3": -0.86823312594333
         },
         {
          "x1": -0.727106893457842,
          "x2": 0.5062136600022948,
          "x3": -0.86823312594333
         },
         {
          "x1": -0.727106893457842,
          "x2": 1.0400389741865332,
          "x3": 1.1320778214596778
         },
         {
          "x1": -1.6045439041284864,
          "x2": 0.5062136600022948,
          "x3": 1.1320778214596778
         },
         {
          "x1": -1.5125050568553418,
          "x2": -2.8869518428009666,
          "x3": -1.65363128934083
         },
         {
          "x1": -2.389942067525986,
          "x2": -2.8869518428009666,
          "x3": -1.65363128934083
         },
         {
          "x1": -1.5125050568553418,
          "x2": 1.291611823399795,
          "x3": -1.65363128934083
         },
         {
          "x1": -1.5125050568553418,
          "x2": -2.8869518428009666,
          "x3": 1.9174759848571776
         },
         {
          "x1": -2.389942067525986,
          "x2": 1.291611823399795,
          "x3": 1.9174759848571776
         },
         {
          "x1": 1.6290875967346583,
          "x2": 0.254640810789033,
          "x3": 1.4879613642491698
         },
         {
          "x1": 0.7516505860640135,
          "x2": 0.254640810789033,
          "x3": 1.4879613642491698
         },
         {
          "x1": 1.6290875967346583,
          "x2": -1.8499808301902052,
          "x3": 1.4879613642491698
         },
         {
          "x1": 1.6290875967346583,
          "x2": 0.254640810789033,
          "x3": -1.2241166687328222
         },
         {
          "x1": 0.7516505860640135,
          "x2": -1.8499808301902052,
          "x3": -1.2241166687328222
         },
         {
          "x1": 0.058291269939658275,
          "x2": -1.3161555160059668,
          "x3": -0.08283496254583023
         },
         {
          "x1": -0.8191457407309866,
          "x2": -1.3161555160059668,
          "x3": -0.08283496254583023
         },
         {
          "x1": 0.058291269939658275,
          "x2": -0.27918450339520495,
          "x3": -0.08283496254583023
         },
         {
          "x1": 0.058291269939658275,
          "x2": -1.3161555160059668,
          "x3": -2.7949129955278225
         },
         {
          "x1": -0.8191457407309866,
          "x2": -0.27918450339520495,
          "x3": -2.7949129955278225
         },
         {
          "x1": -3.083301383650342,
          "x2": 1.825437137584033,
          "x3": 3.0587576910441703
         },
         {
          "x1": 2.3224469128590135,
          "x2": 1.825437137584033,
          "x3": 3.0587576910441703
         },
         {
          "x1": -3.083301383650342,
          "x2": 2.8624081501947947,
          "x3": 3.0587576910441703
         },
         {
          "x1": -3.083301383650342,
          "x2": 1.825437137584033,
          "x3": 0.3466796580621776
         },
         {
          "x1": 2.3224469128590135,
          "x2": 2.8624081501947947,
          "x3": 0.3466796580621776
         },
         {
          "x1": -3.05875769104417,
          "x2": -1.8315730607355762,
          "x3": -1.7272623671593457
         },
         {
          "x1": -1.2363885150359082,
          "x2": -1.8315730607355762,
          "x3": -1.7272623671593457
         },
         {
          "x1": -3.05875769104417,
          "x2": -0.5491651220630955,
          "x3": -1.7272623671593457
         },
         {
          "x1": -3.05875769104417,
          "x2": -1.8315730607355762,
          "x3": -0.266912657092119
         },
         {
          "x1": -1.2363885150359082,
          "x2": -0.5491651220630955,
          "x3": -0.266912657092119
         },
         {
          "x1": 0.08283496254583023,
          "x2": 1.3100195928544238,
          "x3": 1.414330286430654
         },
         {
          "x1": 1.905204138554092,
          "x2": 1.3100195928544238,
          "x3": 1.414330286430654
         },
         {
          "x1": 0.08283496254583023,
          "x2": 2.592427531526904,
          "x3": 1.414330286430654
         },
         {
          "x1": 0.08283496254583023,
          "x2": 1.3100195928544238,
          "x3": 2.874679996497881
         },
         {
          "x1": 1.905204138554092,
          "x2": 2.592427531526904,
          "x3": 2.874679996497881
         },
         {
          "x1": 1.6536312893408303,
          "x2": -0.2607767339405762,
          "x3": -0.15646604036434564
         },
         {
          "x1": -2.8071848418309084,
          "x2": -0.2607767339405762,
          "x3": -0.15646604036434564
         },
         {
          "x1": 1.6536312893408303,
          "x2": 1.0216312047319045,
          "x3": -0.15646604036434564
         },
         {
          "x1": 1.6536312893408303,
          "x2": -0.2607767339405762,
          "x3": 1.3038836697028806
         },
         {
          "x1": -2.8071848418309084,
          "x2": 1.0216312047319045,
          "x3": 1.3038836697028806
         },
         {
          "x1": -1.48796136424917,
          "x2": 2.8808159196494243,
          "x3": 2.9851266132256544
         },
         {
          "x1": 0.3344078117590916,
          "x2": 2.8808159196494243,
          "x3": 2.9851266132256544
         },
         {
          "x1": -1.48796136424917,
          "x2": -2.1199614488580956,
          "x3": 2.9851266132256544
         },
         {
          "x1": -1.48796136424917,
          "x2": 2.8808159196494243,
          "x3": -1.8377089838871192
         },
         {
          "x1": 0.3344078117590916,
          "x2": -2.1199614488580956,
          "x3": -1.8377089838871192
         },
         {
          "x1": -0.70256320085167,
          "x2": -1.046174897338076,
          "x3": 0.6289321230331542
         },
         {
          "x1": 1.1198059751565914,
          "x2": -1.046174897338076,
          "x3": 0.6289321230331542
         },
         {
          "x1": -0.70256320085167,
          "x2": -2.905359612255596,
          "x3": 0.6289321230331542
         },
         {
          "x1": -0.70256320085167,
          "x2": -1.046174897338076,
          "x3": -1.0523108204896192
         },
         {
          "x1": 1.1198059751565914,
          "x2": -2.905359612255596,
          "x3": -1.0523108204896192
         },
         {
          "x1": 2.43902945273833,
          "x2": 2.0954177562519236,
          "x3": -2.512660530556846
         },
         {
          "x1": -2.021786678433408,
          "x2": 2.0954177562519236,
          "x3": -2.512660530556846
         },
         {
          "x1": 2.43902945273833,
          "x2": 0.23623304133440426,
          "x3": -2.512660530556846
         },
         {
          "x1": 2.43902945273833,
          "x2": 2.0954177562519236,
          "x3": 2.0892818331003813
         },
         {
          "x1": -2.021786678433408,
          "x2": 0.23623304133440426,
          "x3": 2.0892818331003813
         },
         {
          "x1": 0.8682331259433305,
          "x2": -2.616971224133076,
          "x3": 2.1997284498281546
         },
         {
          "x1": 2.690602301951592,
          "x2": -2.616971224133076,
          "x3": 2.1997284498281546
         },
         {
          "x1": 0.8682331259433305,
          "x2": 1.8070293681294043,
          "x3": 2.1997284498281546
         },
         {
          "x1": 0.8682331259433305,
          "x2": -2.616971224133076,
          "x3": 0.5184855063053808
         },
         {
          "x1": 2.690602301951592,
          "x2": 1.8070293681294043,
          "x3": 0.5184855063053808
         },
         {
          "x1": -2.27335952764667,
          "x2": 0.524621429456924,
          "x3": -0.9418642037618459
         },
         {
          "x1": -0.45099035163840817,
          "x2": 0.524621429456924,
          "x3": -0.9418642037618459
         },
         {
          "x1": -2.27335952764667,
          "x2": -1.3345632854605958,
          "x3": -0.9418642037618459
         },
         {
          "x1": -2.27335952764667,
          "x2": 0.524621429456924,
          "x3": -2.6231071472846192
         },
         {
          "x1": -0.45099035163840817,
          "x2": -1.3345632854605958,
          "x3": -2.6231071472846192
         },
         {
          "x1": -1.88066044594792,
          "x2": -0.6534758156393261,
          "x3": 1.8070293681294043
         },
         {
          "x1": -1.6290875967346583,
          "x2": -0.6534758156393261,
          "x3": 1.8070293681294043
         },
         {
          "x1": -1.88066044594792,
          "x2": 2.9851266132256544,
          "x3": 1.8070293681294043
         },
         {
          "x1": -1.88066044594792,
          "x2": -0.6534758156393261,
          "x3": -2.2304080655858693
         },
         {
          "x1": -1.6290875967346583,
          "x2": 2.9851266132256544,
          "x3": -2.2304080655858693
         },
         {
          "x1": 1.26093220764208,
          "x2": 2.488116837950674,
          "x3": -1.3345632854605958
         },
         {
          "x1": 1.5125050568553418,
          "x2": 2.488116837950674,
          "x3": -1.3345632854605958
         },
         {
          "x1": 1.26093220764208,
          "x2": -0.15646604036434564,
          "x3": -1.3345632854605958
         },
         {
          "x1": 1.26093220764208,
          "x2": 2.488116837950674,
          "x3": 0.9111845880041312
         },
         {
          "x1": 1.5125050568553418,
          "x2": -0.15646604036434564,
          "x3": 0.9111845880041312
         },
         {
          "x1": 2.8317285344370804,
          "x2": -2.224272142434326,
          "x3": 0.23623304133440426
         },
         {
          "x1": -0.058291269939658275,
          "x2": -2.224272142434326,
          "x3": 0.23623304133440426
         },
         {
          "x1": 2.8317285344370804,
          "x2": -1.7272623671593457,
          "x3": 0.23623304133440426
         },
         {
          "x1": 2.8317285344370804,
          "x2": -2.224272142434326,
          "x3": 2.4819809147991307
         },
         {
          "x1": -0.058291269939658275,
          "x2": -1.7272623671593457,
          "x3": 2.4819809147991307
         },
         {
          "x1": -0.3098641191529201,
          "x2": 0.9173205111556735,
          "x3": -2.905359612255596
         },
         {
          "x1": 3.0833013836503422,
          "x2": 0.9173205111556735,
          "x3": -2.905359612255596
         },
         {
          "x1": -0.3098641191529201,
          "x2": 1.414330286430654,
          "x3": -2.905359612255596
         },
         {
          "x1": -0.3098641191529201,
          "x2": 0.9173205111556735,
          "x3": -0.6596117387908693
         },
         {
          "x1": 3.0833013836503422,
          "x2": 1.414330286430654,
          "x3": -0.6596117387908693
         },
         {
          "x1": -1.09526228255042,
          "x2": -3.0096703058318264,
          "x3": -0.5491651220630955
         },
         {
          "x1": 2.2979032202528415,
          "x2": -3.0096703058318264,
          "x3": -0.5491651220630955
         },
         {
          "x1": -1.09526228255042,
          "x2": 0.6289321230331542,
          "x3": -0.5491651220630955
         },
         {
          "x1": -1.09526228255042,
          "x2": -3.0096703058318264,
          "x3": -3.015806228983369
         },
         {
          "x1": 2.2979032202528415,
          "x2": 0.6289321230331542,
          "x3": -3.015806228983369
         },
         {
          "x1": 2.0463303710395797,
          "x2": 0.13192234775817369,
          "x3": 2.592427531526904
         },
         {
          "x1": -0.8436894333371581,
          "x2": 0.13192234775817369,
          "x3": 2.592427531526904
         },
         {
          "x1": 2.0463303710395797,
          "x2": -2.512660530556846,
          "x3": 2.592427531526904
         },
         {
          "x1": 2.0463303710395797,
          "x2": 0.13192234775817369,
          "x3": 0.12578642460663092
         },
         {
          "x1": -0.8436894333371581,
          "x2": -2.512660530556846,
          "x3": 0.12578642460663092
         },
         {
          "x1": 0.4755340442445801,
          "x2": -1.4388739790368261,
          "x3": -2.1199614488580956
         },
         {
          "x1": 0.727106893457842,
          "x2": -1.4388739790368261,
          "x3": -2.1199614488580956
         },
         {
          "x1": 0.4755340442445801,
          "x2": -0.9418642037618459,
          "x3": -2.1199614488580956
         },
         {
          "x1": 0.4755340442445801,
          "x2": -1.4388739790368261,
          "x3": 1.696582751401631
         },
         {
          "x1": 0.727106893457842,
          "x2": -0.9418642037618459,
          "x3": 1.696582751401631
         },
         {
          "x1": -2.66605860934542,
          "x2": 1.7027186745531742,
          "x3": 1.0216312047319045
         },
         {
          "x1": -2.414485760132158,
          "x2": 1.7027186745531742,
          "x3": 1.0216312047319045
         },
         {
          "x1": -2.66605860934542,
          "x2": 2.1997284498281546,
          "x3": 1.0216312047319045
         },
         {
          "x1": -2.66605860934542,
          "x2": 1.7027186745531742,
          "x3": -1.445009902188369
         },
         {
          "x1": -2.414485760132158,
          "x2": 2.1997284498281546,
          "x3": -1.445009902188369
         },
         {
          "x1": -2.469709068496045,
          "x2": -1.2425244381874512,
          "x3": -1.5309128263099707
         },
         {
          "x1": 2.494252761102217,
          "x2": -1.2425244381874512,
          "x3": -1.5309128263099707
         },
         {
          "x1": -2.469709068496045,
          "x2": -2.3163109897074707,
          "x3": -1.5309128263099707
         },
         {
          "x1": -2.469709068496045,
          "x2": -1.2425244381874512,
          "x3": 0.32213596545600565
         },
         {
          "x1": 2.494252761102217,
          "x2": -2.3163109897074707,
          "x3": 0.32213596545600565
         },
         {
          "x1": 0.6718835850939553,
          "x2": 1.8990682154025489,
          "x3": 1.6106798272800296
         },
         {
          "x1": -0.6473398924877833,
          "x2": 1.8990682154025489,
          "x3": 1.6106798272800296
         },
         {
          "x1": 0.6718835850939553,
          "x2": 0.8252816638825293,
          "x3": 1.6106798272800296
         },
         {
          "x1": 0.6718835850939553,
          "x2": 1.8990682154025489,
          "x3": -2.819456688133994
         },
         {
          "x1": -0.6473398924877833,
          "x2": 0.8252816638825293,
          "x3": -2.819456688133994
         },
         {
          "x1": 2.2426799118889553,
          "x2": -2.813320764982451,
          "x3": -3.101709153104971
         },
         {
          "x1": 0.9234564343072167,
          "x2": -2.813320764982451,
          "x3": -3.101709153104971
         },
         {
          "x1": 2.2426799118889553,
          "x2": 2.3960779906775294,
          "x3": -3.101709153104971
         },
         {
          "x1": 2.2426799118889553,
          "x2": -2.813320764982451,
          "x3": -1.2486603613389942
         },
         {
          "x1": 0.9234564343072167,
          "x2": 2.3960779906775294,
          "x3": -1.2486603613389942
         },
         {
          "x1": -0.8989127417010447,
          "x2": 0.32827188860754886,
          "x3": 0.03988350048502909
         },
         {
          "x1": -2.2181362192827834,
          "x2": 0.32827188860754886,
          "x3": 0.03988350048502909
         },
         {
          "x1": -0.8989127417010447,
          "x2": -0.7455146629124707,
          "x3": 0.03988350048502909
         },
         {
          "x1": -0.8989127417010447,
          "x2": 0.32827188860754886,
          "x3": 1.8929322922510057
         },
         {
          "x1": -2.2181362192827834,
          "x2": -0.7455146629124707,
          "x3": 1.8929322922510057
         },
         {
          "x1": -0.11351457830354494,
          "x2": -2.027922601584951,
          "x3": 2.3960779906775294
         },
         {
          "x1": -3.003534382680283,
          "x2": -2.027922601584951,
          "x3": 2.3960779906775294
         },
         {
          "x1": -0.11351457830354494,
          "x2": -1.5309128263099707,
          "x3": 2.3960779906775294
         },
         {
          "x1": -0.11351457830354494,
          "x2": -2.027922601584951,
          "x3": 1.1075341288535059
         },
         {
          "x1": -3.003534382680283,
          "x2": -1.5309128263099707,
          "x3": 1.1075341288535059
         },
         {
          "x1": 3.028078075286455,
          "x2": 1.113670052005049,
          "x3": -0.7455146629124707
         },
         {
          "x1": 0.1380582709097169,
          "x2": 1.113670052005049,
          "x3": -0.7455146629124707
         },
         {
          "x1": 3.028078075286455,
          "x2": 1.6106798272800296,
          "x3": -0.7455146629124707
         },
         {
          "x1": 3.028078075286455,
          "x2": 1.113670052005049,
          "x3": -2.034058524736494
         },
         {
          "x1": 0.1380582709097169,
          "x2": 1.6106798272800296,
          "x3": -2.034058524736494
         },
         {
          "x1": 1.4572817484914555,
          "x2": -0.4571262747899514,
          "x3": 0.8252816638825293
         },
         {
          "x1": -1.4327380558852831,
          "x2": -0.4571262747899514,
          "x3": 0.8252816638825293
         },
         {
          "x1": 1.4572817484914555,
          "x2": 0.03988350048502909,
          "x3": 0.8252816638825293
         },
         {
          "x1": 1.4572817484914555,
          "x2": -0.4571262747899514,
          "x3": -0.46326219794149415
         },
         {
          "x1": -1.4327380558852831,
          "x2": 0.03988350048502909,
          "x3": -0.46326219794149415
         },
         {
          "x1": -1.684310905098545,
          "x2": 2.6844663788000487,
          "x3": -2.3163109897074707
         },
         {
          "x1": 1.7088545977047165,
          "x2": 2.6844663788000487,
          "x3": -2.3163109897074707
         },
         {
          "x1": -1.684310905098545,
          "x2": -3.101709153104971,
          "x3": -2.3163109897074707
         },
         {
          "x1": -1.684310905098545,
          "x2": 2.6844663788000487,
          "x3": 2.6783304556485055
         },
         {
          "x1": 1.7088545977047165,
          "x2": -3.101709153104971,
          "x3": 2.6783304556485055
         },
         {
          "x1": -2.077009986797295,
          "x2": -2.4206216832837013,
          "x3": 1.2179807455812792
         },
         {
          "x1": 0.5307573526084668,
          "x2": -2.4206216832837013,
          "x3": 1.2179807455812792
         },
         {
          "x1": -2.077009986797295,
          "x2": 1.2179807455812792,
          "x3": 1.2179807455812792
         },
         {
          "x1": -2.077009986797295,
          "x2": -2.4206216832837013,
          "x3": 2.285631373949756
         },
         {
          "x1": 0.5307573526084668,
          "x2": 1.2179807455812792,
          "x3": 2.285631373949756
         },
         {
          "x1": 1.0645826667927052,
          "x2": 0.7209709703062988,
          "x3": -1.9236119080087208
         },
         {
          "x1": -2.6108353009815333,
          "x2": 0.7209709703062988,
          "x3": -1.9236119080087208
         },
         {
          "x1": 1.0645826667927052,
          "x2": -1.9236119080087208,
          "x3": -1.9236119080087208
         },
         {
          "x1": 1.0645826667927052,
          "x2": 0.7209709703062988,
          "x3": -0.855961279640244
         },
         {
          "x1": -2.6108353009815333,
          "x2": -1.9236119080087208,
          "x3": -0.855961279640244
         },
         {
          "x1": 2.6353789935877048,
          "x2": -0.8498253564887013,
          "x3": 2.7887770723762797
         },
         {
          "x1": 2.101553679403467,
          "x2": -0.8498253564887013,
          "x3": 2.7887770723762797
         },
         {
          "x1": 2.6353789935877048,
          "x2": -0.3528155812137208,
          "x3": 2.7887770723762797
         },
         {
          "x1": 2.6353789935877048,
          "x2": -0.8498253564887013,
          "x3": -2.426757606435244
         },
         {
          "x1": 2.101553679403467,
          "x2": -0.3528155812137208,
          "x3": -2.426757606435244
         },
         {
          "x1": -0.5062136600022948,
          "x2": 2.2917672971012992,
          "x3": -0.3528155812137208
         },
         {
          "x1": -1.0400389741865332,
          "x2": 2.2917672971012992,
          "x3": -0.3528155812137208
         },
         {
          "x1": -0.5062136600022948,
          "x2": 2.7887770723762797,
          "x3": -0.3528155812137208
         },
         {
          "x1": -0.5062136600022948,
          "x2": 2.2917672971012992,
          "x3": 0.714835047154756
         },
         {
          "x1": -1.0400389741865332,
          "x2": 2.7887770723762797,
          "x3": 0.714835047154756
         },
         {
          "x1": -1.2916118233997949,
          "x2": -0.06442719309120104,
          "x3": -2.7090100714062206
         },
         {
          "x1": -0.254640810789033,
          "x2": -0.06442719309120104,
          "x3": -2.7090100714062206
         },
         {
          "x1": -1.2916118233997949,
          "x2": 2.003378908978779,
          "x3": -2.7090100714062206
         },
         {
          "x1": -1.2916118233997949,
          "x2": -0.06442719309120104,
          "x3": 3.071029537347256
         },
         {
          "x1": -0.254640810789033,
          "x2": 2.003378908978779,
          "x3": 3.071029537347256
         },
         {
          "x1": 1.849980830190205,
          "x2": 3.077165460498799,
          "x3": 0.43258258218377943
         },
         {
          "x1": 2.8869518428009666,
          "x2": 3.077165460498799,
          "x3": 0.43258258218377943
         },
         {
          "x1": 1.849980830190205,
          "x2": -1.1382137446112206,
          "x3": 0.43258258218377943
         },
         {
          "x1": 1.849980830190205,
          "x2": 3.077165460498799,
          "x3": -0.07056311624274425
         },
         {
          "x1": 2.8869518428009666,
          "x2": -1.1382137446112206,
          "x3": -0.07056311624274425
         },
         {
          "x1": 0.27918450339520495,
          "x2": -1.6352235198862013,
          "x3": -1.1382137446112206
         },
         {
          "x1": -1.8254371375840333,
          "x2": -1.6352235198862013,
          "x3": -1.1382137446112206
         },
         {
          "x1": 0.27918450339520495,
          "x2": -2.7090100714062206,
          "x3": -1.1382137446112206
         },
         {
          "x1": 0.27918450339520495,
          "x2": -1.6352235198862013,
          "x3": -1.6413594430377443
         },
         {
          "x1": -1.8254371375840333,
          "x2": -2.7090100714062206,
          "x3": -1.6413594430377443
         },
         {
          "x1": -2.862408150194795,
          "x2": 1.5063691337037985,
          "x3": 2.003378908978779
         },
         {
          "x1": 1.316155516005967,
          "x2": 1.5063691337037985,
          "x3": 2.003378908978779
         },
         {
          "x1": -2.862408150194795,
          "x2": 0.43258258218377943,
          "x3": 2.003378908978779
         },
         {
          "x1": -2.862408150194795,
          "x2": 1.5063691337037985,
          "x3": 1.5002332105522562
         },
         {
          "x1": 1.316155516005967,
          "x2": 0.43258258218377943,
          "x3": 1.5002332105522562
         },
         {
          "x1": -2.7642333797701073,
          "x2": -0.3589515043652636,
          "x3": 0.3344078117590916
         },
         {
          "x1": 1.6106798272800296,
          "x2": -0.3589515043652636,
          "x3": 0.3344078117590916
         },
         {
          "x1": -2.7642333797701073,
          "x2": -1.2363885150359082,
          "x3": 0.3344078117590916
         },
         {
          "x1": -2.7642333797701073,
          "x2": -0.3589515043652636,
          "x3": 0.6166602767300682
         },
         {
          "x1": 1.6106798272800296,
          "x2": -1.2363885150359082,
          "x3": 0.6166602767300682
         },
         {
          "x1": 0.37735927381989276,
          "x2": 2.7826411492247365,
          "x3": -2.8071848418309084
         },
         {
          "x1": -1.5309128263099707,
          "x2": 2.7826411492247365,
          "x3": -2.8071848418309084
         },
         {
          "x1": 0.37735927381989276,
          "x2": 1.905204138554092,
          "x3": -2.8071848418309084
         },
         {
          "x1": 0.37735927381989276,
          "x2": 2.7826411492247365,
          "x3": -2.5249323768599314
         },
         {
          "x1": -1.5309128263099707,
          "x2": 1.905204138554092,
          "x3": -2.5249323768599314
         },
         {
          "x1": 1.9481556006148928,
          "x2": -1.9297478311602636,
          "x3": 1.905204138554092
         },
         {
          "x1": 0.03988350048502909,
          "x2": -1.9297478311602636,
          "x3": 1.905204138554092
         },
         {
          "x1": 1.9481556006148928,
          "x2": 0.3344078117590916,
          "x3": 1.905204138554092
         },
         {
          "x1": 1.9481556006148928,
          "x2": -1.9297478311602636,
          "x3": -0.9541360500649319
         },
         {
          "x1": 0.03988350048502909,
          "x2": 0.3344078117590916,
          "x3": -0.9541360500649319
         },
         {
          "x1": -1.1934370529751075,
          "x2": 1.211844822429736,
          "x3": -1.2363885150359082
         },
         {
          "x1": -3.101709153104971,
          "x2": 1.211844822429736,
          "x3": -1.2363885150359082
         },
         {
          "x1": -1.1934370529751075,
          "x2": -2.8071848418309084,
          "x3": -1.2363885150359082
         },
         {
          "x1": -1.1934370529751075,
          "x2": 1.211844822429736,
          "x3": 2.187456603525068
         },
         {
          "x1": -3.101709153104971,
          "x2": -2.8071848418309084,
          "x3": 2.187456603525068
         },
         {
          "x1": -0.4080388895776075,
          "x2": -2.715145994557764,
          "x3": -2.021786678433408
         },
         {
          "x1": -2.3163109897074707,
          "x2": -2.715145994557764,
          "x3": -2.021786678433408
         },
         {
          "x1": -0.4080388895776075,
          "x2": -2.021786678433408,
          "x3": -2.021786678433408
         },
         {
          "x1": -0.4080388895776075,
          "x2": -2.715145994557764,
          "x3": 1.4020584401275684
         },
         {
          "x1": -2.3163109897074707,
          "x2": -2.021786678433408,
          "x3": 1.4020584401275684
         },
         {
          "x1": 2.7335537640123926,
          "x2": 0.4264466590322362,
          "x3": 1.1198059751565914
         },
         {
          "x1": 0.8252816638825293,
          "x2": 0.4264466590322362,
          "x3": 1.1198059751565914
         },
         {
          "x1": 2.7335537640123926,
          "x2": 1.1198059751565914,
          "x3": 1.1198059751565914
         },
         {
          "x1": 2.7335537640123926,
          "x2": 0.4264466590322362,
          "x3": -1.7395342134624316
         },
         {
          "x1": 0.8252816638825293,
          "x2": 1.1198059751565914,
          "x3": -1.7395342134624316
         },
         {
          "x1": 1.162757437217393,
          "x2": -1.1443496677627636,
          "x3": -0.45099035163840817
         },
         {
          "x1": -0.7455146629124707,
          "x2": -1.1443496677627636,
          "x3": -0.45099035163840817
         },
         {
          "x1": 1.162757437217393,
          "x2": 2.690602301951592,
          "x3": -0.45099035163840817
         },
         {
          "x1": 1.162757437217393,
          "x2": -1.1443496677627636,
          "x3": -0.1687378866674316
         },
         {
          "x1": -0.7455146629124707,
          "x2": 2.690602301951592,
          "x3": -0.1687378866674316
         },
         {
          "x1": -1.9788352163726075,
          "x2": 1.9972429858272367,
          "x3": 2.690602301951592
         },
         {
          "x1": 2.3960779906775294,
          "x2": 1.9972429858272367,
          "x3": 2.690602301951592
         },
         {
          "x1": -1.9788352163726075,
          "x2": -0.45099035163840817,
          "x3": 2.690602301951592
         },
         {
          "x1": -1.9788352163726075,
          "x2": 1.9972429858272367,
          "x3": 2.972854766922568
         },
         {
          "x1": 2.3960779906775294,
          "x2": -0.45099035163840817,
          "x3": 2.972854766922568
         },
         {
          "x1": -1.5861361346738574,
          "x2": -2.3224469128590135,
          "x3": -0.058291269939658275
         },
         {
          "x1": 1.2179807455812792,
          "x2": -2.3224469128590135,
          "x3": -0.058291269939658275
         },
         {
          "x1": -1.5861361346738574,
          "x2": 2.2979032202528415,
          "x3": -0.058291269939658275
         },
         {
          "x1": -1.5861361346738574,
          "x2": -2.3224469128590135,
          "x3": 1.7947575218263188
         },
         {
          "x1": 1.2179807455812792,
          "x2": 2.2979032202528415,
          "x3": 1.7947575218263188
         },
         {
          "x1": 1.5554565189161424,
          "x2": 0.8191457407309866,
          "x3": 3.0833013836503422
         },
         {
          "x1": -1.9236119080087208,
          "x2": 0.8191457407309866,
          "x3": 3.0833013836503422
         },
         {
          "x1": 1.5554565189161424,
          "x2": -0.8436894333371581,
          "x3": 3.0833013836503422
         },
         {
          "x1": 1.5554565189161424,
          "x2": 0.8191457407309866,
          "x3": -1.3468351317636817
         },
         {
          "x1": -1.9236119080087208,
          "x2": -0.8436894333371581,
          "x3": -1.3468351317636817
         },
         {
          "x1": 3.126252845711143,
          "x2": -0.7516505860640135,
          "x3": -1.6290875967346583
         },
         {
          "x1": 2.7887770723762797,
          "x2": -0.7516505860640135,
          "x3": -1.6290875967346583
         },
         {
          "x1": 3.126252845711143,
          "x2": -2.414485760132158,
          "x3": -1.6290875967346583
         },
         {
          "x1": 3.126252845711143,
          "x2": -0.7516505860640135,
          "x3": -2.917631458558682
         },
         {
          "x1": 2.7887770723762797,
          "x2": -2.414485760132158,
          "x3": -2.917631458558682
         },
         {
          "x1": -0.015339807878857581,
          "x2": 2.389942067525986,
          "x3": 1.5125050568553418
         },
         {
          "x1": -0.3528155812137208,
          "x2": 2.389942067525986,
          "x3": 1.5125050568553418
         },
         {
          "x1": -0.015339807878857581,
          "x2": 0.727106893457842,
          "x3": 1.5125050568553418
         },
         {
          "x1": -0.015339807878857581,
          "x2": 2.389942067525986,
          "x3": 0.22396119503131828
         },
         {
          "x1": -0.3528155812137208,
          "x2": 0.727106893457842,
          "x3": 0.22396119503131828
         },
         {
          "x1": -0.8007379712763574,
          "x2": -1.5370487494615137,
          "x3": 2.2979032202528415
         },
         {
          "x1": -1.1382137446112206,
          "x2": -1.5370487494615137,
          "x3": 2.2979032202528415
         },
         {
          "x1": -0.8007379712763574,
          "x2": 1.5125050568553418,
          "x3": 2.2979032202528415
         },
         {
          "x1": -0.8007379712763574,
          "x2": -1.5370487494615137,
          "x3": 2.5801556852238186
         },
         {
          "x1": -1.1382137446112206,
          "x2": 1.5125050568553418,
          "x3": 2.5801556852238186
         },
         {
          "x1": 2.3408546823136422,
          "x2": 1.6045439041284864,
          "x3": -0.8436894333371581
         },
         {
          "x1": 2.003378908978779,
          "x2": 1.6045439041284864,
          "x3": -0.8436894333371581
         },
         {
          "x1": 2.3408546823136422,
          "x2": -1.6290875967346583,
          "x3": -0.8436894333371581
         },
         {
          "x1": 2.3408546823136422,
          "x2": 1.6045439041284864,
          "x3": -0.5614369683661815
         },
         {
          "x1": 2.003378908978779,
          "x2": -1.6290875967346583,
          "x3": -0.5614369683661815
         },
         {
          "x1": 0.7700583555186427,
          "x2": -3.1078450762565137,
          "x3": 0.727106893457842
         },
         {
          "x1": -2.7090100714062206,
          "x2": -3.1078450762565137,
          "x3": 0.727106893457842
         },
         {
          "x1": 0.7700583555186427,
          "x2": -0.058291269939658275,
          "x3": 0.727106893457842
         },
         {
          "x1": 0.7700583555186427,
          "x2": -3.1078450762565137,
          "x3": -2.132233295161182
         },
         {
          "x1": -2.7090100714062206,
          "x2": -0.058291269939658275,
          "x3": -2.132233295161182
         },
         {
          "x1": -2.3715342980713574,
          "x2": 0.03374757733348632,
          "x3": -2.414485760132158
         },
         {
          "x1": 0.43258258218377943,
          "x2": 0.03374757733348632,
          "x3": -2.414485760132158
         },
         {
          "x1": -2.3715342980713574,
          "x2": 3.0833013836503422,
          "x3": -2.414485760132158
         },
         {
          "x1": -2.3715342980713574,
          "x2": 0.03374757733348632,
          "x3": 1.009359358428818
         },
         {
          "x1": 0.43258258218377943,
          "x2": 3.0833013836503422,
          "x3": 1.009359358428818
         },
         {
          "x1": -2.5678838389207326,
          "x2": -2.9114955354071386,
          "x3": 2.8869518428009666
         },
         {
          "x1": -0.5491651220630955,
          "x2": -2.9114955354071386,
          "x3": 2.8869518428009666
         },
         {
          "x1": -2.5678838389207326,
          "x2": -3.003534382680283,
          "x3": 2.8869518428009666
         },
         {
          "x1": -2.5678838389207326,
          "x2": -2.9114955354071386,
          "x3": -0.7577865092155567
         },
         {
          "x1": -0.5491651220630955,
          "x2": -3.003534382680283,
          "x3": -0.7577865092155567
         },
         {
          "x1": 0.5737088146692675,
          "x2": 0.2300971181828615,
          "x3": -0.254640810789033
         },
         {
          "x1": 2.592427531526904,
          "x2": 0.2300971181828615,
          "x3": -0.254640810789033
         },
         {
          "x1": 0.5737088146692675,
          "x2": 0.1380582709097169,
          "x3": -0.254640810789033
         },
         {
          "x1": 0.5737088146692675,
          "x2": 0.2300971181828615,
          "x3": 2.383806144374444
         },
         {
          "x1": 2.592427531526904,
          "x2": 0.1380582709097169,
          "x3": 2.383806144374444
         },
         {
          "x1": 2.1445051414642675,
          "x2": -1.3406992086121388,
          "x3": 1.316155516005967
         },
         {
          "x1": -2.1199614488580956,
          "x2": -1.3406992086121388,
          "x3": 1.316155516005967
         },
         {
          "x1": 2.1445051414642675,
          "x2": 1.7088545977047165,
          "x3": 1.316155516005967
         },
         {
          "x1": 2.1445051414642675,
          "x2": -1.3406992086121388,
          "x3": 0.8130098175794434
         },
         {
          "x1": -2.1199614488580956,
          "x2": 1.7088545977047165,
          "x3": 0.8130098175794434
         },
         {
          "x1": -0.9970875121257325,
          "x2": 1.800893444977861,
          "x3": -1.8254371375840333
         },
         {
          "x1": 1.0216312047319045,
          "x2": 1.800893444977861,
          "x3": -1.8254371375840333
         },
         {
          "x1": -0.9970875121257325,
          "x2": -1.4327380558852831,
          "x3": -1.8254371375840333
         },
         {
          "x1": -0.9970875121257325,
          "x2": 1.800893444977861,
          "x3": -2.3285828360105567
         },
         {
          "x1": 1.0216312047319045,
          "x2": -1.4327380558852831,
          "x3": -2.3285828360105567
         },
         {
          "x1": -0.2116893487282323,
          "x2": -0.5553010452146387,
          "x3": -1.0400389741865332
         },
         {
          "x1": 0.23623304133440426,
          "x2": -0.5553010452146387,
          "x3": -1.0400389741865332
         },
         {
          "x1": -0.2116893487282323,
          "x2": -0.6473398924877833,
          "x3": -1.0400389741865332
         },
         {
          "x1": -0.2116893487282323,
          "x2": -0.5553010452146387,
          "x3": -1.5431846726130567
         },
         {
          "x1": 0.23623304133440426,
          "x2": -0.6473398924877833,
          "x3": -1.5431846726130567
         },
         {
          "x1": 2.9299033048617673,
          "x2": 2.5862916083753618,
          "x3": 2.101553679403467
         },
         {
          "x1": -2.905359612255596,
          "x2": 2.5862916083753618,
          "x3": 2.101553679403467
         },
         {
          "x1": 2.9299033048617673,
          "x2": 2.494252761102217,
          "x3": 2.101553679403467
         },
         {
          "x1": 2.9299033048617673,
          "x2": 2.5862916083753618,
          "x3": 1.5984079809769431
         },
         {
          "x1": -2.905359612255596,
          "x2": 2.494252761102217,
          "x3": 1.5984079809769431
         },
         {
          "x1": 1.3591069780667677,
          "x2": -2.1260973720096388,
          "x3": -2.6108353009815333
         },
         {
          "x1": 1.8070293681294043,
          "x2": -2.1260973720096388,
          "x3": -2.6108353009815333
         },
         {
          "x1": 1.3591069780667677,
          "x2": 0.9234564343072167,
          "x3": -2.6108353009815333
         },
         {
          "x1": 1.3591069780667677,
          "x2": -2.1260973720096388,
          "x3": 0.027611654181943557
         },
         {
          "x1": 1.8070293681294043,
          "x2": 0.9234564343072167,
          "x3": 0.027611654181943557
         },
         {
          "x1": -1.7824856755232326,
          "x2": 1.0154952815803613,
          "x3": 0.5307573526084668
         },
         {
          "x1": -1.3345632854605958,
          "x2": 1.0154952815803613,
          "x3": 0.5307573526084668
         },
         {
          "x1": -1.7824856755232326,
          "x2": -2.2181362192827834,
          "x3": 0.5307573526084668
         },
         {
          "x1": -1.7824856755232326,
          "x2": 1.0154952815803613,
          "x3": -3.1139809994080565
         },
         {
          "x1": -1.3345632854605958,
          "x2": -2.2181362192827834,
          "x3": -3.1139809994080565
         },
         {
          "x1": -2.1751847572219827,
          "x2": -0.9480001269133886,
          "x3": -3.003534382680283
         },
         {
          "x1": -2.512660530556846,
          "x2": -0.9480001269133886,
          "x3": -3.003534382680283
         },
         {
          "x1": -2.1751847572219827,
          "x2": 0.5307573526084668,
          "x3": -3.003534382680283
         },
         {
          "x1": -2.1751847572219827,
          "x2": -0.9480001269133886,
          "x3": -1.9358837543118066
         },
         {
          "x1": -2.512660530556846,
          "x2": 0.5307573526084668,
          "x3": -1.9358837543118066
         },
         {
          "x1": 0.9664078963680174,
          "x2": 2.1935925266766114,
          "x3": 0.1380582709097169
         },
         {
          "x1": 0.6289321230331542,
          "x2": 2.1935925266766114,
          "x3": 0.1380582709097169
         },
         {
          "x1": 0.9664078963680174,
          "x2": -2.6108353009815333,
          "x3": 0.1380582709097169
         },
         {
          "x1": 0.9664078963680174,
          "x2": 2.1935925266766114,
          "x3": 1.2057088992781937
         },
         {
          "x1": 0.6289321230331542,
          "x2": -2.6108353009815333,
          "x3": 1.2057088992781937
         },
         {
          "x1": 2.537204223163018,
          "x2": -2.5187964537083887,
          "x3": -1.4327380558852831
         },
         {
          "x1": -0.9418642037618459,
          "x2": -2.5187964537083887,
          "x3": -1.4327380558852831
         },
         {
          "x1": 2.537204223163018,
          "x2": -1.0400389741865332,
          "x3": -1.4327380558852831
         },
         {
          "x1": 2.537204223163018,
          "x2": -2.5187964537083887,
          "x3": 2.7765052260731933
         },
         {
          "x1": -0.9418642037618459,
          "x2": -1.0400389741865332,
          "x3": 2.7765052260731933
         },
         {
          "x1": -0.6043884304269826,
          "x2": 0.6227961998816114,
          "x3": 1.7088545977047165
         },
         {
          "x1": 2.1997284498281546,
          "x2": 0.6227961998816114,
          "x3": 1.7088545977047165
         },
         {
          "x1": -0.6043884304269826,
          "x2": 2.101553679403467,
          "x3": 1.7088545977047165
         },
         {
          "x1": -0.6043884304269826,
          "x2": 0.6227961998816114,
          "x3": -0.3650874275168068
         },
         {
          "x1": 2.1997284498281546,
          "x2": 2.101553679403467,
          "x3": -0.3650874275168068
         },
         {
          "x1": -1.3897865938244824,
          "x2": -1.7333982903108887,
          "x3": 0.9234564343072167
         },
         {
          "x1": 2.9851266132256544,
          "x2": -1.7333982903108887,
          "x3": 0.9234564343072167
         },
         {
          "x1": -1.3897865938244824,
          "x2": 2.8869518428009666,
          "x3": 0.9234564343072167
         },
         {
          "x1": -1.3897865938244824,
          "x2": -1.7333982903108887,
          "x3": -2.7212819177093066
         },
         {
          "x1": 2.9851266132256544,
          "x2": 2.8869518428009666,
          "x3": -2.7212819177093066
         },
         {
          "x1": 1.7518060597655172,
          "x2": 1.4081943632791116,
          "x3": -2.2181362192827834
         },
         {
          "x1": -0.15646604036434564,
          "x2": 1.4081943632791116,
          "x3": -2.2181362192827834
         },
         {
          "x1": 1.7518060597655172,
          "x2": -0.254640810789033,
          "x3": -2.2181362192827834
         },
         {
          "x1": 1.7518060597655172,
          "x2": 1.4081943632791116,
          "x3": 0.42031073588069345
         },
         {
          "x1": -0.15646604036434564,
          "x2": -0.254640810789033,
          "x3": 0.42031073588069345
         },
         {
          "x1": 0.1810097329705176,
          "x2": -0.16260196351588885,
          "x3": 2.494252761102217
         },
         {
          "x1": 1.414330286430654,
          "x2": -0.16260196351588885,
          "x3": 2.494252761102217
         },
         {
          "x1": 0.1810097329705176,
          "x2": -1.8254371375840333,
          "x3": 2.494252761102217
         },
         {
          "x1": 0.1810097329705176,
          "x2": -0.16260196351588885,
          "x3": 1.9911070626756935
         },
         {
          "x1": 1.414330286430654,
          "x2": -1.8254371375840333,
          "x3": 1.9911070626756935
         },
         {
          "x1": -2.9605829206194825,
          "x2": 2.978990690074111,
          "x3": -0.6473398924877833
         },
         {
          "x1": -1.7272623671593457,
          "x2": 2.978990690074111,
          "x3": -0.6473398924877833
         },
         {
          "x1": -2.9605829206194825,
          "x2": 1.316155516005967,
          "x3": -0.6473398924877833
         },
         {
          "x1": -2.9605829206194825,
          "x2": 2.978990690074111,
          "x3": -1.1504855909143066
         },
         {
          "x1": -1.7272623671593457,
          "x2": 1.316155516005967,
          "x3": -1.1504855909143066
         },
         {
          "x1": -3.0096703058318264,
          "x2": -1.09526228255042,
          "x3": 2.641514916739248
         },
         {
          "x1": 0.6780195082454981,
          "x2": -1.09526228255042,
          "x3": 2.641514916739248
         },
         {
          "x1": -3.0096703058318264,
          "x2": 1.954291523766436,
          "x3": 2.641514916739248
         },
         {
          "x1": -3.0096703058318264,
          "x2": -1.09526228255042,
          "x3": -2.9667188437710257
         },
         {
          "x1": 0.6780195082454981,
          "x2": 1.954291523766436,
          "x3": -2.9667188437710257
         },
         {
          "x1": 0.13192234775817369,
          "x2": 2.0463303710395797,
          "x3": -0.5000777368507521
         },
         {
          "x1": -2.463573145344502,
          "x2": 2.0463303710395797,
          "x3": -0.5000777368507521
         },
         {
          "x1": 0.13192234775817369,
          "x2": -1.1873011298235645,
          "x3": -0.5000777368507521
         },
         {
          "x1": 0.13192234775817369,
          "x2": 2.0463303710395797,
          "x3": 0.17487380981897482
         },
         {
          "x1": -2.463573145344502,
          "x2": -1.1873011298235645,
          "x3": 0.17487380981897482
         },
         {
          "x1": 1.7027186745531742,
          "x2": -2.66605860934542,
          "x3": 1.0707185899442484
         },
         {
          "x1": 2.2488158350404985,
          "x2": -2.66605860934542,
          "x3": 1.0707185899442484
         },
         {
          "x1": 1.7027186745531742,
          "x2": -2.7580974566185645,
          "x3": 1.0707185899442484
         },
         {
          "x1": 1.7027186745531742,
          "x2": -2.66605860934542,
          "x3": 1.7456701366139749
         },
         {
          "x1": 2.2488158350404985,
          "x2": -2.7580974566185645,
          "x3": 1.7456701366139749
         },
         {
          "x1": -1.4388739790368261,
          "x2": 0.4755340442445801,
          "x3": -2.0708740636457517
         },
         {
          "x1": -0.892776818549502,
          "x2": 0.4755340442445801,
          "x3": -2.0708740636457517
         },
         {
          "x1": -1.4388739790368261,
          "x2": 0.3834951969714355,
          "x3": -2.0708740636457517
         },
         {
          "x1": -1.4388739790368261,
          "x2": 0.4755340442445801,
          "x3": -1.3959225169760254
         },
         {
          "x1": -0.892776818549502,
          "x2": 0.3834951969714355,
          "x3": -1.3959225169760254
         },
         {
          "x1": -0.6534758156393261,
          "x2": -1.88066044594792,
          "x3": -1.2854759002482519
         },
         {
          "x1": -0.10737865515200173,
          "x2": -1.88066044594792,
          "x3": -1.2854759002482519
         },
         {
          "x1": -0.6534758156393261,
          "x2": 1.1688933603689353,
          "x3": -1.2854759002482519
         },
         {
          "x1": -0.6534758156393261,
          "x2": -1.88066044594792,
          "x3": -2.1813206803735254
         },
         {
          "x1": -0.10737865515200173,
          "x2": 1.1688933603689353,
          "x3": -2.1813206803735254
         },
         {
          "x1": 2.488116837950674,
          "x2": 1.26093220764208,
          "x3": 1.8561167533417482
         },
         {
          "x1": 3.0342139984379983,
          "x2": 1.26093220764208,
          "x3": 1.8561167533417482
         },
         {
          "x1": 2.488116837950674,
          "x2": -1.9726992932210645,
          "x3": 1.8561167533417482
         },
         {
          "x1": 2.488116837950674,
          "x2": 1.26093220764208,
          "x3": 0.9602719732164751
         },
         {
          "x1": 3.0342139984379983,
          "x2": -1.9726992932210645,
          "x3": 0.9602719732164751
         },
         {
          "x1": 0.9173205111556735,
          "x2": -0.3098641191529201,
          "x3": -2.856272227043252
         },
         {
          "x1": -1.678174981947002,
          "x2": -0.3098641191529201,
          "x3": -2.856272227043252
         },
         {
          "x1": 0.9173205111556735,
          "x2": -0.40190296642606427,
          "x3": -2.856272227043252
         },
         {
          "x1": 0.9173205111556735,
          "x2": -0.3098641191529201,
          "x3": 2.5310683000114746
         },
         {
          "x1": -1.678174981947002,
          "x2": -0.40190296642606427,
          "x3": 2.5310683000114746
         },
         {
          "x1": -2.224272142434326,
          "x2": 2.8317285344370804,
          "x3": 0.28532042654674816
         },
         {
          "x1": 1.4634176716429979,
          "x2": 2.8317285344370804,
          "x3": 0.28532042654674816
         },
         {
          "x1": -2.224272142434326,
          "x2": 2.739689687163936,
          "x3": 0.28532042654674816
         },
         {
          "x1": -2.224272142434326,
          "x2": 2.8317285344370804,
          "x3": -0.6105243535785254
         },
         {
          "x1": 1.4634176716429979,
          "x2": 2.739689687163936,
          "x3": -0.6105243535785254
         },
         {
          "x1": -1.8315730607355762,
          "x2": -3.05875769104417,
          "x3": -2.463573145344502
         },
         {
          "x1": 2.641514916739248,
          "x2": -3.05875769104417,
          "x3": -2.463573145344502
         },
         {
          "x1": -1.8315730607355762,
          "x2": -0.7946020481248146,
          "x3": -2.463573145344502
         },
         {
          "x1": -1.8315730607355762,
          "x2": -3.05875769104417,
          "x3": -1.0032234352772753
         },
         {
          "x1": 2.641514916739248,
          "x2": -0.7946020481248146,
          "x3": -1.0032234352772753
         },
         {
          "x1": 1.3100195928544238,
          "x2": 0.08283496254583023,
          "x3": 0.6780195082454981
         },
         {
          "x1": -0.5000777368507521,
          "x2": 0.08283496254583023,
          "x3": 0.6780195082454981
         },
         {
          "x1": 1.3100195928544238,
          "x2": 2.3469906054651855,
          "x3": 0.6780195082454981
         },
         {
          "x1": 1.3100195928544238,
          "x2": 0.08283496254583023,
          "x3": 2.1383692183127243
         },
         {
          "x1": -0.5000777368507521,
          "x2": 2.3469906054651855,
          "x3": 2.1383692183127243
         },
         {
          "x1": 2.8808159196494243,
          "x2": -1.48796136424917,
          "x3": -0.892776818549502
         },
         {
          "x1": 1.0707185899442484,
          "x2": -1.48796136424917,
          "x3": -0.892776818549502
         },
         {
          "x1": 2.8808159196494243,
          "x2": 0.7761942786701854,
          "x3": -0.892776818549502
         },
         {
          "x1": 2.8808159196494243,
          "x2": -1.48796136424917,
          "x3": 0.5675728915177247
         },
         {
          "x1": 1.0707185899442484,
          "x2": 0.7761942786701854,
          "x3": 0.5675728915177247
         },
         {
          "x1": -0.2607767339405762,
          "x2": 1.6536312893408303,
          "x3": 2.2488158350404985
         },
         {
          "x1": -2.0708740636457517,
          "x2": 1.6536312893408303,
          "x3": 2.2488158350404985
         },
         {
          "x1": -0.2607767339405762,
          "x2": -2.3653983749198146,
          "x3": 2.2488158350404985
         },
         {
          "x1": -0.2607767339405762,
          "x2": 1.6536312893408303,
          "x3": -2.5740197620722753
         },
         {
          "x1": -2.0708740636457517,
          "x2": -2.3653983749198146,
          "x3": -2.5740197620722753
         },
         {
          "x1": -1.046174897338076,
          "x2": -0.70256320085167,
          "x3": 1.4634176716429979
         },
         {
          "x1": -2.856272227043252,
          "x2": -0.70256320085167,
          "x3": 1.4634176716429979
         },
         {
          "x1": -1.046174897338076,
          "x2": -1.5800002115223144,
          "x3": 1.4634176716429979
         },
         {
          "x1": -1.046174897338076,
          "x2": -0.70256320085167,
          "x3": -0.21782527187977552
         },
         {
          "x1": -2.856272227043252,
          "x2": -1.5800002115223144,
          "x3": -0.21782527187977552
         },
         {
          "x1": 2.0954177562519236,
          "x2": 2.43902945273833,
          "x3": -1.678174981947002
         },
         {
          "x1": 0.28532042654674816,
          "x2": 2.43902945273833,
          "x3": -1.678174981947002
         },
         {
          "x1": 2.0954177562519236,
          "x2": 1.5615924420676857,
          "x3": -1.678174981947002
         },
         {
          "x1": 2.0954177562519236,
          "x2": 2.43902945273833,
          "x3": 2.923767381710225
         },
         {
          "x1": 0.28532042654674816,
          "x2": 1.5615924420676857,
          "x3": 2.923767381710225
         },
         {
          "x1": 0.524621429456924,
          "x2": -2.27335952764667,
          "x3": 3.0342139984379983
         },
         {
          "x1": -1.2854759002482519,
          "x2": -2.27335952764667,
          "x3": 3.0342139984379983
         },
         {
          "x1": 0.524621429456924,
          "x2": 3.1323887688626852,
          "x3": 3.0342139984379983
         },
         {
          "x1": 0.524621429456924,
          "x2": -2.27335952764667,
          "x3": 1.3529710549152245
         },
         {
          "x1": -1.2854759002482519,
          "x2": 3.1323887688626852,
          "x3": 1.3529710549152245
         },
         {
          "x1": -2.616971224133076,
          "x2": 0.8682331259433305,
          "x3": -0.10737865515200173
         },
         {
          "x1": 1.8561167533417482,
          "x2": 0.8682331259433305,
          "x3": -0.10737865515200173
         },
         {
          "x1": -2.616971224133076,
          "x2": -0.009203884727314371,
          "x3": -0.10737865515200173
         },
         {
          "x1": -2.616971224133076,
          "x2": 0.8682331259433305,
          "x3": -1.7886215986747753
         },
         {
          "x1": 1.8561167533417482,
          "x2": -0.009203884727314371,
          "x3": -1.7886215986747753
         },
         {
          "x1": -2.4206216832837013,
          "x2": -2.077009986797295,
          "x3": 0.4816699673961229
         },
         {
          "x1": -1.874524522796377,
          "x2": -2.077009986797295,
          "x3": 0.4816699673961229
         },
         {
          "x1": -2.4206216832837013,
          "x2": 0.18714565612206036,
          "x3": 0.4816699673961229
         },
         {
          "x1": -2.4206216832837013,
          "x2": -2.077009986797295,
          "x3": 3.1201169225595997
         },
         {
          "x1": -1.874524522796377,
          "x2": 0.18714565612206036,
          "x3": 3.1201169225595997
         },
         {
          "x1": 0.7209709703062988,
          "x2": 1.0645826667927052,
          "x3": -2.659922686193877
         },
         {
          "x1": 1.2670681307936231,
          "x2": 1.0645826667927052,
          "x3": -2.659922686193877
         },
         {
          "x1": 0.7209709703062988,
          "x2": -2.9544469974679397,
          "x3": -2.659922686193877
         },
         {
          "x1": 0.7209709703062988,
          "x2": 1.0645826667927052,
          "x3": -0.021475731030400347
         },
         {
          "x1": 1.2670681307936231,
          "x2": -2.9544469974679397,
          "x3": -0.021475731030400347
         },
         {
          "x1": 2.2917672971012992,
          "x2": -0.5062136600022948,
          "x3": 2.052466294191123
         },
         {
          "x1": -0.3037281960013769,
          "x2": -0.5062136600022948,
          "x3": 2.052466294191123
         },
         {
          "x1": 2.2917672971012992,
          "x2": -1.3836506706729395,
          "x3": 2.052466294191123
         },
         {
          "x1": 2.2917672971012992,
          "x2": -0.5062136600022948,
          "x3": -1.5922720578254004
         },
         {
          "x1": -0.3037281960013769,
          "x2": -1.3836506706729395,
          "x3": -1.5922720578254004
         },
         {
          "x1": -0.8498253564887013,
          "x2": 2.6353789935877048,
          "x3": -1.0891263593988771
         },
         {
          "x1": 2.8378644575886227,
          "x2": 2.6353789935877048,
          "x3": -1.0891263593988771
         },
         {
          "x1": -0.8498253564887013,
          "x2": 1.7579419829170604,
          "x3": -1.0891263593988771
         },
         {
          "x1": -0.8498253564887013,
          "x2": 2.6353789935877048,
          "x3": 1.5493205957645992
         },
         {
          "x1": 2.8378644575886227,
          "x2": 1.7579419829170604,
          "x3": 1.5493205957645992
         },
         {
          "x1": -0.06442719309120104,
          "x2": -1.2916118233997949,
          "x3": -1.874524522796377
         },
         {
          "x1": 2.052466294191123,
          "x2": -1.2916118233997949,
          "x3": -1.874524522796377
         },
         {
          "x1": -0.06442719309120104,
          "x2": 2.54334014631456,
          "x3": -1.874524522796377
         },
         {
          "x1": -0.06442719309120104,
          "x2": -1.2916118233997949,
          "x3": 2.3347187591621
         },
         {
          "x1": 2.052466294191123,
          "x2": 2.54334014631456,
          "x3": 2.3347187591621
         },
         {
          "x1": 3.077165460498799,
          "x2": 1.849980830190205,
          "x3": 1.2670681307936231
         },
         {
          "x1": -1.0891263593988771,
          "x2": 1.849980830190205,
          "x3": 1.2670681307936231
         },
         {
          "x1": 3.077165460498799,
          "x2": -0.5982525072754394,
          "x3": 1.2670681307936231
         },
         {
          "x1": 3.077165460498799,
          "x2": 1.849980830190205,
          "x3": -0.8068738944279006
         },
         {
          "x1": -1.0891263593988771,
          "x2": -0.5982525072754394,
          "x3": -0.8068738944279006
         },
         {
          "x1": 1.5063691337037985,
          "x2": -2.862408150194795,
          "x3": -0.3037281960013769
         },
         {
          "x1": 0.4816699673961229,
          "x2": -2.862408150194795,
          "x3": -0.3037281960013769
         },
         {
          "x1": 1.5063691337037985,
          "x2": -2.1690488340704395,
          "x3": -0.3037281960013769
         },
         {
          "x1": 1.5063691337037985,
          "x2": -2.862408150194795,
          "x3": -2.3776702212229006
         },
         {
          "x1": 0.4816699673961229,
          "x2": -2.1690488340704395,
          "x3": -2.3776702212229006
         },
         {
          "x1": -1.6352235198862013,
          "x2": 0.27918450339520495,
          "x3": 2.8378644575886227
         },
         {
          "x1": -2.659922686193877,
          "x2": 0.27918450339520495,
          "x3": 2.8378644575886227
         },
         {
          "x1": -1.6352235198862013,
          "x2": 0.9725438195195606,
          "x3": 2.8378644575886227
         },
         {
          "x1": -1.6352235198862013,
          "x2": 0.27918450339520495,
          "x3": 0.7639224323670994
         },
         {
          "x1": -2.659922686193877,
          "x2": 0.9725438195195606,
          "x3": 0.7639224323670994
         },
         {
          "x1": -2.027922601584951,
          "x2": -0.11351457830354494,
          "x3": -0.6964272777001268
         },
         {
          "x1": -1.481825441097627,
          "x2": -0.11351457830354494,
          "x3": -0.6964272777001268
         },
         {
          "x1": -2.027922601584951,
          "x2": -2.5617479157691894,
          "x3": -0.6964272777001268
         },
         {
          "x1": -2.027922601584951,
          "x2": -0.11351457830354494,
          "x3": 1.1566215140658498
         },
         {
          "x1": -1.481825441097627,
          "x2": -2.5617479157691894,
          "x3": 1.1566215140658498
         },
         {
          "x1": 1.113670052005049,
          "x2": 3.028078075286455,
          "x3": 2.4451653758898733
         },
         {
          "x1": 1.6597672124923735,
          "x2": 3.028078075286455,
          "x3": 2.4451653758898733
         },
         {
          "x1": 1.113670052005049,
          "x2": 0.5798447378208107,
          "x3": 2.4451653758898733
         },
         {
          "x1": 1.113670052005049,
          "x2": 3.028078075286455,
          "x3": -1.9849711395241505
         },
         {
          "x1": 1.6597672124923735,
          "x2": 0.5798447378208107,
          "x3": -1.9849711395241505
         },
         {
          "x1": 2.6844663788000487,
          "x2": -1.684310905098545,
          "x3": -2.267223604495127
         },
         {
          "x1": -3.052621767892627,
          "x2": -1.684310905098545,
          "x3": -2.267223604495127
         },
         {
          "x1": 2.6844663788000487,
          "x2": 2.1506410646158107,
          "x3": -2.267223604495127
         },
         {
          "x1": 2.6844663788000487,
          "x2": -1.684310905098545,
          "x3": -0.41417481272915024
         },
         {
          "x1": -3.052621767892627,
          "x2": 2.1506410646158107,
          "x3": -0.41417481272915024
         },
         {
          "x1": -0.4571262747899514,
          "x2": 1.4572817484914555,
          "x3": 0.8743690490948728
         },
         {
          "x1": 0.08897088569737299,
          "x2": 1.4572817484914555,
          "x3": 0.8743690490948728
         },
         {
          "x1": -0.4571262747899514,
          "x2": -0.9909515889741893,
          "x3": 0.8743690490948728
         },
         {
          "x1": -0.4571262747899514,
          "x2": 1.4572817484914555,
          "x3": 2.7274178408608494
         },
         {
          "x1": 0.08897088569737299,
          "x2": -0.9909515889741893,
          "x3": 2.7274178408608494
         },
         {
          "x1": -1.2425244381874512,
          "x2": -2.469709068496045,
          "x3": 1.6597672124923735
         },
         {
          "x1": 0.8743690490948728,
          "x2": -2.469709068496045,
          "x3": 1.6597672124923735
         },
         {
          "x1": -1.2425244381874512,
          "x2": -0.20555342557668954,
          "x3": 1.6597672124923735
         },
         {
          "x1": -1.2425244381874512,
          "x2": -2.469709068496045,
          "x3": 0.37122335066834955
         },
         {
          "x1": 0.8743690490948728,
          "x2": -0.20555342557668954,
          "x3": 0.37122335066834955
         },
         {
          "x1": 1.8990682154025489,
          "x2": 0.6718835850939553,
          "x3": -1.481825441097627
         },
         {
          "x1": -2.267223604495127,
          "x2": 0.6718835850939553,
          "x3": -1.481825441097627
         },
         {
          "x1": 1.8990682154025489,
          "x2": 2.9360392280133105,
          "x3": -1.481825441097627
         },
         {
          "x1": 1.8990682154025489,
          "x2": 0.6718835850939553,
          "x3": -2.7703693029216505
         },
         {
          "x1": -2.267223604495127,
          "x2": 2.9360392280133105,
          "x3": -2.7703693029216505
         },
         {
          "x1": 0.32827188860754886,
          "x2": -0.8989127417010447,
          "x3": 0.08897088569737299
         },
         {
          "x1": 2.4451653758898733,
          "x2": -0.8989127417010447,
          "x3": 0.08897088569737299
         },
         {
          "x1": 0.32827188860754886,
          "x2": 1.365242901218311,
          "x3": 0.08897088569737299
         },
         {
          "x1": 0.32827188860754886,
          "x2": -0.8989127417010447,
          "x3": -1.1995729761266505
         },
         {
          "x1": 2.4451653758898733,
          "x2": 1.365242901218311,
          "x3": -1.1995729761266505
         },
         {
          "x1": -2.813320764982451,
          "x2": 2.2426799118889553,
          "x3": -3.052621767892627
         },
         {
          "x1": -0.6964272777001268,
          "x2": 2.2426799118889553,
          "x3": -3.052621767892627
         },
         {
          "x1": -2.813320764982451,
          "x2": -1.7763497523716896,
          "x3": -3.052621767892627
         },
         {
          "x1": -2.813320764982451,
          "x2": 2.2426799118889553,
          "x3": 1.9420196774633496
         },
         {
          "x1": -0.6964272777001268,
          "x2": -1.7763497523716896,
          "x3": 1.9420196774633496
         },
         {
          "x1": -2.9114955354071386,
          "x2": -2.5678838389207326,
          "x3": -0.7946020481248146
         },
         {
          "x1": -2.5617479157691894,
          "x2": -2.5678838389207326,
          "x3": -0.7946020481248146
         },
         {
          "x1": -2.9114955354071386,
          "x2": 2.641514916739248,
          "x3": -0.7946020481248146
         },
         {
          "x1": -2.9114955354071386,
          "x2": -2.5678838389207326,
          "x3": 2.6292430704361625
         },
         {
          "x1": -2.5617479157691894,
          "x2": 2.641514916739248,
          "x3": 2.6292430704361625
         },
         {
          "x1": 0.2300971181828615,
          "x2": 0.5737088146692675,
          "x3": 2.3469906054651855
         },
         {
          "x1": 0.5798447378208107,
          "x2": 0.5737088146692675,
          "x3": 2.3469906054651855
         },
         {
          "x1": 0.2300971181828615,
          "x2": -0.5000777368507521,
          "x3": 2.3469906054651855
         },
         {
          "x1": 0.2300971181828615,
          "x2": 0.5737088146692675,
          "x3": -0.512349583153838
         },
         {
          "x1": 0.5798447378208107,
          "x2": -0.5000777368507521,
          "x3": -0.512349583153838
         },
         {
          "x1": 1.800893444977861,
          "x2": -0.9970875121257325,
          "x3": -2.3653983749198146
         },
         {
          "x1": -0.9909515889741893,
          "x2": -0.9970875121257325,
          "x3": -2.3653983749198146
         },
         {
          "x1": 1.800893444977861,
          "x2": -2.0708740636457517,
          "x3": -2.3653983749198146
         },
         {
          "x1": 1.800893444977861,
          "x2": -0.9970875121257325,
          "x3": -2.083145909948838
         },
         {
          "x1": -0.9909515889741893,
          "x2": -2.0708740636457517,
          "x3": -2.083145909948838
         },
         {
          "x1": -1.3406992086121388,
          "x2": 2.1445051414642675,
          "x3": 0.7761942786701854
         },
         {
          "x1": 2.1506410646158107,
          "x2": 2.1445051414642675,
          "x3": 0.7761942786701854
         },
         {
          "x1": -1.3406992086121388,
          "x2": 1.0707185899442484,
          "x3": 0.7761942786701854
         },
         {
          "x1": -1.3406992086121388,
          "x2": 2.1445051414642675,
          "x3": 1.058446743641162
         },
         {
          "x1": 2.1506410646158107,
          "x2": 1.0707185899442484,
          "x3": 1.058446743641162
         },
         {
          "x1": -0.5553010452146387,
          "x2": -0.2116893487282323,
          "x3": 3.1323887688626852
         },
         {
          "x1": 2.9360392280133105,
          "x2": -0.2116893487282323,
          "x3": 3.1323887688626852
         },
         {
          "x1": -0.5553010452146387,
          "x2": 0.28532042654674816,
          "x3": 3.1323887688626852
         },
         {
          "x1": -0.5553010452146387,
          "x2": -0.2116893487282323,
          "x3": 1.8438449070386618
         },
         {
          "x1": 2.9360392280133105,
          "x2": 0.28532042654674816,
          "x3": 1.8438449070386618
         },
         {
          "x1": 2.5862916083753618,
          "x2": 2.9299033048617673,
          "x3": -0.009203884727314371
         },
         {
          "x1": -0.20555342557668954,
          "x2": 2.9299033048617673,
          "x3": -0.009203884727314371
         },
         {
          "x1": 2.5862916083753618,
          "x2": -2.856272227043252,
          "x3": -0.009203884727314371
         },
         {
          "x1": 2.5862916083753618,
          "x2": 2.9299033048617673,
          "x3": -1.2977477465513378
         },
         {
          "x1": -0.20555342557668954,
          "x2": -2.856272227043252,
          "x3": -1.2977477465513378
         },
         {
          "x1": 1.0154952815803613,
          "x2": -1.7824856755232326,
          "x3": 1.5615924420676857
         },
         {
          "x1": 1.365242901218311,
          "x2": -1.7824856755232326,
          "x3": 1.5615924420676857
         },
         {
          "x1": 1.0154952815803613,
          "x2": -1.2854759002482519,
          "x3": 1.5615924420676857
         },
         {
          "x1": 1.0154952815803613,
          "x2": -1.7824856755232326,
          "x3": -2.868544073346338
         },
         {
          "x1": 1.365242901218311,
          "x2": -1.2854759002482519,
          "x3": -2.868544073346338
         },
         {
          "x1": -2.1260973720096388,
          "x2": 1.3591069780667677,
          "x3": -1.5800002115223144
         },
         {
          "x1": -1.7763497523716896,
          "x2": 1.3591069780667677,
          "x3": -1.5800002115223144
         },
         {
          "x1": -2.1260973720096388,
          "x2": 1.8561167533417482,
          "x3": -1.5800002115223144
         },
         {
          "x1": -2.1260973720096388,
          "x2": 1.3591069780667677,
          "x3": 0.2730485802436622
         },
         {
          "x1": -1.7763497523716896,
          "x2": 1.8561167533417482,
          "x3": 0.2730485802436622
         },
         {
          "x1": -1.7333982903108887,
          "x2": -1.3897865938244824,
          "x3": 1.1688933603689353
         },
         {
          "x1": -0.5982525072754394,
          "x2": -1.3897865938244824,
          "x3": 1.1688933603689353
         },
         {
          "x1": -1.7333982903108887,
          "x2": -0.10737865515200173,
          "x3": 1.1688933603689353
         },
         {
          "x1": -1.7333982903108887,
          "x2": -1.3897865938244824,
          "x3": 1.4511458253399123
         },
         {
          "x1": -0.5982525072754394,
          "x2": -0.10737865515200173,
          "x3": 1.4511458253399123
         },
         {
          "x1": 1.4081943632791116,
          "x2": 1.7518060597655172,
          "x3": -1.9726992932210645
         },
         {
          "x1": 2.54334014631456,
          "x2": 1.7518060597655172,
          "x3": -1.9726992932210645
         },
         {
          "x1": 1.4081943632791116,
          "x2": 3.0342139984379983,
          "x3": -1.9726992932210645
         },
         {
          "x1": 1.4081943632791116,
          "x2": 1.7518060597655172,
          "x3": -1.690446828250088
         },
         {
          "x1": 2.54334014631456,
          "x2": 3.0342139984379983,
          "x3": -1.690446828250088
         },
         {
          "x1": 2.978990690074111,
          "x2": -2.9605829206194825,
          "x3": 2.739689687163936
         },
         {
          "x1": -2.1690488340704395,
          "x2": -2.9605829206194825,
          "x3": 2.739689687163936
         },
         {
          "x1": 2.978990690074111,
          "x2": 1.4634176716429979,
          "x3": 2.739689687163936
         },
         {
          "x1": 2.978990690074111,
          "x2": -2.9605829206194825,
          "x3": -0.11965050145508771
         },
         {
          "x1": -2.1690488340704395,
          "x2": 1.4634176716429979,
          "x3": -0.11965050145508771
         },
         {
          "x1": -0.16260196351588885,
          "x2": 0.1810097329705176,
          "x3": -0.40190296642606427
         },
         {
          "x1": 0.9725438195195606,
          "x2": 0.1810097329705176,
          "x3": -0.40190296642606427
         },
         {
          "x1": -0.16260196351588885,
          "x2": -1.678174981947002,
          "x3": -0.40190296642606427
         },
         {
          "x1": -0.16260196351588885,
          "x2": 0.1810097329705176,
          "x3": 3.021942152134912
         },
         {
          "x1": 0.9725438195195606,
          "x2": -1.678174981947002,
          "x3": 3.021942152134912
         },
         {
          "x1": -0.9480001269133886,
          "x2": -2.1751847572219827,
          "x3": -2.7580974566185645
         },
         {
          "x1": 0.18714565612206036,
          "x2": -2.1751847572219827,
          "x3": -2.7580974566185645
         },
         {
          "x1": -0.9480001269133886,
          "x2": -2.463573145344502,
          "x3": -2.7580974566185645
         },
         {
          "x1": -0.9480001269133886,
          "x2": -2.1751847572219827,
          "x3": 0.6657476619424121
         },
         {
          "x1": 0.18714565612206036,
          "x2": -2.463573145344502,
          "x3": 0.6657476619424121
         },
         {
          "x1": 2.1935925266766114,
          "x2": 0.9664078963680174,
          "x3": 0.3834951969714355
         },
         {
          "x1": -2.9544469974679397,
          "x2": 0.9664078963680174,
          "x3": 0.3834951969714355
         },
         {
          "x1": 2.1935925266766114,
          "x2": 0.6780195082454981,
          "x3": 0.3834951969714355
         },
         {
          "x1": 2.1935925266766114,
          "x2": 0.9664078963680174,
          "x3": -2.475844991647588
         },
         {
          "x1": -2.9544469974679397,
          "x2": 0.6780195082454981,
          "x3": -2.475844991647588
         },
         {
          "x1": 0.6227961998816114,
          "x2": -0.6043884304269826,
          "x3": -1.1873011298235645
         },
         {
          "x1": 1.7579419829170604,
          "x2": -0.6043884304269826,
          "x3": -1.1873011298235645
         },
         {
          "x1": 0.6227961998816114,
          "x2": 2.2488158350404985,
          "x3": -1.1873011298235645
         },
         {
          "x1": 0.6227961998816114,
          "x2": -0.6043884304269826,
          "x3": -0.905048664852588
         },
         {
          "x1": 1.7579419829170604,
          "x2": 2.2488158350404985,
          "x3": -0.905048664852588
         },
         {
          "x1": -2.5187964537083887,
          "x2": 2.537204223163018,
          "x3": 1.954291523766436
         },
         {
          "x1": -1.3836506706729395,
          "x2": 2.537204223163018,
          "x3": 1.954291523766436
         },
         {
          "x1": -2.5187964537083887,
          "x2": -0.892776818549502,
          "x3": 1.954291523766436
         },
         {
          "x1": -2.5187964537083887,
          "x2": 2.537204223163018,
          "x3": 2.236543988737412
         },
         {
          "x1": -1.3836506706729395,
          "x2": -0.892776818549502,
          "x3": 2.236543988737412
         },
         {
          "x1": -2.715145994557764,
          "x2": -0.4080388895776075,
          "x3": -2.1690488340704395
         },
         {
          "x1": 1.5615924420676857,
          "x2": -0.4080388895776075,
          "x3": -2.1690488340704395
         },
         {
          "x1": -2.715145994557764,
          "x2": 0.8743690490948728,
          "x3": -2.1690488340704395
         },
         {
          "x1": -2.715145994557764,
          "x2": -0.4080388895776075,
          "x3": -2.672194532496963
         },
         {
          "x1": 1.5615924420676857,
          "x2": 0.8743690490948728,
          "x3": -2.672194532496963
         },
         {
          "x1": 0.4264466590322362,
          "x2": 2.7335537640123926,
          "x3": 0.9725438195195606
         },
         {
          "x1": -1.5800002115223144,
          "x2": 2.7335537640123926,
          "x3": 0.9725438195195606
         },
         {
          "x1": 0.4264466590322362,
          "x2": -2.267223604495127,
          "x3": 0.9725438195195606
         },
         {
          "x1": 0.4264466590322362,
          "x2": 2.7335537640123926,
          "x3": 0.4693981210930369
         },
         {
          "x1": -1.5800002115223144,
          "x2": -2.267223604495127,
          "x3": 0.4693981210930369
         },
         {
          "x1": 1.9972429858272367,
          "x2": -1.9788352163726075,
          "x3": -0.5982525072754394
         },
         {
          "x1": 3.1323887688626852,
          "x2": -1.9788352163726075,
          "x3": -0.5982525072754394
         },
         {
          "x1": 1.9972429858272367,
          "x2": -0.6964272777001268,
          "x3": -0.5982525072754394
         },
         {
          "x1": 1.9972429858272367,
          "x2": -1.9788352163726075,
          "x3": 2.0401944478880374
         },
         {
          "x1": 3.1323887688626852,
          "x2": -0.6964272777001268,
          "x3": 2.0401944478880374
         },
         {
          "x1": -1.1443496677627636,
          "x2": 1.162757437217393,
          "x3": 2.54334014631456
         },
         {
          "x1": -0.009203884727314371,
          "x2": 1.162757437217393,
          "x3": 2.54334014631456
         },
         {
          "x1": -1.1443496677627636,
          "x2": 2.4451653758898733,
          "x3": 2.54334014631456
         },
         {
          "x1": -1.1443496677627636,
          "x2": 1.162757437217393,
          "x3": -1.1013982057019631
         },
         {
          "x1": -0.009203884727314371,
          "x2": 2.4451653758898733,
          "x3": -1.1013982057019631
         },
         {
          "x1": -0.3589515043652636,
          "x2": -2.7642333797701073,
          "x3": 0.18714565612206036
         },
         {
          "x1": -0.7946020481248146,
          "x2": -2.7642333797701073,
          "x3": 0.18714565612206036
         },
         {
          "x1": -0.3589515043652636,
          "x2": 1.6597672124923735,
          "x3": 0.18714565612206036
         },
         {
          "x1": -0.3589515043652636,
          "x2": -2.7642333797701073,
          "x3": -1.886796369099463
         },
         {
          "x1": -0.7946020481248146,
          "x2": 1.6597672124923735,
          "x3": -1.886796369099463
         },
         {
          "x1": 2.7826411492247365,
          "x2": 0.37735927381989276,
          "x3": -2.9544469974679397
         },
         {
          "x1": 2.3469906054651855,
          "x2": 0.37735927381989276,
          "x3": -2.9544469974679397
         },
         {
          "x1": 2.7826411492247365,
          "x2": -1.481825441097627,
          "x3": -2.9544469974679397
         },
         {
          "x1": 2.7826411492247365,
          "x2": 0.37735927381989276,
          "x3": 1.2547962844905367
         },
         {
          "x1": 2.3469906054651855,
          "x2": -1.481825441097627,
          "x3": 1.2547962844905367
         },
         {
          "x1": 1.211844822429736,
          "x2": -1.1934370529751075,
          "x3": 1.7579419829170604
         },
         {
          "x1": -2.3653983749198146,
          "x2": -1.1934370529751075,
          "x3": 1.7579419829170604
         },
         {
          "x1": 1.211844822429736,
          "x2": -3.052621767892627,
          "x3": 1.7579419829170604
         },
         {
          "x1": 1.211844822429736,
          "x2": -1.1934370529751075,
          "x3": 2.825592611285537
         },
         {
          "x1": -2.3653983749198146,
          "x2": -3.052621767892627,
          "x3": 2.825592611285537
         },
         {
          "x1": -1.9297478311602636,
          "x2": 1.9481556006148928,
          "x3": -1.3836506706729395
         },
         {
          "x1": 0.7761942786701854,
          "x2": 1.9481556006148928,
          "x3": -1.3836506706729395
         },
         {
          "x1": -1.9297478311602636,
          "x2": 0.08897088569737299,
          "x3": -1.3836506706729395
         },
         {
          "x1": -1.9297478311602636,
          "x2": 1.9481556006148928,
          "x3": -0.3160000423044629
         },
         {
          "x1": 0.7761942786701854,
          "x2": 0.08897088569737299,
          "x3": -0.3160000423044629
         },
         {
          "x1": -2.3224469128590135,
          "x2": -1.5861361346738574,
          "x3": 2.1506410646158107
         },
         {
          "x1": 1.954291523766436,
          "x2": -1.5861361346738574,
          "x3": 2.1506410646158107
         },
         {
          "x1": -2.3224469128590135,
          "x2": -1.874524522796377,
          "x3": 2.1506410646158107
         },
         {
          "x1": -2.3224469128590135,
          "x2": -1.5861361346738574,
          "x3": -1.494097287400713
         },
         {
          "x1": 1.954291523766436,
          "x2": -1.874524522796377,
          "x3": -1.494097287400713
         },
         {
          "x1": 0.8191457407309866,
          "x2": 1.5554565189161424,
          "x3": -0.9909515889741893
         },
         {
          "x1": -1.1873011298235645,
          "x2": 1.5554565189161424,
          "x3": -0.9909515889741893
         },
         {
          "x1": 0.8191457407309866,
          "x2": 1.2670681307936231,
          "x3": -0.9909515889741893
         },
         {
          "x1": 0.8191457407309866,
          "x2": 1.5554565189161424,
          "x3": 1.647495366189287
         },
         {
          "x1": -1.1873011298235645,
          "x2": 1.2670681307936231,
          "x3": 1.647495366189287
         },
         {
          "x1": 2.389942067525986,
          "x2": -0.015339807878857581,
          "x3": 0.5798447378208107
         },
         {
          "x1": 0.3834951969714355,
          "x2": -0.015339807878857581,
          "x3": 0.5798447378208107
         },
         {
          "x1": 2.389942067525986,
          "x2": 2.8378644575886227,
          "x3": 0.5798447378208107
         },
         {
          "x1": 2.389942067525986,
          "x2": -0.015339807878857581,
          "x3": 0.07669903939428702
         },
         {
          "x1": 0.3834951969714355,
          "x2": 2.8378644575886227,
          "x3": 0.07669903939428702
         },
         {
          "x1": -0.7516505860640135,
          "x2": 3.126252845711143,
          "x3": -2.5617479157691894
         },
         {
          "x1": -2.7580974566185645,
          "x2": 3.126252845711143,
          "x3": -2.5617479157691894
         },
         {
          "x1": -0.7516505860640135,
          "x2": -0.3037281960013769,
          "x3": -2.5617479157691894
         },
         {
          "x1": -0.7516505860640135,
          "x2": 3.126252845711143,
          "x3": -3.064893614195713
         },
         {
          "x1": -2.7580974566185645,
          "x2": -0.3037281960013769,
          "x3": -3.064893614195713
         },
         {
          "x1": -1.5370487494615137,
          "x2": -0.8007379712763574,
          "x3": -0.20555342557668954
         },
         {
          "x1": -1.9726992932210645,
          "x2": -0.8007379712763574,
          "x3": -0.20555342557668954
         },
         {
          "x1": -1.5370487494615137,
          "x2": -1.0891263593988771,
          "x3": -0.20555342557668954
         },
         {
          "x1": -1.5370487494615137,
          "x2": -0.8007379712763574,
          "x3": -0.7086991240032128
         },
         {
          "x1": -1.9726992932210645,
          "x2": -1.0891263593988771,
          "x3": -0.7086991240032128
         },
         {
          "x1": 1.6045439041284864,
          "x2": 2.3408546823136422,
          "x3": 2.9360392280133105
         },
         {
          "x1": 1.1688933603689353,
          "x2": 2.3408546823136422,
          "x3": 2.9360392280133105
         },
         {
          "x1": 1.6045439041284864,
          "x2": 2.052466294191123,
          "x3": 2.9360392280133105
         },
         {
          "x1": 1.6045439041284864,
          "x2": 2.3408546823136422,
          "x3": 2.432893529586787
         },
         {
          "x1": 1.1688933603689353,
          "x2": 2.052466294191123,
          "x3": 2.432893529586787
         },
         {
          "x1": 0.03374757733348632,
          "x2": -2.3715342980713574,
          "x3": -1.7763497523716896
         },
         {
          "x1": -0.40190296642606427,
          "x2": -2.3715342980713574,
          "x3": -1.7763497523716896
         },
         {
          "x1": 0.03374757733348632,
          "x2": 0.4816699673961229,
          "x3": -1.7763497523716896
         },
         {
          "x1": 0.03374757733348632,
          "x2": -2.3715342980713574,
          "x3": 0.8620972027917873
         },
         {
          "x1": -0.40190296642606427,
          "x2": 0.4816699673961229,
          "x3": 0.8620972027917873
         },
         {
          "x1": -3.1078450762565137,
          "x2": 0.7700583555186427,
          "x3": 1.365242901218311
         },
         {
          "x1": 2.739689687163936,
          "x2": 0.7700583555186427,
          "x3": 1.365242901218311
         },
         {
          "x1": -3.1078450762565137,
          "x2": -2.659922686193877,
          "x3": 1.365242901218311
         },
         {
          "x1": -3.1078450762565137,
          "x2": 0.7700583555186427,
          "x3": -2.279495450798213
         },
         {
          "x1": 2.739689687163936,
          "x2": -2.659922686193877,
          "x3": -2.279495450798213
         },
         {
          "x1": -3.0955732299534278,
          "x2": -2.3592624517682714,
          "x3": 2.3347187591621
         },
         {
          "x1": -1.7886215986747753,
          "x2": -2.3592624517682714,
          "x3": 2.3347187591621
         },
         {
          "x1": -3.0955732299534278,
          "x2": -1.3468351317636817,
          "x3": 2.3347187591621
         },
         {
          "x1": -3.0955732299534278,
          "x2": -2.3592624517682714,
          "x3": 1.6597672124923735
         },
         {
          "x1": -1.7886215986747753,
          "x2": -1.3468351317636817,
          "x3": 1.6597672124923735
         },
         {
          "x1": 0.0460194236365723,
          "x2": 0.7823302018217286,
          "x3": -0.8068738944279006
         },
         {
          "x1": 1.3529710549152245,
          "x2": 0.7823302018217286,
          "x3": -0.8068738944279006
         },
         {
          "x1": 0.0460194236365723,
          "x2": 1.7947575218263188,
          "x3": -0.8068738944279006
         },
         {
          "x1": 0.0460194236365723,
          "x2": 0.7823302018217286,
          "x3": -1.481825441097627
         },
         {
          "x1": 1.3529710549152245,
          "x2": 1.7947575218263188,
          "x3": -1.481825441097627
         },
         {
          "x1": 1.6168157504315719,
          "x2": -0.7884661249732714,
          "x3": 0.7639224323670994
         },
         {
          "x1": -0.21782527187977552,
          "x2": -0.7884661249732714,
          "x3": 0.7639224323670994
         },
         {
          "x1": 1.6168157504315719,
          "x2": 0.22396119503131828,
          "x3": 0.7639224323670994
         },
         {
          "x1": 1.6168157504315719,
          "x2": -0.7884661249732714,
          "x3": -3.052621767892627
         },
         {
          "x1": -0.21782527187977552,
          "x2": 0.22396119503131828,
          "x3": -3.052621767892627
         },
         {
          "x1": -1.5247769031584277,
          "x2": 2.3531265286167287,
          "x3": -2.3776702212229006
         },
         {
          "x1": 2.923767381710225,
          "x2": 2.3531265286167287,
          "x3": -2.3776702212229006
         },
         {
          "x1": -1.5247769031584277,
          "x2": -2.917631458558682,
          "x3": -2.3776702212229006
         },
         {
          "x1": -1.5247769031584277,
          "x2": 2.3531265286167287,
          "x3": 0.08897088569737299
         },
         {
          "x1": 2.923767381710225,
          "x2": -2.917631458558682,
          "x3": 0.08897088569737299
         },
         {
          "x1": -0.7393787397609279,
          "x2": -0.003067961575771605,
          "x3": -0.021475731030400347
         },
         {
          "x1": 2.1383692183127243,
          "x2": -0.003067961575771605,
          "x3": -0.021475731030400347
         },
         {
          "x1": -0.7393787397609279,
          "x2": -2.132233295161182,
          "x3": -0.021475731030400347
         },
         {
          "x1": -0.7393787397609279,
          "x2": -0.003067961575771605,
          "x3": 2.4451653758898733
         },
         {
          "x1": 2.1383692183127243,
          "x2": -2.132233295161182,
          "x3": 2.4451653758898733
         },
         {
          "x1": 2.4022139138290726,
          "x2": 3.1385246920142285,
          "x3": 3.1201169225595997
         },
         {
          "x1": -1.0032234352772753,
          "x2": 3.1385246920142285,
          "x3": 3.1201169225595997
         },
         {
          "x1": 2.4022139138290726,
          "x2": 1.009359358428818,
          "x3": 3.1201169225595997
         },
         {
          "x1": 2.4022139138290726,
          "x2": 3.1385246920142285,
          "x3": -0.6964272777001268
         },
         {
          "x1": -1.0032234352772753,
          "x2": 1.009359358428818,
          "x3": -0.6964272777001268
         },
         {
          "x1": 0.8314175870340721,
          "x2": -1.5738642883707714,
          "x3": -1.5922720578254004
         },
         {
          "x1": 0.5675728915177247,
          "x2": -1.5738642883707714,
          "x3": -1.5922720578254004
         },
         {
          "x1": 0.8314175870340721,
          "x2": 2.5801556852238186,
          "x3": -1.5922720578254004
         },
         {
          "x1": 0.8314175870340721,
          "x2": -1.5738642883707714,
          "x3": -2.267223604495127
         },
         {
          "x1": 0.5675728915177247,
          "x2": 2.5801556852238186,
          "x3": -2.267223604495127
         },
         {
          "x1": -2.310175066555928,
          "x2": 1.5677283652192289,
          "x3": 1.5493205957645992
         },
         {
          "x1": -2.5740197620722753,
          "x2": 1.5677283652192289,
          "x3": 1.5493205957645992
         },
         {
          "x1": -2.310175066555928,
          "x2": -0.5614369683661815,
          "x3": 1.5493205957645992
         },
         {
          "x1": -2.310175066555928,
          "x2": 1.5677283652192289,
          "x3": 0.8743690490948728
         },
         {
          "x1": -2.5740197620722753,
          "x2": -0.5614369683661815,
          "x3": 0.8743690490948728
         },
         {
          "x1": -1.9174759848571779,
          "x2": -1.1811652066720215,
          "x3": -1.9849711395241505
         },
         {
          "x1": -1.3959225169760254,
          "x2": -1.1811652066720215,
          "x3": -1.9849711395241505
         },
         {
          "x1": -1.9174759848571779,
          "x2": 2.187456603525068,
          "x3": -1.9849711395241505
         },
         {
          "x1": -1.9174759848571779,
          "x2": -1.1811652066720215,
          "x3": 0.4816699673961229
         },
         {
          "x1": -1.3959225169760254,
          "x2": 2.187456603525068,
          "x3": 0.4816699673961229
         },
         {
          "x1": 1.2241166687328224,
          "x2": 1.9604274469179783,
          "x3": 1.1566215140658498
         },
         {
          "x1": 1.7456701366139749,
          "x2": 1.9604274469179783,
          "x3": 1.1566215140658498
         },
         {
          "x1": 1.2241166687328224,
          "x2": -0.9541360500649319,
          "x3": 1.1566215140658498
         },
         {
          "x1": 1.2241166687328224,
          "x2": 1.9604274469179783,
          "x3": -2.659922686193877
         },
         {
          "x1": 1.7456701366139749,
          "x2": -0.9541360500649319,
          "x3": -2.659922686193877
         },
         {
          "x1": 2.794912995527822,
          "x2": -2.7519615334670213,
          "x3": -0.41417481272915024
         },
         {
          "x1": -2.9667188437710257,
          "x2": -2.7519615334670213,
          "x3": -0.41417481272915024
         },
         {
          "x1": 2.794912995527822,
          "x2": -2.5249323768599314,
          "x3": -0.41417481272915024
         },
         {
          "x1": 2.794912995527822,
          "x2": -2.7519615334670213,
          "x3": -1.0891263593988771
         },
         {
          "x1": -2.9667188437710257,
          "x2": -2.5249323768599314,
          "x3": -1.0891263593988771
         },
         {
          "x1": -0.3466796580621776,
          "x2": 0.38963112012297874,
          "x3": 2.7274178408608494
         },
         {
          "x1": 0.17487380981897482,
          "x2": 0.38963112012297874,
          "x3": 2.7274178408608494
         },
         {
          "x1": -0.3466796580621776,
          "x2": 0.6166602767300682,
          "x3": 2.7274178408608494
         },
         {
          "x1": -0.3466796580621776,
          "x2": 0.38963112012297874,
          "x3": 2.052466294191123
         },
         {
          "x1": 0.17487380981897482,
          "x2": 0.6166602767300682,
          "x3": 2.052466294191123
         },
         {
          "x1": -1.1320778214596778,
          "x2": -1.9665633700695215,
          "x3": 0.37122335066834955
         },
         {
          "x1": 0.9602719732164751,
          "x2": -1.9665633700695215,
          "x3": 0.37122335066834955
         },
         {
          "x1": -1.1320778214596778,
          "x2": 1.4020584401275684,
          "x3": 0.37122335066834955
         },
         {
          "x1": -1.1320778214596778,
          "x2": -1.9665633700695215,
          "x3": 1.2670681307936231
         },
         {
          "x1": 0.9602719732164751,
          "x2": 1.4020584401275684,
          "x3": 1.2670681307936231
         },
         {
          "x1": 2.0095148321303222,
          "x2": 1.1750292835204785,
          "x3": -2.7703693029216505
         },
         {
          "x1": -2.1813206803735254,
          "x2": 1.1750292835204785,
          "x3": -2.7703693029216505
         },
         {
          "x1": 2.0095148321303222,
          "x2": -1.7395342134624316,
          "x3": -2.7703693029216505
         },
         {
          "x1": 2.0095148321303222,
          "x2": 1.1750292835204785,
          "x3": -1.874524522796377
         },
         {
          "x1": -2.1813206803735254,
          "x2": -1.7395342134624316,
          "x3": -1.874524522796377
         },
         {
          "x1": 0.4387185053353222,
          "x2": -0.3957670432745215,
          "x3": 1.9420196774633496
         },
         {
          "x1": 2.5310683000114746,
          "x2": -0.3957670432745215,
          "x3": 1.9420196774633496
         },
         {
          "x1": 0.4387185053353222,
          "x2": -0.1687378866674316,
          "x3": 1.9420196774633496
         },
         {
          "x1": 0.4387185053353222,
          "x2": -0.3957670432745215,
          "x3": -0.3037281960013769
         },
         {
          "x1": 2.5310683000114746,
          "x2": -0.1687378866674316,
          "x3": -0.3037281960013769
         },
         {
          "x1": -2.702874148254678,
          "x2": 2.745825610315479,
          "x3": -1.1995729761266505
         },
         {
          "x1": -0.6105243535785254,
          "x2": 2.745825610315479,
          "x3": -1.1995729761266505
         },
         {
          "x1": -2.702874148254678,
          "x2": 2.972854766922568,
          "x3": -1.1995729761266505
         },
         {
          "x1": -2.702874148254678,
          "x2": 2.745825610315479,
          "x3": 2.8378644575886227
         },
         {
          "x1": -0.6105243535785254,
          "x2": 2.972854766922568,
          "x3": 2.8378644575886227
         },
         {
          "x1": -2.5065246074053027,
          "x2": -0.5921165841238967,
          "x3": 0.9602719732164751
         },
         {
          "x1": 0.7639224323670994,
          "x2": -0.5921165841238967,
          "x3": 0.9602719732164751
         },
         {
          "x1": -2.5065246074053027,
          "x2": -3.1139809994080565,
          "x3": 0.9602719732164751
         },
         {
          "x1": -2.5065246074053027,
          "x2": -0.5921165841238967,
          "x3": -1.678174981947002
         },
         {
          "x1": 0.7639224323670994,
          "x2": -3.1139809994080565,
          "x3": -1.678174981947002
         },
         {
          "x1": 0.6350680461846974,
          "x2": 2.5494760694661034,
          "x3": -2.1813206803735254
         },
         {
          "x1": -2.3776702212229006,
          "x2": 2.5494760694661034,
          "x3": -2.1813206803735254
         },
         {
          "x1": 0.6350680461846974,
          "x2": 0.027611654181943557,
          "x3": -2.1813206803735254
         },
         {
          "x1": 0.6350680461846974,
          "x2": 2.5494760694661034,
          "x3": 1.4634176716429979
         },
         {
          "x1": -2.3776702212229006,
          "x2": 0.027611654181943557,
          "x3": 1.4634176716429979
         },
         {
          "x1": 2.205864372979697,
          "x2": -2.1629129109188963,
          "x3": 2.5310683000114746
         },
         {
          "x1": 2.3347187591621,
          "x2": -2.1629129109188963,
          "x3": 2.5310683000114746
         },
         {
          "x1": 2.205864372979697,
          "x2": 1.5984079809769431,
          "x3": 2.5310683000114746
         },
         {
          "x1": 2.205864372979697,
          "x2": -2.1629129109188963,
          "x3": 3.0342139984379983
         },
         {
          "x1": 2.3347187591621,
          "x2": 1.5984079809769431,
          "x3": 3.0342139984379983
         },
         {
          "x1": -0.9357282806103027,
          "x2": 0.9786797426711038,
          "x3": -0.6105243535785254
         },
         {
          "x1": -0.8068738944279006,
          "x2": 0.9786797426711038,
          "x3": -0.6105243535785254
         },
         {
          "x1": -0.9357282806103027,
          "x2": -1.5431846726130567,
          "x3": -0.6105243535785254
         },
         {
          "x1": -0.9357282806103027,
          "x2": 0.9786797426711038,
          "x3": -0.10737865515200173
         },
         {
          "x1": -0.8068738944279006,
          "x2": -1.5431846726130567,
          "x3": -0.10737865515200173
         },
         {
          "x1": -0.15033011721280287,
          "x2": -2.9483110743163965,
          "x3": -2.9667188437710257
         },
         {
          "x1": -0.021475731030400347,
          "x2": -2.9483110743163965,
          "x3": -2.9667188437710257
         },
         {
          "x1": -0.15033011721280287,
          "x2": -0.7577865092155567,
          "x3": -2.9667188437710257
         },
         {
          "x1": -0.15033011721280287,
          "x2": -2.9483110743163965,
          "x3": -2.463573145344502
         },
         {
          "x1": -0.021475731030400347,
          "x2": -0.7577865092155567,
          "x3": -2.463573145344502
         },
         {
          "x1": 2.9912625363771976,
          "x2": 0.19328157927360357,
          "x3": 0.17487380981897482
         },
         {
          "x1": 3.1201169225595997,
          "x2": 0.19328157927360357,
          "x3": 0.17487380981897482
         },
         {
          "x1": 2.9912625363771976,
          "x2": 2.383806144374444,
          "x3": 0.17487380981897482
         },
         {
          "x1": 2.9912625363771976,
          "x2": 0.19328157927360357,
          "x3": 0.6780195082454981
         },
         {
          "x1": 3.1201169225595997,
          "x2": 2.383806144374444,
          "x3": 0.6780195082454981
         },
         {
          "x1": 1.4204662095821972,
          "x2": -1.3775147475213965,
          "x3": -1.3959225169760254
         },
         {
          "x1": -1.5922720578254004,
          "x2": -1.3775147475213965,
          "x3": -1.3959225169760254
         },
         {
          "x1": 1.4204662095821972,
          "x2": 0.8130098175794434,
          "x3": -1.3959225169760254
         },
         {
          "x1": 1.4204662095821972,
          "x2": -1.3775147475213965,
          "x3": 2.2488158350404985
         },
         {
          "x1": -1.5922720578254004,
          "x2": 0.8130098175794434,
          "x3": 2.2488158350404985
         },
         {
          "x1": -1.7211264440078027,
          "x2": 1.7640779060686036,
          "x3": 1.7456701366139749
         },
         {
          "x1": 1.5493205957645992,
          "x2": 1.7640779060686036,
          "x3": 1.7456701366139749
         },
         {
          "x1": -1.7211264440078027,
          "x2": -2.3285828360105567,
          "x3": 1.7456701366139749
         },
         {
          "x1": -1.7211264440078027,
          "x2": 1.7640779060686036,
          "x3": -0.892776818549502
         },
         {
          "x1": 1.5493205957645992,
          "x2": -2.3285828360105567,
          "x3": -0.892776818549502
         },
         {
          "x1": -2.113825525706553,
          "x2": -1.7702138292201466,
          "x3": -1.0032234352772753
         },
         {
          "x1": 2.7274178408608494,
          "x2": -1.7702138292201466,
          "x3": -1.0032234352772753
         },
         {
          "x1": -2.113825525706553,
          "x2": 0.42031073588069345,
          "x3": -1.0032234352772753
         },
         {
          "x1": -2.113825525706553,
          "x2": -1.7702138292201466,
          "x3": -0.5000777368507521
         },
         {
          "x1": 2.7274178408608494,
          "x2": 0.42031073588069345,
          "x3": -0.5000777368507521
         },
         {
          "x1": 1.0277671278834477,
          "x2": 1.3713788243698533,
          "x3": 2.1383692183127243
         },
         {
          "x1": -0.41417481272915024,
          "x2": 1.3713788243698533,
          "x3": 2.1383692183127243
         },
         {
          "x1": 1.0277671278834477,
          "x2": -2.7212819177093066,
          "x3": 2.1383692183127243
         },
         {
          "x1": 1.0277671278834477,
          "x2": 1.3713788243698533,
          "x3": 2.641514916739248
         },
         {
          "x1": -0.41417481272915024,
          "x2": -2.7212819177093066,
          "x3": 2.641514916739248
         },
         {
          "x1": 2.5985634546784473,
          "x2": -0.19941750242514633,
          "x3": -2.5740197620722753
         },
         {
          "x1": 1.1566215140658498,
          "x2": -0.19941750242514633,
          "x3": -2.5740197620722753
         },
         {
          "x1": 2.5985634546784473,
          "x2": -1.1504855909143066,
          "x3": -2.5740197620722753
         },
         {
          "x1": 2.5985634546784473,
          "x2": -0.19941750242514633,
          "x3": 1.0707185899442484
         },
         {
          "x1": 1.1566215140658498,
          "x2": -1.1504855909143066,
          "x3": 1.0707185899442484
         },
         {
          "x1": -0.5430291989115528,
          "x2": 2.9421751511648537,
          "x3": 0.5675728915177247
         },
         {
          "x1": -1.9849711395241505,
          "x2": 2.9421751511648537,
          "x3": 0.5675728915177247
         },
         {
          "x1": -0.5430291989115528,
          "x2": 1.9911070626756935,
          "x3": 0.5675728915177247
         },
         {
          "x1": -0.5430291989115528,
          "x2": 2.9421751511648537,
          "x3": -2.0708740636457517
         },
         {
          "x1": -1.9849711395241505,
          "x2": 1.9911070626756935,
          "x3": -2.0708740636457517
         },
         {
          "x1": -1.3284273623090528,
          "x2": -0.9848156658226466,
          "x3": 2.923767381710225
         },
         {
          "x1": -2.7703693029216505,
          "x2": -0.9848156658226466,
          "x3": 2.923767381710225
         },
         {
          "x1": -1.3284273623090528,
          "x2": 2.7765052260731933,
          "x3": 2.923767381710225
         },
         {
          "x1": -1.3284273623090528,
          "x2": -0.9848156658226466,
          "x3": -1.2854759002482519
         },
         {
          "x1": -2.7703693029216505,
          "x2": 2.7765052260731933,
          "x3": -1.2854759002482519
         },
         {
          "x1": 1.8131652912809475,
          "x2": 2.156776987767354,
          "x3": -0.21782527187977552
         },
         {
          "x1": 0.37122335066834955,
          "x2": 2.156776987767354,
          "x3": -0.21782527187977552
         },
         {
          "x1": 1.8131652912809475,
          "x2": -0.3650874275168068,
          "x3": -0.21782527187977552
         },
         {
          "x1": 1.8131652912809475,
          "x2": 2.156776987767354,
          "x3": 1.8561167533417482
         },
         {
          "x1": 0.37122335066834955,
          "x2": -0.3650874275168068,
          "x3": 1.8561167533417482
         },
         {
          "x1": 0.24236896448594747,
          "x2": -2.5556119926176466,
          "x3": 1.3529710549152245
         },
         {
          "x1": -1.1995729761266505,
          "x2": -2.5556119926176466,
          "x3": 1.3529710549152245
         },
         {
          "x1": 0.24236896448594747,
          "x2": -1.9358837543118066,
          "x3": 1.3529710549152245
         },
         {
          "x1": 0.24236896448594747,
          "x2": -2.5556119926176466,
          "x3": 0.28532042654674816
         },
         {
          "x1": -1.1995729761266505,
          "x2": -1.9358837543118066,
          "x3": 0.28532042654674816
         },
         {
          "x1": -2.8992236891040526,
          "x2": 0.5859806609723535,
          "x3": -1.7886215986747753
         },
         {
          "x1": 1.9420196774633496,
          "x2": 0.5859806609723535,
          "x3": -1.7886215986747753
         },
         {
          "x1": -2.8992236891040526,
          "x2": 1.2057088992781937,
          "x3": -1.7886215986747753
         },
         {
          "x1": -2.8992236891040526,
          "x2": 0.5859806609723535,
          "x3": -2.856272227043252
         },
         {
          "x1": 1.9420196774633496,
          "x2": 1.2057088992781937,
          "x3": -2.856272227043252
         },
         {
          "x1": -2.8010489186793652,
          "x2": -0.8866408953979592,
          "x3": -0.512349583153838
         },
         {
          "x1": 1.4511458253399123,
          "x2": -0.8866408953979592,
          "x3": -0.512349583153838
         },
         {
          "x1": -2.8010489186793652,
          "x2": -0.46326219794149415,
          "x3": -0.512349583153838
         },
         {
          "x1": -2.8010489186793652,
          "x2": -0.8866408953979592,
          "x3": -1.9726992932210645
         },
         {
          "x1": 1.4511458253399123,
          "x2": -0.46326219794149415,
          "x3": -1.9726992932210645
         },
         {
          "x1": 0.34054373491063483,
          "x2": 2.254951758192041,
          "x3": 2.6292430704361625
         },
         {
          "x1": -1.690446828250088,
          "x2": 2.254951758192041,
          "x3": 2.6292430704361625
         },
         {
          "x1": 0.34054373491063483,
          "x2": 2.6783304556485055,
          "x3": 2.6292430704361625
         },
         {
          "x1": 0.34054373491063483,
          "x2": 2.254951758192041,
          "x3": 1.1688933603689353
         },
         {
          "x1": -1.690446828250088,
          "x2": 2.6783304556485055,
          "x3": 1.1688933603689353
         },
         {
          "x1": 1.9113400617056344,
          "x2": -2.457437222192959,
          "x3": -2.083145909948838
         },
         {
          "x1": 3.021942152134912,
          "x2": -2.457437222192959,
          "x3": -2.083145909948838
         },
         {
          "x1": 1.9113400617056344,
          "x2": 1.1075341288535059,
          "x3": -2.083145909948838
         },
         {
          "x1": 1.9113400617056344,
          "x2": -2.457437222192959,
          "x3": 2.739689687163936
         },
         {
          "x1": 3.021942152134912,
          "x2": 1.1075341288535059,
          "x3": 2.739689687163936
         },
         {
          "x1": -1.2302525918843652,
          "x2": 0.6841554313970408,
          "x3": 1.058446743641162
         },
         {
          "x1": -0.11965050145508771,
          "x2": 0.6841554313970408,
          "x3": 1.058446743641162
         },
         {
          "x1": -1.2302525918843652,
          "x2": -2.034058524736494,
          "x3": 1.058446743641162
         },
         {
          "x1": -1.2302525918843652,
          "x2": 0.6841554313970408,
          "x3": -0.40190296642606427
         },
         {
          "x1": -0.11965050145508771,
          "x2": -2.034058524736494,
          "x3": -0.40190296642606427
         },
         {
          "x1": -0.4448544284868654,
          "x2": -1.672039058795459,
          "x3": 1.8438449070386618
         },
         {
          "x1": -0.905048664852588,
          "x2": -1.672039058795459,
          "x3": 1.8438449070386618
         },
         {
          "x1": -0.4448544284868654,
          "x2": -2.819456688133994,
          "x3": 1.8438449070386618
         },
         {
          "x1": -0.4448544284868654,
          "x2": -1.672039058795459,
          "x3": -2.7580974566185645
         },
         {
          "x1": -0.905048664852588,
          "x2": -2.819456688133994,
          "x3": -2.7580974566185645
         },
         {
          "x1": 2.696738225103135,
          "x2": 1.469553594794541,
          "x3": -1.2977477465513378
         },
         {
          "x1": 2.236543988737412,
          "x2": 1.469553594794541,
          "x3": -1.2977477465513378
         },
         {
          "x1": 2.696738225103135,
          "x2": 0.32213596545600565,
          "x3": -1.2977477465513378
         },
         {
          "x1": 2.696738225103135,
          "x2": 1.469553594794541,
          "x3": 0.3834951969714355
         },
         {
          "x1": 2.236543988737412,
          "x2": 0.32213596545600565,
          "x3": 0.3834951969714355
         },
         {
          "x1": 1.1259418983081346,
          "x2": -0.10124273200045897,
          "x3": 0.2730485802436622
         },
         {
          "x1": -2.475844991647588,
          "x2": -0.10124273200045897,
          "x3": 0.2730485802436622
         },
         {
          "x1": 1.1259418983081346,
          "x2": 1.8929322922510057,
          "x3": 0.2730485802436622
         },
         {
          "x1": 1.1259418983081346,
          "x2": -0.10124273200045897,
          "x3": 1.954291523766436
         },
         {
          "x1": -2.475844991647588,
          "x2": 1.8929322922510057,
          "x3": 1.954291523766436
         },
         {
          "x1": -2.0156507552818654,
          "x2": 3.0403499215895406,
          "x3": -2.868544073346338
         },
         {
          "x1": 0.6657476619424121,
          "x2": 3.0403499215895406,
          "x3": -2.868544073346338
         },
         {
          "x1": -2.0156507552818654,
          "x2": -1.2486603613389942,
          "x3": -2.868544073346338
         },
         {
          "x1": -2.0156507552818654,
          "x2": 3.0403499215895406,
          "x3": -1.1873011298235645
         },
         {
          "x1": 0.6657476619424121,
          "x2": -1.2486603613389942,
          "x3": -1.1873011298235645
         },
         {
          "x1": -1.6229516735831153,
          "x2": -2.850136303891709,
          "x3": 0.6657476619424121
         },
         {
          "x1": 1.8438449070386618,
          "x2": -2.850136303891709,
          "x3": 0.6657476619424121
         },
         {
          "x1": -1.6229516735831153,
          "x2": 3.071029537347256,
          "x3": 0.6657476619424121
         },
         {
          "x1": -1.6229516735831153,
          "x2": -2.850136303891709,
          "x3": -0.009203884727314371
         },
         {
          "x1": 1.8438449070386618,
          "x2": 3.071029537347256,
          "x3": -0.009203884727314371
         },
         {
          "x1": 1.518640980006885,
          "x2": 0.29145634969829093,
          "x3": -2.475844991647588
         },
         {
          "x1": -1.2977477465513378,
          "x2": 0.29145634969829093,
          "x3": -2.475844991647588
         },
         {
          "x1": 1.518640980006885,
          "x2": -0.07056311624274425,
          "x3": -2.475844991647588
         },
         {
          "x1": 1.518640980006885,
          "x2": 0.29145634969829093,
          "x3": 3.1323887688626852
         },
         {
          "x1": -1.2977477465513378,
          "x2": -0.07056311624274425,
          "x3": 3.1323887688626852
         },
         {
          "x1": 3.0894373068018846,
          "x2": -1.279339977096709,
          "x3": 2.236543988737412
         },
         {
          "x1": 0.2730485802436622,
          "x2": -1.279339977096709,
          "x3": 2.236543988737412
         },
         {
          "x1": 3.0894373068018846,
          "x2": -1.6413594430377443,
          "x3": 2.236543988737412
         },
         {
          "x1": 3.0894373068018846,
          "x2": -1.279339977096709,
          "x3": 1.5615924420676857
         },
         {
          "x1": 0.2730485802436622,
          "x2": -1.6413594430377443,
          "x3": 1.5615924420676857
         },
         {
          "x1": -0.052155346788115065,
          "x2": 1.8622526764932914,
          "x3": -0.905048664852588
         },
         {
          "x1": -2.868544073346338,
          "x2": 1.8622526764932914,
          "x3": -0.905048664852588
         },
         {
          "x1": -0.052155346788115065,
          "x2": 1.5002332105522562,
          "x3": -0.905048664852588
         },
         {
          "x1": -0.052155346788115065,
          "x2": 1.8622526764932914,
          "x3": -1.5800002115223144
         },
         {
          "x1": -2.868544073346338,
          "x2": 1.5002332105522562,
          "x3": -1.5800002115223144
         },
         {
          "x1": -0.8375535101856153,
          "x2": -0.49394181369920886,
          "x3": -1.690446828250088
         },
         {
          "x1": -2.083145909948838,
          "x2": -0.49394181369920886,
          "x3": -1.690446828250088
         },
         {
          "x1": -0.8375535101856153,
          "x2": 0.714835047154756,
          "x3": -1.690446828250088
         },
         {
          "x1": -0.8375535101856153,
          "x2": -0.49394181369920886,
          "x3": -0.7946020481248146
         },
         {
          "x1": -2.083145909948838,
          "x2": 0.714835047154756,
          "x3": -0.7946020481248146
         },
         {
          "x1": 2.3040391434043848,
          "x2": 2.647650839890791,
          "x3": 1.4511458253399123
         },
         {
          "x1": 1.058446743641162,
          "x2": 2.647650839890791,
          "x3": 1.4511458253399123
         },
         {
          "x1": 2.3040391434043848,
          "x2": -2.426757606435244,
          "x3": 1.4511458253399123
         },
         {
          "x1": 2.3040391434043848,
          "x2": 2.647650839890791,
          "x3": 2.3469906054651855
         },
         {
          "x1": 1.058446743641162,
          "x2": -2.426757606435244,
          "x3": 2.3469906054651855
         },
         {
          "x1": 0.7332428166093847,
          "x2": -2.0647381404942093,
          "x3": -0.11965050145508771
         },
         {
          "x1": -0.512349583153838,
          "x2": -2.0647381404942093,
          "x3": -0.11965050145508771
         },
         {
          "x1": 0.7332428166093847,
          "x2": -0.855961279640244,
          "x3": -0.11965050145508771
         },
         {
          "x1": 0.7332428166093847,
          "x2": -2.0647381404942093,
          "x3": 0.7761942786701854
         },
         {
          "x1": -0.512349583153838,
          "x2": -0.855961279640244,
          "x3": 0.7761942786701854
         },
         {
          "x1": -2.4083498369806153,
          "x2": 1.0768545130957907,
          "x3": 3.021942152134912
         },
         {
          "x1": 2.6292430704361625,
          "x2": 1.0768545130957907,
          "x3": 3.021942152134912
         },
         {
          "x1": -2.4083498369806153,
          "x2": 2.285631373949756,
          "x3": 3.021942152134912
         },
         {
          "x1": -2.4083498369806153,
          "x2": 1.0768545130957907,
          "x3": -2.3653983749198146
         },
         {
          "x1": 2.6292430704361625,
          "x2": 2.285631373949756,
          "x3": -2.3653983749198146
         },
         {
          "x1": -2.6046993778299905,
          "x2": -2.261087681343584,
          "x3": -2.672194532496963
         },
         {
          "x1": -2.672194532496963,
          "x2": -2.261087681343584,
          "x3": -2.672194532496963
         },
         {
          "x1": -2.6046993778299905,
          "x2": -2.2304080655858693,
          "x3": -2.672194532496963
         },
         {
          "x1": -2.6046993778299905,
          "x2": -2.261087681343584,
          "x3": 2.1506410646158107
         },
         {
          "x1": -2.672194532496963,
          "x2": -2.2304080655858693,
          "x3": 2.1506410646158107
         },
         {
          "x1": 0.5368932757600096,
          "x2": 0.880504972246416,
          "x3": 0.4693981210930369
         },
         {
          "x1": 0.4693981210930369,
          "x2": 0.880504972246416,
          "x3": 0.4693981210930369
         },
         {
          "x1": 0.5368932757600096,
          "x2": 0.9111845880041312,
          "x3": 0.4693981210930369
         },
         {
          "x1": 0.5368932757600096,
          "x2": 0.880504972246416,
          "x3": -0.9909515889741893
         },
         {
          "x1": 0.4693981210930369,
          "x2": 0.9111845880041312,
          "x3": -0.9909515889741893
         },
         {
          "x1": 2.10768960255501,
          "x2": -0.690291354548584,
          "x3": -1.1013982057019631
         },
         {
          "x1": -1.1013982057019631,
          "x2": -0.690291354548584,
          "x3": -1.1013982057019631
         },
         {
          "x1": 2.10768960255501,
          "x2": 2.4819809147991307,
          "x3": -1.1013982057019631
         },
         {
          "x1": 2.10768960255501,
          "x2": -0.690291354548584,
          "x3": -2.5617479157691894
         },
         {
          "x1": -1.1013982057019631,
          "x2": 2.4819809147991307,
          "x3": -2.5617479157691894
         },
         {
          "x1": -1.0339030510349905,
          "x2": 2.4513012990414165,
          "x3": 2.0401944478880374
         },
         {
          "x1": 2.0401944478880374,
          "x2": 2.4513012990414165,
          "x3": 2.0401944478880374
         },
         {
          "x1": -1.0339030510349905,
          "x2": -0.6596117387908693,
          "x3": 2.0401944478880374
         },
         {
          "x1": -1.0339030510349905,
          "x2": 2.4513012990414165,
          "x3": 0.5798447378208107
         },
         {
          "x1": 2.0401944478880374,
          "x2": -0.6596117387908693,
          "x3": 0.5798447378208107
         },
         {
          "x1": -0.24850488763749023,
          "x2": -1.475689517946084,
          "x3": 1.2547962844905367
         },
         {
          "x1": 2.825592611285537,
          "x2": -1.475689517946084,
          "x3": 1.2547962844905367
         },
         {
          "x1": -0.24850488763749023,
          "x2": -1.445009902188369,
          "x3": 1.2547962844905367
         },
         {
          "x1": -0.24850488763749023,
          "x2": -1.475689517946084,
          "x3": 2.9360392280133105
         },
         {
          "x1": 2.825592611285537,
          "x2": -1.445009902188369,
          "x3": 2.9360392280133105
         },
         {
          "x1": 2.89308776595251,
          "x2": 1.6659031356439158,
          "x3": -1.886796369099463
         },
         {
          "x1": -0.3160000423044629,
          "x2": 1.6659031356439158,
          "x3": -1.886796369099463
         },
         {
          "x1": 2.89308776595251,
          "x2": 1.696582751401631,
          "x3": -1.886796369099463
         },
         {
          "x1": 2.89308776595251,
          "x2": 1.6659031356439158,
          "x3": -0.20555342557668954
         },
         {
          "x1": -0.3160000423044629,
          "x2": 1.696582751401631,
          "x3": -0.20555342557668954
         },
         {
          "x1": 1.3222914391575094,
          "x2": -3.046485844741084,
          "x3": 2.825592611285537
         },
         {
          "x1": 1.2547962844905367,
          "x2": -3.046485844741084,
          "x3": 2.825592611285537
         },
         {
          "x1": 1.3222914391575094,
          "x2": 0.12578642460663092,
          "x3": 2.825592611285537
         },
         {
          "x1": 1.3222914391575094,
          "x2": -3.046485844741084,
          "x3": -1.7763497523716896
         },
         {
          "x1": 1.2547962844905367,
          "x2": 0.12578642460663092,
          "x3": -1.7763497523716896
         },
         {
          "x1": -1.8193012144324903,
          "x2": 0.0951068088489162,
          "x3": -0.3160000423044629
         },
         {
          "x1": -1.886796369099463,
          "x2": 0.0951068088489162,
          "x3": -0.3160000423044629
         },
         {
          "x1": -1.8193012144324903,
          "x2": -3.015806228983369,
          "x3": -0.3160000423044629
         },
         {
          "x1": -1.8193012144324903,
          "x2": 0.0951068088489162,
          "x3": 1.365242901218311
         },
         {
          "x1": -1.886796369099463,
          "x2": -3.015806228983369,
          "x3": 1.365242901218311
         },
         {
          "x1": -2.21200029613124,
          "x2": -0.29759227284983414,
          "x3": 2.432893529586787
         },
         {
          "x1": -0.7086991240032128,
          "x2": -0.29759227284983414,
          "x3": 2.432893529586787
         },
         {
          "x1": -2.21200029613124,
          "x2": 1.3038836697028806,
          "x3": 2.432893529586787
         },
         {
          "x1": -2.21200029613124,
          "x2": -0.29759227284983414,
          "x3": 0.18714565612206036
         },
         {
          "x1": -0.7086991240032128,
          "x2": 1.3038836697028806,
          "x3": 0.18714565612206036
         },
         {
          "x1": 0.9295923574587599,
          "x2": 2.844000380740166,
          "x3": -0.7086991240032128
         },
         {
          "x1": 2.432893529586787,
          "x2": 2.844000380740166,
          "x3": -0.7086991240032128
         },
         {
          "x1": 0.9295923574587599,
          "x2": -1.8377089838871192,
          "x3": -0.7086991240032128
         },
         {
          "x1": 0.9295923574587599,
          "x2": 2.844000380740166,
          "x3": -2.9544469974679397
         },
         {
          "x1": 2.432893529586787,
          "x2": -1.8377089838871192,
          "x3": -2.9544469974679397
         },
         {
          "x1": 2.5003886842537595,
          "x2": -1.868388599644834,
          "x3": 0.8620972027917873
         },
         {
          "x1": -2.279495450798213,
          "x2": -1.868388599644834,
          "x3": 0.8620972027917873
         },
         {
          "x1": 2.5003886842537595,
          "x2": -0.266912657092119,
          "x3": 0.8620972027917873
         },
         {
          "x1": 2.5003886842537595,
          "x2": -1.868388599644834,
          "x3": -1.3836506706729395
         },
         {
          "x1": -2.279495450798213,
          "x2": -0.266912657092119,
          "x3": -1.3836506706729395
         },
         {
          "x1": -0.6412039693362401,
          "x2": 1.2732040539451663,
          "x3": -2.279495450798213
         },
         {
          "x1": 0.8620972027917873,
          "x2": 1.2732040539451663,
          "x3": -2.279495450798213
         },
         {
          "x1": -0.6412039693362401,
          "x2": 2.874679996497881,
          "x3": -2.279495450798213
         },
         {
          "x1": -0.6412039693362401,
          "x2": 1.2732040539451663,
          "x3": 1.7579419829170604
         },
         {
          "x1": 0.8620972027917873,
          "x2": 2.874679996497881,
          "x3": 1.7579419829170604
         },
         {
          "x1": -1.4266021327337404,
          "x2": -2.653786763042334,
          "x3": -1.494097287400713
         },
         {
          "x1": 0.07669903939428702,
          "x2": -2.653786763042334,
          "x3": -1.494097287400713
         },
         {
          "x1": -1.4266021327337404,
          "x2": 2.0892818331003813,
          "x3": -1.494097287400713
         },
         {
          "x1": -1.4266021327337404,
          "x2": -2.653786763042334,
          "x3": 0.9725438195195606
         },
         {
          "x1": 0.07669903939428702,
          "x2": 2.0892818331003813,
          "x3": 0.9725438195195606
         },
         {
          "x1": 1.7149905208562597,
          "x2": 0.4878058905476661,
          "x3": 1.647495366189287
         },
         {
          "x1": -3.064893614195713,
          "x2": 0.4878058905476661,
          "x3": 1.647495366189287
         },
         {
          "x1": 1.7149905208562597,
          "x2": -1.0523108204896192,
          "x3": 1.647495366189287
         },
         {
          "x1": 1.7149905208562597,
          "x2": 0.4878058905476661,
          "x3": -2.1690488340704395
         },
         {
          "x1": -3.064893614195713,
          "x2": -1.0523108204896192,
          "x3": -2.1690488340704395
         },
         {
          "x1": 0.14419419406125966,
          "x2": -1.082990436247334,
          "x3": -3.064893614195713
         },
         {
          "x1": 1.647495366189287,
          "x2": -1.082990436247334,
          "x3": -3.064893614195713
         },
         {
          "x1": 0.14419419406125966,
          "x2": -2.6231071472846192,
          "x3": -3.064893614195713
         },
         {
          "x1": 0.14419419406125966,
          "x2": -1.082990436247334,
          "x3": -0.5982525072754394
         },
         {
          "x1": 1.647495366189287,
          "x2": -2.6231071472846192,
          "x3": -0.5982525072754394
         },
         {
          "x1": -2.9973984595287404,
          "x2": 2.058602217342666,
          "x3": 0.07669903939428702
         },
         {
          "x1": -1.494097287400713,
          "x2": 2.058602217342666,
          "x3": 0.07669903939428702
         },
         {
          "x1": -2.9973984595287404,
          "x2": 0.5184855063053808,
          "x3": 0.07669903939428702
         },
         {
          "x1": -2.9973984595287404,
          "x2": 2.058602217342666,
          "x3": 2.54334014631456
         },
         {
          "x1": -1.494097287400713,
          "x2": 0.5184855063053808,
          "x3": 2.54334014631456
         },
         {
          "x1": -2.9483110743163965,
          "x2": -0.15033011721280287,
          "x3": -2.819456688133994
         },
         {
          "x1": 2.383806144374444,
          "x2": -0.15033011721280287,
          "x3": -2.819456688133994
         },
         {
          "x1": -2.9483110743163965,
          "x2": 2.7274178408608494,
          "x3": -2.819456688133994
         },
         {
          "x1": -2.9483110743163965,
          "x2": -0.15033011721280287,
          "x3": 1.2179807455812792
         },
         {
          "x1": 2.383806144374444,
          "x2": 2.7274178408608494,
          "x3": 1.2179807455812792
         },
         {
          "x1": 0.19328157927360357,
          "x2": 2.9912625363771976,
          "x3": 0.32213596545600565
         },
         {
          "x1": -0.7577865092155567,
          "x2": 2.9912625363771976,
          "x3": 0.32213596545600565
         },
         {
          "x1": 0.19328157927360357,
          "x2": -0.41417481272915024,
          "x3": 0.32213596545600565
         },
         {
          "x1": 0.19328157927360357,
          "x2": 2.9912625363771976,
          "x3": -1.9236119080087208
         },
         {
          "x1": -0.7577865092155567,
          "x2": -0.41417481272915024,
          "x3": -1.9236119080087208
         },
         {
          "x1": 1.7640779060686036,
          "x2": -1.7211264440078027,
          "x3": -1.2486603613389942
         },
         {
          "x1": 0.8130098175794434,
          "x2": -1.7211264440078027,
          "x3": -1.2486603613389942
         },
         {
          "x1": 1.7640779060686036,
          "x2": -1.9849711395241505,
          "x3": -1.2486603613389942
         },
         {
          "x1": 1.7640779060686036,
          "x2": -1.7211264440078027,
          "x3": -0.3528155812137208
         },
         {
          "x1": 0.8130098175794434,
          "x2": -1.9849711395241505,
          "x3": -0.3528155812137208
         },
         {
          "x1": -1.3775147475213965,
          "x2": 1.4204662095821972,
          "x3": 1.8929322922510057
         },
         {
          "x1": -2.3285828360105567,
          "x2": 1.4204662095821972,
          "x3": 1.8929322922510057
         },
         {
          "x1": -1.3775147475213965,
          "x2": 1.1566215140658498,
          "x3": 1.8929322922510057
         },
         {
          "x1": -1.3775147475213965,
          "x2": 1.4204662095821972,
          "x3": 2.7887770723762797
         },
         {
          "x1": -2.3285828360105567,
          "x2": 1.1566215140658498,
          "x3": 2.7887770723762797
         },
         {
          "x1": -0.5921165841238967,
          "x2": -2.5065246074053027,
          "x3": 1.1075341288535059
         },
         {
          "x1": -3.1139809994080565,
          "x2": -2.5065246074053027,
          "x3": 1.1075341288535059
         },
         {
          "x1": -0.5921165841238967,
          "x2": 0.37122335066834955,
          "x3": 1.1075341288535059
         },
         {
          "x1": -0.5921165841238967,
          "x2": -2.5065246074053027,
          "x3": 0.43258258218377943
         },
         {
          "x1": -3.1139809994080565,
          "x2": 0.37122335066834955,
          "x3": 0.43258258218377943
         },
         {
          "x1": 2.5494760694661034,
          "x2": 0.6350680461846974,
          "x3": -2.034058524736494
         },
         {
          "x1": 0.027611654181943557,
          "x2": 0.6350680461846974,
          "x3": -2.034058524736494
         },
         {
          "x1": 2.5494760694661034,
          "x2": -2.7703693029216505,
          "x3": -2.034058524736494
         },
         {
          "x1": 2.5494760694661034,
          "x2": 0.6350680461846974,
          "x3": -2.7090100714062206
         },
         {
          "x1": 0.027611654181943557,
          "x2": -2.7703693029216505,
          "x3": -2.7090100714062206
         },
         {
          "x1": 0.9786797426711038,
          "x2": -0.9357282806103027,
          "x3": 2.6783304556485055
         },
         {
          "x1": -1.5431846726130567,
          "x2": -0.9357282806103027,
          "x3": 2.6783304556485055
         },
         {
          "x1": 0.9786797426711038,
          "x2": -1.1995729761266505,
          "x3": 2.6783304556485055
         },
         {
          "x1": 0.9786797426711038,
          "x2": -0.9357282806103027,
          "x3": -1.1382137446112206
         },
         {
          "x1": -1.5431846726130567,
          "x2": -1.1995729761266505,
          "x3": -1.1382137446112206
         },
         {
          "x1": -2.1629129109188963,
          "x2": 2.205864372979697,
          "x3": -0.46326219794149415
         },
         {
          "x1": 1.5984079809769431,
          "x2": 2.205864372979697,
          "x3": -0.46326219794149415
         },
         {
          "x1": -2.1629129109188963,
          "x2": 1.9420196774633496,
          "x3": -0.46326219794149415
         },
         {
          "x1": -2.1629129109188963,
          "x2": 2.205864372979697,
          "x3": 2.003378908978779
         },
         {
          "x1": 1.5984079809769431,
          "x2": 1.9420196774633496,
          "x3": 2.003378908978779
         },
         {
          "x1": -1.7702138292201466,
          "x2": -2.113825525706553,
          "x3": 3.071029537347256
         },
         {
          "x1": 0.42031073588069345,
          "x2": -2.113825525706553,
          "x3": 3.071029537347256
         },
         {
          "x1": -1.7702138292201466,
          "x2": -0.021475731030400347,
          "x3": 3.071029537347256
         },
         {
          "x1": -1.7702138292201466,
          "x2": -2.113825525706553,
          "x3": 2.3960779906775294
         },
         {
          "x1": 0.42031073588069345,
          "x2": -0.021475731030400347,
          "x3": 2.3960779906775294
         },
         {
          "x1": 1.3713788243698533,
          "x2": 1.0277671278834477,
          "x3": -0.07056311624274425
         },
         {
          "x1": -2.7212819177093066,
          "x2": 1.0277671278834477,
          "x3": -0.07056311624274425
         },
         {
          "x1": 1.3713788243698533,
          "x2": 3.1201169225595997,
          "x3": -0.07056311624274425
         },
         {
          "x1": 1.3713788243698533,
          "x2": 1.0277671278834477,
          "x3": -0.7455146629124707
         },
         {
          "x1": -2.7212819177093066,
          "x2": 3.1201169225595997,
          "x3": -0.7455146629124707
         },
         {
          "x1": 2.9421751511648537,
          "x2": -0.5430291989115528,
          "x3": 1.5002332105522562
         },
         {
          "x1": 1.9911070626756935,
          "x2": -0.5430291989115528,
          "x3": 1.5002332105522562
         },
         {
          "x1": 2.9421751511648537,
          "x2": 1.5493205957645992,
          "x3": 1.5002332105522562
         },
         {
          "x1": 2.9421751511648537,
          "x2": -0.5430291989115528,
          "x3": -2.3163109897074707
         },
         {
          "x1": 1.9911070626756935,
          "x2": 1.5493205957645992,
          "x3": -2.3163109897074707
         },
         {
          "x1": -0.19941750242514633,
          "x2": 2.5985634546784473,
          "x3": -1.6413594430377443
         },
         {
          "x1": -1.1504855909143066,
          "x2": 2.5985634546784473,
          "x3": -1.6413594430377443
         },
         {
          "x1": -0.19941750242514633,
          "x2": -1.5922720578254004,
          "x3": -1.6413594430377443
         },
         {
          "x1": -0.19941750242514633,
          "x2": 2.5985634546784473,
          "x3": 0.8252816638825293
         },
         {
          "x1": -1.1504855909143066,
          "x2": -1.5922720578254004,
          "x3": 0.8252816638825293
         },
         {
          "x1": -0.9848156658226466,
          "x2": -1.3284273623090528,
          "x3": -0.855961279640244
         },
         {
          "x1": -0.3650874275168068,
          "x2": -1.3284273623090528,
          "x3": -0.855961279640244
         },
         {
          "x1": -0.9848156658226466,
          "x2": -2.3776702212229006,
          "x3": -0.855961279640244
         },
         {
          "x1": -0.9848156658226466,
          "x2": -1.3284273623090528,
          "x3": 1.6106798272800296
         },
         {
          "x1": -0.3650874275168068,
          "x2": -2.3776702212229006,
          "x3": 1.6106798272800296
         },
         {
          "x1": 2.156776987767354,
          "x2": 1.8131652912809475,
          "x3": 2.285631373949756
         },
         {
          "x1": 2.7765052260731933,
          "x2": 1.8131652912809475,
          "x3": 2.285631373949756
         },
         {
          "x1": 2.156776987767354,
          "x2": 0.7639224323670994,
          "x3": 2.285631373949756
         },
         {
          "x1": 2.156776987767354,
          "x2": 1.8131652912809475,
          "x3": -1.5309128263099707
         },
         {
          "x1": 2.7765052260731933,
          "x2": 0.7639224323670994,
          "x3": -1.5309128263099707
         },
         {
          "x1": 0.5859806609723535,
          "x2": -2.8992236891040526,
          "x3": -2.426757606435244
         },
         {
          "x1": -1.9358837543118066,
          "x2": -2.8992236891040526,
          "x3": -2.426757606435244
         },
         {
          "x1": 0.5859806609723535,
          "x2": 2.3347187591621,
          "x3": -2.426757606435244
         },
         {
          "x1": 0.5859806609723535,
          "x2": -2.8992236891040526,
          "x3": -3.101709153104971
         },
         {
          "x1": -1.9358837543118066,
          "x2": 2.3347187591621,
          "x3": -3.101709153104971
         },
         {
          "x1": -2.5556119926176466,
          "x2": 0.24236896448594747,
          "x3": 0.714835047154756
         },
         {
          "x1": 1.2057088992781937,
          "x2": 0.24236896448594747,
          "x3": 0.714835047154756
         },
         {
          "x1": -2.5556119926176466,
          "x2": -0.8068738944279006,
          "x3": 0.714835047154756
         },
         {
          "x1": -2.5556119926176466,
          "x2": 0.24236896448594747,
          "x3": 0.03988350048502909
         },
         {
          "x1": 1.2057088992781937,
          "x2": -0.8068738944279006,
          "x3": 0.03988350048502909
         },
         {
          "x1": -2.3592624517682714,
          "x2": -3.0955732299534278,
          "x3": -0.266912657092119
         },
         {
          "x1": -1.3468351317636817,
          "x2": -3.0955732299534278,
          "x3": -0.266912657092119
         },
         {
          "x1": -2.3592624517682714,
          "x2": 0.9602719732164751,
          "x3": -0.266912657092119
         },
         {
          "x1": -2.3592624517682714,
          "x2": -3.0955732299534278,
          "x3": -1.3345632854605958
         },
         {
          "x1": -1.3468351317636817,
          "x2": 0.9602719732164751,
          "x3": -1.3345632854605958
         },
         {
          "x1": 0.7823302018217286,
          "x2": 0.0460194236365723,
          "x3": 2.874679996497881
         },
         {
          "x1": 1.7947575218263188,
          "x2": 0.0460194236365723,
          "x3": 2.874679996497881
         },
         {
          "x1": 0.7823302018217286,
          "x2": -2.1813206803735254,
          "x3": 2.874679996497881
         },
         {
          "x1": 0.7823302018217286,
          "x2": 0.0460194236365723,
          "x3": 1.8070293681294043
         },
         {
          "x1": 1.7947575218263188,
          "x2": -2.1813206803735254,
          "x3": 1.8070293681294043
         },
         {
          "x1": 2.3531265286167287,
          "x2": -1.5247769031584277,
          "x3": -1.8377089838871192
         },
         {
          "x1": -2.917631458558682,
          "x2": -1.5247769031584277,
          "x3": -1.8377089838871192
         },
         {
          "x1": 2.3531265286167287,
          "x2": -0.6105243535785254,
          "x3": -1.8377089838871192
         },
         {
          "x1": 2.3531265286167287,
          "x2": -1.5247769031584277,
          "x3": 0.23623304133440426
         },
         {
          "x1": -2.917631458558682,
          "x2": -0.6105243535785254,
          "x3": 0.23623304133440426
         },
         {
          "x1": -0.7884661249732714,
          "x2": 1.6168157504315719,
          "x3": 1.3038836697028806
         },
         {
          "x1": 0.22396119503131828,
          "x2": 1.6168157504315719,
          "x3": 1.3038836697028806
         },
         {
          "x1": -0.7884661249732714,
          "x2": 2.5310683000114746,
          "x3": 1.3038836697028806
         },
         {
          "x1": -0.7884661249732714,
          "x2": 1.6168157504315719,
          "x3": -2.905359612255596
         },
         {
          "x1": 0.22396119503131828,
          "x2": 2.5310683000114746,
          "x3": -2.905359612255596
         },
         {
          "x1": -0.003067961575771605,
          "x2": -0.7393787397609279,
          "x3": 2.0892818331003813
         },
         {
          "x1": 1.009359358428818,
          "x2": -0.7393787397609279,
          "x3": 2.0892818331003813
         },
         {
          "x1": -0.003067961575771605,
          "x2": 1.7456701366139749,
          "x3": 2.0892818331003813
         },
         {
          "x1": -0.003067961575771605,
          "x2": -0.7393787397609279,
          "x3": -0.5491651220630955
         },
         {
          "x1": 1.009359358428818,
          "x2": 1.7456701366139749,
          "x3": -0.5491651220630955
         },
         {
          "x1": 3.1385246920142285,
          "x2": 2.4022139138290726,
          "x3": -1.0523108204896192
         },
         {
          "x1": -2.132233295161182,
          "x2": 2.4022139138290726,
          "x3": -1.0523108204896192
         },
         {
          "x1": 3.1385246920142285,
          "x2": -1.3959225169760254,
          "x3": -1.0523108204896192
         },
         {
          "x1": 3.1385246920142285,
          "x2": 2.4022139138290726,
          "x3": 2.592427531526904
         },
         {
          "x1": -2.132233295161182,
          "x2": -1.3959225169760254,
          "x3": 2.592427531526904
         },
         {
          "x1": 1.5677283652192289,
          "x2": -2.310175066555928,
          "x3": 0.5184855063053808
         },
         {
          "x1": 2.5801556852238186,
          "x2": -2.310175066555928,
          "x3": 0.5184855063053808
         },
         {
          "x1": 1.5677283652192289,
          "x2": -2.9667188437710257,
          "x3": 0.5184855063053808
         },
         {
          "x1": 1.5677283652192289,
          "x2": -2.310175066555928,
          "x3": 1.0216312047319045
         },
         {
          "x1": 2.5801556852238186,
          "x2": -2.9667188437710257,
          "x3": 1.0216312047319045
         },
         {
          "x1": -1.5738642883707714,
          "x2": 0.8314175870340721,
          "x3": -2.6231071472846192
         },
         {
          "x1": -0.5614369683661815,
          "x2": 0.8314175870340721,
          "x3": -2.6231071472846192
         },
         {
          "x1": -1.5738642883707714,
          "x2": 0.17487380981897482,
          "x3": -2.6231071472846192
         },
         {
          "x1": -1.5738642883707714,
          "x2": 0.8314175870340721,
          "x3": -2.1199614488580956
         },
         {
          "x1": -0.5614369683661815,
          "x2": 0.17487380981897482,
          "x3": -2.1199614488580956
         },
         {
          "x1": -1.9665633700695215,
          "x2": -1.1320778214596778,
          "x3": 0.12578642460663092
         },
         {
          "x1": -1.7395342134624316,
          "x2": -1.1320778214596778,
          "x3": 0.12578642460663092
         },
         {
          "x1": -1.9665633700695215,
          "x2": -1.7886215986747753,
          "x3": 0.12578642460663092
         },
         {
          "x1": -1.9665633700695215,
          "x2": -1.1320778214596778,
          "x3": -2.512660530556846
         },
         {
          "x1": -1.7395342134624316,
          "x2": -1.7886215986747753,
          "x3": -2.512660530556846
         },
         {
          "x1": 1.1750292835204785,
          "x2": 2.0095148321303222,
          "x3": -3.015806228983369
         },
         {
          "x1": 1.4020584401275684,
          "x2": 2.0095148321303222,
          "x3": -3.015806228983369
         },
         {
          "x1": 1.1750292835204785,
          "x2": 1.3529710549152245,
          "x3": -3.015806228983369
         },
         {
          "x1": 1.1750292835204785,
          "x2": 2.0095148321303222,
          "x3": 0.6289321230331542
         },
         {
          "x1": 1.4020584401275684,
          "x2": 1.3529710549152245,
          "x3": 0.6289321230331542
         },
         {
          "x1": 2.745825610315479,
          "x2": -2.702874148254678,
          "x3": 1.696582751401631
         },
         {
          "x1": -0.1687378866674316,
          "x2": -2.702874148254678,
          "x3": 1.696582751401631
         },
         {
          "x1": 2.745825610315479,
          "x2": 2.923767381710225,
          "x3": 1.696582751401631
         },
         {
          "x1": 2.745825610315479,
          "x2": -2.702874148254678,
          "x3": 2.1997284498281546
         },
         {
          "x1": -0.1687378866674316,
          "x2": 2.923767381710225,
          "x3": 2.1997284498281546
         },
         {
          "x1": -0.3957670432745215,
          "x2": 0.4387185053353222,
          "x3": -1.445009902188369
         },
         {
          "x1": 2.972854766922568,
          "x2": 0.4387185053353222,
          "x3": -1.445009902188369
         },
         {
          "x1": -0.3957670432745215,
          "x2": -0.21782527187977552,
          "x3": -1.445009902188369
         },
         {
          "x1": -0.3957670432745215,
          "x2": 0.4387185053353222,
          "x3": -0.9418642037618459
         },
         {
          "x1": 2.972854766922568,
          "x2": -0.21782527187977552,
          "x3": -0.9418642037618459
         },
         {
          "x1": -1.1811652066720215,
          "x2": -1.9174759848571779,
          "x3": -2.2304080655858693
         },
         {
          "x1": 2.187456603525068,
          "x2": -1.9174759848571779,
          "x3": -2.2304080655858693
         },
         {
          "x1": -1.1811652066720215,
          "x2": -1.0032234352772753,
          "x3": -2.2304080655858693
         },
         {
          "x1": -1.1811652066720215,
          "x2": -1.9174759848571779,
          "x3": -1.7272623671593457
         },
         {
          "x1": 2.187456603525068,
          "x2": -1.0032234352772753,
          "x3": -1.7272623671593457
         },
         {
          "x1": 1.9604274469179783,
          "x2": 1.2241166687328224,
          "x3": 0.9111845880041312
         },
         {
          "x1": -0.9541360500649319,
          "x2": 1.2241166687328224,
          "x3": 0.9111845880041312
         },
         {
          "x1": 1.9604274469179783,
          "x2": 2.1383692183127243,
          "x3": 0.9111845880041312
         },
         {
          "x1": 1.9604274469179783,
          "x2": 1.2241166687328224,
          "x3": 1.414330286430654
         },
         {
          "x1": -0.9541360500649319,
          "x2": 2.1383692183127243,
          "x3": 1.414330286430654
         },
         {
          "x1": 0.38963112012297874,
          "x2": -0.3466796580621776,
          "x3": -0.6596117387908693
         },
         {
          "x1": 0.6166602767300682,
          "x2": -0.3466796580621776,
          "x3": -0.6596117387908693
         },
         {
          "x1": 0.38963112012297874,
          "x2": 0.5675728915177247,
          "x3": -0.6596117387908693
         },
         {
          "x1": 0.38963112012297874,
          "x2": -0.3466796580621776,
          "x3": 2.9851266132256544
         },
         {
          "x1": 0.6166602767300682,
          "x2": 0.5675728915177247,
          "x3": 2.9851266132256544
         },
         {
          "x1": -2.7519615334670213,
          "x2": 2.794912995527822,
          "x3": 2.4819809147991307
         },
         {
          "x1": -2.5249323768599314,
          "x2": 2.794912995527822,
          "x3": 2.4819809147991307
         },
         {
          "x1": -2.7519615334670213,
          "x2": -2.5740197620722753,
          "x3": 2.4819809147991307
         },
         {
          "x1": -2.7519615334670213,
          "x2": 2.794912995527822,
          "x3": -0.15646604036434564
         },
         {
          "x1": -2.5249323768599314,
          "x2": -2.5740197620722753,
          "x3": -0.15646604036434564
         },
         {
          "x1": -2.850136303891709,
          "x2": -1.6229516735831153,
          "x3": 1.4020584401275684
         },
         {
          "x1": -0.46326219794149415,
          "x2": -1.6229516735831153,
          "x3": 1.4020584401275684
         },
         {
          "x1": -2.850136303891709,
          "x2": 1.8438449070386618,
          "x3": 1.4020584401275684
         },
         {
          "x1": -2.850136303891709,
          "x2": -1.6229516735831153,
          "x3": -0.8436894333371581
         },
         {
          "x1": -0.46326219794149415,
          "x2": 1.8438449070386618,
          "x3": -0.8436894333371581
         },
         {
          "x1": 0.29145634969829093,
          "x2": 1.518640980006885,
          "x3": -1.7395342134624316
         },
         {
          "x1": 2.6783304556485055,
          "x2": 1.518640980006885,
          "x3": -1.7395342134624316
         },
         {
          "x1": 0.29145634969829093,
          "x2": -1.2977477465513378,
          "x3": -1.7395342134624316
         },
         {
          "x1": 0.29145634969829093,
          "x2": 1.518640980006885,
          "x3": 2.2979032202528415
         },
         {
          "x1": 2.6783304556485055,
          "x2": -1.2977477465513378,
          "x3": 2.2979032202528415
         },
         {
          "x1": 1.8622526764932914,
          "x2": -0.052155346788115065,
          "x3": 2.972854766922568
         },
         {
          "x1": -2.034058524736494,
          "x2": -0.052155346788115065,
          "x3": 2.972854766922568
         },
         {
          "x1": 1.8622526764932914,
          "x2": -2.868544073346338,
          "x3": 2.972854766922568
         },
         {
          "x1": 1.8622526764932914,
          "x2": -0.052155346788115065,
          "x3": 0.727106893457842
         },
         {
          "x1": -2.034058524736494,
          "x2": -2.868544073346338,
          "x3": 0.727106893457842
         },
         {
          "x1": -1.279339977096709,
          "x2": 3.0894373068018846,
          "x3": -0.1687378866674316
         },
         {
          "x1": 1.1075341288535059,
          "x2": 3.0894373068018846,
          "x3": -0.1687378866674316
         },
         {
          "x1": -1.279339977096709,
          "x2": 0.2730485802436622,
          "x3": -0.1687378866674316
         },
         {
          "x1": -1.279339977096709,
          "x2": 3.0894373068018846,
          "x3": -2.414485760132158
         },
         {
          "x1": 1.1075341288535059,
          "x2": 0.2730485802436622,
          "x3": -2.414485760132158
         },
         {
          "x1": -0.49394181369920886,
          "x2": -0.8375535101856153,
          "x3": -2.5249323768599314
         },
         {
          "x1": 0.32213596545600565,
          "x2": -0.8375535101856153,
          "x3": -2.5249323768599314
         },
         {
          "x1": -0.49394181369920886,
          "x2": 1.058446743641162,
          "x3": -2.5249323768599314
         },
         {
          "x1": -0.49394181369920886,
          "x2": -0.8375535101856153,
          "x3": -0.058291269939658275
         },
         {
          "x1": 0.32213596545600565,
          "x2": 1.058446743641162,
          "x3": -0.058291269939658275
         },
         {
          "x1": 2.647650839890791,
          "x2": 2.3040391434043848,
          "x3": 0.6166602767300682
         },
         {
          "x1": -2.819456688133994,
          "x2": 2.3040391434043848,
          "x3": 0.6166602767300682
         },
         {
          "x1": 2.647650839890791,
          "x2": -2.083145909948838,
          "x3": 0.6166602767300682
         },
         {
          "x1": 2.647650839890791,
          "x2": 2.3040391434043848,
          "x3": 3.0833013836503422
         },
         {
          "x1": -2.819456688133994,
          "x2": -2.083145909948838,
          "x3": 3.0833013836503422
         },
         {
          "x1": 1.0768545130957907,
          "x2": -2.4083498369806153,
          "x3": -0.9541360500649319
         },
         {
          "x1": 1.8929322922510057,
          "x2": -2.4083498369806153,
          "x3": -0.9541360500649319
         },
         {
          "x1": 1.0768545130957907,
          "x2": -0.512349583153838,
          "x3": -0.9541360500649319
         },
         {
          "x1": 1.0768545130957907,
          "x2": -2.4083498369806153,
          "x3": 1.5125050568553418
         },
         {
          "x1": 1.8929322922510057,
          "x2": -0.512349583153838,
          "x3": 1.5125050568553418
         },
         {
          "x1": -2.0647381404942093,
          "x2": 0.7332428166093847,
          "x3": 2.187456603525068
         },
         {
          "x1": -1.2486603613389942,
          "x2": 0.7332428166093847,
          "x3": 2.187456603525068
         },
         {
          "x1": -2.0647381404942093,
          "x2": 2.6292430704361625,
          "x3": 2.187456603525068
         },
         {
          "x1": -2.0647381404942093,
          "x2": 0.7332428166093847,
          "x3": -1.6290875967346583
         },
         {
          "x1": -1.2486603613389942,
          "x2": 2.6292430704361625,
          "x3": -1.6290875967346583
         },
         {
          "x1": -1.672039058795459,
          "x2": -0.4448544284868654,
          "x3": -1.3468351317636817
         },
         {
          "x1": -2.426757606435244,
          "x2": -0.4448544284868654,
          "x3": -1.3468351317636817
         },
         {
          "x1": -1.672039058795459,
          "x2": -0.905048664852588,
          "x3": -1.3468351317636817
         },
         {
          "x1": -1.672039058795459,
          "x2": -0.4448544284868654,
          "x3": -2.8071848418309084
         },
         {
          "x1": -2.426757606435244,
          "x2": -0.905048664852588,
          "x3": -2.8071848418309084
         },
         {
          "x1": 1.469553594794541,
          "x2": 2.696738225103135,
          "x3": 1.7947575218263188
         },
         {
          "x1": 0.714835047154756,
          "x2": 2.696738225103135,
          "x3": 1.7947575218263188
         },
         {
          "x1": 1.469553594794541,
          "x2": 2.236543988737412,
          "x3": 1.7947575218263188
         },
         {
          "x1": 1.469553594794541,
          "x2": 2.696738225103135,
          "x3": 0.3344078117590916
         },
         {
          "x1": 0.714835047154756,
          "x2": 2.236543988737412,
          "x3": 0.3344078117590916
         },
         {
          "x1": 3.0403499215895406,
          "x2": -2.0156507552818654,
          "x3": -2.917631458558682
         },
         {
          "x1": -0.855961279640244,
          "x2": -2.0156507552818654,
          "x3": -2.917631458558682
         },
         {
          "x1": 3.0403499215895406,
          "x2": 0.6657476619424121,
          "x3": -2.917631458558682
         },
         {
          "x1": 3.0403499215895406,
          "x2": -2.0156507552818654,
          "x3": 1.905204138554092
         },
         {
          "x1": -0.855961279640244,
          "x2": 0.6657476619424121,
          "x3": 1.905204138554092
         },
         {
          "x1": -0.10124273200045897,
          "x2": 1.1259418983081346,
          "x3": 0.22396119503131828
         },
         {
          "x1": 2.285631373949756,
          "x2": 1.1259418983081346,
          "x3": 0.22396119503131828
         },
         {
          "x1": -0.10124273200045897,
          "x2": -2.475844991647588,
          "x3": 0.22396119503131828
         },
         {
          "x1": -0.10124273200045897,
          "x2": 1.1259418983081346,
          "x3": -1.2363885150359082
         },
         {
          "x1": 2.285631373949756,
          "x2": -2.475844991647588,
          "x3": -1.2363885150359082
         },
         {
          "x1": -0.8866408953979592,
          "x2": -2.8010489186793652,
          "x3": 2.5801556852238186
         },
         {
          "x1": 3.071029537347256,
          "x2": -2.8010489186793652,
          "x3": 2.5801556852238186
         },
         {
          "x1": -0.8866408953979592,
          "x2": -1.690446828250088,
          "x3": 2.5801556852238186
         },
         {
          "x1": -0.8866408953979592,
          "x2": -2.8010489186793652,
          "x3": -2.021786678433408
         },
         {
          "x1": 3.071029537347256,
          "x2": -1.690446828250088,
          "x3": -2.021786678433408
         },
         {
          "x1": 2.254951758192041,
          "x2": 0.34054373491063483,
          "x3": -0.5614369683661815
         },
         {
          "x1": -0.07056311624274425,
          "x2": 0.34054373491063483,
          "x3": -0.5614369683661815
         },
         {
          "x1": 2.254951758192041,
          "x2": 1.4511458253399123,
          "x3": -0.5614369683661815
         },
         {
          "x1": 2.254951758192041,
          "x2": 0.34054373491063483,
          "x3": 1.1198059751565914
         },
         {
          "x1": -0.07056311624274425,
          "x2": 1.4511458253399123,
          "x3": 1.1198059751565914
         },
         {
          "x1": 0.6841554313970408,
          "x2": -1.2302525918843652,
          "x3": 1.009359358428818
         },
         {
          "x1": 1.5002332105522562,
          "x2": -1.2302525918843652,
          "x3": 1.009359358428818
         },
         {
          "x1": 0.6841554313970408,
          "x2": 3.021942152134912,
          "x3": 1.009359358428818
         },
         {
          "x1": 0.6841554313970408,
          "x2": -1.2302525918843652,
          "x3": 2.690602301951592
         },
         {
          "x1": 1.5002332105522562,
          "x2": 3.021942152134912,
          "x3": 2.690602301951592
         },
         {
          "x1": -2.457437222192959,
          "x2": 1.9113400617056344,
          "x3": -2.132233295161182
         },
         {
          "x1": -1.6413594430377443,
          "x2": 1.9113400617056344,
          "x3": -2.132233295161182
         },
         {
          "x1": -2.457437222192959,
          "x2": -0.11965050145508771,
          "x3": -2.132233295161182
         },
         {
          "x1": -2.457437222192959,
          "x2": 1.9113400617056344,
          "x3": -0.45099035163840817
         },
         {
          "x1": -1.6413594430377443,
          "x2": -0.11965050145508771,
          "x3": -0.45099035163840817
         },
         {
          "x1": -2.653786763042334,
          "x2": -1.4266021327337404,
          "x3": 1.5984079809769431
         },
         {
          "x1": 1.696582751401631,
          "x2": -1.4266021327337404,
          "x3": 1.5984079809769431
         },
         {
          "x1": -2.653786763042334,
          "x2": 0.07669903939428702,
          "x3": 1.5984079809769431
         },
         {
          "x1": -2.653786763042334,
          "x2": -1.4266021327337404,
          "x3": 0.9234564343072167
         },
         {
          "x1": 1.696582751401631,
          "x2": 0.07669903939428702,
          "x3": 0.9234564343072167
         },
         {
          "x1": 0.4878058905476661,
          "x2": 1.7149905208562597,
          "x3": -1.5431846726130567
         },
         {
          "x1": -1.445009902188369,
          "x2": 1.7149905208562597,
          "x3": -1.5431846726130567
         },
         {
          "x1": 0.4878058905476661,
          "x2": -3.064893614195713,
          "x3": -1.5431846726130567
         },
         {
          "x1": 0.4878058905476661,
          "x2": 1.7149905208562597,
          "x3": -2.2181362192827834
         },
         {
          "x1": -1.445009902188369,
          "x2": -3.064893614195713,
          "x3": -2.2181362192827834
         },
         {
          "x1": 2.058602217342666,
          "x2": -2.9973984595287404,
          "x3": 0.027611654181943557
         },
         {
          "x1": 0.12578642460663092,
          "x2": -2.9973984595287404,
          "x3": 0.027611654181943557
         },
         {
          "x1": 2.058602217342666,
          "x2": -1.494097287400713,
          "x3": 0.027611654181943557
         },
         {
          "x1": 2.058602217342666,
          "x2": -2.9973984595287404,
          "x3": -0.6473398924877833
         },
         {
          "x1": 0.12578642460663092,
          "x2": -1.494097287400713,
          "x3": -0.6473398924877833
         },
         {
          "x1": -1.082990436247334,
          "x2": 0.14419419406125966,
          "x3": -3.1139809994080565
         },
         {
          "x1": -3.015806228983369,
          "x2": 0.14419419406125966,
          "x3": -3.1139809994080565
         },
         {
          "x1": -1.082990436247334,
          "x2": 1.647495366189287,
          "x3": -3.1139809994080565
         },
         {
          "x1": -1.082990436247334,
          "x2": 0.14419419406125966,
          "x3": 2.494252761102217
         },
         {
          "x1": -3.015806228983369,
          "x2": 1.647495366189287,
          "x3": 2.494252761102217
         },
         {
          "x1": -0.29759227284983414,
          "x2": -2.21200029613124,
          "x3": -0.7577865092155567
         },
         {
          "x1": -2.2304080655858693,
          "x2": -2.21200029613124,
          "x3": -0.7577865092155567
         },
         {
          "x1": -0.29759227284983414,
          "x2": 2.432893529586787,
          "x3": -0.7577865092155567
         },
         {
          "x1": -0.29759227284983414,
          "x2": -2.21200029613124,
          "x3": 0.1380582709097169
         },
         {
          "x1": -2.2304080655858693,
          "x2": 2.432893529586787,
          "x3": 0.1380582709097169
         },
         {
          "x1": 2.844000380740166,
          "x2": 0.9295923574587599,
          "x3": 2.383806144374444
         },
         {
          "x1": 0.9111845880041312,
          "x2": 0.9295923574587599,
          "x3": 2.383806144374444
         },
         {
          "x1": 2.844000380740166,
          "x2": -0.7086991240032128,
          "x3": 2.383806144374444
         },
         {
          "x1": 2.844000380740166,
          "x2": 0.9295923574587599,
          "x3": -3.003534382680283
         },
         {
          "x1": 0.9111845880041312,
          "x2": -0.7086991240032128,
          "x3": -3.003534382680283
         },
         {
          "x1": 1.2732040539451663,
          "x2": -0.6412039693362401,
          "x3": -2.3285828360105567
         },
         {
          "x1": -0.6596117387908693,
          "x2": -0.6412039693362401,
          "x3": -2.3285828360105567
         },
         {
          "x1": 1.2732040539451663,
          "x2": -2.279495450798213,
          "x3": -2.3285828360105567
         },
         {
          "x1": 1.2732040539451663,
          "x2": -0.6412039693362401,
          "x3": -1.4327380558852831
         },
         {
          "x1": -0.6596117387908693,
          "x2": -2.279495450798213,
          "x3": -1.4327380558852831
         },
         {
          "x1": -1.868388599644834,
          "x2": 2.5003886842537595,
          "x3": 0.8130098175794434
         },
         {
          "x1": 2.4819809147991307,
          "x2": 2.5003886842537595,
          "x3": 0.8130098175794434
         },
         {
          "x1": -1.868388599644834,
          "x2": 0.8620972027917873,
          "x3": 0.8130098175794434
         },
         {
          "x1": -1.868388599644834,
          "x2": 2.5003886842537595,
          "x3": 1.7088545977047165
         },
         {
          "x1": 2.4819809147991307,
          "x2": 0.8620972027917873,
          "x3": 1.7088545977047165
         },
         {
          "x1": -2.261087681343584,
          "x2": -2.6046993778299905,
          "x3": -1.9358837543118066
         },
         {
          "x1": 1.3038836697028806,
          "x2": -2.6046993778299905,
          "x3": -1.9358837543118066
         },
         {
          "x1": -2.261087681343584,
          "x2": -2.672194532496963,
          "x3": -1.9358837543118066
         },
         {
          "x1": -2.261087681343584,
          "x2": -2.6046993778299905,
          "x3": 2.8869518428009666
         },
         {
          "x1": 1.3038836697028806,
          "x2": -2.672194532496963,
          "x3": 2.8869518428009666
         },
         {
          "x1": 0.880504972246416,
          "x2": 0.5368932757600096,
          "x3": 1.2057088992781937
         },
         {
          "x1": -1.8377089838871192,
          "x2": 0.5368932757600096,
          "x3": 1.2057088992781937
         },
         {
          "x1": 0.880504972246416,
          "x2": 0.4693981210930369,
          "x3": 1.2057088992781937
         },
         {
          "x1": 0.880504972246416,
          "x2": 0.5368932757600096,
          "x3": -0.254640810789033
         },
         {
          "x1": -1.8377089838871192,
          "x2": 0.4693981210930369,
          "x3": -0.254640810789033
         },
         {
          "x1": 2.4513012990414165,
          "x2": -1.0339030510349905,
          "x3": -0.3650874275168068
         },
         {
          "x1": 2.874679996497881,
          "x2": -1.0339030510349905,
          "x3": -0.3650874275168068
         },
         {
          "x1": 2.4513012990414165,
          "x2": 2.0401944478880374,
          "x3": -0.3650874275168068
         },
         {
          "x1": 2.4513012990414165,
          "x2": -1.0339030510349905,
          "x3": -1.8254371375840333
         },
         {
          "x1": 2.874679996497881,
          "x2": 2.0401944478880374,
          "x3": -1.8254371375840333
         },
         {
          "x1": -0.690291354548584,
          "x2": 2.10768960255501,
          "x3": 2.7765052260731933
         },
         {
          "x1": -0.266912657092119,
          "x2": 2.10768960255501,
          "x3": 2.7765052260731933
         },
         {
          "x1": -0.690291354548584,
          "x2": -1.1013982057019631,
          "x3": 2.7765052260731933
         },
         {
          "x1": -0.690291354548584,
          "x2": 2.10768960255501,
          "x3": 1.316155516005967
         },
         {
          "x1": -0.266912657092119,
          "x2": -1.1013982057019631,
          "x3": 1.316155516005967
         },
         {
          "x1": -1.475689517946084,
          "x2": -0.24850488763749023,
          "x3": 0.42031073588069345
         },
         {
          "x1": -1.0523108204896192,
          "x2": -0.24850488763749023,
          "x3": 0.42031073588069345
         },
         {
          "x1": -1.475689517946084,
          "x2": -0.3160000423044629,
          "x3": 0.42031073588069345
         },
         {
          "x1": -1.475689517946084,
          "x2": -0.24850488763749023,
          "x3": 2.101553679403467
         },
         {
          "x1": -1.0523108204896192,
          "x2": -0.3160000423044629,
          "x3": 2.101553679403467
         },
         {
          "x1": 1.6659031356439158,
          "x2": 2.89308776595251,
          "x3": -2.7212819177093066
         },
         {
          "x1": 2.0892818331003813,
          "x2": 2.89308776595251,
          "x3": -2.7212819177093066
         },
         {
          "x1": 1.6659031356439158,
          "x2": 2.825592611285537,
          "x3": -2.7212819177093066
         },
         {
          "x1": 1.6659031356439158,
          "x2": 2.89308776595251,
          "x3": -1.0400389741865332
         },
         {
          "x1": 2.0892818331003813,
          "x2": 2.825592611285537,
          "x3": -1.0400389741865332
         },
         {
          "x1": 0.0951068088489162,
          "x2": -1.8193012144324903,
          "x3": 1.9911070626756935
         },
         {
          "x1": -2.6231071472846192,
          "x2": -1.8193012144324903,
          "x3": 1.9911070626756935
         },
         {
          "x1": 0.0951068088489162,
          "x2": 1.2547962844905367,
          "x3": 1.9911070626756935
         },
         {
          "x1": 0.0951068088489162,
          "x2": -1.8193012144324903,
          "x3": -2.6108353009815333
         },
         {
          "x1": -2.6231071472846192,
          "x2": 1.2547962844905367,
          "x3": -2.6108353009815333
         },
         {
          "x1": -3.046485844741084,
          "x2": 1.3222914391575094,
          "x3": -1.1504855909143066
         },
         {
          "x1": 0.5184855063053808,
          "x2": 1.3222914391575094,
          "x3": -1.1504855909143066
         },
         {
          "x1": -3.046485844741084,
          "x2": -1.886796369099463,
          "x3": -1.1504855909143066
         },
         {
          "x1": -3.046485844741084,
          "x2": 1.3222914391575094,
          "x3": 0.5307573526084668
         },
         {
          "x1": 0.5184855063053808,
          "x2": -1.886796369099463,
          "x3": 0.5307573526084668
         },
         {
          "x1": -3.071029537347256,
          "x2": -1.3038836697028808,
          "x3": 0.49394181369920886
         },
         {
          "x1": -2.991262536377197,
          "x2": -1.3038836697028808,
          "x3": 0.49394181369920886
         },
         {
          "x1": -3.071029537347256,
          "x2": 1.1320778214596778,
          "x3": 0.49394181369920886
         },
         {
          "x1": -3.071029537347256,
          "x2": -1.3038836697028808,
          "x3": -0.4264466590322362
         },
         {
          "x1": -2.991262536377197,
          "x2": 1.1320778214596778,
          "x3": -0.4264466590322362
         },
         {
          "x1": 0.07056311624274425,
          "x2": 1.8377089838871195,
          "x3": -2.647650839890791
         },
         {
          "x1": 0.15033011721280287,
          "x2": 1.8377089838871195,
          "x3": -2.647650839890791
         },
         {
          "x1": 0.07056311624274425,
          "x2": -2.0095148321303222,
          "x3": -2.647650839890791
         },
         {
          "x1": 0.07056311624274425,
          "x2": 1.8377089838871195,
          "x3": 2.715145994557764
         },
         {
          "x1": 0.15033011721280287,
          "x2": -2.0095148321303222,
          "x3": 2.715145994557764
         },
         {
          "x1": 1.6413594430377438,
          "x2": -2.874679996497881,
          "x3": 2.0647381404942093
         },
         {
          "x1": -1.4204662095821974,
          "x2": -2.874679996497881,
          "x3": 2.0647381404942093
         },
         {
          "x1": 1.6413594430377438,
          "x2": -0.4387185053353222,
          "x3": 2.0647381404942093
         },
         {
          "x1": 1.6413594430377438,
          "x2": -2.874679996497881,
          "x3": 1.1443496677627634
         },
         {
          "x1": -1.4204662095821974,
          "x2": -0.4387185053353222,
          "x3": 1.1443496677627634
         },
         {
          "x1": -1.5002332105522558,
          "x2": 0.266912657092119,
          "x3": -1.0768545130957912
         },
         {
          "x1": 1.721126444007803,
          "x2": 0.266912657092119,
          "x3": -1.0768545130957912
         },
         {
          "x1": -1.5002332105522558,
          "x2": 2.7028741482546774,
          "x3": -1.0768545130957912
         },
         {
          "x1": -1.5002332105522558,
          "x2": 0.266912657092119,
          "x3": -1.9972429858272365
         },
         {
          "x1": 1.721126444007803,
          "x2": 2.7028741482546774,
          "x3": -1.9972429858272365
         },
         {
          "x1": -0.714835047154756,
          "x2": -2.089281833100381,
          "x3": -1.862252676493291
         },
         {
          "x1": 2.5065246074053027,
          "x2": -2.089281833100381,
          "x3": -1.862252676493291
         },
         {
          "x1": -0.714835047154756,
          "x2": 1.9174759848571776,
          "x3": -1.862252676493291
         },
         {
          "x1": -0.714835047154756,
          "x2": -2.089281833100381,
          "x3": -1.2118448224297365
         },
         {
          "x1": 2.5065246074053027,
          "x2": 1.9174759848571776,
          "x3": -1.2118448224297365
         },
         {
          "x1": 2.4267576064352445,
          "x2": 1.0523108204896188,
          "x3": 1.2793399770967087
         },
         {
          "x1": -0.6350680461846974,
          "x2": 1.0523108204896188,
          "x3": 1.2793399770967087
         },
         {
          "x1": 2.4267576064352445,
          "x2": -1.2241166687328222,
          "x3": 1.2793399770967087
         },
         {
          "x1": 2.4267576064352445,
          "x2": 1.0523108204896188,
          "x3": 1.929747831160264
         },
         {
          "x1": -0.6350680461846974,
          "x2": -1.2241166687328222,
          "x3": 1.929747831160264
         },
         {
          "x1": 0.855961279640244,
          "x2": -0.5184855063053808,
          "x3": -0.29145634969829093
         },
         {
          "x1": 0.9357282806103031,
          "x2": -0.5184855063053808,
          "x3": -0.29145634969829093
         },
         {
          "x1": 0.855961279640244,
          "x2": -2.7949129955278225,
          "x3": -0.29145634969829093
         },
         {
          "x1": 0.855961279640244,
          "x2": -0.5184855063053808,
          "x3": 0.3589515043652636
         },
         {
          "x1": 0.9357282806103031,
          "x2": -2.7949129955278225,
          "x3": 0.3589515043652636
         },
         {
          "x1": -2.285631373949756,
          "x2": 2.6231071472846192,
          "x3": 2.850136303891709
         },
         {
          "x1": -2.2058643729796974,
          "x2": 2.6231071472846192,
          "x3": 2.850136303891709
         },
         {
          "x1": -2.285631373949756,
          "x2": 0.3466796580621776,
          "x3": 2.850136303891709
         },
         {
          "x1": -2.285631373949756,
          "x2": 2.6231071472846192,
          "x3": -2.7826411492247365
         },
         {
          "x1": -2.2058643729796974,
          "x2": 0.3466796580621776,
          "x3": -2.7826411492247365
         },
         {
          "x1": -1.892932292251006,
          "x2": -2.4819809147991307,
          "x3": -0.6841554313970408
         },
         {
          "x1": -0.24236896448594747,
          "x2": -2.4819809147991307,
          "x3": -0.6841554313970408
         },
         {
          "x1": -1.892932292251006,
          "x2": -1.6168157504315723,
          "x3": -0.6841554313970408
         },
         {
          "x1": -1.892932292251006,
          "x2": -2.4819809147991307,
          "x3": -1.6045439041284864
         },
         {
          "x1": -0.24236896448594747,
          "x2": -1.6168157504315723,
          "x3": -1.6045439041284864
         },
         {
          "x1": 1.2486603613389944,
          "x2": 0.6596117387908693,
          "x3": 2.457437222192959
         },
         {
          "x1": 2.899223689104053,
          "x2": 0.6596117387908693,
          "x3": 2.457437222192959
         },
         {
          "x1": 1.2486603613389944,
          "x2": 1.5247769031584282,
          "x3": 2.457437222192959
         },
         {
          "x1": 1.2486603613389944,
          "x2": 0.6596117387908693,
          "x3": 1.5370487494615137
         },
         {
          "x1": 2.899223689104053,
          "x2": 1.5247769031584282,
          "x3": 1.5370487494615137
         },
         {
          "x1": 2.819456688133994,
          "x2": -0.9111845880041307,
          "x3": -2.254951758192041
         },
         {
          "x1": -1.8131652912809473,
          "x2": -0.9111845880041307,
          "x3": -2.254951758192041
         },
         {
          "x1": 2.819456688133994,
          "x2": 3.0955732299534278,
          "x3": -2.254951758192041
         },
         {
          "x1": 2.819456688133994,
          "x2": -0.9111845880041307,
          "x3": 3.1078450762565133
         },
         {
          "x1": -1.8131652912809473,
          "x2": 3.0955732299534278,
          "x3": 3.1078450762565133
         },
         {
          "x1": -0.32213596545600565,
          "x2": 2.230408065585869,
          "x3": 0.8866408953979592
         },
         {
          "x1": 1.3284273623090526,
          "x2": 2.230408065585869,
          "x3": 0.8866408953979592
         },
         {
          "x1": -0.32213596545600565,
          "x2": -0.0460194236365723,
          "x3": 0.8866408953979592
         },
         {
          "x1": -0.32213596545600565,
          "x2": 2.230408065585869,
          "x3": -0.03374757733348632
         },
         {
          "x1": 1.3284273623090526,
          "x2": -0.0460194236365723,
          "x3": -0.03374757733348632
         },
         {
          "x1": -1.1075341288535059,
          "x2": -0.12578642460663092,
          "x3": 1.672039058795459
         },
         {
          "x1": 0.5430291989115528,
          "x2": -0.12578642460663092,
          "x3": 1.672039058795459
         },
         {
          "x1": -1.1075341288535059,
          "x2": -0.8314175870340721,
          "x3": 1.672039058795459
         },
         {
          "x1": -1.1075341288535059,
          "x2": -0.12578642460663092,
          "x3": -2.389942067525986
         },
         {
          "x1": 0.5430291989115528,
          "x2": -0.8314175870340721,
          "x3": -2.389942067525986
         },
         {
          "x1": 2.034058524736494,
          "x2": 3.0158062289833696,
          "x3": -1.469553594794541
         },
         {
          "x1": -2.5985634546784473,
          "x2": 3.0158062289833696,
          "x3": -1.469553594794541
         },
         {
          "x1": 2.034058524736494,
          "x2": 2.310175066555928,
          "x3": -1.469553594794541
         },
         {
          "x1": 2.034058524736494,
          "x2": 3.0158062289833696,
          "x3": 0.7516505860640135
         },
         {
          "x1": -2.5985634546784473,
          "x2": 2.310175066555928,
          "x3": 0.7516505860640135
         },
         {
          "x1": 0.46326219794149415,
          "x2": -1.696582751401631,
          "x3": 0.10124273200045897
         },
         {
          "x1": 2.1138255257065524,
          "x2": -1.696582751401631,
          "x3": 0.10124273200045897
         },
         {
          "x1": 0.46326219794149415,
          "x2": 0.7393787397609279,
          "x3": 0.10124273200045897
         },
         {
          "x1": 0.46326219794149415,
          "x2": -1.696582751401631,
          "x3": 2.3224469128590135
         },
         {
          "x1": 2.1138255257065524,
          "x2": 0.7393787397609279,
          "x3": 2.3224469128590135
         },
         {
          "x1": -2.678330455648506,
          "x2": 1.445009902188369,
          "x3": -3.040349921589541
         },
         {
          "x1": -1.0277671278834473,
          "x2": 1.445009902188369,
          "x3": -3.040349921589541
         },
         {
          "x1": -2.678330455648506,
          "x2": -2.4022139138290726,
          "x3": -3.040349921589541
         },
         {
          "x1": -2.678330455648506,
          "x2": 1.445009902188369,
          "x3": -0.8191457407309866
         },
         {
          "x1": -1.0277671278834473,
          "x2": -2.4022139138290726,
          "x3": -0.8191457407309866
         },
         {
          "x1": -2.4819809147991307,
          "x2": -1.892932292251006,
          "x3": 2.6537867630423344
         },
         {
          "x1": 1.1320778214596778,
          "x2": -1.892932292251006,
          "x3": 2.6537867630423344
         },
         {
          "x1": -2.4819809147991307,
          "x2": 2.5065246074053027,
          "x3": 2.6537867630423344
         },
         {
          "x1": -2.4819809147991307,
          "x2": -1.892932292251006,
          "x3": 0.5553010452146387
         },
         {
          "x1": 1.1320778214596778,
          "x2": 2.5065246074053027,
          "x3": 0.5553010452146387
         },
         {
          "x1": 0.6596117387908693,
          "x2": 1.2486603613389944,
          "x3": -0.4878058905476661
         },
         {
          "x1": -2.0095148321303222,
          "x2": 1.2486603613389944,
          "x3": -0.4878058905476661
         },
         {
          "x1": 0.6596117387908693,
          "x2": -0.6350680461846974,
          "x3": -0.4878058905476661
         },
         {
          "x1": 0.6596117387908693,
          "x2": 1.2486603613389944,
          "x3": -2.5862916083753613
         },
         {
          "x1": -2.0095148321303222,
          "x2": -0.6350680461846974,
          "x3": -2.5862916083753613
         },
         {
          "x1": 2.230408065585869,
          "x2": -0.32213596545600565,
          "x3": 1.082990436247334
         },
         {
          "x1": 2.7028741482546774,
          "x2": -0.32213596545600565,
          "x3": 1.082990436247334
         },
         {
          "x1": 2.230408065585869,
          "x2": -2.2058643729796974,
          "x3": 1.082990436247334
         },
         {
          "x1": 2.230408065585869,
          "x2": -0.32213596545600565,
          "x3": -1.0154952815803613
         },
         {
          "x1": 2.7028741482546774,
          "x2": -2.2058643729796974,
          "x3": -1.0154952815803613
         },
         {
          "x1": -0.9111845880041307,
          "x2": 2.819456688133994,
          "x3": -2.058602217342666
         },
         {
          "x1": -0.4387185053353222,
          "x2": 2.819456688133994,
          "x3": -2.058602217342666
         },
         {
          "x1": -0.9111845880041307,
          "x2": 0.9357282806103031,
          "x3": -2.058602217342666
         },
         {
          "x1": -0.9111845880041307,
          "x2": 2.819456688133994,
          "x3": 2.1260973720096388
         },
         {
          "x1": -0.4387185053353222,
          "x2": 0.9357282806103031,
          "x3": 2.1260973720096388
         },
         {
          "x1": -0.12578642460663092,
          "x2": -1.1075341288535059,
          "x3": -1.2732040539451661
         },
         {
          "x1": -1.2241166687328222,
          "x2": -1.1075341288535059,
          "x3": -1.2732040539451661
         },
         {
          "x1": -0.12578642460663092,
          "x2": 0.15033011721280287,
          "x3": -1.2732040539451661
         },
         {
          "x1": -0.12578642460663092,
          "x2": -1.1075341288535059,
          "x3": 1.340699208612139
         },
         {
          "x1": -1.2241166687328222,
          "x2": 0.15033011721280287,
          "x3": 1.340699208612139
         },
         {
          "x1": 3.0158062289833696,
          "x2": 2.034058524736494,
          "x3": 1.8683885996448337
         },
         {
          "x1": 1.9174759848571776,
          "x2": 2.034058524736494,
          "x3": 1.8683885996448337
         },
         {
          "x1": 3.0158062289833696,
          "x2": -2.991262536377197,
          "x3": 1.8683885996448337
         },
         {
          "x1": 3.0158062289833696,
          "x2": 2.034058524736494,
          "x3": -1.8008934449778613
         },
         {
          "x1": 1.9174759848571776,
          "x2": -2.991262536377197,
          "x3": -1.8008934449778613
         },
         {
          "x1": 1.445009902188369,
          "x2": -2.678330455648506,
          "x3": -2.844000380740166
         },
         {
          "x1": -2.7949129955278225,
          "x2": -2.678330455648506,
          "x3": -2.844000380740166
         },
         {
          "x1": 1.445009902188369,
          "x2": -1.4204662095821974,
          "x3": -2.844000380740166
         },
         {
          "x1": 1.445009902188369,
          "x2": -2.678330455648506,
          "x3": -0.2300971181828615
         },
         {
          "x1": -2.7949129955278225,
          "x2": -1.4204662095821974,
          "x3": -0.2300971181828615
         },
         {
          "x1": -1.696582751401631,
          "x2": 0.46326219794149415,
          "x3": 0.29759227284983414
         },
         {
          "x1": 0.3466796580621776,
          "x2": 0.46326219794149415,
          "x3": 0.29759227284983414
         },
         {
          "x1": -1.696582751401631,
          "x2": 1.721126444007803,
          "x3": 0.29759227284983414
         },
         {
          "x1": -1.696582751401631,
          "x2": 0.46326219794149415,
          "x3": 2.9114955354071386
         },
         {
          "x1": 0.3466796580621776,
          "x2": 1.721126444007803,
          "x3": 2.9114955354071386
         },
         {
          "x1": -2.089281833100381,
          "x2": -0.714835047154756,
          "x3": -2.451301299041416
         },
         {
          "x1": 2.310175066555928,
          "x2": -0.714835047154756,
          "x3": -2.451301299041416
         },
         {
          "x1": -2.089281833100381,
          "x2": -0.24236896448594747,
          "x3": -2.451301299041416
         },
         {
          "x1": -2.089281833100381,
          "x2": -0.714835047154756,
          "x3": 1.7333982903108884
         },
         {
          "x1": 2.310175066555928,
          "x2": -0.24236896448594747,
          "x3": 1.7333982903108884
         },
         {
          "x1": 1.0523108204896188,
          "x2": 2.4267576064352445,
          "x3": 0.690291354548584
         },
         {
          "x1": -0.8314175870340721,
          "x2": 2.4267576064352445,
          "x3": 0.690291354548584
         },
         {
          "x1": 1.0523108204896188,
          "x2": 2.899223689104053,
          "x3": 0.690291354548584
         },
         {
          "x1": 1.0523108204896188,
          "x2": 2.4267576064352445,
          "x3": -1.4081943632791114
         },
         {
          "x1": -0.8314175870340721,
          "x2": 2.899223689104053,
          "x3": -1.4081943632791114
         },
         {
          "x1": 2.6231071472846192,
          "x2": -2.285631373949756,
          "x3": -0.880504972246416
         },
         {
          "x1": 0.7393787397609279,
          "x2": -2.285631373949756,
          "x3": -0.880504972246416
         },
         {
          "x1": 2.6231071472846192,
          "x2": 1.3284273623090526,
          "x3": -0.880504972246416
         },
         {
          "x1": 2.6231071472846192,
          "x2": -2.285631373949756,
          "x3": -2.978990690074111
         },
         {
          "x1": 0.7393787397609279,
          "x2": 1.3284273623090526,
          "x3": -2.978990690074111
         },
         {
          "x1": -0.5184855063053808,
          "x2": 0.855961279640244,
          "x3": 2.261087681343584
         },
         {
          "x1": -2.4022139138290726,
          "x2": 0.855961279640244,
          "x3": 2.261087681343584
         },
         {
          "x1": -0.5184855063053808,
          "x2": -1.8131652912809473,
          "x3": 2.261087681343584
         },
         {
          "x1": -0.5184855063053808,
          "x2": 0.855961279640244,
          "x3": 0.16260196351588885
         },
         {
          "x1": -2.4022139138290726,
          "x2": -1.8131652912809473,
          "x3": 0.16260196351588885
         },
         {
          "x1": -1.3038836697028808,
          "x2": -3.071029537347256,
          "x3": 1.4756895179460843
         },
         {
          "x1": -1.6168157504315723,
          "x2": -3.071029537347256,
          "x3": 1.4756895179460843
         },
         {
          "x1": -1.3038836697028808,
          "x2": -2.5985634546784473,
          "x3": 1.4756895179460843
         },
         {
          "x1": -1.3038836697028808,
          "x2": -3.071029537347256,
          "x3": 2.518796453708389
         },
         {
          "x1": -1.6168157504315723,
          "x2": -2.5985634546784473,
          "x3": 2.518796453708389
         },
         {
          "x1": 1.8377089838871195,
          "x2": 0.07056311624274425,
          "x3": -1.665903135643916
         },
         {
          "x1": 1.5247769031584282,
          "x2": 0.07056311624274425,
          "x3": -1.665903135643916
         },
         {
          "x1": 1.8377089838871195,
          "x2": 0.5430291989115528,
          "x3": -1.665903135643916
         },
         {
          "x1": 1.8377089838871195,
          "x2": 0.07056311624274425,
          "x3": -0.6227961998816114
         },
         {
          "x1": 1.5247769031584282,
          "x2": 0.5430291989115528,
          "x3": -0.6227961998816114
         },
         {
          "x1": 0.266912657092119,
          "x2": -1.5002332105522558,
          "x3": 3.046485844741084
         },
         {
          "x1": -0.0460194236365723,
          "x2": -1.5002332105522558,
          "x3": 3.046485844741084
         },
         {
          "x1": 0.266912657092119,
          "x2": 2.1138255257065524,
          "x3": 3.046485844741084
         },
         {
          "x1": 0.266912657092119,
          "x2": -1.5002332105522558,
          "x3": -2.1935925266766114
         },
         {
          "x1": -0.0460194236365723,
          "x2": 2.1138255257065524,
          "x3": -2.1935925266766114
         },
         {
          "x1": -2.874679996497881,
          "x2": 1.6413594430377438,
          "x3": -0.0951068088489162
         },
         {
          "x1": 3.0955732299534278,
          "x2": 1.6413594430377438,
          "x3": -0.0951068088489162
         },
         {
          "x1": -2.874679996497881,
          "x2": -1.0277671278834473,
          "x3": -0.0951068088489162
         },
         {
          "x1": -2.874679996497881,
          "x2": 1.6413594430377438,
          "x3": 0.9480001269133886
         },
         {
          "x1": 3.0955732299534278,
          "x2": -1.0277671278834473,
          "x3": 0.9480001269133886
         },
         {
          "x1": -2.7765052260731933,
          "x2": -2.7765052260731933,
          "x3": -2.3531265286167287
         },
         {
          "x1": 0.24850488763749023,
          "x2": -2.7765052260731933,
          "x3": -2.3531265286167287
         },
         {
          "x1": -2.7765052260731933,
          "x2": 0.24850488763749023,
          "x3": -2.3531265286167287
         },
         {
          "x1": -2.7765052260731933,
          "x2": -2.7765052260731933,
          "x3": 0.06442719309120104
         },
         {
          "x1": 0.24850488763749023,
          "x2": 0.24850488763749023,
          "x3": 0.06442719309120104
         },
         {
          "x1": 0.3650874275168068,
          "x2": 0.3650874275168068,
          "x3": 0.7884661249732714
         },
         {
          "x1": -2.89308776595251,
          "x2": 0.3650874275168068,
          "x3": 0.7884661249732714
         },
         {
          "x1": 0.3650874275168068,
          "x2": -2.89308776595251,
          "x3": 0.7884661249732714
         },
         {
          "x1": 0.3650874275168068,
          "x2": 0.3650874275168068,
          "x3": -3.077165460498799
         },
         {
          "x1": -2.89308776595251,
          "x2": -2.89308776595251,
          "x3": -3.077165460498799
         },
         {
          "x1": 1.9358837543118064,
          "x2": -1.2057088992781935,
          "x3": -0.7823302018217286
         },
         {
          "x1": 1.8193012144324907,
          "x2": -1.2057088992781935,
          "x3": -0.7823302018217286
         },
         {
          "x1": 1.9358837543118064,
          "x2": -1.3222914391575098,
          "x3": -0.7823302018217286
         },
         {
          "x1": 1.9358837543118064,
          "x2": -1.2057088992781935,
          "x3": -1.5063691337037988
         },
         {
          "x1": 1.8193012144324907,
          "x2": -1.3222914391575098,
          "x3": -1.5063691337037988
         },
         {
          "x1": -1.2057088992781935,
          "x2": 1.9358837543118064,
          "x3": 2.359262451768272
         },
         {
          "x1": -1.3222914391575098,
          "x2": 1.9358837543118064,
          "x3": 2.359262451768272
         },
         {
          "x1": -1.2057088992781935,
          "x2": 1.8193012144324907,
          "x3": 2.359262451768272
         },
         {
          "x1": -1.2057088992781935,
          "x2": 1.9358837543118064,
          "x3": 1.6352235198862015
         },
         {
          "x1": -1.3222914391575098,
          "x2": 1.8193012144324907,
          "x3": 1.6352235198862015
         },
         {
          "x1": -0.42031073588069345,
          "x2": -0.42031073588069345,
          "x3": 0.003067961575771605
         },
         {
          "x1": -0.5368932757600096,
          "x2": -0.42031073588069345,
          "x3": 0.003067961575771605
         },
         {
          "x1": -0.42031073588069345,
          "x2": 2.6046993778299905,
          "x3": 0.003067961575771605
         },
         {
          "x1": -0.42031073588069345,
          "x2": -0.42031073588069345,
          "x3": 0.8498253564887013
         },
         {
          "x1": -0.5368932757600096,
          "x2": 2.6046993778299905,
          "x3": 0.8498253564887013
         },
         {
          "x1": 2.721281917709307,
          "x2": 2.721281917709307,
          "x3": -3.1385246920142285
         },
         {
          "x1": 2.6046993778299905,
          "x2": 2.721281917709307,
          "x3": -3.1385246920142285
         },
         {
          "x1": 2.721281917709307,
          "x2": -0.5368932757600096,
          "x3": -3.1385246920142285
         },
         {
          "x1": 2.721281917709307,
          "x2": 2.721281917709307,
          "x3": -2.291767297101299
         },
         {
          "x1": 2.6046993778299905,
          "x2": -0.5368932757600096,
          "x3": -2.291767297101299
         },
         {
          "x1": 1.1504855909143066,
          "x2": -1.9911070626756935,
          "x3": 1.5738642883707712
         },
         {
          "x1": -2.10768960255501,
          "x2": -1.9911070626756935,
          "x3": 1.5738642883707712
         },
         {
          "x1": 1.1504855909143066,
          "x2": -2.10768960255501,
          "x3": 1.5738642883707712
         },
         {
          "x1": 1.1504855909143066,
          "x2": -1.9911070626756935,
          "x3": -0.7209709703062988
         },
         {
          "x1": -2.10768960255501,
          "x2": -2.10768960255501,
          "x3": -0.7209709703062988
         },
         {
          "x1": -1.9911070626756935,
          "x2": 1.1504855909143066,
          "x3": -1.5677283652192286
         },
         {
          "x1": 1.03390305103499,
          "x2": 1.1504855909143066,
          "x3": -1.5677283652192286
         },
         {
          "x1": -1.9911070626756935,
          "x2": 1.03390305103499,
          "x3": -1.5677283652192286
         },
         {
          "x1": -1.9911070626756935,
          "x2": 1.1504855909143066,
          "x3": 2.4206216832837013
         },
         {
          "x1": 1.03390305103499,
          "x2": 1.03390305103499,
          "x3": 2.4206216832837013
         },
         {
          "x1": -1.5984079809769434,
          "x2": -0.8130098175794434,
          "x3": 1.9665633700695215
         },
         {
          "x1": 2.99739845952874,
          "x2": -0.8130098175794434,
          "x3": 1.9665633700695215
         },
         {
          "x1": -1.5984079809769434,
          "x2": -2.50038868425376,
          "x3": 1.9665633700695215
         },
         {
          "x1": -1.5984079809769434,
          "x2": -0.8130098175794434,
          "x3": 2.027922601584951
         },
         {
          "x1": 2.99739845952874,
          "x2": -2.50038868425376,
          "x3": 2.027922601584951
         },
         {
          "x1": 1.543184672613057,
          "x2": 2.3285828360105567,
          "x3": -1.1750292835204785
         },
         {
          "x1": -0.14419419406125966,
          "x2": 2.3285828360105567,
          "x3": -1.1750292835204785
         },
         {
          "x1": 1.543184672613057,
          "x2": 0.6412039693362401,
          "x3": -1.1750292835204785
         },
         {
          "x1": 1.543184672613057,
          "x2": 2.3285828360105567,
          "x3": -1.1136700520050486
         },
         {
          "x1": -0.14419419406125966,
          "x2": 0.6412039693362401,
          "x3": -1.1136700520050486
         },
         {
          "x1": 3.1139809994080565,
          "x2": -2.3838061443744434,
          "x3": 0.3957670432745215
         },
         {
          "x1": 1.4266021327337404,
          "x2": -2.3838061443744434,
          "x3": 0.3957670432745215
         },
         {
          "x1": 3.1139809994080565,
          "x2": 2.21200029613124,
          "x3": 0.3957670432745215
         },
         {
          "x1": 3.1139809994080565,
          "x2": -2.3838061443744434,
          "x3": -2.6844663788000487
         },
         {
          "x1": 1.4266021327337404,
          "x2": 2.21200029613124,
          "x3": -2.6844663788000487
         },
         {
          "x1": -0.027611654181943557,
          "x2": 0.7577865092155567,
          "x3": -2.7458256103154786
         },
         {
          "x1": -1.7149905208562597,
          "x2": 0.7577865092155567,
          "x3": -2.7458256103154786
         },
         {
          "x1": -0.027611654181943557,
          "x2": -0.9295923574587599,
          "x3": -2.7458256103154786
         },
         {
          "x1": -0.027611654181943557,
          "x2": 0.7577865092155567,
          "x3": 0.4571262747899514
         },
         {
          "x1": -1.7149905208562597,
          "x2": -0.9295923574587599,
          "x3": 0.4571262747899514
         },
         {
          "x1": -0.8130098175794434,
          "x2": -1.5984079809769434,
          "x3": -0.38963112012297874
         },
         {
          "x1": -2.50038868425376,
          "x2": -1.5984079809769434,
          "x3": -0.38963112012297874
         },
         {
          "x1": -0.8130098175794434,
          "x2": -0.14419419406125966,
          "x3": -0.38963112012297874
         },
         {
          "x1": -0.8130098175794434,
          "x2": -1.5984079809769434,
          "x3": 2.8133207649824516
         },
         {
          "x1": -2.50038868425376,
          "x2": -0.14419419406125966,
          "x3": 2.8133207649824516
         },
         {
          "x1": 2.3285828360105567,
          "x2": 1.543184672613057,
          "x3": 2.7519615334670213
         },
         {
          "x1": 0.6412039693362401,
          "x2": 1.543184672613057,
          "x3": 2.7519615334670213
         },
         {
          "x1": 2.3285828360105567,
          "x2": 2.99739845952874,
          "x3": 2.7519615334670213
         },
         {
          "x1": 2.3285828360105567,
          "x2": 1.543184672613057,
          "x3": -0.32827188860754886
         },
         {
          "x1": 0.6412039693362401,
          "x2": 2.99739845952874,
          "x3": -0.32827188860754886
         },
         {
          "x1": 0.7577865092155567,
          "x2": -0.027611654181943557,
          "x3": -1.9604274469179785
         },
         {
          "x1": -0.9295923574587599,
          "x2": -0.027611654181943557,
          "x3": -1.9604274469179785
         },
         {
          "x1": 0.7577865092155567,
          "x2": 1.4266021327337404,
          "x3": -1.9604274469179785
         },
         {
          "x1": 0.7577865092155567,
          "x2": -0.027611654181943557,
          "x3": -1.8990682154025489
         },
         {
          "x1": -0.9295923574587599,
          "x2": 1.4266021327337404,
          "x3": -1.8990682154025489
         },
         {
          "x1": -2.3838061443744434,
          "x2": 3.1139809994080565,
          "x3": 1.1811652066720217
         },
         {
          "x1": 2.21200029613124,
          "x2": 3.1139809994080565,
          "x3": 1.1811652066720217
         },
         {
          "x1": -2.3838061443744434,
          "x2": -1.7149905208562597,
          "x3": 1.1811652066720217
         },
         {
          "x1": -2.3838061443744434,
          "x2": 3.1139809994080565,
          "x3": 1.2425244381874512
         },
         {
          "x1": 2.21200029613124,
          "x2": -1.7149905208562597,
          "x3": 1.2425244381874512
         },
         {
          "x1": -2.5801556852238186,
          "x2": -0.22396119503131828,
          "x3": -0.9786797426711034
         },
         {
          "x1": -2.3040391434043848,
          "x2": -0.22396119503131828,
          "x3": -0.9786797426711034
         },
         {
          "x1": -2.5801556852238186,
          "x2": 1.622951673583115,
          "x3": -0.9786797426711034
         },
         {
          "x1": -2.5801556852238186,
          "x2": -0.22396119503131828,
          "x3": -0.13192234775817369
         },
         {
          "x1": -2.3040391434043848,
          "x2": 1.622951673583115,
          "x3": -0.13192234775817369
         },
         {
          "x1": 0.5614369683661815,
          "x2": 2.917631458558682,
          "x3": 2.1629129109188963
         },
         {
          "x1": 0.8375535101856153,
          "x2": 2.917631458558682,
          "x3": 2.1629129109188963
         },
         {
          "x1": 0.5614369683661815,
          "x2": -1.5186409800068847,
          "x3": 2.1629129109188963
         },
         {
          "x1": 0.5614369683661815,
          "x2": 2.917631458558682,
          "x3": 3.0096703058318264
         },
         {
          "x1": 0.8375535101856153,
          "x2": -1.5186409800068847,
          "x3": 3.0096703058318264
         },
         {
          "x1": 2.132233295161182,
          "x2": -1.7947575218263183,
          "x3": -2.5494760694661034
         },
         {
          "x1": -0.7332428166093847,
          "x2": -1.7947575218263183,
          "x3": -2.5494760694661034
         },
         {
          "x1": 2.132233295161182,
          "x2": -3.089437306801885,
          "x3": -2.5494760694661034
         },
         {
          "x1": 2.132233295161182,
          "x2": -1.7947575218263183,
          "x3": 1.438873979036826
         },
         {
          "x1": -0.7332428166093847,
          "x2": -3.089437306801885,
          "x3": 1.438873979036826
         },
         {
          "x1": -1.0093593584288185,
          "x2": 1.3468351317636813,
          "x3": 0.5921165841238967
         },
         {
          "x1": 2.408349836980615,
          "x2": 1.3468351317636813,
          "x3": 0.5921165841238967
         },
         {
          "x1": -1.0093593584288185,
          "x2": 0.052155346788115065,
          "x3": 0.5921165841238967
         },
         {
          "x1": -1.0093593584288185,
          "x2": 1.3468351317636813,
          "x3": -1.702718674553174
         },
         {
          "x1": 2.408349836980615,
          "x2": 0.052155346788115065,
          "x3": -1.702718674553174
         },
         {
          "x1": -0.22396119503131828,
          "x2": -2.5801556852238186,
          "x3": 2.948311074316397
         },
         {
          "x1": 1.622951673583115,
          "x2": -2.5801556852238186,
          "x3": 2.948311074316397
         },
         {
          "x1": -0.22396119503131828,
          "x2": 0.8375535101856153,
          "x3": 2.948311074316397
         },
         {
          "x1": -0.22396119503131828,
          "x2": -2.5801556852238186,
          "x3": -0.9173205111556739
         },
         {
          "x1": 1.622951673583115,
          "x2": 0.8375535101856153,
          "x3": -0.9173205111556739
         },
         {
          "x1": 2.917631458558682,
          "x2": 0.5614369683661815,
          "x3": -0.19328157927360357
         },
         {
          "x1": -1.5186409800068847,
          "x2": 0.5614369683661815,
          "x3": -0.19328157927360357
         },
         {
          "x1": 2.917631458558682,
          "x2": -2.3040391434043848,
          "x3": -0.19328157927360357
         },
         {
          "x1": 2.917631458558682,
          "x2": 0.5614369683661815,
          "x3": 2.2242721424343266
         },
         {
          "x1": -1.5186409800068847,
          "x2": -2.3040391434043848,
          "x3": 2.2242721424343266
         },
         {
          "x1": 1.3468351317636813,
          "x2": -1.0093593584288185,
          "x3": 1.3775147475213965
         },
         {
          "x1": 0.052155346788115065,
          "x2": -1.0093593584288185,
          "x3": 1.3775147475213965
         },
         {
          "x1": 1.3468351317636813,
          "x2": -0.7332428166093847,
          "x3": 1.3775147475213965
         },
         {
          "x1": 1.3468351317636813,
          "x2": -1.0093593584288185,
          "x3": 0.6534758156393261
         },
         {
          "x1": 0.052155346788115065,
          "x2": -0.7332428166093847,
          "x3": 0.6534758156393261
         },
         {
          "x1": -1.7947575218263183,
          "x2": 2.132233295161182,
          "x3": -1.7640779060686036
         },
         {
          "x1": -3.089437306801885,
          "x2": 2.132233295161182,
          "x3": -1.7640779060686036
         },
         {
          "x1": -1.7947575218263183,
          "x2": 2.408349836980615,
          "x3": -1.7640779060686036
         },
         {
          "x1": -1.7947575218263183,
          "x2": 2.132233295161182,
          "x3": -2.488116837950674
         },
         {
          "x1": -3.089437306801885,
          "x2": 2.408349836980615,
          "x3": -2.488116837950674
         },
         {
          "x1": -2.187456603525068,
          "x2": -2.187456603525068,
          "x3": 0.9848156658226461
         },
         {
          "x1": -1.1259418983081346,
          "x2": -2.187456603525068,
          "x3": 0.9848156658226461
         },
         {
          "x1": -2.187456603525068,
          "x2": -1.1259418983081346,
          "x3": 0.9848156658226461
         },
         {
          "x1": -2.187456603525068,
          "x2": -2.187456603525068,
          "x3": -2.0954177562519236
         },
         {
          "x1": -1.1259418983081346,
          "x2": -1.1259418983081346,
          "x3": -2.0954177562519236
         },
         {
          "x1": 0.9541360500649319,
          "x2": 0.9541360500649319,
          "x3": -2.1567769877673535
         },
         {
          "x1": 2.0156507552818654,
          "x2": 0.9541360500649319,
          "x3": -2.1567769877673535
         },
         {
          "x1": 0.9541360500649319,
          "x2": 2.0156507552818654,
          "x3": -2.1567769877673535
         },
         {
          "x1": 0.9541360500649319,
          "x2": 0.9541360500649319,
          "x3": 1.0461748973380764
         },
         {
          "x1": 2.0156507552818654,
          "x2": 2.0156507552818654,
          "x3": 1.0461748973380764
         },
         {
          "x1": 2.5249323768599314,
          "x2": -0.6166602767300682,
          "x3": 2.5556119926176466
         },
         {
          "x1": -2.6967382251031347,
          "x2": -0.6166602767300682,
          "x3": 2.5556119926176466
         },
         {
          "x1": 2.5249323768599314,
          "x2": 0.4448544284868654,
          "x3": 2.5556119926176466
         },
         {
          "x1": 2.5249323768599314,
          "x2": -0.6166602767300682,
          "x3": 2.616971224133076
         },
         {
          "x1": -2.6967382251031347,
          "x2": 0.4448544284868654,
          "x3": 2.616971224133076
         },
         {
          "x1": -0.6166602767300682,
          "x2": 2.5249323768599314,
          "x3": -0.5859806609723535
         },
         {
          "x1": 0.4448544284868654,
          "x2": 2.5249323768599314,
          "x3": -0.5859806609723535
         },
         {
          "x1": -0.6166602767300682,
          "x2": -2.6967382251031347,
          "x3": -0.5859806609723535
         },
         {
          "x1": -0.6166602767300682,
          "x2": 2.5249323768599314,
          "x3": -0.524621429456924
         },
         {
          "x1": 0.4448544284868654,
          "x2": -2.6967382251031347,
          "x3": -0.524621429456924
         },
         {
          "x1": -1.4020584401275684,
          "x2": -1.4020584401275684,
          "x3": -2.9421751511648537
         },
         {
          "x1": 1.2302525918843656,
          "x2": -1.4020584401275684,
          "x3": -2.9421751511648537
         },
         {
          "x1": -1.4020584401275684,
          "x2": -1.9113400617056349,
          "x3": -2.9421751511648537
         },
         {
          "x1": -1.4020584401275684,
          "x2": -1.4020584401275684,
          "x3": -2.880815919649424
         },
         {
          "x1": 1.2302525918843656,
          "x2": -1.9113400617056349,
          "x3": -2.880815919649424
         },
         {
          "x1": 1.7395342134624316,
          "x2": 1.7395342134624316,
          "x3": 0.19941750242514633
         },
         {
          "x1": -1.9113400617056349,
          "x2": 1.7395342134624316,
          "x3": 0.19941750242514633
         },
         {
          "x1": 1.7395342134624316,
          "x2": 1.2302525918843656,
          "x3": 0.19941750242514633
         },
         {
          "x1": 1.7395342134624316,
          "x2": 1.7395342134624316,
          "x3": 0.2607767339405762
         },
         {
          "x1": -1.9113400617056349,
          "x2": 1.2302525918843656,
          "x3": 0.2607767339405762
         },
         {
          "x1": 0.1687378866674316,
          "x2": -2.9728547669225684,
          "x3": -1.3713788243698535
         },
         {
          "x1": 2.8010489186793652,
          "x2": -2.9728547669225684,
          "x3": -1.3713788243698535
         },
         {
          "x1": 0.1687378866674316,
          "x2": 2.8010489186793652,
          "x3": -1.3713788243698535
         },
         {
          "x1": 0.1687378866674316,
          "x2": -2.9728547669225684,
          "x3": 1.8315730607355762
         },
         {
          "x1": 2.8010489186793652,
          "x2": 2.8010489186793652,
          "x3": 1.8315730607355762
         },
         {
          "x1": -2.9728547669225684,
          "x2": 0.1687378866674316,
          "x3": 1.7702138292201468
         },
         {
          "x1": -0.34054373491063483,
          "x2": 0.1687378866674316,
          "x3": 1.7702138292201468
         },
         {
          "x1": -2.9728547669225684,
          "x2": -0.34054373491063483,
          "x3": 1.7702138292201468
         },
         {
          "x1": -2.9728547669225684,
          "x2": 0.1687378866674316,
          "x3": -1.3100195928544238
         },
         {
          "x1": -0.34054373491063483,
          "x2": -0.34054373491063483,
          "x3": -1.3100195928544238
         },
         {
          "x1": -3.0219421521349124,
          "x2": -2.0401944478880374,
          "x3": -1.4204662095821974
         },
         {
          "x1": 1.9665633700695215,
          "x2": -2.0401944478880374,
          "x3": -1.4204662095821974
         },
         {
          "x1": -3.0219421521349124,
          "x2": -2.9421751511648537,
          "x3": -1.4204662095821974
         },
         {
          "x1": -3.0219421521349124,
          "x2": -2.0401944478880374,
          "x3": -2.43902945273833
         },
         {
          "x1": 1.9665633700695215,
          "x2": -2.9421751511648537,
          "x3": -2.43902945273833
         },
         {
          "x1": 0.11965050145508771,
          "x2": 1.1013982057019627,
          "x3": 1.721126444007803
         },
         {
          "x1": -1.1750292835204785,
          "x2": 1.1013982057019627,
          "x3": 1.721126444007803
         },
         {
          "x1": 0.11965050145508771,
          "x2": 0.19941750242514633,
          "x3": 1.721126444007803
         },
         {
          "x1": 0.11965050145508771,
          "x2": 1.1013982057019627,
          "x3": 0.70256320085167
         },
         {
          "x1": -1.1750292835204785,
          "x2": 0.19941750242514633,
          "x3": 0.70256320085167
         },
         {
          "x1": 1.6904468282500877,
          "x2": -0.4693981210930369,
          "x3": -2.991262536377197
         },
         {
          "x1": 0.3957670432745215,
          "x2": -0.4693981210930369,
          "x3": -2.991262536377197
         },
         {
          "x1": 1.6904468282500877,
          "x2": 1.7702138292201468,
          "x3": -2.991262536377197
         },
         {
          "x1": 1.6904468282500877,
          "x2": -0.4693981210930369,
          "x3": 2.2733595276466696
         },
         {
          "x1": 0.3957670432745215,
          "x2": 1.7702138292201468,
          "x3": 2.2733595276466696
         },
         {
          "x1": -1.451145825339912,
          "x2": 2.672194532496963,
          "x3": 0.15033011721280287
         },
         {
          "x1": -2.7458256103154786,
          "x2": 2.672194532496963,
          "x3": 0.15033011721280287
         },
         {
          "x1": -1.451145825339912,
          "x2": -1.3713788243698535,
          "x3": 0.15033011721280287
         },
         {
          "x1": -1.451145825339912,
          "x2": 2.672194532496963,
          "x3": -0.86823312594333
         },
         {
          "x1": -2.7458256103154786,
          "x2": -1.3713788243698535,
          "x3": -0.86823312594333
         },
         {
          "x1": -0.6657476619424121,
          "x2": -1.2547962844905372,
          "x3": 2.5065246074053027
         },
         {
          "x1": -1.9604274469179785,
          "x2": -1.2547962844905372,
          "x3": 2.5065246074053027
         },
         {
          "x1": -0.6657476619424121,
          "x2": -0.5859806609723535,
          "x3": 2.5065246074053027
         },
         {
          "x1": -0.6657476619424121,
          "x2": -1.2547962844905372,
          "x3": -1.65363128934083
         },
         {
          "x1": -1.9604274469179785,
          "x2": -0.5859806609723535,
          "x3": -1.65363128934083
         },
         {
          "x1": 2.4758449916475875,
          "x2": 1.8867963690994634,
          "x3": -0.6350680461846974
         },
         {
          "x1": 1.1811652066720217,
          "x2": 1.8867963690994634,
          "x3": -0.6350680461846974
         },
         {
          "x1": 2.4758449916475875,
          "x2": 2.5556119926176466,
          "x3": -0.6350680461846974
         },
         {
          "x1": 2.4758449916475875,
          "x2": 1.8867963690994634,
          "x3": 1.4879613642491698
         },
         {
          "x1": 1.1811652066720217,
          "x2": 2.5556119926176466,
          "x3": 1.4879613642491698
         },
         {
          "x1": 0.905048664852588,
          "x2": -2.825592611285537,
          "x3": 0.9357282806103031
         },
         {
          "x1": -0.38963112012297874,
          "x2": -2.825592611285537,
          "x3": 0.9357282806103031
         },
         {
          "x1": 0.905048664852588,
          "x2": 0.9848156658226461,
          "x3": 0.9357282806103031
         },
         {
          "x1": 0.905048664852588,
          "x2": -2.825592611285537,
          "x3": 3.0587576910441703
         },
         {
          "x1": -0.38963112012297874,
          "x2": 0.9848156658226461,
          "x3": 3.0587576910441703
         },
         {
          "x1": -2.236543988737412,
          "x2": 0.3160000423044629,
          "x3": -2.2058643729796974
         },
         {
          "x1": 2.7519615334670213,
          "x2": 0.3160000423044629,
          "x3": -2.2058643729796974
         },
         {
          "x1": -2.236543988737412,
          "x2": -2.1567769877673535,
          "x3": -2.2058643729796974
         },
         {
          "x1": -2.236543988737412,
          "x2": 0.3160000423044629,
          "x3": -0.08283496254583023
         },
         {
          "x1": 2.7519615334670213,
          "x2": -2.1567769877673535,
          "x3": -0.08283496254583023
         },
         {
          "x1": -1.8438449070386622,
          "x2": -0.07669903939428702,
          "x3": 1.3284273623090526
         },
         {
          "x1": 0.7884661249732714,
          "x2": -0.07669903939428702,
          "x3": 1.3284273623090526
         },
         {
          "x1": -1.8438449070386622,
          "x2": 0.5921165841238967,
          "x3": 1.3284273623090526
         },
         {
          "x1": -1.8438449070386622,
          "x2": -0.07669903939428702,
          "x3": -1.2609322076420801
         },
         {
          "x1": 0.7884661249732714,
          "x2": 0.5921165841238967,
          "x3": -1.2609322076420801
         },
         {
          "x1": 1.2977477465513383,
          "x2": 3.0648936141957126,
          "x3": -1.8131652912809473
         },
         {
          "x1": -2.3531265286167287,
          "x2": 3.0648936141957126,
          "x3": -1.8131652912809473
         },
         {
          "x1": 1.2977477465513383,
          "x2": -2.5494760694661034,
          "x3": -1.8131652912809473
         },
         {
          "x1": 1.2977477465513383,
          "x2": 3.0648936141957126,
          "x3": 1.8806604459479201
         },
         {
          "x1": -2.3531265286167287,
          "x2": -2.5494760694661034,
          "x3": 1.8806604459479201
         },
         {
          "x1": 2.868544073346338,
          "x2": -1.647495366189287,
          "x3": 2.899223689104053
         },
         {
          "x1": 2.359262451768272,
          "x2": -1.647495366189287,
          "x3": 2.899223689104053
         },
         {
          "x1": 2.868544073346338,
          "x2": -0.9786797426711034,
          "x3": 2.899223689104053
         },
         {
          "x1": 2.868544073346338,
          "x2": -1.647495366189287,
          "x3": 0.3098641191529201
         },
         {
          "x1": 2.359262451768272,
          "x2": -0.9786797426711034,
          "x3": 0.3098641191529201
         },
         {
          "x1": -0.2730485802436622,
          "x2": 1.494097287400713,
          "x3": -0.24236896448594747
         },
         {
          "x1": -0.7823302018217286,
          "x2": 1.494097287400713,
          "x3": -0.24236896448594747
         },
         {
          "x1": -0.2730485802436622,
          "x2": 2.1629129109188963,
          "x3": -0.24236896448594747
         },
         {
          "x1": -0.2730485802436622,
          "x2": 1.494097287400713,
          "x3": -2.83172853443708
         },
         {
          "x1": -0.7823302018217286,
          "x2": 2.1629129109188963,
          "x3": -2.83172853443708
         },
         {
          "x1": -1.058446743641162,
          "x2": -2.4328935295867873,
          "x3": -2.5985634546784473
         },
         {
          "x1": -1.5677283652192286,
          "x2": -2.4328935295867873,
          "x3": -2.5985634546784473
         },
         {
          "x1": -1.058446743641162,
          "x2": 2.948311074316397,
          "x3": -2.5985634546784473
         },
         {
          "x1": -1.058446743641162,
          "x2": -2.4328935295867873,
          "x3": -0.4755340442445801
         },
         {
          "x1": -1.5677283652192286,
          "x2": 2.948311074316397,
          "x3": -0.4755340442445801
         },
         {
          "x1": 2.083145909948838,
          "x2": 0.7086991240032128,
          "x3": 0.5430291989115528
         },
         {
          "x1": 1.5738642883707712,
          "x2": 0.7086991240032128,
          "x3": 0.5430291989115528
         },
         {
          "x1": 2.083145909948838,
          "x2": -0.19328157927360357,
          "x3": 0.5430291989115528
         },
         {
          "x1": 2.083145909948838,
          "x2": 0.7086991240032128,
          "x3": 2.66605860934542
         },
         {
          "x1": 1.5738642883707712,
          "x2": -0.19328157927360357,
          "x3": 2.66605860934542
         },
         {
          "x1": 0.512349583153838,
          "x2": -0.8620972027917873,
          "x3": -1.0277671278834473
         },
         {
          "x1": -3.1385246920142285,
          "x2": -0.8620972027917873,
          "x3": -1.0277671278834473
         },
         {
          "x1": 0.512349583153838,
          "x2": -1.7640779060686036,
          "x3": -1.0277671278834473
         },
         {
          "x1": 0.512349583153838,
          "x2": -0.8620972027917873,
          "x3": 1.0952622825504204
         },
         {
          "x1": -3.1385246920142285,
          "x2": -1.7640779060686036,
          "x3": 1.0952622825504204
         },
         {
          "x1": -2.629243070436162,
          "x2": 2.279495450798213,
          "x3": 2.1138255257065524
         },
         {
          "x1": 0.003067961575771605,
          "x2": 2.279495450798213,
          "x3": 2.1138255257065524
         },
         {
          "x1": -2.629243070436162,
          "x2": 1.3775147475213965,
          "x3": 2.1138255257065524
         },
         {
          "x1": -2.629243070436162,
          "x2": 2.279495450798213,
          "x3": -2.04633037103958
         },
         {
          "x1": 0.003067961575771605,
          "x2": 1.3775147475213965,
          "x3": -2.04633037103958
         },
         {
          "x1": -2.4328935295867873,
          "x2": -1.058446743641162,
          "x3": -1.6168157504315723
         },
         {
          "x1": -0.19328157927360357,
          "x2": -1.058446743641162,
          "x3": -1.6168157504315723
         },
         {
          "x1": -2.4328935295867873,
          "x2": -1.5677283652192286,
          "x3": -1.6168157504315723
         },
         {
          "x1": -2.4328935295867873,
          "x2": -1.058446743641162,
          "x3": 2.469709068496045
         },
         {
          "x1": -0.19328157927360357,
          "x2": -1.5677283652192286,
          "x3": 2.469709068496045
         },
         {
          "x1": 0.7086991240032128,
          "x2": 2.083145909948838,
          "x3": 1.5247769031584282
         },
         {
          "x1": 2.948311074316397,
          "x2": 2.083145909948838,
          "x3": 1.5247769031584282
         },
         {
          "x1": 0.7086991240032128,
          "x2": 1.5738642883707712,
          "x3": 1.5247769031584282
         },
         {
          "x1": 0.7086991240032128,
          "x2": 2.083145909948838,
          "x3": -0.6718835850939553
         },
         {
          "x1": 2.948311074316397,
          "x2": 1.5738642883707712,
          "x3": -0.6718835850939553
         },
         {
          "x1": 2.279495450798213,
          "x2": -2.629243070436162,
          "x3": -0.0460194236365723
         },
         {
          "x1": -1.7640779060686036,
          "x2": -2.629243070436162,
          "x3": -0.0460194236365723
         },
         {
          "x1": 2.279495450798213,
          "x2": 0.003067961575771605,
          "x3": -0.0460194236365723
         },
         {
          "x1": 2.279495450798213,
          "x2": -2.629243070436162,
          "x3": -2.2426799118889553
         },
         {
          "x1": -1.7640779060686036,
          "x2": 0.003067961575771605,
          "x3": -2.2426799118889553
         },
         {
          "x1": -0.8620972027917873,
          "x2": 0.512349583153838,
          "x3": 3.0955732299534278
         },
         {
          "x1": 1.3775147475213965,
          "x2": 0.512349583153838,
          "x3": 3.0955732299534278
         },
         {
          "x1": -0.8620972027917873,
          "x2": -3.1385246920142285,
          "x3": 3.0955732299534278
         },
         {
          "x1": -0.8620972027917873,
          "x2": 0.512349583153838,
          "x3": 0.8989127417010447
         },
         {
          "x1": 1.3775147475213965,
          "x2": -3.1385246920142285,
          "x3": 0.8989127417010447
         },
         {
          "x1": -0.07669903939428702,
          "x2": -1.8438449070386622,
          "x3": 0.7393787397609279
         },
         {
          "x1": 0.5921165841238967,
          "x2": -1.8438449070386622,
          "x3": 0.7393787397609279
         },
         {
          "x1": -0.07669903939428702,
          "x2": -2.3531265286167287,
          "x3": 0.7393787397609279
         },
         {
          "x1": -0.07669903939428702,
          "x2": -1.8438449070386622,
          "x3": 1.6843109050985445
         },
         {
          "x1": 0.5921165841238967,
          "x2": -2.3531265286167287,
          "x3": 1.6843109050985445
         },
         {
          "x1": 3.0648936141957126,
          "x2": 1.2977477465513383,
          "x3": -2.4022139138290726
         },
         {
          "x1": -2.5494760694661034,
          "x2": 1.2977477465513383,
          "x3": -2.4022139138290726
         },
         {
          "x1": 3.0648936141957126,
          "x2": 0.7884661249732714,
          "x3": -2.4022139138290726
         },
         {
          "x1": 3.0648936141957126,
          "x2": 1.2977477465513383,
          "x3": -1.457281748491455
         },
         {
          "x1": -2.5494760694661034,
          "x2": 0.7884661249732714,
          "x3": -1.457281748491455
         },
         {
          "x1": 1.494097287400713,
          "x2": -0.2730485802436622,
          "x3": 2.310175066555928
         },
         {
          "x1": 2.1629129109188963,
          "x2": -0.2730485802436622,
          "x3": 2.310175066555928
         },
         {
          "x1": 1.494097287400713,
          "x2": 2.359262451768272,
          "x3": 2.310175066555928
         },
         {
          "x1": 1.494097287400713,
          "x2": -0.2730485802436622,
          "x3": -3.028078075286455
         },
         {
          "x1": 2.1629129109188963,
          "x2": 2.359262451768272,
          "x3": -3.028078075286455
         },
         {
          "x1": -1.647495366189287,
          "x2": 2.868544073346338,
          "x3": -0.8314175870340721
         },
         {
          "x1": -0.9786797426711034,
          "x2": 2.868544073346338,
          "x3": -0.8314175870340721
         },
         {
          "x1": -1.647495366189287,
          "x2": -0.7823302018217286,
          "x3": -0.8314175870340721
         },
         {
          "x1": -1.647495366189287,
          "x2": 2.868544073346338,
          "x3": 0.11351457830354494
         },
         {
          "x1": -0.9786797426711034,
          "x2": -0.7823302018217286,
          "x3": 0.11351457830354494
         },
         {
          "x1": -2.0401944478880374,
          "x2": -3.0219421521349124,
          "x3": 1.9174759848571776
         },
         {
          "x1": -2.9421751511648537,
          "x2": -3.0219421521349124,
          "x3": 1.9174759848571776
         },
         {
          "x1": -2.0401944478880374,
          "x2": 1.9665633700695215,
          "x3": 1.9174759848571776
         },
         {
          "x1": -2.0401944478880374,
          "x2": -3.0219421521349124,
          "x3": 1.291611823399795
         },
         {
          "x1": -2.9421751511648537,
          "x2": 1.9665633700695215,
          "x3": 1.291611823399795
         },
         {
          "x1": 1.1013982057019627,
          "x2": 0.11965050145508771,
          "x3": -1.2241166687328222
         },
         {
          "x1": 0.19941750242514633,
          "x2": 0.11965050145508771,
          "x3": -1.2241166687328222
         },
         {
          "x1": 1.1013982057019627,
          "x2": -1.1750292835204785,
          "x3": -1.2241166687328222
         },
         {
          "x1": 1.1013982057019627,
          "x2": 0.11965050145508771,
          "x3": -1.8499808301902052
         },
         {
          "x1": 0.19941750242514633,
          "x2": -1.1750292835204785,
          "x3": -1.8499808301902052
         },
         {
          "x1": 2.672194532496963,
          "x2": -1.451145825339912,
          "x3": 0.3466796580621776
         },
         {
          "x1": -1.3713788243698535,
          "x2": -1.451145825339912,
          "x3": 0.3466796580621776
         },
         {
          "x1": 2.672194532496963,
          "x2": -2.7458256103154786,
          "x3": 0.3466796580621776
         },
         {
          "x1": 2.672194532496963,
          "x2": -1.451145825339912,
          "x3": -0.27918450339520495
         },
         {
          "x1": -1.3713788243698535,
          "x2": -2.7458256103154786,
          "x3": -0.27918450339520495
         },
         {
          "x1": -0.4693981210930369,
          "x2": 1.6904468282500877,
          "x3": -2.7949129955278225
         },
         {
          "x1": 1.7702138292201468,
          "x2": 1.6904468282500877,
          "x3": -2.7949129955278225
         },
         {
          "x1": -0.4693981210930369,
          "x2": 0.3957670432745215,
          "x3": -2.7949129955278225
         },
         {
          "x1": -0.4693981210930369,
          "x2": 1.6904468282500877,
          "x3": 2.8624081501947947
         },
         {
          "x1": 1.7702138292201468,
          "x2": 0.3957670432745215,
          "x3": 2.8624081501947947
         },
         {
          "x1": -1.2547962844905372,
          "x2": -0.6657476619424121,
          "x3": -0.4387185053353222
         },
         {
          "x1": 2.5556119926176466,
          "x2": -0.6657476619424121,
          "x3": -0.4387185053353222
         },
         {
          "x1": -1.2547962844905372,
          "x2": 1.1811652066720217,
          "x3": -0.4387185053353222
         },
         {
          "x1": -1.2547962844905372,
          "x2": -0.6657476619424121,
          "x3": 0.5062136600022948
         },
         {
          "x1": 2.5556119926176466,
          "x2": 1.1811652066720217,
          "x3": 0.5062136600022948
         },
         {
          "x1": 1.8867963690994634,
          "x2": 2.4758449916475875,
          "x3": 2.7028741482546774
         },
         {
          "x1": -0.5859806609723535,
          "x2": 2.4758449916475875,
          "x3": 2.7028741482546774
         },
         {
          "x1": 1.8867963690994634,
          "x2": -1.9604274469179785,
          "x3": 2.7028741482546774
         },
         {
          "x1": 1.8867963690994634,
          "x2": 2.4758449916475875,
          "x3": -2.635378993587705
         },
         {
          "x1": -0.5859806609723535,
          "x2": -1.9604274469179785,
          "x3": -2.635378993587705
         },
         {
          "x1": 0.3160000423044629,
          "x2": -2.236543988737412,
          "x3": -2.0095148321303222
         },
         {
          "x1": 0.9848156658226461,
          "x2": -2.236543988737412,
          "x3": -2.0095148321303222
         },
         {
          "x1": 0.3160000423044629,
          "x2": -0.38963112012297874,
          "x3": -2.0095148321303222
         },
         {
          "x1": 0.3160000423044629,
          "x2": -2.236543988737412,
          "x3": -1.0645826667927052
         },
         {
          "x1": 0.9848156658226461,
          "x2": -0.38963112012297874,
          "x3": -1.0645826667927052
         },
         {
          "x1": -2.825592611285537,
          "x2": 0.905048664852588,
          "x3": 1.1320778214596778
         },
         {
          "x1": -2.1567769877673535,
          "x2": 0.905048664852588,
          "x3": 1.1320778214596778
         },
         {
          "x1": -2.825592611285537,
          "x2": 2.7519615334670213,
          "x3": 1.1320778214596778
         },
         {
          "x1": -2.825592611285537,
          "x2": 0.905048664852588,
          "x3": 2.077009986797295
         },
         {
          "x1": -2.1567769877673535,
          "x2": 2.7519615334670213,
          "x3": 2.077009986797295
         },
         {
          "x1": -2.9237673817102245,
          "x2": -0.5675728915177247,
          "x3": 2.8010489186793652
         },
         {
          "x1": -0.880504972246416,
          "x2": -0.5675728915177247,
          "x3": 2.8010489186793652
         },
         {
          "x1": -2.9237673817102245,
          "x2": -2.058602217342666,
          "x3": 2.8010489186793652
         },
         {
          "x1": -2.9237673817102245,
          "x2": -0.5675728915177247,
          "x3": 2.7642333797701077
         },
         {
          "x1": -0.880504972246416,
          "x2": -2.058602217342666,
          "x3": 2.7642333797701077
         },
         {
          "x1": 0.21782527187977552,
          "x2": 2.5740197620722753,
          "x3": -0.34054373491063483
         },
         {
          "x1": 2.261087681343584,
          "x2": 2.5740197620722753,
          "x3": -0.34054373491063483
         },
         {
          "x1": 0.21782527187977552,
          "x2": 1.082990436247334,
          "x3": -0.34054373491063483
         },
         {
          "x1": 0.21782527187977552,
          "x2": 2.5740197620722753,
          "x3": -0.37735927381989276
         },
         {
          "x1": 2.261087681343584,
          "x2": 1.082990436247334,
          "x3": -0.37735927381989276
         },
         {
          "x1": 1.7886215986747755,
          "x2": -2.1383692183127248,
          "x3": 1.2302525918843656
         },
         {
          "x1": -2.451301299041416,
          "x2": -2.1383692183127248,
          "x3": 1.2302525918843656
         },
         {
          "x1": 1.7886215986747755,
          "x2": 2.6537867630423344,
          "x3": 1.2302525918843656
         },
         {
          "x1": 1.7886215986747755,
          "x2": -2.1383692183127248,
          "x3": -1.9481556006148926
         },
         {
          "x1": -2.451301299041416,
          "x2": 2.6537867630423344,
          "x3": -1.9481556006148926
         },
         {
          "x1": -1.3529710549152247,
          "x2": 1.0032234352772758,
          "x3": -1.9113400617056349
         },
         {
          "x1": 0.690291354548584,
          "x2": 1.0032234352772758,
          "x3": -1.9113400617056349
         },
         {
          "x1": -1.3529710549152247,
          "x2": -0.4878058905476661,
          "x3": -1.9113400617056349
         },
         {
          "x1": -1.3529710549152247,
          "x2": 1.0032234352772758,
          "x3": 1.1934370529751073
         },
         {
          "x1": 0.690291354548584,
          "x2": -0.4878058905476661,
          "x3": 1.1934370529751073
         },
         {
          "x1": -0.5675728915177247,
          "x2": -2.9237673817102245,
          "x3": -1.1259418983081346
         },
         {
          "x1": 1.4756895179460843,
          "x2": -2.9237673817102245,
          "x3": -1.1259418983081346
         },
         {
          "x1": -0.5675728915177247,
          "x2": -1.2732040539451661,
          "x3": -1.1259418983081346
         },
         {
          "x1": -0.5675728915177247,
          "x2": -2.9237673817102245,
          "x3": 1.978835216372607
         },
         {
          "x1": 1.4756895179460843,
          "x2": -1.2732040539451661,
          "x3": 1.978835216372607
         },
         {
          "x1": 2.5740197620722753,
          "x2": 0.21782527187977552,
          "x3": 2.0156507552818654
         },
         {
          "x1": -1.665903135643916,
          "x2": 0.21782527187977552,
          "x3": 2.0156507552818654
         },
         {
          "x1": 2.5740197620722753,
          "x2": 1.8683885996448337,
          "x3": 2.0156507552818654
         },
         {
          "x1": 2.5740197620722753,
          "x2": 0.21782527187977552,
          "x3": -1.1627574372173926
         },
         {
          "x1": -1.665903135643916,
          "x2": 1.8683885996448337,
          "x3": -1.1627574372173926
         },
         {
          "x1": 1.0032234352772758,
          "x2": -1.3529710549152247,
          "x3": -2.6967382251031347
         },
         {
          "x1": 3.046485844741084,
          "x2": -1.3529710549152247,
          "x3": -2.6967382251031347
         },
         {
          "x1": 1.0032234352772758,
          "x2": 0.29759227284983414,
          "x3": -2.6967382251031347
         },
         {
          "x1": 1.0032234352772758,
          "x2": -1.3529710549152247,
          "x3": -2.7335537640123926
         },
         {
          "x1": 3.046485844741084,
          "x2": 0.29759227284983414,
          "x3": -2.7335537640123926
         },
         {
          "x1": -2.1383692183127248,
          "x2": 1.7886215986747755,
          "x3": 0.4448544284868654
         },
         {
          "x1": -0.0951068088489162,
          "x2": 1.7886215986747755,
          "x3": 0.4448544284868654
         },
         {
          "x1": -2.1383692183127248,
          "x2": -2.844000380740166,
          "x3": 0.4448544284868654
         },
         {
          "x1": -2.1383692183127248,
          "x2": 1.7886215986747755,
          "x3": 0.4080388895776075
         },
         {
          "x1": -0.0951068088489162,
          "x2": -2.844000380740166,
          "x3": 0.4080388895776075
         },
         {
          "x1": -1.7456701366139746,
          "x2": -1.7456701366139746,
          "x3": -3.089437306801885
         },
         {
          "x1": -2.058602217342666,
          "x2": -1.7456701366139746,
          "x3": -3.089437306801885
         },
         {
          "x1": -1.7456701366139746,
          "x2": 1.4756895179460843,
          "x3": -3.089437306801885
         },
         {
          "x1": -1.7456701366139746,
          "x2": -1.7456701366139746,
          "x3": 0.8007379712763574
         },
         {
          "x1": -2.058602217342666,
          "x2": 1.4756895179460843,
          "x3": 0.8007379712763574
         },
         {
          "x1": 1.3959225169760252,
          "x2": 1.3959225169760252,
          "x3": 0.052155346788115065
         },
         {
          "x1": 1.082990436247334,
          "x2": 1.3959225169760252,
          "x3": 0.052155346788115065
         },
         {
          "x1": 1.3959225169760252,
          "x2": -1.665903135643916,
          "x3": 0.052155346788115065
         },
         {
          "x1": 1.3959225169760252,
          "x2": 1.3959225169760252,
          "x3": -2.3408546823136427
         },
         {
          "x1": 1.082990436247334,
          "x2": -1.665903135643916,
          "x3": -2.3408546823136427
         },
         {
          "x1": 2.9667188437710257,
          "x2": -0.17487380981897482,
          "x3": -1.5186409800068847
         },
         {
          "x1": -0.4878058905476661,
          "x2": -0.17487380981897482,
          "x3": -1.5186409800068847
         },
         {
          "x1": 2.9667188437710257,
          "x2": -0.0951068088489162,
          "x3": -1.5186409800068847
         },
         {
          "x1": 2.9667188437710257,
          "x2": -0.17487380981897482,
          "x3": -0.7700583555186427
         },
         {
          "x1": -0.4878058905476661,
          "x2": -0.0951068088489162,
          "x3": -0.7700583555186427
         },
         {
          "x1": -0.17487380981897482,
          "x2": 2.9667188437710257,
          "x3": 1.622951673583115
         },
         {
          "x1": 2.6537867630423344,
          "x2": 2.9667188437710257,
          "x3": 1.622951673583115
         },
         {
          "x1": -0.17487380981897482,
          "x2": 3.046485844741084,
          "x3": 1.622951673583115
         },
         {
          "x1": -0.17487380981897482,
          "x2": 2.9667188437710257,
          "x3": 2.3715342980713574
         },
         {
          "x1": 2.6537867630423344,
          "x2": 3.046485844741084,
          "x3": 2.3715342980713574
         },
         {
          "x1": -0.9602719732164746,
          "x2": -0.9602719732164746,
          "x3": 0.8375535101856153
         },
         {
          "x1": 1.8683885996448337,
          "x2": -0.9602719732164746,
          "x3": 0.8375535101856153
         },
         {
          "x1": -0.9602719732164746,
          "x2": 2.261087681343584,
          "x3": 0.8375535101856153
         },
         {
          "x1": -0.9602719732164746,
          "x2": -0.9602719732164746,
          "x3": 0.015339807878857581
         },
         {
          "x1": 1.8683885996448337,
          "x2": 2.261087681343584,
          "x3": 0.015339807878857581
         },
         {
          "x1": 2.181320680373525,
          "x2": 2.181320680373525,
          "x3": -2.3040391434043848
         },
         {
          "x1": -1.2732040539451661,
          "x2": 2.181320680373525,
          "x3": -2.3040391434043848
         },
         {
          "x1": 2.181320680373525,
          "x2": -0.880504972246416,
          "x3": -2.3040391434043848
         },
         {
          "x1": 2.181320680373525,
          "x2": 2.181320680373525,
          "x3": -3.1262528457111425
         },
         {
          "x1": -1.2732040539451661,
          "x2": -0.880504972246416,
          "x3": -3.1262528457111425
         },
         {
          "x1": 0.6105243535785254,
          "x2": -2.5310683000114746,
          "x3": 2.408349836980615
         },
         {
          "x1": 0.29759227284983414,
          "x2": -2.5310683000114746,
          "x3": 2.408349836980615
         },
         {
          "x1": 0.6105243535785254,
          "x2": -2.451301299041416,
          "x3": 2.408349836980615
         },
         {
          "x1": 0.6105243535785254,
          "x2": -2.5310683000114746,
          "x3": -1.5554565189161427
         },
         {
          "x1": 0.29759227284983414,
          "x2": -2.451301299041416,
          "x3": -1.5554565189161427
         },
         {
          "x1": -2.5310683000114746,
          "x2": 0.6105243535785254,
          "x3": -0.7332428166093847
         },
         {
          "x1": -2.844000380740166,
          "x2": 0.6105243535785254,
          "x3": -0.7332428166093847
         },
         {
          "x1": -2.5310683000114746,
          "x2": 0.690291354548584,
          "x3": -0.7332428166093847
         },
         {
          "x1": -2.5310683000114746,
          "x2": 0.6105243535785254,
          "x3": 1.5861361346738576
         },
         {
          "x1": -2.844000380740166,
          "x2": 0.690291354548584,
          "x3": 1.5861361346738576
         },
         {
          "x1": -2.72741784086085,
          "x2": -2.72741784086085,
          "x3": 0.24850488763749023
         },
         {
          "x1": 2.850136303891709,
          "x2": -2.72741784086085,
          "x3": 0.24850488763749023
         },
         {
          "x1": -2.72741784086085,
          "x2": -0.6841554313970408,
          "x3": 0.24850488763749023
         },
         {
          "x1": -2.72741784086085,
          "x2": -2.72741784086085,
          "x3": -2.9299033048617678
         },
         {
          "x1": 2.850136303891709,
          "x2": -0.6841554313970408,
          "x3": -2.9299033048617678
         },
         {
          "x1": 0.41417481272915024,
          "x2": 0.41417481272915024,
          "x3": -2.89308776595251
         },
         {
          "x1": -0.29145634969829093,
          "x2": 0.41417481272915024,
          "x3": -2.89308776595251
         },
         {
          "x1": 0.41417481272915024,
          "x2": 2.457437222192959,
          "x3": -2.89308776595251
         },
         {
          "x1": 0.41417481272915024,
          "x2": 0.41417481272915024,
          "x3": 0.2116893487282323
         },
         {
          "x1": -0.29145634969829093,
          "x2": 2.457437222192959,
          "x3": 0.2116893487282323
         },
         {
          "x1": 1.9849711395241503,
          "x2": -1.1566215140658496,
          "x3": 1.8193012144324907
         },
         {
          "x1": 1.2793399770967087,
          "x2": -1.1566215140658496,
          "x3": 1.8193012144324907
         },
         {
          "x1": 1.9849711395241503,
          "x2": 0.8866408953979592,
          "x3": 1.8193012144324907
         },
         {
          "x1": 1.9849711395241503,
          "x2": -1.1566215140658496,
          "x3": 1.7824856755232323
         },
         {
          "x1": 1.2793399770967087,
          "x2": 0.8866408953979592,
          "x3": 1.7824856755232323
         },
         {
          "x1": -1.1566215140658496,
          "x2": 1.9849711395241503,
          "x3": -1.3222914391575098
         },
         {
          "x1": -1.862252676493291,
          "x2": 1.9849711395241503,
          "x3": -1.3222914391575098
         },
         {
          "x1": -1.1566215140658496,
          "x2": -2.254951758192041,
          "x3": -1.3222914391575098
         },
         {
          "x1": -1.1566215140658496,
          "x2": 1.9849711395241503,
          "x3": -1.3591069780667675
         },
         {
          "x1": -1.862252676493291,
          "x2": -2.254951758192041,
          "x3": -1.3591069780667675
         },
         {
          "x1": -0.37122335066834955,
          "x2": -0.37122335066834955,
          "x3": -2.10768960255501
         },
         {
          "x1": -2.647650839890791,
          "x2": -0.37122335066834955,
          "x3": -2.10768960255501
         },
         {
          "x1": -0.37122335066834955,
          "x2": -3.040349921589541,
          "x3": -2.10768960255501
         },
         {
          "x1": -0.37122335066834955,
          "x2": -0.37122335066834955,
          "x3": -2.1445051414642675
         },
         {
          "x1": -2.647650839890791,
          "x2": -3.040349921589541,
          "x3": -2.1445051414642675
         },
         {
          "x1": 2.77036930292165,
          "x2": 2.77036930292165,
          "x3": 1.03390305103499
         },
         {
          "x1": 0.49394181369920886,
          "x2": 2.77036930292165,
          "x3": 1.03390305103499
         },
         {
          "x1": 2.77036930292165,
          "x2": 0.10124273200045897,
          "x3": 1.03390305103499
         },
         {
          "x1": 2.77036930292165,
          "x2": 2.77036930292165,
          "x3": 0.9970875121257325
         },
         {
          "x1": 0.49394181369920886,
          "x2": 0.10124273200045897,
          "x3": 0.9970875121257325
         },
         {
          "x1": 1.1995729761266505,
          "x2": -1.9420196774633496,
          "x3": -0.5368932757600096
         },
         {
          "x1": -1.0768545130957912,
          "x2": -1.9420196774633496,
          "x3": -0.5368932757600096
         },
         {
          "x1": 1.1995729761266505,
          "x2": 1.672039058795459,
          "x3": -0.5368932757600096
         },
         {
          "x1": 1.1995729761266505,
          "x2": -1.9420196774633496,
          "x3": 2.567883838920732
         },
         {
          "x1": -1.0768545130957912,
          "x2": 1.672039058795459,
          "x3": 2.567883838920732
         },
         {
          "x1": -1.9420196774633496,
          "x2": 1.1995729761266505,
          "x3": 2.6046993778299905
         },
         {
          "x1": 2.0647381404942093,
          "x2": 1.1995729761266505,
          "x3": 2.6046993778299905
         },
         {
          "x1": -1.9420196774633496,
          "x2": -1.469553594794541,
          "x3": 2.6046993778299905
         },
         {
          "x1": -1.9420196774633496,
          "x2": 1.1995729761266505,
          "x3": -0.5737088146692675
         },
         {
          "x1": 2.0647381404942093,
          "x2": -1.469553594794541,
          "x3": -0.5737088146692675
         },
         {
          "x1": -2.3347187591621,
          "x2": -1.5493205957645997,
          "x3": -0.14419419406125966
         },
         {
          "x1": 0.10124273200045897,
          "x2": -1.5493205957645997,
          "x3": -0.14419419406125966
         },
         {
          "x1": -2.3347187591621,
          "x2": 2.850136303891709,
          "x3": -0.14419419406125966
         },
         {
          "x1": -2.3347187591621,
          "x2": -1.5493205957645997,
          "x3": -0.9664078963680174
         },
         {
          "x1": 0.10124273200045897,
          "x2": 2.850136303891709,
          "x3": -0.9664078963680174
         },
         {
          "x1": 0.8068738944279006,
          "x2": 1.5922720578254008,
          "x3": 2.99739845952874
         },
         {
          "x1": -3.040349921589541,
          "x2": 1.5922720578254008,
          "x3": 2.99739845952874
         },
         {
          "x1": 0.8068738944279006,
          "x2": -0.29145634969829093,
          "x3": 2.99739845952874
         },
         {
          "x1": 0.8068738944279006,
          "x2": 1.5922720578254008,
          "x3": 2.1751847572219827
         },
         {
          "x1": -3.040349921589541,
          "x2": -0.29145634969829093,
          "x3": 2.1751847572219827
         },
         {
          "x1": 2.3776702212229006,
          "x2": -3.1201169225595997,
          "x3": -1.7149905208562597
         },
         {
          "x1": 1.672039058795459,
          "x2": -3.1201169225595997,
          "x3": -1.7149905208562597
         },
         {
          "x1": 2.3776702212229006,
          "x2": -1.862252676493291,
          "x3": -1.7149905208562597
         },
         {
          "x1": 2.3776702212229006,
          "x2": -3.1201169225595997,
          "x3": 0.6043884304269826
         },
         {
          "x1": 1.672039058795459,
          "x2": -1.862252676493291,
          "x3": 0.6043884304269826
         },
         {
          "x1": -0.7639224323670994,
          "x2": 0.021475731030400347,
          "x3": 1.4266021327337404
         },
         {
          "x1": -1.469553594794541,
          "x2": 0.021475731030400347,
          "x3": 1.4266021327337404
         },
         {
          "x1": -0.7639224323670994,
          "x2": 1.2793399770967087,
          "x3": 1.4266021327337404
         },
         {
          "x1": -0.7639224323670994,
          "x2": 0.021475731030400347,
          "x3": -2.537204223163018
         },
         {
          "x1": -1.469553594794541,
          "x2": 1.2793399770967087,
          "x3": -2.537204223163018
         },
         {
          "x1": -1.5493205957645997,
          "x2": -2.3347187591621,
          "x3": 2.21200029613124
         },
         {
          "x1": -0.6841554313970408,
          "x2": -2.3347187591621,
          "x3": 2.21200029613124
         },
         {
          "x1": -1.5493205957645997,
          "x2": 0.49394181369920886,
          "x3": 2.21200029613124
         },
         {
          "x1": -1.5493205957645997,
          "x2": -2.3347187591621,
          "x3": -0.1810097329705176
         },
         {
          "x1": -0.6841554313970408,
          "x2": 0.49394181369920886,
          "x3": -0.1810097329705176
         },
         {
          "x1": 1.5922720578254008,
          "x2": 0.8068738944279006,
          "x3": -0.9295923574587599
         },
         {
          "x1": 2.457437222192959,
          "x2": 0.8068738944279006,
          "x3": -0.9295923574587599
         },
         {
          "x1": 1.5922720578254008,
          "x2": -2.647650839890791,
          "x3": -0.9295923574587599
         },
         {
          "x1": 1.5922720578254008,
          "x2": 0.8068738944279006,
          "x3": 2.9605829206194825
         },
         {
          "x1": 2.457437222192959,
          "x2": -2.647650839890791,
          "x3": 2.9605829206194825
         },
         {
          "x1": 0.021475731030400347,
          "x2": -0.7639224323670994,
          "x3": 0.6412039693362401
         },
         {
          "x1": -2.254951758192041,
          "x2": -0.7639224323670994,
          "x3": 0.6412039693362401
         },
         {
          "x1": 0.021475731030400347,
          "x2": -1.0768545130957912,
          "x3": 0.6412039693362401
         },
         {
          "x1": 0.021475731030400347,
          "x2": -0.7639224323670994,
          "x3": 1.3897865938244829
         },
         {
          "x1": -2.254951758192041,
          "x2": -1.0768545130957912,
          "x3": 1.3897865938244829
         },
         {
          "x1": -3.1201169225595997,
          "x2": 2.3776702212229006,
          "x3": -2.50038868425376
         },
         {
          "x1": 0.8866408953979592,
          "x2": 2.3776702212229006,
          "x3": -2.50038868425376
         },
         {
          "x1": -3.1201169225595997,
          "x2": 2.0647381404942093,
          "x3": -2.50038868425376
         },
         {
          "x1": -3.1201169225595997,
          "x2": 2.3776702212229006,
          "x3": -1.7518060597655176
         },
         {
          "x1": 0.8866408953979592,
          "x2": 2.0647381404942093,
          "x3": -1.7518060597655176
         },
         {
          "x1": -3.1262528457111425,
          "x2": -2.3531265286167287,
          "x3": 0.1687378866674316
         },
         {
          "x1": 0.03374757733348632,
          "x2": -2.3531265286167287,
          "x3": 0.1687378866674316
         },
         {
          "x1": -3.1262528457111425,
          "x2": 3.0403499215895406,
          "x3": 0.1687378866674316
         },
         {
          "x1": -3.1262528457111425,
          "x2": -2.3531265286167287,
          "x3": -1.3529710549152247
         },
         {
          "x1": 0.03374757733348632,
          "x2": 3.0403499215895406,
          "x3": -1.3529710549152247
         },
         {
          "x1": 0.015339807878857581,
          "x2": 0.7884661249732714,
          "x3": -2.9728547669225684
         },
         {
          "x1": -3.1078450762565137,
          "x2": 0.7884661249732714,
          "x3": -2.9728547669225684
         },
         {
          "x1": 0.015339807878857581,
          "x2": -0.10124273200045897,
          "x3": -2.9728547669225684
         },
         {
          "x1": 0.015339807878857581,
          "x2": 0.7884661249732714,
          "x3": 1.7886215986747755
         },
         {
          "x1": -3.1078450762565137,
          "x2": -0.10124273200045897,
          "x3": 1.7886215986747755
         },
         {
          "x1": 1.5861361346738576,
          "x2": -0.7823302018217286,
          "x3": 1.7395342134624316
         },
         {
          "x1": 1.6045439041284864,
          "x2": -0.7823302018217286,
          "x3": 1.7395342134624316
         },
         {
          "x1": 1.5861361346738576,
          "x2": -1.672039058795459,
          "x3": 1.7395342134624316
         },
         {
          "x1": 1.5861361346738576,
          "x2": -0.7823302018217286,
          "x3": 0.21782527187977552
         },
         {
          "x1": 1.6045439041284864,
          "x2": -1.672039058795459,
          "x3": 0.21782527187977552
         },
         {
          "x1": -1.5554565189161427,
          "x2": 2.359262451768272,
          "x3": -1.4020584401275684
         },
         {
          "x1": -1.5370487494615137,
          "x2": 2.359262451768272,
          "x3": -1.4020584401275684
         },
         {
          "x1": -1.5554565189161427,
          "x2": 1.469553594794541,
          "x3": -1.4020584401275684
         },
         {
          "x1": -1.5554565189161427,
          "x2": 2.359262451768272,
          "x3": -2.9237673817102245
         },
         {
          "x1": -1.5370487494615137,
          "x2": 1.469553594794541,
          "x3": -2.9237673817102245
         },
         {
          "x1": -0.7700583555186427,
          "x2": -1.5677283652192286,
          "x3": -2.187456603525068
         },
         {
          "x1": -0.7516505860640135,
          "x2": -1.5677283652192286,
          "x3": -2.187456603525068
         },
         {
          "x1": -0.7700583555186427,
          "x2": 0.6841554313970408,
          "x3": -2.187456603525068
         },
         {
          "x1": -0.7700583555186427,
          "x2": -1.5677283652192286,
          "x3": -0.5675728915177247
         },
         {
          "x1": -0.7516505860640135,
          "x2": 0.6841554313970408,
          "x3": -0.5675728915177247
         },
         {
          "x1": 2.3715342980713574,
          "x2": 1.5738642883707712,
          "x3": 0.9541360500649319
         },
         {
          "x1": 2.389942067525986,
          "x2": 1.5738642883707712,
          "x3": 0.9541360500649319
         },
         {
          "x1": 2.3715342980713574,
          "x2": -2.457437222192959,
          "x3": 0.9541360500649319
         },
         {
          "x1": 2.3715342980713574,
          "x2": 1.5738642883707712,
          "x3": 2.5740197620722753
         },
         {
          "x1": 2.389942067525986,
          "x2": -2.457437222192959,
          "x3": 2.5740197620722753
         },
         {
          "x1": 0.8007379712763574,
          "x2": -3.1385246920142285,
          "x3": -0.6166602767300682
         },
         {
          "x1": -2.3224469128590135,
          "x2": -3.1385246920142285,
          "x3": -0.6166602767300682
         },
         {
          "x1": 0.8007379712763574,
          "x2": -0.8866408953979592,
          "x3": -0.6166602767300682
         },
         {
          "x1": 0.8007379712763574,
          "x2": -3.1385246920142285,
          "x3": 1.0032234352772758
         },
         {
          "x1": -2.3224469128590135,
          "x2": -0.8866408953979592,
          "x3": 1.0032234352772758
         },
         {
          "x1": -2.3408546823136427,
          "x2": 0.003067961575771605,
          "x3": 2.5249323768599314
         },
         {
          "x1": 0.8191457407309866,
          "x2": 0.003067961575771605,
          "x3": 2.5249323768599314
         },
         {
          "x1": -2.3408546823136427,
          "x2": 2.254951758192041,
          "x3": 2.5249323768599314
         },
         {
          "x1": -2.3408546823136427,
          "x2": 0.003067961575771605,
          "x3": -2.1383692183127248
         },
         {
          "x1": 0.8191457407309866,
          "x2": 2.254951758192041,
          "x3": -2.1383692183127248
         },
         {
          "x1": -1.9481556006148926,
          "x2": -0.38963112012297874,
          "x3": -0.22396119503131828
         },
         {
          "x1": 2.7826411492247365,
          "x2": -0.38963112012297874,
          "x3": -0.22396119503131828
         },
         {
          "x1": -1.9481556006148926,
          "x2": -0.49394181369920886,
          "x3": -0.22396119503131828
         },
         {
          "x1": -1.9481556006148926,
          "x2": -0.38963112012297874,
          "x3": -2.5310683000114746
         },
         {
          "x1": 2.7826411492247365,
          "x2": -0.49394181369920886,
          "x3": -2.5310683000114746
         },
         {
          "x1": 1.1934370529751073,
          "x2": 2.7519615334670213,
          "x3": 2.917631458558682
         },
         {
          "x1": -0.3589515043652636,
          "x2": 2.7519615334670213,
          "x3": 2.917631458558682
         },
         {
          "x1": 1.1934370529751073,
          "x2": 2.647650839890791,
          "x3": 2.917631458558682
         },
         {
          "x1": 1.1934370529751073,
          "x2": 2.7519615334670213,
          "x3": 0.6105243535785254
         },
         {
          "x1": -0.3589515043652636,
          "x2": 2.647650839890791,
          "x3": 0.6105243535785254
         },
         {
          "x1": 2.7642333797701077,
          "x2": -1.9604274469179785,
          "x3": -1.7947575218263183
         },
         {
          "x1": 1.211844822429736,
          "x2": -1.9604274469179785,
          "x3": -1.7947575218263183
         },
         {
          "x1": 2.7642333797701077,
          "x2": 1.0768545130957907,
          "x3": -1.7947575218263183
         },
         {
          "x1": 2.7642333797701077,
          "x2": -1.9604274469179785,
          "x3": 2.181320680373525
         },
         {
          "x1": 1.211844822429736,
          "x2": 1.0768545130957907,
          "x3": 2.181320680373525
         },
         {
          "x1": -0.37735927381989276,
          "x2": 1.1811652066720217,
          "x3": 1.3468351317636813
         },
         {
          "x1": -1.9297478311602636,
          "x2": 1.1811652066720217,
          "x3": 1.3468351317636813
         },
         {
          "x1": -0.37735927381989276,
          "x2": -2.0647381404942093,
          "x3": 1.3468351317636813
         },
         {
          "x1": -0.37735927381989276,
          "x2": 1.1811652066720217,
          "x3": -0.9602719732164746
         },
         {
          "x1": -1.9297478311602636,
          "x2": -2.0647381404942093,
          "x3": -0.9602719732164746
         },
         {
          "x1": -1.1627574372173926,
          "x2": -2.7458256103154786,
          "x3": 2.132233295161182
         },
         {
          "x1": -2.715145994557764,
          "x2": -2.7458256103154786,
          "x3": 2.132233295161182
         },
         {
          "x1": -1.1627574372173926,
          "x2": -2.850136303891709,
          "x3": 2.132233295161182
         },
         {
          "x1": -1.1627574372173926,
          "x2": -2.7458256103154786,
          "x3": -1.7456701366139746
         },
         {
          "x1": -2.715145994557764,
          "x2": -2.850136303891709,
          "x3": -1.7456701366139746
         },
         {
          "x1": 1.978835216372607,
          "x2": 0.3957670432745215,
          "x3": -1.0093593584288185
         },
         {
          "x1": 0.4264466590322362,
          "x2": 0.3957670432745215,
          "x3": -1.0093593584288185
         },
         {
          "x1": 1.978835216372607,
          "x2": 0.29145634969829093,
          "x3": -1.0093593584288185
         },
         {
          "x1": 1.978835216372607,
          "x2": 0.3957670432745215,
          "x3": 1.3959225169760252
         },
         {
          "x1": 0.4264466590322362,
          "x2": 0.29145634969829093,
          "x3": 1.3959225169760252
         },
         {
          "x1": 0.4080388895776075,
          "x2": -1.1750292835204785,
          "x3": 0.5614369683661815
         },
         {
          "x1": -1.1443496677627636,
          "x2": -1.1750292835204785,
          "x3": 0.5614369683661815
         },
         {
          "x1": 0.4080388895776075,
          "x2": 1.8622526764932914,
          "x3": 0.5614369683661815
         },
         {
          "x1": 0.4080388895776075,
          "x2": -1.1750292835204785,
          "x3": 2.9667188437710257
         },
         {
          "x1": -1.1443496677627636,
          "x2": 1.8622526764932914,
          "x3": 2.9667188437710257
         },
         {
          "x1": -2.7335537640123926,
          "x2": 1.9665633700695215,
          "x3": -2.5801556852238186
         },
         {
          "x1": 1.9972429858272367,
          "x2": 1.9665633700695215,
          "x3": -2.5801556852238186
         },
         {
          "x1": -2.7335537640123926,
          "x2": -1.279339977096709,
          "x3": -2.5801556852238186
         },
         {
          "x1": -2.7335537640123926,
          "x2": 1.9665633700695215,
          "x3": -0.17487380981897482
         },
         {
          "x1": 1.9972429858272367,
          "x2": -1.279339977096709,
          "x3": -0.17487380981897482
         },
         {
          "x1": -2.537204223163018,
          "x2": -0.9786797426711034,
          "x3": 3.1139809994080565
         },
         {
          "x1": -2.1260973720096388,
          "x2": -0.9786797426711034,
          "x3": 3.1139809994080565
         },
         {
          "x1": -2.537204223163018,
          "x2": 1.2732040539451663,
          "x3": 3.1139809994080565
         },
         {
          "x1": -2.537204223163018,
          "x2": -0.9786797426711034,
          "x3": 1.1995729761266505
         },
         {
          "x1": -2.1260973720096388,
          "x2": 1.2732040539451663,
          "x3": 1.1995729761266505
         },
         {
          "x1": 0.6043884304269826,
          "x2": 2.1629129109188963,
          "x3": -0.027611654181943557
         },
         {
          "x1": 1.0154952815803613,
          "x2": 2.1629129109188963,
          "x3": -0.027611654181943557
         },
         {
          "x1": 0.6043884304269826,
          "x2": -1.868388599644834,
          "x3": -0.027611654181943557
         },
         {
          "x1": 0.6043884304269826,
          "x2": 2.1629129109188963,
          "x3": -1.9420196774633496
         },
         {
          "x1": 1.0154952815803613,
          "x2": -1.868388599644834,
          "x3": -1.9420196774633496
         },
         {
          "x1": 2.1751847572219827,
          "x2": -2.5494760694661034,
          "x3": 1.543184672613057
         },
         {
          "x1": -0.5553010452146387,
          "x2": -2.5494760694661034,
          "x3": 1.543184672613057
         },
         {
          "x1": 2.1751847572219827,
          "x2": -0.29759227284983414,
          "x3": 1.543184672613057
         },
         {
          "x1": 2.1751847572219827,
          "x2": -2.5494760694661034,
          "x3": -0.37122335066834955
         },
         {
          "x1": -0.5553010452146387,
          "x2": -0.29759227284983414,
          "x3": -0.37122335066834955
         },
         {
          "x1": -0.9664078963680174,
          "x2": 0.5921165841238967,
          "x3": -1.5984079809769434
         },
         {
          "x1": 2.5862916083753618,
          "x2": 0.5921165841238967,
          "x3": -1.5984079809769434
         },
         {
          "x1": -0.9664078963680174,
          "x2": 2.844000380740166,
          "x3": -1.5984079809769434
         },
         {
          "x1": -0.9664078963680174,
          "x2": 0.5921165841238967,
          "x3": 2.77036930292165
         },
         {
          "x1": 2.5862916083753618,
          "x2": 2.844000380740166,
          "x3": 2.77036930292165
         },
         {
          "x1": -0.1810097329705176,
          "x2": -1.7640779060686036,
          "x3": -0.8130098175794434
         },
         {
          "x1": 1.800893444977861,
          "x2": -1.7640779060686036,
          "x3": -0.8130098175794434
         },
         {
          "x1": -0.1810097329705176,
          "x2": 2.058602217342666,
          "x3": -0.8130098175794434
         },
         {
          "x1": -0.1810097329705176,
          "x2": -1.7640779060686036,
          "x3": 0.41417481272915024
         },
         {
          "x1": 1.800893444977861,
          "x2": 2.058602217342666,
          "x3": 0.41417481272915024
         },
         {
          "x1": 2.9605829206194825,
          "x2": 1.3775147475213965,
          "x3": 2.3285828360105567
         },
         {
          "x1": -1.3406992086121388,
          "x2": 1.3775147475213965,
          "x3": 2.3285828360105567
         },
         {
          "x1": 2.9605829206194825,
          "x2": -1.082990436247334,
          "x3": 2.3285828360105567
         },
         {
          "x1": 2.9605829206194825,
          "x2": 1.3775147475213965,
          "x3": -2.72741784086085
         },
         {
          "x1": -1.3406992086121388,
          "x2": -1.082990436247334,
          "x3": -2.72741784086085
         },
         {
          "x1": 1.3897865938244829,
          "x2": -0.19328157927360357,
          "x3": -2.3838061443744434
         },
         {
          "x1": 0.2300971181828615,
          "x2": -0.19328157927360357,
          "x3": -2.3838061443744434
         },
         {
          "x1": 1.3897865938244829,
          "x2": -2.653786763042334,
          "x3": -2.3838061443744434
         },
         {
          "x1": 1.3897865938244829,
          "x2": -0.19328157927360357,
          "x3": -1.1566215140658496
         },
         {
          "x1": 0.2300971181828615,
          "x2": -2.653786763042334,
          "x3": -1.1566215140658496
         },
         {
          "x1": -1.7518060597655176,
          "x2": 2.948311074316397,
          "x3": 0.7577865092155567
         },
         {
          "x1": -2.9114955354071386,
          "x2": 2.948311074316397,
          "x3": 0.7577865092155567
         },
         {
          "x1": -1.7518060597655176,
          "x2": 0.4878058905476661,
          "x3": 0.7577865092155567
         },
         {
          "x1": -1.7518060597655176,
          "x2": 2.948311074316397,
          "x3": 1.9849711395241503
         },
         {
          "x1": -2.9114955354071386,
          "x2": 0.4878058905476661,
          "x3": 1.9849711395241503
         },
         {
          "x1": -2.1445051414642675,
          "x2": -2.9421751511648537,
          "x3": -2.7765052260731933
         },
         {
          "x1": -0.9480001269133886,
          "x2": -2.9421751511648537,
          "x3": -2.7765052260731933
         },
         {
          "x1": -2.1445051414642675,
          "x2": -2.261087681343584,
          "x3": -2.7765052260731933
         },
         {
          "x1": -2.1445051414642675,
          "x2": -2.9421751511648537,
          "x3": 2.3776702212229006
         },
         {
          "x1": -0.9480001269133886,
          "x2": -2.261087681343584,
          "x3": 2.3776702212229006
         },
         {
          "x1": 0.9970875121257325,
          "x2": 0.19941750242514633,
          "x3": 0.3650874275168068
         },
         {
          "x1": 2.1935925266766114,
          "x2": 0.19941750242514633,
          "x3": 0.3650874275168068
         },
         {
          "x1": 0.9970875121257325,
          "x2": 0.880504972246416,
          "x3": 0.3650874275168068
         },
         {
          "x1": 0.9970875121257325,
          "x2": 0.19941750242514633,
          "x3": -0.7639224323670994
         },
         {
          "x1": 2.1935925266766114,
          "x2": 0.880504972246416,
          "x3": -0.7639224323670994
         },
         {
          "x1": 2.567883838920732,
          "x2": -1.3713788243698535,
          "x3": -1.2057088992781935
         },
         {
          "x1": -2.5187964537083887,
          "x2": -1.3713788243698535,
          "x3": -1.2057088992781935
         },
         {
          "x1": 2.567883838920732,
          "x2": 2.4513012990414165,
          "x3": -1.2057088992781935
         },
         {
          "x1": 2.567883838920732,
          "x2": -1.3713788243698535,
          "x3": -2.3347187591621
         },
         {
          "x1": -2.5187964537083887,
          "x2": 2.4513012990414165,
          "x3": -2.3347187591621
         },
         {
          "x1": -0.5737088146692675,
          "x2": 1.7702138292201468,
          "x3": 1.9358837543118064
         },
         {
          "x1": 0.6227961998816114,
          "x2": 1.7702138292201468,
          "x3": 1.9358837543118064
         },
         {
          "x1": -0.5737088146692675,
          "x2": -0.690291354548584,
          "x3": 1.9358837543118064
         },
         {
          "x1": -0.5737088146692675,
          "x2": 1.7702138292201468,
          "x3": 0.8068738944279006
         },
         {
          "x1": 0.6227961998816114,
          "x2": -0.690291354548584,
          "x3": 0.8068738944279006
         },
         {
          "x1": -1.3591069780667675,
          "x2": -0.5859806609723535,
          "x3": 1.1504855909143066
         },
         {
          "x1": 1.4081943632791116,
          "x2": -0.5859806609723535,
          "x3": 1.1504855909143066
         },
         {
          "x1": -1.3591069780667675,
          "x2": -1.475689517946084,
          "x3": 1.1504855909143066
         },
         {
          "x1": -1.3591069780667675,
          "x2": -0.5859806609723535,
          "x3": 1.5922720578254008
         },
         {
          "x1": 1.4081943632791116,
          "x2": -1.475689517946084,
          "x3": 1.5922720578254008
         },
         {
          "x1": 1.7824856755232323,
          "x2": 2.5556119926176466,
          "x3": -1.9911070626756935
         },
         {
          "x1": -1.7333982903108887,
          "x2": 2.5556119926176466,
          "x3": -1.9911070626756935
         },
         {
          "x1": 1.7824856755232323,
          "x2": 1.6659031356439158,
          "x3": -1.9911070626756935
         },
         {
          "x1": 1.7824856755232323,
          "x2": 2.5556119926176466,
          "x3": -1.5493205957645997
         },
         {
          "x1": -1.7333982903108887,
          "x2": 1.6659031356439158,
          "x3": -1.5493205957645997
         },
         {
          "x1": 0.2116893487282323,
          "x2": -2.1567769877673535,
          "x3": 2.721281917709307
         },
         {
          "x1": 2.978990690074111,
          "x2": -2.1567769877673535,
          "x3": 2.721281917709307
         },
         {
          "x1": 0.2116893487282323,
          "x2": 0.0951068088489162,
          "x3": 2.721281917709307
         },
         {
          "x1": 0.2116893487282323,
          "x2": -2.1567769877673535,
          "x3": -3.1201169225595997
         },
         {
          "x1": 2.978990690074111,
          "x2": 0.0951068088489162,
          "x3": -3.1201169225595997
         },
         {
          "x1": -2.9299033048617678,
          "x2": 0.9848156658226461,
          "x3": -0.42031073588069345
         },
         {
          "x1": -0.16260196351588885,
          "x2": 0.9848156658226461,
          "x3": -0.42031073588069345
         },
         {
          "x1": -2.9299033048617678,
          "x2": -3.046485844741084,
          "x3": -0.42031073588069345
         },
         {
          "x1": -2.9299033048617678,
          "x2": 0.9848156658226461,
          "x3": 0.021475731030400347
         },
         {
          "x1": -0.16260196351588885,
          "x2": -3.046485844741084,
          "x3": 0.021475731030400347
         },
         {
          "x1": -2.83172853443708,
          "x2": -0.6841554313970408,
          "x3": -1.892932292251006
         },
         {
          "x1": -2.813320764982451,
          "x2": -0.6841554313970408,
          "x3": -1.892932292251006
         },
         {
          "x1": -2.83172853443708,
          "x2": 2.3531265286167287,
          "x3": -1.892932292251006
         },
         {
          "x1": -2.83172853443708,
          "x2": -0.6841554313970408,
          "x3": 0.905048664852588
         },
         {
          "x1": -2.813320764982451,
          "x2": 2.3531265286167287,
          "x3": 0.905048664852588
         },
         {
          "x1": 0.3098641191529201,
          "x2": 2.457437222192959,
          "x3": 1.2486603613389944
         },
         {
          "x1": 0.32827188860754886,
          "x2": 2.457437222192959,
          "x3": 1.2486603613389944
         },
         {
          "x1": 0.3098641191529201,
          "x2": -0.7884661249732714,
          "x3": 1.2486603613389944
         },
         {
          "x1": 0.3098641191529201,
          "x2": 2.457437222192959,
          "x3": -2.236543988737412
         },
         {
          "x1": 0.32827188860754886,
          "x2": -0.7884661249732714,
          "x3": -2.236543988737412
         },
         {
          "x1": 1.8806604459479201,
          "x2": -2.254951758192041,
          "x3": -0.32213596545600565
         },
         {
          "x1": -1.2425244381874512,
          "x2": -2.254951758192041,
          "x3": -0.32213596545600565
         },
         {
          "x1": 1.8806604459479201,
          "x2": -2.3592624517682714,
          "x3": -0.32213596545600565
         },
         {
          "x1": 1.8806604459479201,
          "x2": -2.254951758192041,
          "x3": -0.6657476619424121
         },
         {
          "x1": -1.2425244381874512,
          "x2": -2.3592624517682714,
          "x3": -0.6657476619424121
         },
         {
          "x1": -1.2609322076420801,
          "x2": 0.8866408953979592,
          "x3": 2.819456688133994
         },
         {
          "x1": 1.8990682154025489,
          "x2": 0.8866408953979592,
          "x3": 2.819456688133994
         },
         {
          "x1": -1.2609322076420801,
          "x2": 0.7823302018217286,
          "x3": 2.819456688133994
         },
         {
          "x1": -1.2609322076420801,
          "x2": 0.8866408953979592,
          "x3": 2.4758449916475875
         },
         {
          "x1": 1.8990682154025489,
          "x2": 0.7823302018217286,
          "x3": 2.4758449916475875
         },
         {
          "x1": -0.4755340442445801,
          "x2": -3.040349921589541,
          "x3": 0.46326219794149415
         },
         {
          "x1": 2.6844663788000487,
          "x2": -3.040349921589541,
          "x3": 0.46326219794149415
         },
         {
          "x1": -0.4755340442445801,
          "x2": 1.5677283652192289,
          "x3": 0.46326219794149415
         },
         {
          "x1": -0.4755340442445801,
          "x2": -3.040349921589541,
          "x3": 0.11965050145508771
         },
         {
          "x1": 2.6844663788000487,
          "x2": 1.5677283652192289,
          "x3": 0.11965050145508771
         },
         {
          "x1": 2.66605860934542,
          "x2": 0.10124273200045897,
          "x3": -2.678330455648506
         },
         {
          "x1": -0.4571262747899514,
          "x2": 0.10124273200045897,
          "x3": -2.678330455648506
         },
         {
          "x1": 2.66605860934542,
          "x2": -1.5738642883707714,
          "x3": -2.678330455648506
         },
         {
          "x1": 2.66605860934542,
          "x2": 0.10124273200045897,
          "x3": -3.0219421521349124
         },
         {
          "x1": -0.4571262747899514,
          "x2": -1.5738642883707714,
          "x3": -3.0219421521349124
         },
         {
          "x1": 1.0952622825504204,
          "x2": -1.469553594794541,
          "x3": 2.034058524736494
         },
         {
          "x1": 1.113670052005049,
          "x2": -1.469553594794541,
          "x3": 2.034058524736494
         },
         {
          "x1": 1.0952622825504204,
          "x2": -0.003067961575771605,
          "x3": 2.034058524736494
         },
         {
          "x1": 1.0952622825504204,
          "x2": -1.469553594794541,
          "x3": -1.451145825339912
         },
         {
          "x1": 1.113670052005049,
          "x2": -0.003067961575771605,
          "x3": -1.451145825339912
         },
         {
          "x1": -2.04633037103958,
          "x2": 1.672039058795459,
          "x3": -1.1075341288535059
         },
         {
          "x1": -2.027922601584951,
          "x2": 1.672039058795459,
          "x3": -1.1075341288535059
         },
         {
          "x1": -2.04633037103958,
          "x2": 3.1385246920142285,
          "x3": -1.1075341288535059
         },
         {
          "x1": -2.04633037103958,
          "x2": 1.672039058795459,
          "x3": 1.6904468282500877
         },
         {
          "x1": -2.027922601584951,
          "x2": 3.1385246920142285,
          "x3": 1.6904468282500877
         },
         {
          "x1": -1.65363128934083,
          "x2": -1.862252676493291,
          "x3": 1.6413594430377438
         },
         {
          "x1": -0.06442719309120104,
          "x2": -1.862252676493291,
          "x3": 1.6413594430377438
         },
         {
          "x1": -1.65363128934083,
          "x2": -1.1811652066720215,
          "x3": 1.6413594430377438
         },
         {
          "x1": -1.65363128934083,
          "x2": -1.862252676493291,
          "x3": 2.868544073346338
         },
         {
          "x1": -0.06442719309120104,
          "x2": -1.1811652066720215,
          "x3": 2.868544073346338
         },
         {
          "x1": 1.4879613642491698,
          "x2": 1.2793399770967087,
          "x3": -1.5002332105522558
         },
         {
          "x1": 3.077165460498799,
          "x2": 1.2793399770967087,
          "x3": -1.5002332105522558
         },
         {
          "x1": 1.4879613642491698,
          "x2": 1.9604274469179783,
          "x3": -1.5002332105522558
         },
         {
          "x1": 1.4879613642491698,
          "x2": 1.2793399770967087,
          "x3": -0.2730485802436622
         },
         {
          "x1": 3.077165460498799,
          "x2": 1.9604274469179783,
          "x3": -0.2730485802436622
         },
         {
          "x1": 3.0587576910441703,
          "x2": -0.29145634969829093,
          "x3": 0.07056311624274425
         },
         {
          "x1": -1.6352235198862013,
          "x2": -0.29145634969829093,
          "x3": 0.07056311624274425
         },
         {
          "x1": 3.0587576910441703,
          "x2": 0.38963112012297874,
          "x3": 0.07056311624274425
         },
         {
          "x1": 3.0587576910441703,
          "x2": -0.29145634969829093,
          "x3": -1.8438449070386622
         },
         {
          "x1": -1.6352235198862013,
          "x2": 0.38963112012297874,
          "x3": -1.8438449070386622
         },
         {
          "x1": -0.08283496254583023,
          "x2": 2.850136303891709,
          "x3": -3.071029537347256
         },
         {
          "x1": 1.5063691337037985,
          "x2": 2.850136303891709,
          "x3": -3.071029537347256
         },
         {
          "x1": -0.08283496254583023,
          "x2": -2.7519615334670213,
          "x3": -3.071029537347256
         },
         {
          "x1": -0.08283496254583023,
          "x2": 2.850136303891709,
          "x3": 1.2977477465513383
         },
         {
          "x1": 1.5063691337037985,
          "x2": -2.7519615334670213,
          "x3": 1.2977477465513383
         },
         {
          "x1": -0.86823312594333,
          "x2": -1.0768545130957912,
          "x3": -0.714835047154756
         },
         {
          "x1": 0.7209709703062988,
          "x2": -1.0768545130957912,
          "x3": -0.714835047154756
         },
         {
          "x1": -0.86823312594333,
          "x2": -1.9665633700695215,
          "x3": -0.714835047154756
         },
         {
          "x1": -0.86823312594333,
          "x2": -1.0768545130957912,
          "x3": 2.083145909948838
         },
         {
          "x1": 0.7209709703062988,
          "x2": -1.9665633700695215,
          "x3": 2.083145909948838
         },
         {
          "x1": 2.2733595276466696,
          "x2": 2.0647381404942093,
          "x3": 2.4267576064352445
         },
         {
          "x1": -2.4206216832837013,
          "x2": 2.0647381404942093,
          "x3": 2.4267576064352445
         },
         {
          "x1": 2.2733595276466696,
          "x2": 1.1750292835204785,
          "x3": 2.4267576064352445
         },
         {
          "x1": 2.2733595276466696,
          "x2": 2.0647381404942093,
          "x3": -1.058446743641162
         },
         {
          "x1": -2.4206216832837013,
          "x2": 1.1750292835204785,
          "x3": -1.058446743641162
         },
         {
          "x1": 0.70256320085167,
          "x2": -2.647650839890791,
          "x3": -2.285631373949756
         },
         {
          "x1": 2.2917672971012992,
          "x2": -2.647650839890791,
          "x3": -2.285631373949756
         },
         {
          "x1": 0.70256320085167,
          "x2": 2.745825610315479,
          "x3": -2.285631373949756
         },
         {
          "x1": 0.70256320085167,
          "x2": -2.647650839890791,
          "x3": -2.629243070436162
         },
         {
          "x1": 2.2917672971012992,
          "x2": 2.745825610315479,
          "x3": -2.629243070436162
         },
         {
          "x1": -2.43902945273833,
          "x2": 0.49394181369920886,
          "x3": 0.855961279640244
         },
         {
          "x1": -0.8498253564887013,
          "x2": 0.49394181369920886,
          "x3": 0.855961279640244
         },
         {
          "x1": -2.43902945273833,
          "x2": -0.3957670432745215,
          "x3": 0.855961279640244
         },
         {
          "x1": -2.43902945273833,
          "x2": 0.49394181369920886,
          "x3": 0.512349583153838
         },
         {
          "x1": -0.8498253564887013,
          "x2": -0.3957670432745215,
          "x3": 0.512349583153838
         },
         {
          "x1": -2.635378993587705,
          "x2": -2.451301299041416,
          "x3": -1.3038836697028808
         },
         {
          "x1": 0.9173205111556735,
          "x2": -2.451301299041416,
          "x3": -1.3038836697028808
         },
         {
          "x1": -2.635378993587705,
          "x2": 0.5859806609723535,
          "x3": -1.3038836697028808
         },
         {
          "x1": -2.635378993587705,
          "x2": -2.451301299041416,
          "x3": -0.8620972027917873
         },
         {
          "x1": 0.9173205111556735,
          "x2": 0.5859806609723535,
          "x3": -0.8620972027917873
         },
         {
          "x1": 0.5062136600022948,
          "x2": 0.690291354548584,
          "x3": 1.8377089838871195
         },
         {
          "x1": -2.224272142434326,
          "x2": 0.690291354548584,
          "x3": 1.8377089838871195
         },
         {
          "x1": 0.5062136600022948,
          "x2": -2.5556119926176466,
          "x3": 1.8377089838871195
         },
         {
          "x1": 0.5062136600022948,
          "x2": 0.690291354548584,
          "x3": 2.279495450798213
         },
         {
          "x1": -2.224272142434326,
          "x2": -2.5556119926176466,
          "x3": 2.279495450798213
         },
         {
          "x1": 2.077009986797295,
          "x2": -0.880504972246416,
          "x3": -2.874679996497881
         },
         {
          "x1": 2.488116837950674,
          "x2": -0.880504972246416,
          "x3": -2.874679996497881
         },
         {
          "x1": 2.077009986797295,
          "x2": -0.9848156658226466,
          "x3": -2.874679996497881
         },
         {
          "x1": 2.077009986797295,
          "x2": -0.880504972246416,
          "x3": 0.7086991240032128
         },
         {
          "x1": 2.488116837950674,
          "x2": -0.9848156658226466,
          "x3": 0.7086991240032128
         },
         {
          "x1": -1.0645826667927052,
          "x2": 2.261087681343584,
          "x3": 0.266912657092119
         },
         {
          "x1": -0.6534758156393261,
          "x2": 2.261087681343584,
          "x3": 0.266912657092119
         },
         {
          "x1": -1.0645826667927052,
          "x2": 2.156776987767354,
          "x3": 0.266912657092119
         },
         {
          "x1": -1.0645826667927052,
          "x2": 2.261087681343584,
          "x3": -2.4328935295867873
         },
         {
          "x1": -0.6534758156393261,
          "x2": 2.156776987767354,
          "x3": -2.4328935295867873
         },
         {
          "x1": -0.27918450339520495,
          "x2": -0.0951068088489162,
          "x3": 2.6231071472846192
         },
         {
          "x1": -1.4388739790368261,
          "x2": -0.0951068088489162,
          "x3": 2.6231071472846192
         },
         {
          "x1": -0.27918450339520495,
          "x2": 2.9421751511648537,
          "x3": 2.6231071472846192
         },
         {
          "x1": -0.27918450339520495,
          "x2": -0.0951068088489162,
          "x3": -0.07669903939428702
         },
         {
          "x1": -1.4388739790368261,
          "x2": 2.9421751511648537,
          "x3": -0.07669903939428702
         },
         {
          "x1": 2.8624081501947947,
          "x2": 3.046485844741084,
          "x3": -0.5184855063053808
         },
         {
          "x1": 1.7027186745531742,
          "x2": 3.046485844741084,
          "x3": -0.5184855063053808
         },
         {
          "x1": 2.8624081501947947,
          "x2": -0.19941750242514633,
          "x3": -0.5184855063053808
         },
         {
          "x1": 2.8624081501947947,
          "x2": 3.046485844741084,
          "x3": 3.0648936141957126
         },
         {
          "x1": 1.7027186745531742,
          "x2": -0.19941750242514633,
          "x3": 3.0648936141957126
         },
         {
          "x1": 1.291611823399795,
          "x2": -1.665903135643916,
          "x3": 1.0523108204896188
         },
         {
          "x1": -3.0096703058318264,
          "x2": -1.665903135643916,
          "x3": 1.0523108204896188
         },
         {
          "x1": 1.291611823399795,
          "x2": -1.7702138292201466,
          "x3": 1.0523108204896188
         },
         {
          "x1": 1.291611823399795,
          "x2": -1.665903135643916,
          "x3": 1.494097287400713
         },
         {
          "x1": -3.0096703058318264,
          "x2": -1.7702138292201466,
          "x3": 1.494097287400713
         },
         {
          "x1": -1.8499808301902052,
          "x2": 1.4756895179460843,
          "x3": -2.089281833100381
         },
         {
          "x1": 0.13192234775817369,
          "x2": 1.4756895179460843,
          "x3": -2.089281833100381
         },
         {
          "x1": -1.8499808301902052,
          "x2": 1.3713788243698533,
          "x3": -2.089281833100381
         },
         {
          "x1": -1.8499808301902052,
          "x2": 1.4756895179460843,
          "x3": -1.647495366189287
         },
         {
          "x1": 0.13192234775817369,
          "x2": 1.3713788243698533,
          "x3": -1.647495366189287
         },
         {
          "x1": -2.2426799118889553,
          "x2": -1.2732040539451661,
          "x3": 1.445009902188369
         },
         {
          "x1": 2.0954177562519236,
          "x2": -1.2732040539451661,
          "x3": 1.445009902188369
         },
         {
          "x1": -2.2426799118889553,
          "x2": -2.9483110743163965,
          "x3": 1.445009902188369
         },
         {
          "x1": -2.2426799118889553,
          "x2": -1.2732040539451661,
          "x3": -2.825592611285537
         },
         {
          "x1": 2.0954177562519236,
          "x2": -2.9483110743163965,
          "x3": -2.825592611285537
         },
         {
          "x1": 0.8989127417010447,
          "x2": 1.8683885996448337,
          "x3": -1.696582751401631
         },
         {
          "x1": -1.046174897338076,
          "x2": 1.8683885996448337,
          "x3": -1.696582751401631
         },
         {
          "x1": 0.8989127417010447,
          "x2": 0.19328157927360357,
          "x3": -1.696582751401631
         },
         {
          "x1": 0.8989127417010447,
          "x2": 1.8683885996448337,
          "x3": 0.3160000423044629
         },
         {
          "x1": -1.046174897338076,
          "x2": 0.19328157927360357,
          "x3": 0.3160000423044629
         },
         {
          "x1": 2.469709068496045,
          "x2": -2.844000380740166,
          "x3": 3.0158062289833696
         },
         {
          "x1": 0.524621429456924,
          "x2": -2.844000380740166,
          "x3": 3.0158062289833696
         },
         {
          "x1": 2.469709068496045,
          "x2": 1.7640779060686036,
          "x3": 3.0158062289833696
         },
         {
          "x1": 2.469709068496045,
          "x2": -2.844000380740166,
          "x3": 1.8867963690994634
         },
         {
          "x1": 0.524621429456924,
          "x2": 1.7640779060686036,
          "x3": 1.8867963690994634
         },
         {
          "x1": -0.6718835850939553,
          "x2": 0.29759227284983414,
          "x3": -0.12578642460663092
         },
         {
          "x1": -2.616971224133076,
          "x2": 0.29759227284983414,
          "x3": -0.12578642460663092
         },
         {
          "x1": -0.6718835850939553,
          "x2": -1.3775147475213965,
          "x3": -0.12578642460663092
         },
         {
          "x1": -0.6718835850939553,
          "x2": 0.29759227284983414,
          "x3": -1.2547962844905372
         },
         {
          "x1": -2.616971224133076,
          "x2": -1.3775147475213965,
          "x3": -1.2547962844905372
         },
         {
          "x1": -1.457281748491455,
          "x2": -2.058602217342666,
          "x3": -2.4819809147991307
         },
         {
          "x1": -1.8315730607355762,
          "x2": -2.058602217342666,
          "x3": -2.4819809147991307
         },
         {
          "x1": -1.457281748491455,
          "x2": -0.5921165841238967,
          "x3": -2.4819809147991307
         },
         {
          "x1": -1.457281748491455,
          "x2": -2.058602217342666,
          "x3": -2.0401944478880374
         },
         {
          "x1": -1.8315730607355762,
          "x2": -0.5921165841238967,
          "x3": -2.0401944478880374
         },
         {
          "x1": 1.6843109050985445,
          "x2": 1.082990436247334,
          "x3": 0.6596117387908693
         },
         {
          "x1": 1.3100195928544238,
          "x2": 1.082990436247334,
          "x3": 0.6596117387908693
         },
         {
          "x1": 1.6843109050985445,
          "x2": 2.5494760694661034,
          "x3": 0.6596117387908693
         },
         {
          "x1": 1.6843109050985445,
          "x2": 1.082990436247334,
          "x3": 1.1013982057019627
         },
         {
          "x1": 1.3100195928544238,
          "x2": 2.5494760694661034,
          "x3": 1.1013982057019627
         },
         {
          "x1": 0.11351457830354494,
          "x2": -0.4878058905476661,
          "x3": -0.9111845880041307
         },
         {
          "x1": -0.2607767339405762,
          "x2": -0.4878058905476661,
          "x3": -0.9111845880041307
         },
         {
          "x1": 0.11351457830354494,
          "x2": 0.9786797426711038,
          "x3": -0.9111845880041307
         },
         {
          "x1": 0.11351457830354494,
          "x2": -0.4878058905476661,
          "x3": 2.672194532496963
         },
         {
          "x1": -0.2607767339405762,
          "x2": 0.9786797426711038,
          "x3": 2.672194532496963
         },
         {
          "x1": -3.028078075286455,
          "x2": 2.6537867630423344,
          "x3": 2.230408065585869
         },
         {
          "x1": 2.8808159196494243,
          "x2": 2.6537867630423344,
          "x3": 2.230408065585869
         },
         {
          "x1": -3.028078075286455,
          "x2": -2.1629129109188963,
          "x3": 2.230408065585869
         },
         {
          "x1": -3.028078075286455,
          "x2": 2.6537867630423344,
          "x3": -0.4693981210930369
         },
         {
          "x1": 2.8808159196494243,
          "x2": -2.1629129109188963,
          "x3": -0.4693981210930369
         },
         {
          "x1": -2.978990690074111,
          "x2": -1.4204662095821974,
          "x3": -1.058446743641162
         },
         {
          "x1": -0.9970875121257325,
          "x2": -1.4204662095821974,
          "x3": -1.058446743641162
         },
         {
          "x1": -2.978990690074111,
          "x2": -0.8375535101856153,
          "x3": -1.058446743641162
         },
         {
          "x1": -2.978990690074111,
          "x2": -1.4204662095821974,
          "x3": -1.696582751401631
         },
         {
          "x1": -0.9970875121257325,
          "x2": -0.8375535101856153,
          "x3": -1.696582751401631
         },
         {
          "x1": 0.16260196351588885,
          "x2": 1.721126444007803,
          "x3": 2.083145909948838
         },
         {
          "x1": 2.1445051414642675,
          "x2": 1.721126444007803,
          "x3": 2.083145909948838
         },
         {
          "x1": 0.16260196351588885,
          "x2": 2.3040391434043848,
          "x3": 2.083145909948838
         },
         {
          "x1": 0.16260196351588885,
          "x2": 1.721126444007803,
          "x3": 1.445009902188369
         },
         {
          "x1": 2.1445051414642675,
          "x2": 2.3040391434043848,
          "x3": 1.445009902188369
         },
         {
          "x1": 1.7333982903108884,
          "x2": -2.991262536377197,
          "x3": -2.629243070436162
         },
         {
          "x1": -2.5678838389207326,
          "x2": -2.991262536377197,
          "x3": -2.629243070436162
         },
         {
          "x1": 1.7333982903108884,
          "x2": 0.7332428166093847,
          "x3": -2.629243070436162
         },
         {
          "x1": 1.7333982903108884,
          "x2": -2.991262536377197,
          "x3": 3.0158062289833696
         },
         {
          "x1": -2.5678838389207326,
          "x2": 0.7332428166093847,
          "x3": 3.0158062289833696
         },
         {
          "x1": -1.4081943632791114,
          "x2": 0.15033011721280287,
          "x3": 0.512349583153838
         },
         {
          "x1": 0.5737088146692675,
          "x2": 0.15033011721280287,
          "x3": 0.512349583153838
         },
         {
          "x1": -1.4081943632791114,
          "x2": -2.4083498369806153,
          "x3": 0.512349583153838
         },
         {
          "x1": -1.4081943632791114,
          "x2": 0.15033011721280287,
          "x3": -0.12578642460663092
         },
         {
          "x1": 0.5737088146692675,
          "x2": -2.4083498369806153,
          "x3": -0.12578642460663092
         },
         {
          "x1": -0.6227961998816114,
          "x2": -2.2058643729796974,
          "x3": 2.868544073346338
         },
         {
          "x1": 1.3591069780667677,
          "x2": -2.2058643729796974,
          "x3": 2.868544073346338
         },
         {
          "x1": -0.6227961998816114,
          "x2": -1.6229516735831153,
          "x3": 2.868544073346338
         },
         {
          "x1": -0.6227961998816114,
          "x2": -2.2058643729796974,
          "x3": -2.4819809147991307
         },
         {
          "x1": 1.3591069780667677,
          "x2": -1.6229516735831153,
          "x3": -2.4819809147991307
         },
         {
          "x1": 2.518796453708389,
          "x2": 0.9357282806103031,
          "x3": -0.2730485802436622
         },
         {
          "x1": -1.7824856755232326,
          "x2": 0.9357282806103031,
          "x3": -0.2730485802436622
         },
         {
          "x1": 2.518796453708389,
          "x2": 1.518640980006885,
          "x3": -0.2730485802436622
         },
         {
          "x1": 2.518796453708389,
          "x2": 0.9357282806103031,
          "x3": 0.6596117387908693
         },
         {
          "x1": -1.7824856755232326,
          "x2": 1.518640980006885,
          "x3": 0.6596117387908693
         },
         {
          "x1": 0.9480001269133886,
          "x2": -0.6350680461846974,
          "x3": 1.2977477465513383
         },
         {
          "x1": 2.9299033048617673,
          "x2": -0.6350680461846974,
          "x3": 1.2977477465513383
         },
         {
          "x1": 0.9480001269133886,
          "x2": 3.0894373068018846,
          "x3": 1.2977477465513383
         },
         {
          "x1": 0.9480001269133886,
          "x2": -0.6350680461846974,
          "x3": 2.230408065585869
         },
         {
          "x1": 2.9299033048617673,
          "x2": 3.0894373068018846,
          "x3": 2.230408065585869
         },
         {
          "x1": -2.1935925266766114,
          "x2": 2.5065246074053027,
          "x3": -1.8438449070386622
         },
         {
          "x1": -0.2116893487282323,
          "x2": 2.5065246074053027,
          "x3": -1.8438449070386622
         },
         {
          "x1": -2.1935925266766114,
          "x2": -0.052155346788115065,
          "x3": -1.8438449070386622
         },
         {
          "x1": -2.1935925266766114,
          "x2": 2.5065246074053027,
          "x3": -0.9111845880041307
         },
         {
          "x1": -0.2116893487282323,
          "x2": -0.052155346788115065,
          "x3": -0.9111845880041307
         },
         {
          "x1": -1.8008934449778613,
          "x2": -2.5985634546784473,
          "x3": 0.905048664852588
         },
         {
          "x1": -2.1751847572219827,
          "x2": -2.5985634546784473,
          "x3": 0.905048664852588
         },
         {
          "x1": -1.8008934449778613,
          "x2": 1.9113400617056344,
          "x3": 0.905048664852588
         },
         {
          "x1": -1.8008934449778613,
          "x2": -2.5985634546784473,
          "x3": -0.5184855063053808
         },
         {
          "x1": -2.1751847572219827,
          "x2": 1.9113400617056344,
          "x3": -0.5184855063053808
         },
         {
          "x1": 1.340699208612139,
          "x2": 0.5430291989115528,
          "x3": -2.236543988737412
         },
         {
          "x1": 0.9664078963680174,
          "x2": 0.5430291989115528,
          "x3": -2.236543988737412
         },
         {
          "x1": 1.340699208612139,
          "x2": -1.2302525918843652,
          "x3": -2.236543988737412
         },
         {
          "x1": 1.340699208612139,
          "x2": 0.5430291989115528,
          "x3": 2.6231071472846192
         },
         {
          "x1": 0.9664078963680174,
          "x2": -1.2302525918843652,
          "x3": 2.6231071472846192
         },
         {
          "x1": 2.9114955354071386,
          "x2": -1.0277671278834473,
          "x3": 2.4758449916475875
         },
         {
          "x1": -0.6043884304269826,
          "x2": -1.0277671278834473,
          "x3": 2.4758449916475875
         },
         {
          "x1": 2.9114955354071386,
          "x2": -2.8010489186793652,
          "x3": 2.4758449916475875
         },
         {
          "x1": 2.9114955354071386,
          "x2": -1.0277671278834473,
          "x3": 1.0523108204896188
         },
         {
          "x1": -0.6043884304269826,
          "x2": -2.8010489186793652,
          "x3": 1.0523108204896188
         },
         {
          "x1": -0.2300971181828615,
          "x2": 2.1138255257065524,
          "x3": -0.6657476619424121
         },
         {
          "x1": 2.537204223163018,
          "x2": 2.1138255257065524,
          "x3": -0.6657476619424121
         },
         {
          "x1": -0.2300971181828615,
          "x2": 0.34054373491063483,
          "x3": -0.6657476619424121
         },
         {
          "x1": -0.2300971181828615,
          "x2": 2.1138255257065524,
          "x3": -2.089281833100381
         },
         {
          "x1": 2.537204223163018,
          "x2": 0.34054373491063483,
          "x3": -2.089281833100381
         },
         {
          "x1": -1.0154952815803613,
          "x2": -0.24236896448594747,
          "x3": -3.0219421521349124
         },
         {
          "x1": 1.7518060597655172,
          "x2": -0.24236896448594747,
          "x3": -3.0219421521349124
         },
         {
          "x1": -1.0154952815803613,
          "x2": 1.1259418983081346,
          "x3": -3.0219421521349124
         },
         {
          "x1": -1.0154952815803613,
          "x2": -0.24236896448594747,
          "x3": -1.3038836697028808
         },
         {
          "x1": 1.7518060597655172,
          "x2": 1.1259418983081346,
          "x3": -1.3038836697028808
         },
         {
          "x1": 2.1260973720096388,
          "x2": 2.899223689104053,
          "x3": 0.11965050145508771
         },
         {
          "x1": -1.3897865938244824,
          "x2": 2.899223689104053,
          "x3": 0.11965050145508771
         },
         {
          "x1": 2.1260973720096388,
          "x2": -2.0156507552818654,
          "x3": 0.11965050145508771
         },
         {
          "x1": 2.1260973720096388,
          "x2": 2.899223689104053,
          "x3": 1.8377089838871195
         },
         {
          "x1": -1.3897865938244824,
          "x2": -2.0156507552818654,
          "x3": 1.8377089838871195
         },
         {
          "x1": 0.5553010452146387,
          "x2": -1.8131652912809473,
          "x3": -1.451145825339912
         },
         {
          "x1": 0.1810097329705176,
          "x2": -1.8131652912809473,
          "x3": -1.451145825339912
         },
         {
          "x1": 0.5553010452146387,
          "x2": -0.4448544284868654,
          "x3": -1.451145825339912
         },
         {
          "x1": 0.5553010452146387,
          "x2": -1.8131652912809473,
          "x3": 0.266912657092119
         },
         {
          "x1": 0.1810097329705176,
          "x2": -0.4448544284868654,
          "x3": 0.266912657092119
         },
         {
          "x1": -2.5862916083753613,
          "x2": 1.3284273623090526,
          "x3": 1.6904468282500877
         },
         {
          "x1": -2.9605829206194825,
          "x2": 1.3284273623090526,
          "x3": 1.6904468282500877
         },
         {
          "x1": -2.5862916083753613,
          "x2": 2.696738225103135,
          "x3": 1.6904468282500877
         },
         {
          "x1": -2.5862916083753613,
          "x2": 1.3284273623090526,
          "x3": -2.874679996497881
         },
         {
          "x1": -2.9605829206194825,
          "x2": 2.696738225103135,
          "x3": -2.874679996497881
         },
         {
          "x1": -2.389942067525986,
          "x2": -1.6168157504315723,
          "x3": -2.0401944478880374
         },
         {
          "x1": 3.126252845711143,
          "x2": -1.6168157504315723,
          "x3": -2.0401944478880374
         },
         {
          "x1": -2.389942067525986,
          "x2": -2.6046993778299905,
          "x3": -2.0401944478880374
         },
         {
          "x1": -2.389942067525986,
          "x2": -1.6168157504315723,
          "x3": 1.6413594430377438
         },
         {
          "x1": 3.126252845711143,
          "x2": -2.6046993778299905,
          "x3": 1.6413594430377438
         },
         {
          "x1": 0.7516505860640135,
          "x2": 1.5247769031584282,
          "x3": 1.1013982057019627
         },
         {
          "x1": -0.015339807878857581,
          "x2": 1.5247769031584282,
          "x3": 1.1013982057019627
         },
         {
          "x1": 0.7516505860640135,
          "x2": 0.5368932757600096,
          "x3": 1.1013982057019627
         },
         {
          "x1": 0.7516505860640135,
          "x2": 1.5247769031584282,
          "x3": -1.5002332105522558
         },
         {
          "x1": -0.015339807878857581,
          "x2": 0.5368932757600096,
          "x3": -1.5002332105522558
         },
         {
          "x1": 2.3224469128590135,
          "x2": -0.0460194236365723,
          "x3": -0.4693981210930369
         },
         {
          "x1": 1.5554565189161424,
          "x2": -0.0460194236365723,
          "x3": -0.4693981210930369
         },
         {
          "x1": 2.3224469128590135,
          "x2": 2.10768960255501,
          "x3": -0.4693981210930369
         },
         {
          "x1": 2.3224469128590135,
          "x2": -0.0460194236365723,
          "x3": -3.071029537347256
         },
         {
          "x1": 1.5554565189161424,
          "x2": 2.10768960255501,
          "x3": -3.071029537347256
         },
         {
          "x1": -0.8191457407309866,
          "x2": 3.0955732299534278,
          "x3": 2.672194532496963
         },
         {
          "x1": -1.5861361346738574,
          "x2": 3.0955732299534278,
          "x3": 2.672194532496963
         },
         {
          "x1": -0.8191457407309866,
          "x2": -1.0339030510349905,
          "x3": 2.672194532496963
         },
         {
          "x1": -0.8191457407309866,
          "x2": 3.0955732299534278,
          "x3": 0.07056311624274425
         },
         {
          "x1": -1.5861361346738574,
          "x2": -1.0339030510349905,
          "x3": 0.07056311624274425
         },
         {
          "x1": -0.03374757733348632,
          "x2": -0.8314175870340721,
          "x3": 0.3160000423044629
         },
         {
          "x1": -2.3715342980713574,
          "x2": -0.8314175870340721,
          "x3": 0.3160000423044629
         },
         {
          "x1": -0.03374757733348632,
          "x2": -0.24850488763749023,
          "x3": 0.3160000423044629
         },
         {
          "x1": -0.03374757733348632,
          "x2": -0.8314175870340721,
          "x3": 2.4267576064352445
         },
         {
          "x1": -2.3715342980713574,
          "x2": -0.24850488763749023,
          "x3": 2.4267576064352445
         },
         {
          "x1": 3.1078450762565133,
          "x2": 2.310175066555928,
          "x3": -2.825592611285537
         },
         {
          "x1": 0.7700583555186427,
          "x2": 2.310175066555928,
          "x3": -2.825592611285537
         },
         {
          "x1": 3.1078450762565133,
          "x2": 2.89308776595251,
          "x3": -2.825592611285537
         },
         {
          "x1": 3.1078450762565133,
          "x2": 2.310175066555928,
          "x3": -0.714835047154756
         },
         {
          "x1": 0.7700583555186427,
          "x2": 2.89308776595251,
          "x3": -0.714835047154756
         },
         {
          "x1": 1.5370487494615137,
          "x2": -2.4022139138290726,
          "x3": 1.8867963690994634
         },
         {
          "x1": -0.8007379712763574,
          "x2": -2.4022139138290726,
          "x3": 1.8867963690994634
         },
         {
          "x1": 1.5370487494615137,
          "x2": 1.3222914391575094,
          "x3": 1.8867963690994634
         },
         {
          "x1": 1.5370487494615137,
          "x2": -2.4022139138290726,
          "x3": -2.285631373949756
         },
         {
          "x1": -0.8007379712763574,
          "x2": 1.3222914391575094,
          "x3": -2.285631373949756
         },
         {
          "x1": -1.6045439041284864,
          "x2": 0.7393787397609279,
          "x3": -1.2547962844905372
         },
         {
          "x1": 2.3408546823136422,
          "x2": 0.7393787397609279,
          "x3": -1.2547962844905372
         },
         {
          "x1": -1.6045439041284864,
          "x2": -1.8193012144324903,
          "x3": -1.2547962844905372
         },
         {
          "x1": -1.6045439041284864,
          "x2": 0.7393787397609279,
          "x3": 0.855961279640244
         },
         {
          "x1": 2.3408546823136422,
          "x2": -1.8193012144324903,
          "x3": 0.855961279640244
         },
         {
          "x1": -1.9972429858272365,
          "x2": -0.4387185053353222,
          "x3": 2.279495450798213
         },
         {
          "x1": 0.37735927381989276,
          "x2": -0.4387185053353222,
          "x3": 2.279495450798213
         },
         {
          "x1": -1.9972429858272365,
          "x2": 0.14419419406125966,
          "x3": 2.279495450798213
         },
         {
          "x1": -1.9972429858272365,
          "x2": -0.4387185053353222,
          "x3": 0.46326219794149415
         },
         {
          "x1": 0.37735927381989276,
          "x2": 0.14419419406125966,
          "x3": 0.46326219794149415
         },
         {
          "x1": 1.1443496677627634,
          "x2": 2.7028741482546774,
          "x3": -0.8620972027917873
         },
         {
          "x1": -2.7642333797701073,
          "x2": 2.7028741482546774,
          "x3": -0.8620972027917873
         },
         {
          "x1": 1.1443496677627634,
          "x2": -2.9973984595287404,
          "x3": -0.8620972027917873
         },
         {
          "x1": 1.1443496677627634,
          "x2": 2.7028741482546774,
          "x3": -2.678330455648506
         },
         {
          "x1": -2.7642333797701073,
          "x2": -2.9973984595287404,
          "x3": -2.678330455648506
         },
         {
          "x1": 2.715145994557764,
          "x2": -2.0095148321303222,
          "x3": 0.7086991240032128
         },
         {
          "x1": 1.9481556006148928,
          "x2": -2.0095148321303222,
          "x3": 0.7086991240032128
         },
         {
          "x1": 2.715145994557764,
          "x2": -1.4266021327337404,
          "x3": 0.7086991240032128
         },
         {
          "x1": 2.715145994557764,
          "x2": -2.0095148321303222,
          "x3": -1.1075341288535059
         },
         {
          "x1": 1.9481556006148928,
          "x2": -1.4266021327337404,
          "x3": -1.1075341288535059
         },
         {
          "x1": -0.4264466590322362,
          "x2": 1.1320778214596778,
          "x3": -2.4328935295867873
         },
         {
          "x1": -1.1934370529751075,
          "x2": 1.1320778214596778,
          "x3": -2.4328935295867873
         },
         {
          "x1": -0.4264466590322362,
          "x2": 1.7149905208562597,
          "x3": -2.4328935295867873
         },
         {
          "x1": -0.4264466590322362,
          "x2": 1.1320778214596778,
          "x3": 2.034058524736494
         },
         {
          "x1": -1.1934370529751075,
          "x2": 1.7149905208562597,
          "x3": 2.034058524736494
         },
         {
          "x1": -1.2118448224297365,
          "x2": -2.7949129955278225,
          "x3": -0.07669903939428702
         },
         {
          "x1": -0.4080388895776075,
          "x2": -2.7949129955278225,
          "x3": -0.07669903939428702
         },
         {
          "x1": -1.2118448224297365,
          "x2": 2.5003886842537595,
          "x3": -0.07669903939428702
         },
         {
          "x1": -1.2118448224297365,
          "x2": -2.7949129955278225,
          "x3": 1.2486603613389944
         },
         {
          "x1": -0.4080388895776075,
          "x2": 2.5003886842537595,
          "x3": 1.2486603613389944
         },
         {
          "x1": 1.929747831160264,
          "x2": 0.3466796580621776,
          "x3": 3.0648936141957126
         },
         {
          "x1": 2.7335537640123926,
          "x2": 0.3466796580621776,
          "x3": 3.0648936141957126
         },
         {
          "x1": 1.929747831160264,
          "x2": -0.6412039693362401,
          "x3": 3.0648936141957126
         },
         {
          "x1": 1.929747831160264,
          "x2": 0.3466796580621776,
          "x3": -1.892932292251006
         },
         {
          "x1": 2.7335537640123926,
          "x2": -0.6412039693362401,
          "x3": -1.892932292251006
         },
         {
          "x1": 0.3589515043652636,
          "x2": -1.2241166687328222,
          "x3": -1.647495366189287
         },
         {
          "x1": -1.9788352163726075,
          "x2": -1.2241166687328222,
          "x3": -1.647495366189287
         },
         {
          "x1": 0.3589515043652636,
          "x2": -2.21200029613124,
          "x3": -1.647495366189287
         },
         {
          "x1": 0.3589515043652636,
          "x2": -1.2241166687328222,
          "x3": -0.32213596545600565
         },
         {
          "x1": -1.9788352163726075,
          "x2": -2.21200029613124,
          "x3": -0.32213596545600565
         },
         {
          "x1": -2.7826411492247365,
          "x2": 1.9174759848571776,
          "x3": 1.494097287400713
         },
         {
          "x1": 1.162757437217393,
          "x2": 1.9174759848571776,
          "x3": 1.494097287400713
         },
         {
          "x1": -2.7826411492247365,
          "x2": 0.9295923574587599,
          "x3": 1.494097287400713
         },
         {
          "x1": -2.7826411492247365,
          "x2": 1.9174759848571776,
          "x3": 2.819456688133994
         },
         {
          "x1": 1.162757437217393,
          "x2": 0.9295923574587599,
          "x3": 2.819456688133994
         },
         {
          "x1": -2.880815919649424,
          "x2": -3.089437306801885,
          "x3": 2.3776702212229006
         },
         {
          "x1": 2.2426799118889553,
          "x2": -3.089437306801885,
          "x3": 2.3776702212229006
         },
         {
          "x1": -2.880815919649424,
          "x2": -0.15033011721280287,
          "x3": 2.3776702212229006
         },
         {
          "x1": -2.880815919649424,
          "x2": -3.089437306801885,
          "x3": 2.132233295161182
         },
         {
          "x1": 2.2426799118889553,
          "x2": -0.15033011721280287,
          "x3": 2.132233295161182
         },
         {
          "x1": 0.2607767339405762,
          "x2": 0.052155346788115065,
          "x3": -0.7639224323670994
         },
         {
          "x1": -0.8989127417010447,
          "x2": 0.052155346788115065,
          "x3": -0.7639224323670994
         },
         {
          "x1": 0.2607767339405762,
          "x2": 2.9912625363771976,
          "x3": -0.7639224323670994
         },
         {
          "x1": 0.2607767339405762,
          "x2": 0.052155346788115065,
          "x3": -1.0093593584288185
         },
         {
          "x1": -0.8989127417010447,
          "x2": 2.9912625363771976,
          "x3": -1.0093593584288185
         },
         {
          "x1": 1.8315730607355762,
          "x2": -1.5186409800068847,
          "x3": 0.8068738944279006
         },
         {
          "x1": 0.6718835850939553,
          "x2": -1.5186409800068847,
          "x3": 0.8068738944279006
         },
         {
          "x1": 1.8315730607355762,
          "x2": 1.4204662095821972,
          "x3": 0.8068738944279006
         },
         {
          "x1": 1.8315730607355762,
          "x2": -1.5186409800068847,
          "x3": -2.5801556852238186
         },
         {
          "x1": 0.6718835850939553,
          "x2": 1.4204662095821972,
          "x3": -2.5801556852238186
         },
         {
          "x1": -1.3100195928544238,
          "x2": 1.622951673583115,
          "x3": -2.3347187591621
         },
         {
          "x1": -2.469709068496045,
          "x2": 1.622951673583115,
          "x3": -2.3347187591621
         },
         {
          "x1": -1.3100195928544238,
          "x2": -1.7211264440078027,
          "x3": -2.3347187591621
         },
         {
          "x1": -1.3100195928544238,
          "x2": 1.622951673583115,
          "x3": 0.5614369683661815
         },
         {
          "x1": -2.469709068496045,
          "x2": -1.7211264440078027,
          "x3": 0.5614369683661815
         },
         {
          "x1": -0.524621429456924,
          "x2": -0.7332428166093847,
          "x3": -1.5493205957645997
         },
         {
          "x1": -1.684310905098545,
          "x2": -0.7332428166093847,
          "x3": -1.5493205957645997
         },
         {
          "x1": -0.524621429456924,
          "x2": -2.5065246074053027,
          "x3": -1.5493205957645997
         },
         {
          "x1": -0.524621429456924,
          "x2": -0.7332428166093847,
          "x3": 2.917631458558682
         },
         {
          "x1": -1.684310905098545,
          "x2": -2.5065246074053027,
          "x3": 2.917631458558682
         },
         {
          "x1": 2.616971224133076,
          "x2": 2.408349836980615,
          "x3": 1.5922720578254008
         },
         {
          "x1": 1.4572817484914555,
          "x2": 2.408349836980615,
          "x3": 1.5922720578254008
         },
         {
          "x1": 2.616971224133076,
          "x2": 0.6350680461846974,
          "x3": 1.5922720578254008
         },
         {
          "x1": 2.616971224133076,
          "x2": 2.408349836980615,
          "x3": -0.22396119503131828
         },
         {
          "x1": 1.4572817484914555,
          "x2": 0.6350680461846974,
          "x3": -0.22396119503131828
         },
         {
          "x1": 1.0461748973380764,
          "x2": -2.3040391434043848,
          "x3": -3.1201169225595997
         },
         {
          "x1": -0.11351457830354494,
          "x2": -2.3040391434043848,
          "x3": -3.1201169225595997
         },
         {
          "x1": 1.0461748973380764,
          "x2": 2.205864372979697,
          "x3": -3.1201169225595997
         },
         {
          "x1": 1.0461748973380764,
          "x2": -2.3040391434043848,
          "x3": -1.7947575218263183
         },
         {
          "x1": -0.11351457830354494,
          "x2": 2.205864372979697,
          "x3": -1.7947575218263183
         },
         {
          "x1": -2.0954177562519236,
          "x2": 0.8375535101856153,
          "x3": 0.021475731030400347
         },
         {
          "x1": 3.028078075286455,
          "x2": 0.8375535101856153,
          "x3": 0.021475731030400347
         },
         {
          "x1": -2.0954177562519236,
          "x2": -0.9357282806103027,
          "x3": 0.021475731030400347
         },
         {
          "x1": -2.0954177562519236,
          "x2": 0.8375535101856153,
          "x3": 1.3468351317636813
         },
         {
          "x1": 3.028078075286455,
          "x2": -0.9357282806103027,
          "x3": 1.3468351317636813
         },
         {
          "x1": -1.702718674553174,
          "x2": -1.1259418983081346,
          "x3": -2.72741784086085
         },
         {
          "x1": 1.0645826667927052,
          "x2": -1.1259418983081346,
          "x3": -2.72741784086085
         },
         {
          "x1": -1.702718674553174,
          "x2": 2.5985634546784473,
          "x3": -2.72741784086085
         },
         {
          "x1": -1.702718674553174,
          "x2": -1.1259418983081346,
          "x3": 0.1687378866674316
         },
         {
          "x1": 1.0645826667927052,
          "x2": 2.5985634546784473,
          "x3": 0.1687378866674316
         },
         {
          "x1": 1.438873979036826,
          "x2": 2.0156507552818654,
          "x3": 0.41417481272915024
         },
         {
          "x1": -2.077009986797295,
          "x2": 2.0156507552818654,
          "x3": 0.41417481272915024
         },
         {
          "x1": 1.438873979036826,
          "x2": -0.5430291989115528,
          "x3": 0.41417481272915024
         },
         {
          "x1": 1.438873979036826,
          "x2": 2.0156507552818654,
          "x3": -2.9728547669225684
         },
         {
          "x1": -2.077009986797295,
          "x2": -0.5430291989115528,
          "x3": -2.9728547669225684
         },
         {
          "x1": 3.0096703058318264,
          "x2": -2.6967382251031347,
          "x3": -1.1566215140658496
         },
         {
          "x1": 2.6353789935877048,
          "x2": -2.6967382251031347,
          "x3": -1.1566215140658496
         },
         {
          "x1": 3.0096703058318264,
          "x2": -2.113825525706553,
          "x3": -1.1566215140658496
         },
         {
          "x1": 3.0096703058318264,
          "x2": -2.6967382251031347,
          "x3": -1.4020584401275684
         },
         {
          "x1": 2.6353789935877048,
          "x2": -2.113825525706553,
          "x3": -1.4020584401275684
         },
         {
          "x1": -0.13192234775817369,
          "x2": 0.4448544284868654,
          "x3": 1.9849711395241503
         },
         {
          "x1": -0.5062136600022948,
          "x2": 0.4448544284868654,
          "x3": 1.9849711395241503
         },
         {
          "x1": -0.13192234775817369,
          "x2": 1.0277671278834477,
          "x3": 1.9849711395241503
         },
         {
          "x1": -0.13192234775817369,
          "x2": 0.4448544284868654,
          "x3": 1.7395342134624316
         },
         {
          "x1": -0.5062136600022948,
          "x2": 1.0277671278834477,
          "x3": 1.7395342134624316
         },
         {
          "x1": -0.9173205111556739,
          "x2": -1.9113400617056349,
          "x3": 1.1995729761266505
         },
         {
          "x1": -1.2916118233997949,
          "x2": -1.9113400617056349,
          "x3": 1.1995729761266505
         },
         {
          "x1": -0.9173205111556739,
          "x2": 0.24236896448594747,
          "x3": 1.1995729761266505
         },
         {
          "x1": -0.9173205111556739,
          "x2": -1.9113400617056349,
          "x3": 0.9541360500649319
         },
         {
          "x1": -1.2916118233997949,
          "x2": 0.24236896448594747,
          "x3": 0.9541360500649319
         },
         {
          "x1": 2.2242721424343266,
          "x2": 1.2302525918843656,
          "x3": -1.9420196774633496
         },
         {
          "x1": 1.849980830190205,
          "x2": 1.2302525918843656,
          "x3": -1.9420196774633496
         },
         {
          "x1": 2.2242721424343266,
          "x2": -2.8992236891040526,
          "x3": -1.9420196774633496
         },
         {
          "x1": 2.2242721424343266,
          "x2": 1.2302525918843656,
          "x3": -2.187456603525068
         },
         {
          "x1": 1.849980830190205,
          "x2": -2.8992236891040526,
          "x3": -2.187456603525068
         },
         {
          "x1": 0.6534758156393261,
          "x2": -0.34054373491063483,
          "x3": 2.77036930292165
         },
         {
          "x1": -2.862408150194795,
          "x2": -0.34054373491063483,
          "x3": 2.77036930292165
         },
         {
          "x1": 0.6534758156393261,
          "x2": -1.3284273623090528,
          "x3": 2.77036930292165
         },
         {
          "x1": 0.6534758156393261,
          "x2": -0.34054373491063483,
          "x3": -0.6166602767300682
         },
         {
          "x1": -2.862408150194795,
          "x2": -1.3284273623090528,
          "x3": -0.6166602767300682
         },
         {
          "x1": -2.488116837950674,
          "x2": 2.8010489186793652,
          "x3": -0.37122335066834955
         },
         {
          "x1": 0.27918450339520495,
          "x2": 2.8010489186793652,
          "x3": -0.37122335066834955
         },
         {
          "x1": -2.488116837950674,
          "x2": 1.8131652912809475,
          "x3": -0.37122335066834955
         },
         {
          "x1": -2.488116837950674,
          "x2": 2.8010489186793652,
          "x3": 2.5249323768599314
         },
         {
          "x1": 0.27918450339520495,
          "x2": 1.8131652912809475,
          "x3": 2.5249323768599314
         },
         {
          "x1": -2.6844663788000487,
          "x2": -0.14419419406125966,
          "x3": 0.6105243535785254
         },
         {
          "x1": -0.3098641191529201,
          "x2": -0.14419419406125966,
          "x3": 0.6105243535785254
         },
         {
          "x1": -2.6844663788000487,
          "x2": -1.9174759848571779,
          "x3": 0.6105243535785254
         },
         {
          "x1": -2.6844663788000487,
          "x2": -0.14419419406125966,
          "x3": -1.9911070626756935
         },
         {
          "x1": -0.3098641191529201,
          "x2": -1.9174759848571779,
          "x3": -1.9911070626756935
         },
         {
          "x1": 0.4571262747899514,
          "x2": 2.99739845952874,
          "x3": -2.5310683000114746
         },
         {
          "x1": 2.8317285344370804,
          "x2": 2.99739845952874,
          "x3": -2.5310683000114746
         },
         {
          "x1": 0.4571262747899514,
          "x2": 1.2241166687328224,
          "x3": -2.5310683000114746
         },
         {
          "x1": 0.4571262747899514,
          "x2": 2.99739845952874,
          "x3": 1.1504855909143066
         },
         {
          "x1": 2.8317285344370804,
          "x2": 1.2241166687328224,
          "x3": 1.1504855909143066
         },
         {
          "x1": 2.027922601584951,
          "x2": -1.7149905208562597,
          "x3": 2.181320680373525
         },
         {
          "x1": -1.88066044594792,
          "x2": -1.7149905208562597,
          "x3": 2.181320680373525
         },
         {
          "x1": 2.027922601584951,
          "x2": 2.794912995527822,
          "x3": 2.181320680373525
         },
         {
          "x1": 2.027922601584951,
          "x2": -1.7149905208562597,
          "x3": 2.721281917709307
         },
         {
          "x1": -1.88066044594792,
          "x2": 2.794912995527822,
          "x3": 2.721281917709307
         },
         {
          "x1": -1.1136700520050486,
          "x2": 1.4266021327337404,
          "x3": -0.9602719732164746
         },
         {
          "x1": 1.26093220764208,
          "x2": 1.4266021327337404,
          "x3": -0.9602719732164746
         },
         {
          "x1": -1.1136700520050486,
          "x2": -0.3466796580621776,
          "x3": -0.9602719732164746
         },
         {
          "x1": -1.1136700520050486,
          "x2": 1.4266021327337404,
          "x3": -0.42031073588069345
         },
         {
          "x1": 1.26093220764208,
          "x2": -0.3466796580621776,
          "x3": -0.42031073588069345
         },
         {
          "x1": -0.32827188860754886,
          "x2": -2.50038868425376,
          "x3": -1.7456701366139746
         },
         {
          "x1": 0.4755340442445801,
          "x2": -2.50038868425376,
          "x3": -1.7456701366139746
         },
         {
          "x1": -0.32827188860754886,
          "x2": -1.1320778214596778,
          "x3": -1.7456701366139746
         },
         {
          "x1": -0.32827188860754886,
          "x2": -2.50038868425376,
          "x3": -2.7765052260731933
         },
         {
          "x1": 0.4755340442445801,
          "x2": -1.1320778214596778,
          "x3": -2.7765052260731933
         },
         {
          "x1": 2.8133207649824516,
          "x2": 0.6412039693362401,
          "x3": 1.3959225169760252
         },
         {
          "x1": -2.66605860934542,
          "x2": 0.6412039693362401,
          "x3": 1.3959225169760252
         },
         {
          "x1": 2.8133207649824516,
          "x2": 2.0095148321303222,
          "x3": 1.3959225169760252
         },
         {
          "x1": 2.8133207649824516,
          "x2": 0.6412039693362401,
          "x3": 0.3650874275168068
         },
         {
          "x1": -2.66605860934542,
          "x2": 2.0095148321303222,
          "x3": 0.3650874275168068
         },
         {
          "x1": 1.2425244381874512,
          "x2": -0.9295923574587599,
          "x3": -0.17487380981897482
         },
         {
          "x1": 2.0463303710395797,
          "x2": -0.9295923574587599,
          "x3": -0.17487380981897482
         },
         {
          "x1": 1.2425244381874512,
          "x2": 0.4387185053353222,
          "x3": -0.17487380981897482
         },
         {
          "x1": 1.2425244381874512,
          "x2": -0.9295923574587599,
          "x3": 1.9358837543118064
         },
         {
          "x1": 2.0463303710395797,
          "x2": 0.4387185053353222,
          "x3": 1.9358837543118064
         },
         {
          "x1": -1.8990682154025489,
          "x2": 2.21200029613124,
          "x3": 2.9667188437710257
         },
         {
          "x1": -1.09526228255042,
          "x2": 2.21200029613124,
          "x3": 2.9667188437710257
         },
         {
          "x1": -1.8990682154025489,
          "x2": -2.702874148254678,
          "x3": 2.9667188437710257
         },
         {
          "x1": -1.8990682154025489,
          "x2": 2.21200029613124,
          "x3": -1.2057088992781935
         },
         {
          "x1": -1.09526228255042,
          "x2": -2.702874148254678,
          "x3": -1.2057088992781935
         },
         {
          "x1": -2.291767297101299,
          "x2": -2.10768960255501,
          "x3": -0.5675728915177247
         },
         {
          "x1": -3.05875769104417,
          "x2": -2.10768960255501,
          "x3": -0.5675728915177247
         },
         {
          "x1": -2.291767297101299,
          "x2": 0.8314175870340721,
          "x3": -0.5675728915177247
         },
         {
          "x1": -2.291767297101299,
          "x2": -2.10768960255501,
          "x3": -0.027611654181943557
         },
         {
          "x1": -3.05875769104417,
          "x2": 0.8314175870340721,
          "x3": -0.027611654181943557
         },
         {
          "x1": 0.8498253564887013,
          "x2": 1.03390305103499,
          "x3": 2.5740197620722753
         },
         {
          "x1": 0.08283496254583023,
          "x2": 1.03390305103499,
          "x3": 2.5740197620722753
         },
         {
          "x1": 0.8498253564887013,
          "x2": -2.310175066555928,
          "x3": 2.5740197620722753
         },
         {
          "x1": 0.8498253564887013,
          "x2": 1.03390305103499,
          "x3": 3.1139809994080565
         },
         {
          "x1": 0.08283496254583023,
          "x2": -2.310175066555928,
          "x3": 3.1139809994080565
         },
         {
          "x1": 2.4206216832837013,
          "x2": -0.5368932757600096,
          "x3": -2.1383692183127248
         },
         {
          "x1": -1.48796136424917,
          "x2": -0.5368932757600096,
          "x3": -2.1383692183127248
         },
         {
          "x1": 2.4206216832837013,
          "x2": -0.7393787397609279,
          "x3": -2.1383692183127248
         },
         {
          "x1": 2.4206216832837013,
          "x2": -0.5368932757600096,
          "x3": 1.543184672613057
         },
         {
          "x1": -1.48796136424917,
          "x2": -0.7393787397609279,
          "x3": 1.543184672613057
         },
         {
          "x1": -0.7209709703062988,
          "x2": 2.6046993778299905,
          "x3": 1.0032234352772758
         },
         {
          "x1": 1.6536312893408303,
          "x2": 2.6046993778299905,
          "x3": 1.0032234352772758
         },
         {
          "x1": -0.7209709703062988,
          "x2": 2.4022139138290726,
          "x3": 1.0032234352772758
         },
         {
          "x1": -0.7209709703062988,
          "x2": 2.6046993778299905,
          "x3": -1.5984079809769434
         },
         {
          "x1": 1.6536312893408303,
          "x2": 2.4022139138290726,
          "x3": -1.5984079809769434
         },
         {
          "x1": -1.5063691337037988,
          "x2": -1.3222914391575098,
          "x3": 1.7886215986747755
         },
         {
          "x1": 2.43902945273833,
          "x2": -1.3222914391575098,
          "x3": 1.7886215986747755
         },
         {
          "x1": -1.5063691337037988,
          "x2": 1.6168157504315719,
          "x3": 1.7886215986747755
         },
         {
          "x1": -1.5063691337037988,
          "x2": -1.3222914391575098,
          "x3": -0.8130098175794434
         },
         {
          "x1": 2.43902945273833,
          "x2": 1.6168157504315719,
          "x3": -0.8130098175794434
         },
         {
          "x1": 1.6352235198862015,
          "x2": 1.8193012144324907,
          "x3": -1.3529710549152247
         },
         {
          "x1": -0.70256320085167,
          "x2": 1.8193012144324907,
          "x3": -1.3529710549152247
         },
         {
          "x1": 1.6352235198862015,
          "x2": -1.5247769031584277,
          "x3": -1.3529710549152247
         },
         {
          "x1": 1.6352235198862015,
          "x2": 1.8193012144324907,
          "x3": 2.3285828360105567
         },
         {
          "x1": -0.70256320085167,
          "x2": -1.5247769031584277,
          "x3": 2.3285828360105567
         },
         {
          "x1": 0.06442719309120104,
          "x2": -2.89308776595251,
          "x3": 0.21782527187977552
         },
         {
          "x1": 0.8682331259433305,
          "x2": -2.89308776595251,
          "x3": 0.21782527187977552
         },
         {
          "x1": 0.06442719309120104,
          "x2": -3.0955732299534278,
          "x3": 0.21782527187977552
         },
         {
          "x1": 0.06442719309120104,
          "x2": -2.89308776595251,
          "x3": 0.7577865092155567
         },
         {
          "x1": 0.8682331259433305,
          "x2": -3.0955732299534278,
          "x3": 0.7577865092155567
         },
         {
          "x1": -3.077165460498799,
          "x2": 0.24850488763749023,
          "x3": -2.9237673817102245
         },
         {
          "x1": -2.27335952764667,
          "x2": 0.24850488763749023,
          "x3": -2.9237673817102245
         },
         {
          "x1": -3.077165460498799,
          "x2": 0.0460194236365723,
          "x3": -2.9237673817102245
         },
         {
          "x1": -3.077165460498799,
          "x2": 0.24850488763749023,
          "x3": -2.3838061443744434
         },
         {
          "x1": -2.27335952764667,
          "x2": 0.0460194236365723,
          "x3": -2.3838061443744434
         },
         {
          "x1": -3.052621767892627,
          "x2": -0.266912657092119,
          "x3": 1.9113400617056344
         },
         {
          "x1": 1.187301129823564,
          "x2": -0.266912657092119,
          "x3": 1.9113400617056344
         },
         {
          "x1": -3.052621767892627,
          "x2": -2.4328935295867873,
          "x3": 1.9113400617056344
         },
         {
          "x1": -3.052621767892627,
          "x2": -0.266912657092119,
          "x3": 2.5003886842537595
         },
         {
          "x1": 1.187301129823564,
          "x2": -2.4328935295867873,
          "x3": 2.5003886842537595
         },
         {
          "x1": 0.08897088569737299,
          "x2": 2.874679996497881,
          "x3": -1.2302525918843652
         },
         {
          "x1": -1.9542915237664356,
          "x2": 2.874679996497881,
          "x3": -1.2302525918843652
         },
         {
          "x1": 0.08897088569737299,
          "x2": 0.7086991240032128,
          "x3": -1.2302525918843652
         },
         {
          "x1": 0.08897088569737299,
          "x2": 2.874679996497881,
          "x3": -0.6412039693362401
         },
         {
          "x1": -1.9542915237664356,
          "x2": 0.7086991240032128,
          "x3": -0.6412039693362401
         },
         {
          "x1": 1.6597672124923735,
          "x2": -1.8377089838871192,
          "x3": 0.34054373491063483
         },
         {
          "x1": 2.7580974566185645,
          "x2": -1.8377089838871192,
          "x3": 0.34054373491063483
         },
         {
          "x1": 1.6597672124923735,
          "x2": 2.279495450798213,
          "x3": 0.34054373491063483
         },
         {
          "x1": 1.6597672124923735,
          "x2": -1.8377089838871192,
          "x3": -2.21200029613124
         },
         {
          "x1": 2.7580974566185645,
          "x2": 2.279495450798213,
          "x3": -2.21200029613124
         },
         {
          "x1": -1.481825441097627,
          "x2": 1.3038836697028806,
          "x3": -2.8010489186793652
         },
         {
          "x1": -0.3834951969714355,
          "x2": 1.3038836697028806,
          "x3": -2.8010489186793652
         },
         {
          "x1": -1.481825441097627,
          "x2": -0.8620972027917873,
          "x3": -2.8010489186793652
         },
         {
          "x1": -1.481825441097627,
          "x2": 1.3038836697028806,
          "x3": 0.9295923574587599
         },
         {
          "x1": -0.3834951969714355,
          "x2": -0.8620972027917873,
          "x3": 0.9295923574587599
         },
         {
          "x1": -0.6964272777001268,
          "x2": -2.6231071472846192,
          "x3": -0.4448544284868654
         },
         {
          "x1": -1.1688933603689355,
          "x2": -2.6231071472846192,
          "x3": -0.4448544284868654
         },
         {
          "x1": -0.6964272777001268,
          "x2": -0.07669903939428702,
          "x3": -0.4448544284868654
         },
         {
          "x1": -0.6964272777001268,
          "x2": -2.6231071472846192,
          "x3": 1.7149905208562597
         },
         {
          "x1": -1.1688933603689355,
          "x2": -0.07669903939428702,
          "x3": 1.7149905208562597
         },
         {
          "x1": 2.4451653758898733,
          "x2": 0.5184855063053808,
          "x3": 2.696738225103135
         },
         {
          "x1": 1.9726992932210647,
          "x2": 0.5184855063053808,
          "x3": 2.696738225103135
         },
         {
          "x1": 2.4451653758898733,
          "x2": 3.0648936141957126,
          "x3": 2.696738225103135
         },
         {
          "x1": 2.4451653758898733,
          "x2": 0.5184855063053808,
          "x3": -1.4266021327337404
         },
         {
          "x1": 1.9726992932210647,
          "x2": 3.0648936141957126,
          "x3": -1.4266021327337404
         },
         {
          "x1": 0.8743690490948728,
          "x2": -1.0523108204896192,
          "x3": -2.0156507552818654
         },
         {
          "x1": -2.739689687163936,
          "x2": -1.0523108204896192,
          "x3": -2.0156507552818654
         },
         {
          "x1": 0.8743690490948728,
          "x2": 1.494097287400713,
          "x3": -2.0156507552818654
         },
         {
          "x1": 0.8743690490948728,
          "x2": -1.0523108204896192,
          "x3": -2.9973984595287404
         },
         {
          "x1": -2.739689687163936,
          "x2": 1.494097287400713,
          "x3": -2.9973984595287404
         },
         {
          "x1": -2.267223604495127,
          "x2": 2.0892818331003813,
          "x3": 1.1259418983081346
         },
         {
          "x1": 0.40190296642606427,
          "x2": 2.0892818331003813,
          "x3": 1.1259418983081346
         },
         {
          "x1": -2.267223604495127,
          "x2": -1.647495366189287,
          "x3": 1.1259418983081346
         },
         {
          "x1": -2.267223604495127,
          "x2": 2.0892818331003813,
          "x3": 0.14419419406125966
         },
         {
          "x1": 0.40190296642606427,
          "x2": -1.647495366189287,
          "x3": 0.14419419406125966
         },
         {
          "x1": -1.874524522796377,
          "x2": -2.2304080655858693,
          "x3": -1.6229516735831153
         },
         {
          "x1": 1.5800002115223144,
          "x2": -2.2304080655858693,
          "x3": -1.6229516735831153
         },
         {
          "x1": -1.874524522796377,
          "x2": 0.3160000423044629,
          "x3": -1.6229516735831153
         },
         {
          "x1": -1.874524522796377,
          "x2": -2.2304080655858693,
          "x3": 1.3222914391575094
         },
         {
          "x1": 1.5800002115223144,
          "x2": 0.3160000423044629,
          "x3": 1.3222914391575094
         },
         {
          "x1": 1.2670681307936231,
          "x2": 0.9111845880041312,
          "x3": 1.518640980006885
         },
         {
          "x1": -1.5615924420676857,
          "x2": 0.9111845880041312,
          "x3": 1.518640980006885
         },
         {
          "x1": 1.2670681307936231,
          "x2": -2.825592611285537,
          "x3": 1.518640980006885
         },
         {
          "x1": 1.2670681307936231,
          "x2": 0.9111845880041312,
          "x3": -1.8193012144324903
         },
         {
          "x1": -1.5615924420676857,
          "x2": -2.825592611285537,
          "x3": -1.8193012144324903
         },
         {
          "x1": 2.8378644575886227,
          "x2": -0.6596117387908693,
          "x3": -0.052155346788115065
         },
         {
          "x1": 0.009203884727314371,
          "x2": -0.6596117387908693,
          "x3": -0.052155346788115065
         },
         {
          "x1": 2.8378644575886227,
          "x2": -1.2547962844905372,
          "x3": -0.052155346788115065
         },
         {
          "x1": 2.8378644575886227,
          "x2": -0.6596117387908693,
          "x3": -0.24850488763749023
         },
         {
          "x1": 0.009203884727314371,
          "x2": -1.2547962844905372,
          "x3": -0.24850488763749023
         },
         {
          "x1": -0.3037281960013769,
          "x2": 2.4819809147991307,
          "x3": 3.0894373068018846
         },
         {
          "x1": -3.1323887688626857,
          "x2": 2.4819809147991307,
          "x3": 3.0894373068018846
         },
         {
          "x1": -0.3037281960013769,
          "x2": 1.8867963690994634,
          "x3": 3.0894373068018846
         },
         {
          "x1": -0.3037281960013769,
          "x2": 2.4819809147991307,
          "x3": 2.89308776595251
         },
         {
          "x1": -3.1323887688626857,
          "x2": 1.8867963690994634,
          "x3": 2.89308776595251
         },
         {
          "x1": -1.0891263593988771,
          "x2": -1.445009902188369,
          "x3": 0.7332428166093847
         },
         {
          "x1": -2.3469906054651855,
          "x2": -1.445009902188369,
          "x3": 0.7332428166093847
         },
         {
          "x1": -1.0891263593988771,
          "x2": 2.672194532496963,
          "x3": 0.7332428166093847
         },
         {
          "x1": -1.0891263593988771,
          "x2": -1.445009902188369,
          "x3": 0.5368932757600096
         },
         {
          "x1": -2.3469906054651855,
          "x2": 2.672194532496963,
          "x3": 0.5368932757600096
         },
         {
          "x1": 2.052466294191123,
          "x2": 1.696582751401631,
          "x3": -2.4083498369806153
         },
         {
          "x1": 0.7946020481248146,
          "x2": 1.696582751401631,
          "x3": -2.4083498369806153
         },
         {
          "x1": 2.052466294191123,
          "x2": -0.4693981210930369,
          "x3": -2.4083498369806153
         },
         {
          "x1": 2.052466294191123,
          "x2": 1.696582751401631,
          "x3": -2.6046993778299905
         },
         {
          "x1": 0.7946020481248146,
          "x2": -0.4693981210930369,
          "x3": -2.6046993778299905
         },
         {
          "x1": 0.4816699673961229,
          "x2": -3.015806228983369,
          "x3": 2.3040391434043848
         },
         {
          "x1": -0.7761942786701854,
          "x2": -3.015806228983369,
          "x3": 2.3040391434043848
         },
         {
          "x1": 0.4816699673961229,
          "x2": -2.0401944478880374,
          "x3": 2.3040391434043848
         },
         {
          "x1": 0.4816699673961229,
          "x2": -3.015806228983369,
          "x3": -1.0339030510349905
         },
         {
          "x1": -0.7761942786701854,
          "x2": -2.0401944478880374,
          "x3": -1.0339030510349905
         },
         {
          "x1": -2.659922686193877,
          "x2": 0.12578642460663092,
          "x3": -0.8375535101856153
         },
         {
          "x1": 2.365398374919814,
          "x2": 0.12578642460663092,
          "x3": -0.8375535101856153
         },
         {
          "x1": -2.659922686193877,
          "x2": 1.1013982057019627,
          "x3": -0.8375535101856153
         },
         {
          "x1": -2.659922686193877,
          "x2": 0.12578642460663092,
          "x3": 2.10768960255501
         },
         {
          "x1": 2.365398374919814,
          "x2": 1.1013982057019627,
          "x3": 2.10768960255501
         },
         {
          "x1": -2.463573145344502,
          "x2": -2.819456688133994,
          "x3": 1.3222914391575094
         },
         {
          "x1": -2.5433401463145606,
          "x2": -2.819456688133994,
          "x3": 1.3222914391575094
         },
         {
          "x1": -2.463573145344502,
          "x2": -1.058446743641162,
          "x3": 1.3222914391575094
         },
         {
          "x1": -2.463573145344502,
          "x2": -2.819456688133994,
          "x3": -2.4083498369806153
         },
         {
          "x1": -2.5433401463145606,
          "x2": -1.058446743641162,
          "x3": -2.4083498369806153
         },
         {
          "x1": 0.6780195082454981,
          "x2": 0.32213596545600565,
          "x3": -1.8193012144324903
         },
         {
          "x1": 0.5982525072754394,
          "x2": 0.32213596545600565,
          "x3": -1.8193012144324903
         },
         {
          "x1": 0.6780195082454981,
          "x2": 2.083145909948838,
          "x3": -1.8193012144324903
         },
         {
          "x1": 0.6780195082454981,
          "x2": 0.32213596545600565,
          "x3": 0.7332428166093847
         },
         {
          "x1": 0.5982525072754394,
          "x2": 2.083145909948838,
          "x3": 0.7332428166093847
         },
         {
          "x1": 2.2488158350404985,
          "x2": -1.2486603613389942,
          "x3": 2.89308776595251
         },
         {
          "x1": -0.9725438195195606,
          "x2": -1.2486603613389942,
          "x3": 2.89308776595251
         },
         {
          "x1": 2.2488158350404985,
          "x2": 0.512349583153838,
          "x3": 2.89308776595251
         },
         {
          "x1": 2.2488158350404985,
          "x2": -1.2486603613389942,
          "x3": 2.3040391434043848
         },
         {
          "x1": -0.9725438195195606,
          "x2": 0.512349583153838,
          "x3": 2.3040391434043848
         },
         {
          "x1": -0.892776818549502,
          "x2": 1.8929322922510057,
          "x3": -0.24850488763749023
         },
         {
          "x1": 2.1690488340704395,
          "x2": 1.8929322922510057,
          "x3": -0.24850488763749023
         },
         {
          "x1": -0.892776818549502,
          "x2": -2.629243070436162,
          "x3": -0.24850488763749023
         },
         {
          "x1": -0.892776818549502,
          "x2": 1.8929322922510057,
          "x3": -0.8375535101856153
         },
         {
          "x1": 2.1690488340704395,
          "x2": -2.629243070436162,
          "x3": -0.8375535101856153
         },
         {
          "x1": -0.10737865515200173,
          "x2": -0.46326219794149415,
          "x3": -2.6046993778299905
         },
         {
          "x1": 2.9544469974679393,
          "x2": -0.46326219794149415,
          "x3": -2.6046993778299905
         },
         {
          "x1": -0.10737865515200173,
          "x2": -1.8438449070386622,
          "x3": -2.6046993778299905
         },
         {
          "x1": -0.10737865515200173,
          "x2": -0.46326219794149415,
          "x3": -1.6229516735831153
         },
         {
          "x1": 2.9544469974679393,
          "x2": -1.8438449070386622,
          "x3": -1.6229516735831153
         },
         {
          "x1": 3.0342139984379983,
          "x2": 2.6783304556485055,
          "x3": 0.5368932757600096
         },
         {
          "x1": -0.18714565612206036,
          "x2": 2.6783304556485055,
          "x3": 0.5368932757600096
         },
         {
          "x1": 3.0342139984379983,
          "x2": 1.2977477465513383,
          "x3": 0.5368932757600096
         },
         {
          "x1": 3.0342139984379983,
          "x2": 2.6783304556485055,
          "x3": 1.518640980006885
         },
         {
          "x1": -0.18714565612206036,
          "x2": 1.2977477465513383,
          "x3": 1.518640980006885
         },
         {
          "x1": 1.4634176716429979,
          "x2": -2.034058524736494,
          "x3": -1.0339030510349905
         },
         {
          "x1": 1.3836506706729397,
          "x2": -2.034058524736494,
          "x3": -1.0339030510349905
         },
         {
          "x1": 1.4634176716429979,
          "x2": 2.868544073346338,
          "x3": -1.0339030510349905
         },
         {
          "x1": 1.4634176716429979,
          "x2": -2.034058524736494,
          "x3": 3.0894373068018846
         },
         {
          "x1": 1.3836506706729397,
          "x2": 2.868544073346338,
          "x3": 3.0894373068018846
         },
         {
          "x1": -1.678174981947002,
          "x2": 1.1075341288535059,
          "x3": 2.10768960255501
         },
         {
          "x1": -1.7579419829170606,
          "x2": 1.1075341288535059,
          "x3": 2.10768960255501
         },
         {
          "x1": -1.678174981947002,
          "x2": -0.2730485802436622,
          "x3": 2.10768960255501
         },
         {
          "x1": -1.678174981947002,
          "x2": 1.1075341288535059,
          "x3": -0.052155346788115065
         },
         {
          "x1": -1.7579419829170606,
          "x2": -0.2730485802436622,
          "x3": -0.052155346788115065
         },
         {
          "x1": -2.0708740636457517,
          "x2": -0.855961279640244,
          "x3": -1.4266021327337404
         },
         {
          "x1": -0.5798447378208107,
          "x2": -0.855961279640244,
          "x3": -1.4266021327337404
         },
         {
          "x1": -2.0708740636457517,
          "x2": 1.6904468282500877,
          "x3": -1.4266021327337404
         },
         {
          "x1": -2.0708740636457517,
          "x2": -0.855961279640244,
          "x3": -1.2302525918843652
         },
         {
          "x1": -0.5798447378208107,
          "x2": 1.6904468282500877,
          "x3": -1.2302525918843652
         },
         {
          "x1": 1.0707185899442484,
          "x2": 2.285631373949756,
          "x3": 1.7149905208562597
         },
         {
          "x1": 2.56174791576919,
          "x2": 2.285631373949756,
          "x3": 1.7149905208562597
         },
         {
          "x1": 1.0707185899442484,
          "x2": -1.451145825339912,
          "x3": 1.7149905208562597
         },
         {
          "x1": 1.0707185899442484,
          "x2": 2.285631373949756,
          "x3": 1.9113400617056344
         },
         {
          "x1": 2.56174791576919,
          "x2": -1.451145825339912,
          "x3": 1.9113400617056344
         },
         {
          "x1": 2.641514916739248,
          "x2": -2.426757606435244,
          "x3": -2.9973984595287404
         },
         {
          "x1": -2.1506410646158107,
          "x2": -2.426757606435244,
          "x3": -2.9973984595287404
         },
         {
          "x1": 2.641514916739248,
          "x2": -3.0219421521349124,
          "x3": -2.9973984595287404
         },
         {
          "x1": 2.641514916739248,
          "x2": -2.426757606435244,
          "x3": 0.34054373491063483
         },
         {
          "x1": -2.1506410646158107,
          "x2": -3.0219421521349124,
          "x3": 0.34054373491063483
         },
         {
          "x1": -0.5000777368507521,
          "x2": 0.714835047154756,
          "x3": 0.14419419406125966
         },
         {
          "x1": 0.9909515889741893,
          "x2": 0.714835047154756,
          "x3": 0.14419419406125966
         },
         {
          "x1": -0.5000777368507521,
          "x2": 0.11965050145508771,
          "x3": 0.14419419406125966
         },
         {
          "x1": -0.5000777368507521,
          "x2": 0.714835047154756,
          "x3": -2.8010489186793652
         },
         {
          "x1": 0.9909515889741893,
          "x2": 0.11965050145508771,
          "x3": -2.8010489186793652
         },
         {
          "x1": -1.2854759002482519,
          "x2": -1.6413594430377443,
          "x3": 2.5003886842537595
         },
         {
          "x1": 0.20555342557668954,
          "x2": -1.6413594430377443,
          "x3": 2.5003886842537595
         },
         {
          "x1": -1.2854759002482519,
          "x2": 0.905048664852588,
          "x3": 2.5003886842537595
         },
         {
          "x1": -1.2854759002482519,
          "x2": -1.6413594430377443,
          "x3": -0.4448544284868654
         },
         {
          "x1": 0.20555342557668954,
          "x2": 0.905048664852588,
          "x3": -0.4448544284868654
         },
         {
          "x1": 1.8561167533417482,
          "x2": 1.5002332105522562,
          "x3": -0.6412039693362401
         },
         {
          "x1": -2.9360392280133105,
          "x2": 1.5002332105522562,
          "x3": -0.6412039693362401
         },
         {
          "x1": 1.8561167533417482,
          "x2": -2.236543988737412,
          "x3": -0.6412039693362401
         },
         {
          "x1": 1.8561167533417482,
          "x2": 1.5002332105522562,
          "x3": 2.696738225103135
         },
         {
          "x1": -2.9360392280133105,
          "x2": -2.236543988737412,
          "x3": 2.696738225103135
         },
         {
          "x1": 0.28532042654674816,
          "x2": -0.07056311624274425,
          "x3": 0.9295923574587599
         },
         {
          "x1": 1.7763497523716891,
          "x2": -0.07056311624274425,
          "x3": 0.9295923574587599
         },
         {
          "x1": 0.28532042654674816,
          "x2": -0.6657476619424121,
          "x3": 0.9295923574587599
         },
         {
          "x1": 0.28532042654674816,
          "x2": -0.07056311624274425,
          "x3": 1.1259418983081346
         },
         {
          "x1": 1.7763497523716891,
          "x2": -0.6657476619424121,
          "x3": 1.1259418983081346
         },
         {
          "x1": -2.856272227043252,
          "x2": 3.071029537347256,
          "x3": -2.21200029613124
         },
         {
          "x1": -1.3652429012183105,
          "x2": 3.071029537347256,
          "x3": -2.21200029613124
         },
         {
          "x1": -2.856272227043252,
          "x2": 2.4758449916475875,
          "x3": -2.21200029613124
         },
         {
          "x1": -2.856272227043252,
          "x2": 3.071029537347256,
          "x3": -2.0156507552818654
         },
         {
          "x1": -1.3652429012183105,
          "x2": 2.4758449916475875,
          "x3": -2.0156507552818654
         },
         {
          "x1": -2.7580974566185645,
          "x2": -1.9358837543118066,
          "x3": -0.15033011721280287
         },
         {
          "x1": -1.659767212492373,
          "x2": -1.9358837543118066,
          "x3": -0.15033011721280287
         },
         {
          "x1": -2.7580974566185645,
          "x2": -1.7456701366139746,
          "x3": -0.15033011721280287
         },
         {
          "x1": -2.7580974566185645,
          "x2": -1.9358837543118066,
          "x3": -2.8992236891040526
         },
         {
          "x1": -1.659767212492373,
          "x2": -1.7456701366139746,
          "x3": -2.8992236891040526
         },
         {
          "x1": 0.3834951969714355,
          "x2": 1.2057088992781937,
          "x3": 2.9912625363771976
         },
         {
          "x1": 1.4818254410976266,
          "x2": 1.2057088992781937,
          "x3": 2.9912625363771976
         },
         {
          "x1": 0.3834951969714355,
          "x2": 1.3959225169760252,
          "x3": 2.9912625363771976
         },
         {
          "x1": 0.3834951969714355,
          "x2": 1.2057088992781937,
          "x3": 0.24236896448594747
         },
         {
          "x1": 1.4818254410976266,
          "x2": 1.3959225169760252,
          "x3": 0.24236896448594747
         },
         {
          "x1": 1.954291523766436,
          "x2": -0.3650874275168068,
          "x3": -1.7211264440078027
         },
         {
          "x1": -0.08897088569737299,
          "x2": -0.3650874275168068,
          "x3": -1.7211264440078027
         },
         {
          "x1": 1.954291523766436,
          "x2": 2.9667188437710257,
          "x3": -1.7211264440078027
         },
         {
          "x1": 1.954291523766436,
          "x2": -0.3650874275168068,
          "x3": 1.8131652912809475
         },
         {
          "x1": -0.08897088569737299,
          "x2": 2.9667188437710257,
          "x3": 1.8131652912809475
         },
         {
          "x1": -1.1873011298235645,
          "x2": 2.7765052260731933,
          "x3": 1.4204662095821972
         },
         {
          "x1": 3.052621767892627,
          "x2": 2.7765052260731933,
          "x3": 1.4204662095821972
         },
         {
          "x1": -1.1873011298235645,
          "x2": -0.17487380981897482,
          "x3": 1.4204662095821972
         },
         {
          "x1": -1.1873011298235645,
          "x2": 2.7765052260731933,
          "x3": -1.3284273623090528
         },
         {
          "x1": 3.052621767892627,
          "x2": -0.17487380981897482,
          "x3": -1.3284273623090528
         },
         {
          "x1": -0.40190296642606427,
          "x2": -1.1504855909143066,
          "x3": 2.205864372979697
         },
         {
          "x1": 2.2672236044951273,
          "x2": -1.1504855909143066,
          "x3": 2.205864372979697
         },
         {
          "x1": -0.40190296642606427,
          "x2": -0.9602719732164746,
          "x3": 2.205864372979697
         },
         {
          "x1": -0.40190296642606427,
          "x2": -1.1504855909143066,
          "x3": -2.113825525706553
         },
         {
          "x1": 2.2672236044951273,
          "x2": -0.9602719732164746,
          "x3": -2.113825525706553
         },
         {
          "x1": 2.739689687163936,
          "x2": 1.9911070626756935,
          "x3": -0.9357282806103027
         },
         {
          "x1": -0.8743690490948732,
          "x2": 1.9911070626756935,
          "x3": -0.9357282806103027
         },
         {
          "x1": 2.739689687163936,
          "x2": 2.181320680373525,
          "x3": -0.9357282806103027
         },
         {
          "x1": 2.739689687163936,
          "x2": 1.9911070626756935,
          "x3": 1.0277671278834477
         },
         {
          "x1": -0.8743690490948732,
          "x2": 2.181320680373525,
          "x3": 1.0277671278834477
         },
         {
          "x1": 1.1688933603689353,
          "x2": -2.7212819177093066,
          "x3": 0.6350680461846974
         },
         {
          "x1": 0.6964272777001268,
          "x2": -2.7212819177093066,
          "x3": 0.6350680461846974
         },
         {
          "x1": 1.1688933603689353,
          "x2": 0.6105243535785254,
          "x3": 0.6350680461846974
         },
         {
          "x1": 1.1688933603689353,
          "x2": -2.7212819177093066,
          "x3": 2.5985634546784473
         },
         {
          "x1": 0.6964272777001268,
          "x2": 0.6105243535785254,
          "x3": 2.5985634546784473
         },
         {
          "x1": -1.9726992932210645,
          "x2": 0.42031073588069345,
          "x3": -2.5065246074053027
         },
         {
          "x1": -2.4451653758898733,
          "x2": 0.42031073588069345,
          "x3": -2.5065246074053027
         },
         {
          "x1": -1.9726992932210645,
          "x2": -2.5310683000114746,
          "x3": -2.5065246074053027
         },
         {
          "x1": -1.9726992932210645,
          "x2": 0.42031073588069345,
          "x3": -0.5430291989115528
         },
         {
          "x1": -2.4451653758898733,
          "x2": -2.5310683000114746,
          "x3": -0.5430291989115528
         },
         {
          "x1": -1.5800002115223144,
          "x2": -0.7577865092155567,
          "x3": 0.24236896448594747
         },
         {
          "x1": -1.2670681307936231,
          "x2": -0.7577865092155567,
          "x3": 0.24236896448594747
         },
         {
          "x1": -1.5800002115223144,
          "x2": 1.0032234352772758,
          "x3": 0.24236896448594747
         },
         {
          "x1": -1.5800002115223144,
          "x2": -0.7577865092155567,
          "x3": -0.9357282806103027
         },
         {
          "x1": -1.2670681307936231,
          "x2": 1.0032234352772758,
          "x3": -0.9357282806103027
         },
         {
          "x1": 1.5615924420676857,
          "x2": 2.383806144374444,
          "x3": -2.8992236891040526
         },
         {
          "x1": 1.874524522796377,
          "x2": 2.383806144374444,
          "x3": -2.8992236891040526
         },
         {
          "x1": 1.5615924420676857,
          "x2": -2.1383692183127248,
          "x3": -2.8992236891040526
         },
         {
          "x1": 1.5615924420676857,
          "x2": 2.383806144374444,
          "x3": 2.205864372979697
         },
         {
          "x1": 1.874524522796377,
          "x2": -2.1383692183127248,
          "x3": 2.205864372979697
         },
         {
          "x1": 3.1323887688626852,
          "x2": -2.3285828360105567,
          "x3": 1.8131652912809475
         },
         {
          "x1": -2.837864457588623,
          "x2": -2.3285828360105567,
          "x3": 1.8131652912809475
         },
         {
          "x1": 3.1323887688626852,
          "x2": -0.5675728915177247,
          "x3": 1.8131652912809475
         },
         {
          "x1": 3.1323887688626852,
          "x2": -2.3285828360105567,
          "x3": 0.6350680461846974
         },
         {
          "x1": -2.837864457588623,
          "x2": -0.5675728915177247,
          "x3": 0.6350680461846974
         },
         {
          "x1": -0.009203884727314371,
          "x2": 0.8130098175794434,
          "x3": -1.3284273623090528
         },
         {
          "x1": 0.3037281960013769,
          "x2": 0.8130098175794434,
          "x3": -1.3284273623090528
         },
         {
          "x1": -0.009203884727314371,
          "x2": 2.5740197620722753,
          "x3": -1.3284273623090528
         },
         {
          "x1": -0.009203884727314371,
          "x2": 0.8130098175794434,
          "x3": -2.5065246074053027
         },
         {
          "x1": 0.3037281960013769,
          "x2": 2.5740197620722753,
          "x3": -2.5065246074053027
         },
         {
          "x1": -0.7946020481248146,
          "x2": -3.1139809994080565,
          "x3": -2.113825525706553
         },
         {
          "x1": 1.0891263593988771,
          "x2": -3.1139809994080565,
          "x3": -2.113825525706553
         },
         {
          "x1": -0.7946020481248146,
          "x2": 1.7886215986747755,
          "x3": -2.113825525706553
         },
         {
          "x1": -0.7946020481248146,
          "x2": -3.1139809994080565,
          "x3": -0.15033011721280287
         },
         {
          "x1": 1.0891263593988771,
          "x2": 1.7886215986747755,
          "x3": -0.15033011721280287
         },
         {
          "x1": 2.3469906054651855,
          "x2": 0.027611654181943557,
          "x3": 1.0277671278834477
         },
         {
          "x1": -2.052466294191123,
          "x2": 0.027611654181943557,
          "x3": 1.0277671278834477
         },
         {
          "x1": 2.3469906054651855,
          "x2": -1.3529710549152247,
          "x3": 1.0277671278834477
         },
         {
          "x1": 2.3469906054651855,
          "x2": 0.027611654181943557,
          "x3": 2.9912625363771976
         },
         {
          "x1": -2.052466294191123,
          "x2": -1.3529710549152247,
          "x3": 2.9912625363771976
         },
         {
          "x1": 0.7761942786701854,
          "x2": -1.5431846726130567,
          "x3": -0.5430291989115528
         },
         {
          "x1": 2.6599226861938767,
          "x2": -1.5431846726130567,
          "x3": -0.5430291989115528
         },
         {
          "x1": 0.7761942786701854,
          "x2": -2.9237673817102245,
          "x3": -0.5430291989115528
         },
         {
          "x1": 0.7761942786701854,
          "x2": -1.5431846726130567,
          "x3": 1.4204662095821972
         },
         {
          "x1": 2.6599226861938767,
          "x2": -2.9237673817102245,
          "x3": 1.4204662095821972
         },
         {
          "x1": -2.3653983749198146,
          "x2": 1.5984079809769431,
          "x3": 2.5985634546784473
         },
         {
          "x1": -0.4816699673961229,
          "x2": 1.5984079809769431,
          "x3": 2.5985634546784473
         },
         {
          "x1": -2.3653983749198146,
          "x2": 0.21782527187977552,
          "x3": 2.5985634546784473
         },
         {
          "x1": -2.3653983749198146,
          "x2": 1.5984079809769431,
          "x3": -1.7211264440078027
         },
         {
          "x1": -0.4816699673961229,
          "x2": 0.21782527187977552,
          "x3": -1.7211264440078027
         },
         {
          "x1": -2.5617479157691894,
          "x2": -1.3468351317636817,
          "x3": -3.0955732299534278
         },
         {
          "x1": 0.5000777368507521,
          "x2": -1.3468351317636817,
          "x3": -3.0955732299534278
         },
         {
          "x1": -2.5617479157691894,
          "x2": -0.37122335066834955,
          "x3": -3.0955732299534278
         },
         {
          "x1": -2.5617479157691894,
          "x2": -1.3468351317636817,
          "x3": 2.794912995527822
         },
         {
          "x1": 0.5000777368507521,
          "x2": -0.37122335066834955,
          "x3": 2.794912995527822
         },
         {
          "x1": 0.5798447378208107,
          "x2": 1.7947575218263188,
          "x3": 0.0460194236365723
         },
         {
          "x1": -2.641514916739248,
          "x2": 1.7947575218263188,
          "x3": 0.0460194236365723
         },
         {
          "x1": 0.5798447378208107,
          "x2": 2.77036930292165,
          "x3": 0.0460194236365723
         },
         {
          "x1": 0.5798447378208107,
          "x2": 1.7947575218263188,
          "x3": -0.3466796580621776
         },
         {
          "x1": -2.641514916739248,
          "x2": 2.77036930292165,
          "x3": -0.3466796580621776
         },
         {
          "x1": 2.1506410646158107,
          "x2": -2.917631458558682,
          "x3": -1.5247769031584277
         },
         {
          "x1": 2.0708740636457517,
          "x2": -2.917631458558682,
          "x3": -1.5247769031584277
         },
         {
          "x1": 2.1506410646158107,
          "x2": 1.1995729761266505,
          "x3": -1.5247769031584277
         },
         {
          "x1": 2.1506410646158107,
          "x2": -2.917631458558682,
          "x3": -1.9174759848571779
         },
         {
          "x1": 2.0708740636457517,
          "x2": 1.1995729761266505,
          "x3": -1.9174759848571779
         },
         {
          "x1": -0.9909515889741893,
          "x2": 0.22396119503131828,
          "x3": 1.6168157504315719
         },
         {
          "x1": -1.070718589944248,
          "x2": 0.22396119503131828,
          "x3": 1.6168157504315719
         },
         {
          "x1": -0.9909515889741893,
          "x2": -1.9420196774633496,
          "x3": 1.6168157504315719
         },
         {
          "x1": -0.9909515889741893,
          "x2": 0.22396119503131828,
          "x3": 1.2241166687328224
         },
         {
          "x1": -1.070718589944248,
          "x2": -1.9420196774633496,
          "x3": 1.2241166687328224
         },
         {
          "x1": -0.20555342557668954,
          "x2": -2.132233295161182,
          "x3": 0.8314175870340721
         },
         {
          "x1": -0.28532042654674816,
          "x2": -2.132233295161182,
          "x3": 0.8314175870340721
         },
         {
          "x1": -0.20555342557668954,
          "x2": -2.72741784086085,
          "x3": 0.8314175870340721
         },
         {
          "x1": -0.20555342557668954,
          "x2": -2.132233295161182,
          "x3": 2.0095148321303222
         },
         {
          "x1": -0.28532042654674816,
          "x2": -2.72741784086085,
          "x3": 2.0095148321303222
         },
         {
          "x1": 2.9360392280133105,
          "x2": 1.009359358428818,
          "x3": -2.310175066555928
         },
         {
          "x1": 2.8562722270432523,
          "x2": 1.009359358428818,
          "x3": -2.310175066555928
         },
         {
          "x1": 2.9360392280133105,
          "x2": 0.41417481272915024,
          "x3": -2.310175066555928
         },
         {
          "x1": 2.9360392280133105,
          "x2": 1.009359358428818,
          "x3": -1.1320778214596778
         },
         {
          "x1": 2.8562722270432523,
          "x2": 0.41417481272915024,
          "x3": -1.1320778214596778
         },
         {
          "x1": 1.365242901218311,
          "x2": -0.5614369683661815,
          "x3": 2.4022139138290726
         },
         {
          "x1": -1.8561167533417482,
          "x2": -0.5614369683661815,
          "x3": 2.4022139138290726
         },
         {
          "x1": 1.365242901218311,
          "x2": 1.9849711395241503,
          "x3": 2.4022139138290726
         },
         {
          "x1": 1.365242901218311,
          "x2": -0.5614369683661815,
          "x3": -2.702874148254678
         },
         {
          "x1": -1.8561167533417482,
          "x2": 1.9849711395241503,
          "x3": -2.702874148254678
         },
         {
          "x1": -1.7763497523716896,
          "x2": 2.5801556852238186,
          "x3": -0.7393787397609279
         },
         {
          "x1": 1.2854759002482519,
          "x2": 2.5801556852238186,
          "x3": -0.7393787397609279
         },
         {
          "x1": -1.7763497523716896,
          "x2": -1.1566215140658496,
          "x3": -0.7393787397609279
         },
         {
          "x1": -1.7763497523716896,
          "x2": 2.5801556852238186,
          "x3": 0.4387185053353222
         },
         {
          "x1": 1.2854759002482519,
          "x2": -1.1566215140658496,
          "x3": 0.4387185053353222
         },
         {
          "x1": -2.1690488340704395,
          "x2": -2.5249323768599314,
          "x3": 2.794912995527822
         },
         {
          "x1": 2.463573145344502,
          "x2": -2.5249323768599314,
          "x3": 2.794912995527822
         },
         {
          "x1": -2.1690488340704395,
          "x2": 2.3776702212229006,
          "x3": 2.794912995527822
         },
         {
          "x1": -2.1690488340704395,
          "x2": -2.5249323768599314,
          "x3": 0.8314175870340721
         },
         {
          "x1": 2.463573145344502,
          "x2": 2.3776702212229006,
          "x3": 0.8314175870340721
         },
         {
          "x1": 0.9725438195195606,
          "x2": 0.6166602767300682,
          "x3": -0.3466796580621776
         },
         {
          "x1": -0.6780195082454981,
          "x2": 0.6166602767300682,
          "x3": -0.3466796580621776
         },
         {
          "x1": 0.9725438195195606,
          "x2": -0.7639224323670994,
          "x3": -0.3466796580621776
         },
         {
          "x1": 0.9725438195195606,
          "x2": 0.6166602767300682,
          "x3": -2.310175066555928
         },
         {
          "x1": -0.6780195082454981,
          "x2": -0.7639224323670994,
          "x3": -2.310175066555928
         },
         {
          "x1": 2.54334014631456,
          "x2": -0.9541360500649319,
          "x3": 1.2241166687328224
         },
         {
          "x1": 0.8927768185495015,
          "x2": -0.9541360500649319,
          "x3": 1.2241166687328224
         },
         {
          "x1": 2.54334014631456,
          "x2": -2.3347187591621,
          "x3": 1.2241166687328224
         },
         {
          "x1": 2.54334014631456,
          "x2": -0.9541360500649319,
          "x3": -0.7393787397609279
         },
         {
          "x1": 0.8927768185495015,
          "x2": -2.3347187591621,
          "x3": -0.7393787397609279
         },
         {
          "x1": -0.5982525072754394,
          "x2": 2.187456603525068,
          "x3": -1.9174759848571779
         },
         {
          "x1": -2.248815835040498,
          "x2": 2.187456603525068,
          "x3": -1.9174759848571779
         },
         {
          "x1": -0.5982525072754394,
          "x2": 0.8068738944279006,
          "x3": -1.9174759848571779
         },
         {
          "x1": -0.5982525072754394,
          "x2": 2.187456603525068,
          "x3": 2.4022139138290726
         },
         {
          "x1": -2.248815835040498,
          "x2": 0.8068738944279006,
          "x3": 2.4022139138290726
         },
         {
          "x1": -1.3836506706729395,
          "x2": -0.1687378866674316,
          "x3": -1.1320778214596778
         },
         {
          "x1": -3.0342139984379983,
          "x2": -0.1687378866674316,
          "x3": -1.1320778214596778
         },
         {
          "x1": -1.3836506706729395,
          "x2": 0.021475731030400347,
          "x3": -1.1320778214596778
         },
         {
          "x1": -1.3836506706729395,
          "x2": -0.1687378866674316,
          "x3": 0.0460194236365723
         },
         {
          "x1": -3.0342139984379983,
          "x2": 0.021475731030400347,
          "x3": 0.0460194236365723
         },
         {
          "x1": 1.7579419829170604,
          "x2": 2.972854766922568,
          "x3": 2.0095148321303222
         },
         {
          "x1": 0.10737865515200173,
          "x2": 2.972854766922568,
          "x3": 2.0095148321303222
         },
         {
          "x1": 1.7579419829170604,
          "x2": -3.1201169225595997,
          "x3": 2.0095148321303222
         },
         {
          "x1": 1.7579419829170604,
          "x2": 2.972854766922568,
          "x3": -3.0955732299534278
         },
         {
          "x1": 0.10737865515200173,
          "x2": -3.1201169225595997,
          "x3": -3.0955732299534278
         },
         {
          "x1": 0.18714565612206036,
          "x2": -1.7395342134624316,
          "x3": -2.702874148254678
         },
         {
          "x1": -1.463417671642998,
          "x2": -1.7395342134624316,
          "x3": -2.702874148254678
         },
         {
          "x1": 0.18714565612206036,
          "x2": -1.5493205957645997,
          "x3": -2.702874148254678
         },
         {
          "x1": 0.18714565612206036,
          "x2": -1.7395342134624316,
          "x3": -1.5247769031584277
         },
         {
          "x1": -1.463417671642998,
          "x2": -1.5493205957645997,
          "x3": -1.5247769031584277
         },
         {
          "x1": -2.9544469974679397,
          "x2": 1.4020584401275684,
          "x3": 0.4387185053353222
         },
         {
          "x1": 1.6781749819470022,
          "x2": 1.4020584401275684,
          "x3": 0.4387185053353222
         },
         {
          "x1": -2.9544469974679397,
          "x2": 1.5922720578254008,
          "x3": 0.4387185053353222
         },
         {
          "x1": -2.9544469974679397,
          "x2": 1.4020584401275684,
          "x3": 1.6168157504315719
         },
         {
          "x1": 1.6781749819470022,
          "x2": 1.5922720578254008,
          "x3": 1.6168157504315719
         },
         {
          "x1": -3.003534382680283,
          "x2": -2.672194532496963,
          "x3": -2.3592624517682714
         },
         {
          "x1": -0.6289321230331542,
          "x2": -2.672194532496963,
          "x3": -2.3592624517682714
         },
         {
          "x1": -3.003534382680283,
          "x2": 1.445009902188369,
          "x3": -2.3592624517682714
         },
         {
          "x1": -3.003534382680283,
          "x2": -2.672194532496963,
          "x3": 0.5859806609723535
         },
         {
          "x1": -0.6289321230331542,
          "x2": 1.445009902188369,
          "x3": 0.5859806609723535
         },
         {
          "x1": 0.1380582709097169,
          "x2": 0.4693981210930369,
          "x3": 0.7823302018217286
         },
         {
          "x1": 2.512660530556846,
          "x2": 0.4693981210930369,
          "x3": 0.7823302018217286
         },
         {
          "x1": 0.1380582709097169,
          "x2": -1.696582751401631,
          "x3": 0.7823302018217286
         },
         {
          "x1": 0.1380582709097169,
          "x2": 0.4693981210930369,
          "x3": -2.5556119926176466
         },
         {
          "x1": 2.512660530556846,
          "x2": -1.696582751401631,
          "x3": -2.5556119926176466
         },
         {
          "x1": 1.7088545977047165,
          "x2": -1.1013982057019631,
          "x3": -0.7884661249732714
         },
         {
          "x1": -2.199728449828154,
          "x2": -1.1013982057019631,
          "x3": -0.7884661249732714
         },
         {
          "x1": 1.7088545977047165,
          "x2": -0.12578642460663092,
          "x3": -0.7884661249732714
         },
         {
          "x1": 1.7088545977047165,
          "x2": -1.1013982057019631,
          "x3": -0.9848156658226466
         },
         {
          "x1": -2.199728449828154,
          "x2": -0.12578642460663092,
          "x3": -0.9848156658226466
         },
         {
          "x1": -1.4327380558852831,
          "x2": 2.0401944478880374,
          "x3": 2.3531265286167287
         },
         {
          "x1": 0.9418642037618454,
          "x2": 2.0401944478880374,
          "x3": 2.3531265286167287
         },
         {
          "x1": -1.4327380558852831,
          "x2": 3.0158062289833696,
          "x3": 2.3531265286167287
         },
         {
          "x1": -1.4327380558852831,
          "x2": 2.0401944478880374,
          "x3": 2.156776987767354
         },
         {
          "x1": 0.9418642037618454,
          "x2": 3.0158062289833696,
          "x3": 2.156776987767354
         },
         {
          "x1": -0.6473398924877833,
          "x2": -0.3160000423044629,
          "x3": 1.5677283652192289
         },
         {
          "x1": 0.15646604036434564,
          "x2": -0.3160000423044629,
          "x3": 1.5677283652192289
         },
         {
          "x1": -0.6473398924877833,
          "x2": 2.230408065585869,
          "x3": 1.5677283652192289
         },
         {
          "x1": -0.6473398924877833,
          "x2": -0.3160000423044629,
          "x3": 1.3713788243698533
         },
         {
          "x1": 0.15646604036434564,
          "x2": 2.230408065585869,
          "x3": 1.3713788243698533
         },
         {
          "x1": 2.494252761102217,
          "x2": 2.825592611285537,
          "x3": -1.5738642883707714
         },
         {
          "x1": -2.9851266132256544,
          "x2": 2.825592611285537,
          "x3": -1.5738642883707714
         },
         {
          "x1": 2.494252761102217,
          "x2": -0.9111845880041307,
          "x3": -1.5738642883707714
         },
         {
          "x1": 2.494252761102217,
          "x2": 2.825592611285537,
          "x3": -1.7702138292201466
         },
         {
          "x1": -2.9851266132256544,
          "x2": -0.9111845880041307,
          "x3": -1.7702138292201466
         },
         {
          "x1": 0.9234564343072167,
          "x2": -1.886796369099463,
          "x3": 3.1385246920142285
         },
         {
          "x1": 1.7272623671593461,
          "x2": -1.886796369099463,
          "x3": 3.1385246920142285
         },
         {
          "x1": 0.9234564343072167,
          "x2": -2.4819809147991307,
          "x3": 3.1385246920142285
         },
         {
          "x1": 0.9234564343072167,
          "x2": -1.886796369099463,
          "x3": -0.19941750242514633
         },
         {
          "x1": 1.7272623671593461,
          "x2": -2.4819809147991307,
          "x3": -0.19941750242514633
         },
         {
          "x1": -2.2181362192827834,
          "x2": 1.2547962844905367,
          "x3": -0.003067961575771605
         },
         {
          "x1": -1.4143302864306544,
          "x2": 1.2547962844905367,
          "x3": -0.003067961575771605
         },
         {
          "x1": -2.2181362192827834,
          "x2": 0.6596117387908693,
          "x3": -0.003067961575771605
         },
         {
          "x1": -2.2181362192827834,
          "x2": 1.2547962844905367,
          "x3": 2.9421751511648537
         },
         {
          "x1": -1.4143302864306544,
          "x2": 0.6596117387908693,
          "x3": 2.9421751511648537
         },
         {
          "x1": -1.8254371375840333,
          "x2": -1.494097287400713,
          "x3": 2.745825610315479
         },
         {
          "x1": -2.592427531526904,
          "x2": -1.494097287400713,
          "x3": 2.745825610315479
         },
         {
          "x1": -1.8254371375840333,
          "x2": -2.089281833100381,
          "x3": 2.745825610315479
         },
         {
          "x1": -1.8254371375840333,
          "x2": -1.494097287400713,
          "x3": 1.7640779060686036
         },
         {
          "x1": -2.592427531526904,
          "x2": -2.089281833100381,
          "x3": 1.7640779060686036
         },
         {
          "x1": 1.316155516005967,
          "x2": 1.647495366189287,
          "x3": -0.3957670432745215
         },
         {
          "x1": 0.5491651220630955,
          "x2": 1.647495366189287,
          "x3": -0.3957670432745215
         },
         {
          "x1": 1.316155516005967,
          "x2": 1.0523108204896188,
          "x3": -0.3957670432745215
         },
         {
          "x1": 1.316155516005967,
          "x2": 1.647495366189287,
          "x3": -1.3775147475213965
         },
         {
          "x1": 0.5491651220630955,
          "x2": 1.0523108204896188,
          "x3": -1.3775147475213965
         },
         {
          "x1": 2.8869518428009666,
          "x2": -3.064893614195713,
          "x3": 1.1750292835204785
         },
         {
          "x1": -1.0216312047319045,
          "x2": -3.064893614195713,
          "x3": 1.1750292835204785
         },
         {
          "x1": 2.8869518428009666,
          "x2": 2.6231071472846192,
          "x3": 1.1750292835204785
         },
         {
          "x1": 2.8869518428009666,
          "x2": -3.064893614195713,
          "x3": -2.9483110743163965
         },
         {
          "x1": -1.0216312047319045,
          "x2": 2.6231071472846192,
          "x3": -2.9483110743163965
         },
         {
          "x1": -0.254640810789033,
          "x2": 0.07669903939428702,
          "x3": -1.9665633700695215
         },
         {
          "x1": 2.1199614488580956,
          "x2": 0.07669903939428702,
          "x3": -1.9665633700695215
         },
         {
          "x1": -0.254640810789033,
          "x2": -0.5184855063053808,
          "x3": -1.9665633700695215
         },
         {
          "x1": -0.254640810789033,
          "x2": 0.07669903939428702,
          "x3": 0.19328157927360357
         },
         {
          "x1": 2.1199614488580956,
          "x2": -0.5184855063053808,
          "x3": 0.19328157927360357
         },
         {
          "x1": -1.0400389741865332,
          "x2": -2.279495450798213,
          "x3": -1.1811652066720215
         },
         {
          "x1": 2.9053596122555954,
          "x2": -2.279495450798213,
          "x3": -1.1811652066720215
         },
         {
          "x1": -1.0400389741865332,
          "x2": -1.3038836697028808,
          "x3": -1.1811652066720215
         },
         {
          "x1": -1.0400389741865332,
          "x2": -2.279495450798213,
          "x3": 2.5494760694661034
         },
         {
          "x1": 2.9053596122555954,
          "x2": -1.3038836697028808,
          "x3": 2.5494760694661034
         },
         {
          "x1": 2.101553679403467,
          "x2": 0.8620972027917873,
          "x3": 1.9604274469179783
         },
         {
          "x1": -0.23623304133440426,
          "x2": 0.8620972027917873,
          "x3": 1.9604274469179783
         },
         {
          "x1": 2.101553679403467,
          "x2": 1.8377089838871195,
          "x3": 1.9604274469179783
         },
         {
          "x1": 2.101553679403467,
          "x2": 0.8620972027917873,
          "x3": -0.5921165841238967
         },
         {
          "x1": -0.23623304133440426,
          "x2": 1.8377089838871195,
          "x3": -0.5921165841238967
         },
         {
          "x1": 0.5307573526084668,
          "x2": -0.7086991240032128,
          "x3": -2.7519615334670213
         },
         {
          "x1": 1.3345632854605958,
          "x2": -0.7086991240032128,
          "x3": -2.7519615334670213
         },
         {
          "x1": 0.5307573526084668,
          "x2": 0.266912657092119,
          "x3": -2.7519615334670213
         },
         {
          "x1": 0.5307573526084668,
          "x2": -0.7086991240032128,
          "x3": -2.1629129109188963
         },
         {
          "x1": 1.3345632854605958,
          "x2": 0.266912657092119,
          "x3": -2.1629129109188963
         },
         {
          "x1": -2.6108353009815333,
          "x2": 2.432893529586787,
          "x3": 0.38963112012297874
         },
         {
          "x1": -1.8070293681294043,
          "x2": 2.432893529586787,
          "x3": 0.38963112012297874
         },
         {
          "x1": -2.6108353009815333,
          "x2": -2.874679996497881,
          "x3": 0.38963112012297874
         },
         {
          "x1": -2.6108353009815333,
          "x2": 2.432893529586787,
          "x3": 0.9786797426711038
         },
         {
          "x1": -1.8070293681294043,
          "x2": -2.874679996497881,
          "x3": 0.9786797426711038
         },
         {
          "x1": -2.414485760132158,
          "x2": -0.512349583153838,
          "x3": -0.5921165841238967
         },
         {
          "x1": 1.9236119080087208,
          "x2": -0.512349583153838,
          "x3": -0.5921165841238967
         },
         {
          "x1": -2.414485760132158,
          "x2": 2.819456688133994,
          "x3": -0.5921165841238967
         },
         {
          "x1": -2.414485760132158,
          "x2": -0.512349583153838,
          "x3": -0.3957670432745215
         },
         {
          "x1": 1.9236119080087208,
          "x2": 2.819456688133994,
          "x3": -0.3957670432745215
         },
         {
          "x1": 0.727106893457842,
          "x2": 2.6292430704361625,
          "x3": 2.5494760694661034
         },
         {
          "x1": -1.2179807455812792,
          "x2": 2.6292430704361625,
          "x3": 2.5494760694661034
         },
         {
          "x1": 0.727106893457842,
          "x2": -0.32213596545600565,
          "x3": 2.5494760694661034
         },
         {
          "x1": 0.727106893457842,
          "x2": 2.6292430704361625,
          "x3": 2.745825610315479
         },
         {
          "x1": -1.2179807455812792,
          "x2": -0.32213596545600565,
          "x3": 2.745825610315479
         },
         {
          "x1": 2.2979032202528415,
          "x2": -2.083145909948838,
          "x3": -2.1629129109188963
         },
         {
          "x1": 0.3528155812137208,
          "x2": -2.083145909948838,
          "x3": -2.1629129109188963
         },
         {
          "x1": 2.2979032202528415,
          "x2": -1.892932292251006,
          "x3": -2.1629129109188963
         },
         {
          "x1": 2.2979032202528415,
          "x2": -2.083145909948838,
          "x3": 1.1750292835204785
         },
         {
          "x1": 0.3528155812137208,
          "x2": -1.892932292251006,
          "x3": 1.1750292835204785
         },
         {
          "x1": -0.8436894333371581,
          "x2": 1.058446743641162,
          "x3": 0.9786797426711038
         },
         {
          "x1": -2.7887770723762793,
          "x2": 1.058446743641162,
          "x3": 0.9786797426711038
         },
         {
          "x1": -0.8436894333371581,
          "x2": 1.2486603613389944,
          "x3": 0.9786797426711038
         },
         {
          "x1": -0.8436894333371581,
          "x2": 1.058446743641162,
          "x3": -1.9665633700695215
         },
         {
          "x1": -2.7887770723762793,
          "x2": 1.2486603613389944,
          "x3": -1.9665633700695215
         },
         {
          "x1": -0.058291269939658275,
          "x2": -2.868544073346338,
          "x3": 1.7640779060686036
         },
         {
          "x1": -2.003378908978779,
          "x2": -2.868544073346338,
          "x3": 1.7640779060686036
         },
         {
          "x1": -0.058291269939658275,
          "x2": 0.46326219794149415,
          "x3": 1.7640779060686036
         },
         {
          "x1": -0.058291269939658275,
          "x2": -2.868544073346338,
          "x3": -1.1811652066720215
         },
         {
          "x1": -2.003378908978779,
          "x2": 0.46326219794149415,
          "x3": -1.1811652066720215
         },
         {
          "x1": 3.0833013836503422,
          "x2": 0.2730485802436622,
          "x3": -1.3775147475213965
         },
         {
          "x1": 1.138213744611221,
          "x2": 0.2730485802436622,
          "x3": -1.3775147475213965
         },
         {
          "x1": 3.0833013836503422,
          "x2": -2.678330455648506,
          "x3": -1.3775147475213965
         },
         {
          "x1": 3.0833013836503422,
          "x2": 0.2730485802436622,
          "x3": 1.9604274469179783
         },
         {
          "x1": 1.138213744611221,
          "x2": -2.678330455648506,
          "x3": 1.9604274469179783
         },
         {
          "x1": 1.5125050568553418,
          "x2": -1.2977477465513378,
          "x3": 0.19328157927360357
         },
         {
          "x1": -0.43258258218377943,
          "x2": -1.2977477465513378,
          "x3": 0.19328157927360357
         },
         {
          "x1": 1.5125050568553418,
          "x2": -1.1075341288535059,
          "x3": 0.19328157927360357
         },
         {
          "x1": 1.5125050568553418,
          "x2": -1.2977477465513378,
          "x3": 0.38963112012297874
         },
         {
          "x1": -0.43258258218377943,
          "x2": -1.1075341288535059,
          "x3": 0.38963112012297874
         },
         {
          "x1": -1.6290875967346583,
          "x2": 1.8438449070386618,
          "x3": -2.9483110743163965
         },
         {
          "x1": 2.7090100714062206,
          "x2": 1.8438449070386618,
          "x3": -2.9483110743163965
         },
         {
          "x1": -1.6290875967346583,
          "x2": 2.034058524736494,
          "x3": -2.9483110743163965
         },
         {
          "x1": -1.6290875967346583,
          "x2": 1.8438449070386618,
          "x3": -2.7519615334670213
         },
         {
          "x1": 2.7090100714062206,
          "x2": 2.034058524736494,
          "x3": -2.7519615334670213
         },
         {
          "x1": -2.021786678433408,
          "x2": -1.690446828250088,
          "x3": 0.5859806609723535
         },
         {
          "x1": 1.5309128263099705,
          "x2": -1.690446828250088,
          "x3": 0.5859806609723535
         },
         {
          "x1": -2.021786678433408,
          "x2": -0.714835047154756,
          "x3": 0.5859806609723535
         },
         {
          "x1": -2.021786678433408,
          "x2": -1.690446828250088,
          "x3": -1.5738642883707714
         },
         {
          "x1": 1.5309128263099705,
          "x2": -0.714835047154756,
          "x3": -1.5738642883707714
         },
         {
          "x1": 1.1198059751565914,
          "x2": 1.4511458253399123,
          "x3": -2.5556119926176466
         },
         {
          "x1": -1.6106798272800293,
          "x2": 1.4511458253399123,
          "x3": -2.5556119926176466
         },
         {
          "x1": 1.1198059751565914,
          "x2": 2.4267576064352445,
          "x3": -2.5556119926176466
         },
         {
          "x1": 1.1198059751565914,
          "x2": 1.4511458253399123,
          "x3": 1.5677283652192289
         },
         {
          "x1": -1.6106798272800293,
          "x2": 2.4267576064352445,
          "x3": 1.5677283652192289
         },
         {
          "x1": 2.690602301951592,
          "x2": -0.11965050145508771,
          "x3": 2.156776987767354
         },
         {
          "x1": 3.101709153104971,
          "x2": -0.11965050145508771,
          "x3": 2.156776987767354
         },
         {
          "x1": 2.690602301951592,
          "x2": 0.855961279640244,
          "x3": 2.156776987767354
         },
         {
          "x1": 2.690602301951592,
          "x2": -0.11965050145508771,
          "x3": 3.1385246920142285
         },
         {
          "x1": 3.101709153104971,
          "x2": 0.855961279640244,
          "x3": 3.1385246920142285
         },
         {
          "x1": -0.45099035163840817,
          "x2": 3.021942152134912,
          "x3": -0.9848156658226466
         },
         {
          "x1": -0.03988350048502909,
          "x2": 3.021942152134912,
          "x3": -0.9848156658226466
         },
         {
          "x1": -0.45099035163840817,
          "x2": -2.285631373949756,
          "x3": -0.9848156658226466
         },
         {
          "x1": -0.45099035163840817,
          "x2": 3.021942152134912,
          "x3": -0.003067961575771605
         },
         {
          "x1": -0.03988350048502909,
          "x2": -2.285631373949756,
          "x3": -0.003067961575771605
         },
         {
          "x1": -1.2363885150359082,
          "x2": -0.905048664852588,
          "x3": -1.7702138292201466
         },
         {
          "x1": -0.8252816638825293,
          "x2": -0.905048664852588,
          "x3": -1.7702138292201466
         },
         {
          "x1": -1.2363885150359082,
          "x2": -3.071029537347256,
          "x3": -1.7702138292201466
         },
         {
          "x1": -1.2363885150359082,
          "x2": -0.905048664852588,
          "x3": -2.3592624517682714
         },
         {
          "x1": -0.8252816638825293,
          "x2": -3.071029537347256,
          "x3": -2.3592624517682714
         },
         {
          "x1": 1.905204138554092,
          "x2": 2.236543988737412,
          "x3": 1.3713788243698533
         },
         {
          "x1": 2.316310989707471,
          "x2": 2.236543988737412,
          "x3": 1.3713788243698533
         },
         {
          "x1": 1.905204138554092,
          "x2": 0.07056311624274425,
          "x3": 1.3713788243698533
         },
         {
          "x1": 1.905204138554092,
          "x2": 2.236543988737412,
          "x3": 0.7823302018217286
         },
         {
          "x1": 2.316310989707471,
          "x2": 0.07056311624274425,
          "x3": 0.7823302018217286
         },
         {
          "x1": 0.3344078117590916,
          "x2": -2.475844991647588,
          "x3": -0.19941750242514633
         },
         {
          "x1": -2.3960779906775294,
          "x2": -2.475844991647588,
          "x3": -0.19941750242514633
         },
         {
          "x1": 0.3344078117590916,
          "x2": 1.6413594430377438,
          "x3": -0.19941750242514633
         },
         {
          "x1": 0.3344078117590916,
          "x2": -2.475844991647588,
          "x3": 2.3531265286167287
         },
         {
          "x1": -2.3960779906775294,
          "x2": 1.6413594430377438,
          "x3": 2.3531265286167287
         },
         {
          "x1": -2.8071848418309084,
          "x2": 0.6657476619424121,
          "x3": 2.9421751511648537
         },
         {
          "x1": 0.7455146629124707,
          "x2": 0.6657476619424121,
          "x3": 2.9421751511648537
         },
         {
          "x1": -2.8071848418309084,
          "x2": -1.5002332105522558,
          "x3": 2.9421751511648537
         },
         {
          "x1": -2.8071848418309084,
          "x2": 0.6657476619424121,
          "x3": -0.7884661249732714
         },
         {
          "x1": 0.7455146629124707,
          "x2": -1.5002332105522558,
          "x3": -0.7884661249732714
         },
         {
          "x1": -2.905359612255596,
          "x2": -1.0032234352772753,
          "x3": 1.0768545130957907
         },
         {
          "x1": 2.610835300981533,
          "x2": -1.0032234352772753,
          "x3": 1.0768545130957907
         },
         {
          "x1": -2.905359612255596,
          "x2": 0.7577865092155567,
          "x3": 1.0768545130957907
         },
         {
          "x1": -2.905359612255596,
          "x2": -1.0032234352772753,
          "x3": -0.10124273200045897
         },
         {
          "x1": 2.610835300981533,
          "x2": 0.7577865092155567,
          "x3": -0.10124273200045897
         },
         {
          "x1": 0.23623304133440426,
          "x2": 2.1383692183127243,
          "x3": -2.0647381404942093
         },
         {
          "x1": -0.5307573526084668,
          "x2": 2.1383692183127243,
          "x3": -2.0647381404942093
         },
         {
          "x1": 0.23623304133440426,
          "x2": -2.3838061443744434,
          "x3": -2.0647381404942093
         },
         {
          "x1": 0.23623304133440426,
          "x2": 2.1383692183127243,
          "x3": 3.0403499215895406
         },
         {
          "x1": -0.5307573526084668,
          "x2": -2.3838061443744434,
          "x3": 3.0403499215895406
         },
         {
          "x1": 1.8070293681294043,
          "x2": -2.5740197620722753,
          "x3": 2.647650839890791
         },
         {
          "x1": 1.0400389741865332,
          "x2": -2.5740197620722753,
          "x3": 2.647650839890791
         },
         {
          "x1": 1.8070293681294043,
          "x2": -0.8130098175794434,
          "x3": 2.647650839890791
         },
         {
          "x1": 1.8070293681294043,
          "x2": -2.5740197620722753,
          "x3": 1.469553594794541
         },
         {
          "x1": 1.0400389741865332,
          "x2": -0.8130098175794434,
          "x3": 1.469553594794541
         },
         {
          "x1": -1.3345632854605958,
          "x2": 0.5675728915177247,
          "x3": -0.49394181369920886
         },
         {
          "x1": -2.101553679403467,
          "x2": 0.5675728915177247,
          "x3": -0.49394181369920886
         },
         {
          "x1": -1.3345632854605958,
          "x2": 2.3285828360105567,
          "x3": -0.49394181369920886
         },
         {
          "x1": -1.3345632854605958,
          "x2": 0.5675728915177247,
          "x3": -1.672039058795459
         },
         {
          "x1": -2.101553679403467,
          "x2": 2.3285828360105567,
          "x3": -1.672039058795459
         },
         {
          "x1": -0.5491651220630955,
          "x2": -1.7886215986747753,
          "x3": -2.850136303891709
         },
         {
          "x1": -2.8869518428009666,
          "x2": -1.7886215986747753,
          "x3": -2.850136303891709
         },
         {
          "x1": -0.5491651220630955,
          "x2": 3.1139809994080565,
          "x3": -2.850136303891709
         },
         {
          "x1": -0.5491651220630955,
          "x2": -1.7886215986747753,
          "x3": -0.8866408953979592
         },
         {
          "x1": -2.8869518428009666,
          "x2": 3.1139809994080565,
          "x3": -0.8866408953979592
         },
         {
          "x1": 2.592427531526904,
          "x2": 1.3529710549152245,
          "x3": 0.29145634969829093
         },
         {
          "x1": 0.254640810789033,
          "x2": 1.3529710549152245,
          "x3": 0.29145634969829093
         },
         {
          "x1": 2.592427531526904,
          "x2": -0.027611654181943557,
          "x3": 0.29145634969829093
         },
         {
          "x1": 2.592427531526904,
          "x2": 1.3529710549152245,
          "x3": 2.254951758192041
         },
         {
          "x1": 0.254640810789033,
          "x2": -0.027611654181943557,
          "x3": 2.254951758192041
         },
         {
          "x1": 1.0216312047319045,
          "x2": -0.21782527187977552,
          "x3": -1.279339977096709
         },
         {
          "x1": -1.3161555160059668,
          "x2": -0.21782527187977552,
          "x3": -1.279339977096709
         },
         {
          "x1": 1.0216312047319045,
          "x2": -1.5984079809769434,
          "x3": -1.279339977096709
         },
         {
          "x1": 1.0216312047319045,
          "x2": -0.21782527187977552,
          "x3": 0.6841554313970408
         },
         {
          "x1": -1.3161555160059668,
          "x2": -1.5984079809769434,
          "x3": 0.6841554313970408
         },
         {
          "x1": -2.1199614488580956,
          "x2": 2.923767381710225,
          "x3": 1.8622526764932914
         },
         {
          "x1": 1.825437137584033,
          "x2": 2.923767381710225,
          "x3": 1.8622526764932914
         },
         {
          "x1": -2.1199614488580956,
          "x2": 1.543184672613057,
          "x3": 1.8622526764932914
         },
         {
          "x1": -2.1199614488580956,
          "x2": 2.923767381710225,
          "x3": -2.457437222192959
         },
         {
          "x1": 1.825437137584033,
          "x2": 1.543184672613057,
          "x3": -2.457437222192959
         },
         {
          "x1": -1.7272623671593457,
          "x2": -2.9667188437710257,
          "x3": -0.8866408953979592
         },
         {
          "x1": 0.6473398924877833,
          "x2": -2.9667188437710257,
          "x3": -0.8866408953979592
         },
         {
          "x1": -1.7272623671593457,
          "x2": -2.7765052260731933,
          "x3": -0.8866408953979592
         },
         {
          "x1": -1.7272623671593457,
          "x2": -2.9667188437710257,
          "x3": -2.0647381404942093
         },
         {
          "x1": 0.6473398924877833,
          "x2": -2.7765052260731933,
          "x3": -2.0647381404942093
         },
         {
          "x1": 1.414330286430654,
          "x2": 0.17487380981897482,
          "x3": 2.254951758192041
         },
         {
          "x1": -2.4942527611022167,
          "x2": 0.17487380981897482,
          "x3": 2.254951758192041
         },
         {
          "x1": 1.414330286430654,
          "x2": 0.3650874275168068,
          "x3": 2.254951758192041
         },
         {
          "x1": 1.414330286430654,
          "x2": 0.17487380981897482,
          "x3": 1.0768545130957907
         },
         {
          "x1": -2.4942527611022167,
          "x2": 0.3650874275168068,
          "x3": 1.0768545130957907
         },
         {
          "x1": 2.9851266132256544,
          "x2": -1.3959225169760254,
          "x3": -2.457437222192959
         },
         {
          "x1": 2.2181362192827834,
          "x2": -1.3959225169760254,
          "x3": -2.457437222192959
         },
         {
          "x1": 2.9851266132256544,
          "x2": 1.9358837543118064,
          "x3": -2.457437222192959
         },
         {
          "x1": 2.9851266132256544,
          "x2": -1.3959225169760254,
          "x3": 2.647650839890791
         },
         {
          "x1": 2.2181362192827834,
          "x2": 1.9358837543118064,
          "x3": 2.647650839890791
         },
         {
          "x1": -0.15646604036434564,
          "x2": 1.7456701366139749,
          "x3": 0.6841554313970408
         },
         {
          "x1": -0.9234564343072167,
          "x2": 1.7456701366139749,
          "x3": 0.6841554313970408
         },
         {
          "x1": -0.15646604036434564,
          "x2": -1.2057088992781935,
          "x3": 0.6841554313970408
         },
         {
          "x1": -0.15646604036434564,
          "x2": 1.7456701366139749,
          "x3": -0.49394181369920886
         },
         {
          "x1": -0.9234564343072167,
          "x2": -1.2057088992781935,
          "x3": -0.49394181369920886
         },
         {
          "x1": -0.9418642037618459,
          "x2": -0.6105243535785254,
          "x3": 3.0403499215895406
         },
         {
          "x1": -0.1380582709097169,
          "x2": -0.6105243535785254,
          "x3": 3.0403499215895406
         },
         {
          "x1": -0.9418642037618459,
          "x2": -0.42031073588069345,
          "x3": 3.0403499215895406
         },
         {
          "x1": -0.9418642037618459,
          "x2": -0.6105243535785254,
          "x3": -2.850136303891709
         },
         {
          "x1": -0.1380582709097169,
          "x2": -0.42031073588069345,
          "x3": -2.850136303891709
         },
         {
          "x1": 2.1997284498281546,
          "x2": 2.5310683000114746,
          "x3": -0.10124273200045897
         },
         {
          "x1": 3.003534382680283,
          "x2": 2.5310683000114746,
          "x3": -0.10124273200045897
         },
         {
          "x1": 2.1997284498281546,
          "x2": 2.721281917709307,
          "x3": -0.10124273200045897
         },
         {
          "x1": 2.1997284498281546,
          "x2": 2.5310683000114746,
          "x3": 0.29145634969829093
         },
         {
          "x1": 3.003534382680283,
          "x2": 2.721281917709307,
          "x3": 0.29145634969829093
         },
         {
          "x1": 0.6289321230331542,
          "x2": -2.1813206803735254,
          "x3": 1.469553594794541
         },
         {
          "x1": -1.708854597704717,
          "x2": -2.1813206803735254,
          "x3": 1.469553594794541
         },
         {
          "x1": 0.6289321230331542,
          "x2": 1.1504855909143066,
          "x3": 1.469553594794541
         },
         {
          "x1": 0.6289321230331542,
          "x2": -2.1813206803735254,
          "x3": 1.8622526764932914
         },
         {
          "x1": -1.708854597704717,
          "x2": 1.1504855909143066,
          "x3": 1.8622526764932914
         },
         {
          "x1": -2.512660530556846,
          "x2": 0.9602719732164751,
          "x3": -1.672039058795459
         },
         {
          "x1": 1.4327380558852836,
          "x2": 0.9602719732164751,
          "x3": -1.672039058795459
         },
         {
          "x1": -2.512660530556846,
          "x2": -1.9911070626756935,
          "x3": -1.672039058795459
         },
         {
          "x1": -2.512660530556846,
          "x2": 0.9602719732164751,
          "x3": -1.279339977096709
         },
         {
          "x1": 1.4327380558852836,
          "x2": -1.9911070626756935,
          "x3": -1.279339977096709
         },
         {
          "x1": -2.7090100714062206,
          "x2": -1.9849711395241505,
          "x3": 2.058602217342666
         },
         {
          "x1": -1.5125050568553418,
          "x2": -1.9849711395241505,
          "x3": 2.058602217342666
         },
         {
          "x1": -2.7090100714062206,
          "x2": 2.132233295161182,
          "x3": 2.058602217342666
         },
         {
          "x1": -2.7090100714062206,
          "x2": -1.9849711395241505,
          "x3": 0.0951068088489162
         },
         {
          "x1": -1.5125050568553418,
          "x2": 2.132233295161182,
          "x3": 0.0951068088489162
         },
         {
          "x1": 0.43258258218377943,
          "x2": 1.1566215140658498,
          "x3": -1.082990436247334
         },
         {
          "x1": 1.6290875967346583,
          "x2": 1.1566215140658498,
          "x3": -1.082990436247334
         },
         {
          "x1": 0.43258258218377943,
          "x2": -1.0093593584288185,
          "x3": -1.082990436247334
         },
         {
          "x1": 0.43258258218377943,
          "x2": 1.1566215140658498,
          "x3": -3.046485844741084
         },
         {
          "x1": 1.6290875967346583,
          "x2": -1.0093593584288185,
          "x3": -3.046485844741084
         },
         {
          "x1": 2.003378908978779,
          "x2": -0.41417481272915024,
          "x3": 0.4878058905476661
         },
         {
          "x1": -3.083301383650342,
          "x2": -0.41417481272915024,
          "x3": 0.4878058905476661
         },
         {
          "x1": 2.003378908978779,
          "x2": -2.5801556852238186,
          "x3": 0.4878058905476661
         },
         {
          "x1": 2.003378908978779,
          "x2": -0.41417481272915024,
          "x3": -1.475689517946084
         },
         {
          "x1": -3.083301383650342,
          "x2": -2.5801556852238186,
          "x3": -1.475689517946084
         },
         {
          "x1": -1.1382137446112206,
          "x2": 2.7274178408608494,
          "x3": -2.653786763042334
         },
         {
          "x1": 0.058291269939658275,
          "x2": 2.7274178408608494,
          "x3": -2.653786763042334
         },
         {
          "x1": -1.1382137446112206,
          "x2": 0.5614369683661815,
          "x3": -2.653786763042334
         },
         {
          "x1": -1.1382137446112206,
          "x2": 2.7274178408608494,
          "x3": 1.6659031356439158
         },
         {
          "x1": 0.058291269939658275,
          "x2": 0.5614369683661815,
          "x3": 1.6659031356439158
         },
         {
          "x1": -0.3528155812137208,
          "x2": -1.1995729761266505,
          "x3": -0.29759227284983414
         },
         {
          "x1": 0.8436894333371581,
          "x2": -1.1995729761266505,
          "x3": -0.29759227284983414
         },
         {
          "x1": -0.3528155812137208,
          "x2": 1.3468351317636813,
          "x3": -0.29759227284983414
         },
         {
          "x1": -0.3528155812137208,
          "x2": -1.1995729761266505,
          "x3": 0.880504972246416
         },
         {
          "x1": 0.8436894333371581,
          "x2": 1.3468351317636813,
          "x3": 0.880504972246416
         },
         {
          "x1": 2.7887770723762797,
          "x2": 1.9420196774633496,
          "x3": 2.844000380740166
         },
         {
          "x1": -2.297903220252842,
          "x2": 1.9420196774633496,
          "x3": 2.844000380740166
         },
         {
          "x1": 2.7887770723762797,
          "x2": -1.7947575218263183,
          "x3": 2.844000380740166
         },
         {
          "x1": 2.7887770723762797,
          "x2": 1.9420196774633496,
          "x3": -2.261087681343584
         },
         {
          "x1": -2.297903220252842,
          "x2": -1.7947575218263183,
          "x3": -2.261087681343584
         },
         {
          "x1": 1.2179807455812792,
          "x2": -2.7703693029216505,
          "x3": -1.868388599644834
         },
         {
          "x1": 2.414485760132158,
          "x2": -2.7703693029216505,
          "x3": -1.868388599644834
         },
         {
          "x1": 1.2179807455812792,
          "x2": -0.22396119503131828,
          "x3": -1.868388599644834
         },
         {
          "x1": 1.2179807455812792,
          "x2": -2.7703693029216505,
          "x3": -0.690291354548584
         },
         {
          "x1": 2.414485760132158,
          "x2": -0.22396119503131828,
          "x3": -0.690291354548584
         },
         {
          "x1": -1.9236119080087208,
          "x2": 0.37122335066834955,
          "x3": 1.2732040539451663
         },
         {
          "x1": -0.727106893457842,
          "x2": 0.37122335066834955,
          "x3": 1.2732040539451663
         },
         {
          "x1": -1.9236119080087208,
          "x2": 2.917631458558682,
          "x3": 1.2732040539451663
         },
         {
          "x1": -1.9236119080087208,
          "x2": 0.37122335066834955,
          "x3": 2.4513012990414165
         },
         {
          "x1": -0.727106893457842,
          "x2": 2.917631458558682,
          "x3": 2.4513012990414165
         },
         {
          "x1": -2.3163109897074707,
          "x2": -0.021475731030400347,
          "x3": -2.261087681343584
         },
         {
          "x1": -1.9052041385540919,
          "x2": -0.021475731030400347,
          "x3": -2.261087681343584
         },
         {
          "x1": -2.3163109897074707,
          "x2": -1.4020584401275684,
          "x3": -2.261087681343584
         },
         {
          "x1": -2.3163109897074707,
          "x2": -0.021475731030400347,
          "x3": 2.058602217342666
         },
         {
          "x1": -1.9052041385540919,
          "x2": -1.4020584401275684,
          "x3": 2.058602217342666
         },
         {
          "x1": 0.8252816638825293,
          "x2": 3.1201169225595997,
          "x3": 0.880504972246416
         },
         {
          "x1": 1.236388515035908,
          "x2": 3.1201169225595997,
          "x3": 0.880504972246416
         },
         {
          "x1": 0.8252816638825293,
          "x2": 1.7395342134624316,
          "x3": 0.880504972246416
         },
         {
          "x1": 0.8252816638825293,
          "x2": 3.1201169225595997,
          "x3": -1.082990436247334
         },
         {
          "x1": 1.236388515035908,
          "x2": 1.7395342134624316,
          "x3": -1.082990436247334
         },
         {
          "x1": 2.3960779906775294,
          "x2": -1.5922720578254004,
          "x3": -0.690291354548584
         },
         {
          "x1": -0.3344078117590916,
          "x2": -1.5922720578254004,
          "x3": -0.690291354548584
         },
         {
          "x1": 2.3960779906775294,
          "x2": 0.1687378866674316,
          "x3": -0.690291354548584
         },
         {
          "x1": 2.3960779906775294,
          "x2": -1.5922720578254004,
          "x3": -2.653786763042334
         },
         {
          "x1": -0.3344078117590916,
          "x2": 0.1687378866674316,
          "x3": -2.653786763042334
         },
         {
          "x1": -0.7455146629124707,
          "x2": 1.5493205957645992,
          "x3": 2.4513012990414165
         },
         {
          "x1": 2.8071848418309084,
          "x2": 1.5493205957645992,
          "x3": 2.4513012990414165
         },
         {
          "x1": -0.7455146629124707,
          "x2": -2.9728547669225684,
          "x3": 2.4513012990414165
         },
         {
          "x1": -0.7455146629124707,
          "x2": 1.5493205957645992,
          "x3": 0.4878058905476661
         },
         {
          "x1": 2.8071848418309084,
          "x2": -2.9728547669225684,
          "x3": 0.4878058905476661
         },
         {
          "x1": -1.5309128263099707,
          "x2": -2.3776702212229006,
          "x3": 0.0951068088489162
         },
         {
          "x1": 2.0217866784334086,
          "x2": -2.3776702212229006,
          "x3": 0.0951068088489162
         },
         {
          "x1": -1.5309128263099707,
          "x2": -2.187456603525068,
          "x3": 0.0951068088489162
         },
         {
          "x1": -1.5309128263099707,
          "x2": -2.3776702212229006,
          "x3": 2.844000380740166
         },
         {
          "x1": 2.0217866784334086,
          "x2": -2.187456603525068,
          "x3": 2.844000380740166
         },
         {
          "x1": 1.6106798272800296,
          "x2": 0.7639224323670994,
          "x3": -3.046485844741084
         },
         {
          "x1": -1.1198059751565919,
          "x2": 0.7639224323670994,
          "x3": -3.046485844741084
         },
         {
          "x1": 1.6106798272800296,
          "x2": 0.9541360500649319,
          "x3": -3.046485844741084
         },
         {
          "x1": 1.6106798272800296,
          "x2": 0.7639224323670994,
          "x3": -0.29759227284983414
         },
         {
          "x1": -1.1198059751565919,
          "x2": 0.9541360500649319,
          "x3": -0.29759227284983414
         },
         {
          "x1": 0.03988350048502909,
          "x2": -0.8068738944279006,
          "x3": 1.6659031356439158
         },
         {
          "x1": 0.45099035163840817,
          "x2": -0.8068738944279006,
          "x3": 1.6659031356439158
         },
         {
          "x1": 0.03988350048502909,
          "x2": 2.5249323768599314,
          "x3": 1.6659031356439158
         },
         {
          "x1": 0.03988350048502909,
          "x2": -0.8068738944279006,
          "x3": -1.868388599644834
         },
         {
          "x1": 0.45099035163840817,
          "x2": 2.5249323768599314,
          "x3": -1.868388599644834
         },
         {
          "x1": -3.101709153104971,
          "x2": 2.3347187591621,
          "x3": -1.475689517946084
         },
         {
          "x1": -2.690602301951592,
          "x2": 2.3347187591621,
          "x3": -1.475689517946084
         },
         {
          "x1": -3.101709153104971,
          "x2": -0.6166602767300682,
          "x3": -1.475689517946084
         },
         {
          "x1": -3.101709153104971,
          "x2": 2.3347187591621,
          "x3": 1.2732040539451663
         },
         {
          "x1": -2.690602301951592,
          "x2": -0.6166602767300682,
          "x3": 1.2732040539451663
         },
         {
          "x1": -3.1139809994080565,
          "x2": -0.7946020481248146,
          "x3": -2.077009986797295
         },
         {
          "x1": 1.8377089838871195,
          "x2": -0.7946020481248146,
          "x3": -2.077009986797295
         },
         {
          "x1": -3.1139809994080565,
          "x2": -1.659767212492373,
          "x3": -2.077009986797295
         },
         {
          "x1": -3.1139809994080565,
          "x2": -0.7946020481248146,
          "x3": -1.09526228255042
         },
         {
          "x1": 1.8377089838871195,
          "x2": -1.659767212492373,
          "x3": -1.09526228255042
         },
         {
          "x1": 0.027611654181943557,
          "x2": 2.3469906054651855,
          "x3": 1.0645826667927052
         },
         {
          "x1": -1.3038836697028808,
          "x2": 2.3469906054651855,
          "x3": 1.0645826667927052
         },
         {
          "x1": 0.027611654181943557,
          "x2": 1.4818254410976266,
          "x3": 1.0645826667927052
         },
         {
          "x1": 0.027611654181943557,
          "x2": 2.3469906054651855,
          "x3": 2.0463303710395797
         },
         {
          "x1": -1.3038836697028808,
          "x2": 1.4818254410976266,
          "x3": 2.0463303710395797
         },
         {
          "x1": 1.5984079809769431,
          "x2": -2.3653983749198146,
          "x3": -0.5062136600022948
         },
         {
          "x1": 0.266912657092119,
          "x2": -2.3653983749198146,
          "x3": -0.5062136600022948
         },
         {
          "x1": 1.5984079809769431,
          "x2": 3.052621767892627,
          "x3": -0.5062136600022948
         },
         {
          "x1": 1.5984079809769431,
          "x2": -2.3653983749198146,
          "x3": 0.4755340442445801
         },
         {
          "x1": 0.266912657092119,
          "x2": 3.052621767892627,
          "x3": 0.4755340442445801
         },
         {
          "x1": -1.5431846726130567,
          "x2": 0.7761942786701854,
          "x3": 2.6353789935877048
         },
         {
          "x1": -2.874679996497881,
          "x2": 0.7761942786701854,
          "x3": 2.6353789935877048
         },
         {
          "x1": -1.5431846726130567,
          "x2": -0.08897088569737299,
          "x3": 2.6353789935877048
         },
         {
          "x1": -1.5431846726130567,
          "x2": 0.7761942786701854,
          "x3": -2.66605860934542
         },
         {
          "x1": -2.874679996497881,
          "x2": -0.08897088569737299,
          "x3": -2.66605860934542
         },
         {
          "x1": -0.7577865092155567,
          "x2": -1.5800002115223144,
          "x3": 0.27918450339520495
         },
         {
          "x1": -2.089281833100381,
          "x2": -1.5800002115223144,
          "x3": 0.27918450339520495
         },
         {
          "x1": -0.7577865092155567,
          "x2": -0.8743690490948732,
          "x3": 0.27918450339520495
         },
         {
          "x1": -0.7577865092155567,
          "x2": -1.5800002115223144,
          "x3": -0.3098641191529201
         },
         {
          "x1": -2.089281833100381,
          "x2": -0.8743690490948732,
          "x3": -0.3098641191529201
         },
         {
          "x1": 2.383806144374444,
          "x2": 1.5615924420676857,
          "x3": -2.862408150194795
         },
         {
          "x1": 1.0523108204896188,
          "x2": 1.5615924420676857,
          "x3": -2.862408150194795
         },
         {
          "x1": 2.383806144374444,
          "x2": 2.2672236044951273,
          "x3": -2.862408150194795
         },
         {
          "x1": 2.383806144374444,
          "x2": 1.5615924420676857,
          "x3": 2.8317285344370804
         },
         {
          "x1": 1.0523108204896188,
          "x2": 2.2672236044951273,
          "x3": 2.8317285344370804
         },
         {
          "x1": 0.8130098175794434,
          "x2": -0.009203884727314371,
          "x3": 1.849980830190205
         },
         {
          "x1": -0.5184855063053808,
          "x2": -0.009203884727314371,
          "x3": 1.849980830190205
         },
         {
          "x1": 0.8130098175794434,
          "x2": 0.6964272777001268,
          "x3": 1.849980830190205
         },
         {
          "x1": 0.8130098175794434,
          "x2": -0.009203884727314371,
          "x3": 1.26093220764208
         },
         {
          "x1": -0.5184855063053808,
          "x2": 0.6964272777001268,
          "x3": 1.26093220764208
         },
         {
          "x1": -2.3285828360105567,
          "x2": 3.1323887688626852,
          "x3": -1.2916118233997949
         },
         {
          "x1": 2.6231071472846192,
          "x2": 3.1323887688626852,
          "x3": -1.2916118233997949
         },
         {
          "x1": -2.3285828360105567,
          "x2": -2.4451653758898733,
          "x3": -1.2916118233997949
         },
         {
          "x1": -2.3285828360105567,
          "x2": 3.1323887688626852,
          "x3": -1.88066044594792
         },
         {
          "x1": 2.6231071472846192,
          "x2": -2.4451653758898733,
          "x3": -1.88066044594792
         },
         {
          "x1": -1.9358837543118066,
          "x2": -2.7580974566185645,
          "x3": 2.2426799118889553
         },
         {
          "x1": 1.445009902188369,
          "x2": -2.7580974566185645,
          "x3": 2.2426799118889553
         },
         {
          "x1": -1.9358837543118066,
          "x2": 1.0891263593988771,
          "x3": 2.2426799118889553
         },
         {
          "x1": -1.9358837543118066,
          "x2": -2.7580974566185645,
          "x3": -3.05875769104417
         },
         {
          "x1": 1.445009902188369,
          "x2": 1.0891263593988771,
          "x3": -3.05875769104417
         },
         {
          "x1": 1.2057088992781937,
          "x2": 0.3834951969714355,
          "x3": -0.8989127417010447
         },
         {
          "x1": -1.696582751401631,
          "x2": 0.3834951969714355,
          "x3": -0.8989127417010447
         },
         {
          "x1": 1.2057088992781937,
          "x2": -2.052466294191123,
          "x3": -0.8989127417010447
         },
         {
          "x1": 1.2057088992781937,
          "x2": 0.3834951969714355,
          "x3": 0.08283496254583023
         },
         {
          "x1": -1.696582751401631,
          "x2": -2.052466294191123,
          "x3": 0.08283496254583023
         },
         {
          "x1": 2.7765052260731933,
          "x2": -1.1873011298235645,
          "x3": 0.6718835850939553
         },
         {
          "x1": 3.0158062289833696,
          "x2": -1.1873011298235645,
          "x3": 0.6718835850939553
         },
         {
          "x1": 2.7765052260731933,
          "x2": -0.4816699673961229,
          "x3": 0.6718835850939553
         },
         {
          "x1": 2.7765052260731933,
          "x2": -1.1873011298235645,
          "x3": 1.6536312893408303
         },
         {
          "x1": 3.0158062289833696,
          "x2": -0.4816699673961229,
          "x3": 1.6536312893408303
         },
         {
          "x1": -0.3650874275168068,
          "x2": 1.954291523766436,
          "x3": -2.469709068496045
         },
         {
          "x1": -0.12578642460663092,
          "x2": 1.954291523766436,
          "x3": -2.469709068496045
         },
         {
          "x1": -0.3650874275168068,
          "x2": 2.6599226861938767,
          "x3": -2.469709068496045
         },
         {
          "x1": -0.3650874275168068,
          "x2": 1.954291523766436,
          "x3": -1.48796136424917
         },
         {
          "x1": -0.12578642460663092,
          "x2": 2.6599226861938767,
          "x3": -1.48796136424917
         },
         {
          "x1": -1.1504855909143066,
          "x2": -0.40190296642606427,
          "x3": -0.11351457830354494
         },
         {
          "x1": -0.9111845880041307,
          "x2": -0.40190296642606427,
          "x3": -0.11351457830354494
         },
         {
          "x1": -1.1504855909143066,
          "x2": 1.874524522796377,
          "x3": -0.11351457830354494
         },
         {
          "x1": -1.1504855909143066,
          "x2": -0.40190296642606427,
          "x3": -2.27335952764667
         },
         {
          "x1": -0.9111845880041307,
          "x2": 1.874524522796377,
          "x3": -2.27335952764667
         },
         {
          "x1": 1.9911070626756935,
          "x2": 2.739689687163936,
          "x3": 3.028078075286455
         },
         {
          "x1": 2.230408065585869,
          "x2": 2.739689687163936,
          "x3": 3.028078075286455
         },
         {
          "x1": 1.9911070626756935,
          "x2": -1.2670681307936231,
          "x3": 3.028078075286455
         },
         {
          "x1": 1.9911070626756935,
          "x2": 2.739689687163936,
          "x3": 0.8682331259433305
         },
         {
          "x1": 2.230408065585869,
          "x2": -1.2670681307936231,
          "x3": 0.8682331259433305
         },
         {
          "x1": 0.42031073588069345,
          "x2": -1.9726992932210645,
          "x3": -1.684310905098545
         },
         {
          "x1": -2.4819809147991307,
          "x2": -1.9726992932210645,
          "x3": -1.684310905098545
         },
         {
          "x1": 0.42031073588069345,
          "x2": -2.837864457588623,
          "x3": -1.684310905098545
         },
         {
          "x1": 0.42031073588069345,
          "x2": -1.9726992932210645,
          "x3": 2.43902945273833
         },
         {
          "x1": -2.4819809147991307,
          "x2": -2.837864457588623,
          "x3": 2.43902945273833
         },
         {
          "x1": -2.7212819177093066,
          "x2": 1.1688933603689353,
          "x3": 1.4572817484914555
         },
         {
          "x1": 0.6596117387908693,
          "x2": 1.1688933603689353,
          "x3": 1.4572817484914555
         },
         {
          "x1": -2.7212819177093066,
          "x2": 0.3037281960013769,
          "x3": 1.4572817484914555
         },
         {
          "x1": -2.7212819177093066,
          "x2": 1.1688933603689353,
          "x3": -0.70256320085167
         },
         {
          "x1": 0.6596117387908693,
          "x2": 0.3037281960013769,
          "x3": -0.70256320085167
         },
         {
          "x1": -2.5249323768599314,
          "x2": -2.1690488340704395,
          "x3": -1.09526228255042
         },
         {
          "x1": -0.714835047154756,
          "x2": -2.1690488340704395,
          "x3": -1.09526228255042
         },
         {
          "x1": -2.5249323768599314,
          "x2": -0.28532042654674816,
          "x3": -1.09526228255042
         },
         {
          "x1": -2.5249323768599314,
          "x2": -2.1690488340704395,
          "x3": 1.0645826667927052
         },
         {
          "x1": -0.714835047154756,
          "x2": -0.28532042654674816,
          "x3": 1.0645826667927052
         },
         {
          "x1": 0.6166602767300682,
          "x2": 0.9725438195195606,
          "x3": 2.0463303710395797
         },
         {
          "x1": 2.4267576064352445,
          "x2": 0.9725438195195606,
          "x3": 2.0463303710395797
         },
         {
          "x1": 0.6166602767300682,
          "x2": 2.8562722270432523,
          "x3": 2.0463303710395797
         },
         {
          "x1": 0.6166602767300682,
          "x2": 0.9725438195195606,
          "x3": -2.077009986797295
         },
         {
          "x1": 2.4267576064352445,
          "x2": 2.8562722270432523,
          "x3": -2.077009986797295
         },
         {
          "x1": 2.187456603525068,
          "x2": -0.5982525072754394,
          "x3": -2.66605860934542
         },
         {
          "x1": -2.285631373949756,
          "x2": -0.5982525072754394,
          "x3": -2.66605860934542
         },
         {
          "x1": 2.187456603525068,
          "x2": 1.2854759002482519,
          "x3": -2.66605860934542
         },
         {
          "x1": 2.187456603525068,
          "x2": -0.5982525072754394,
          "x3": -0.5062136600022948
         },
         {
          "x1": -2.285631373949756,
          "x2": 1.2854759002482519,
          "x3": -0.5062136600022948
         },
         {
          "x1": -0.9541360500649319,
          "x2": 2.54334014631456,
          "x3": 0.4755340442445801
         },
         {
          "x1": 0.855961279640244,
          "x2": 2.54334014631456,
          "x3": 0.4755340442445801
         },
         {
          "x1": -0.9541360500649319,
          "x2": -1.8561167533417482,
          "x3": 0.4755340442445801
         },
         {
          "x1": -0.9541360500649319,
          "x2": 2.54334014631456,
          "x3": 2.6353789935877048
         },
         {
          "x1": 0.855961279640244,
          "x2": -1.8561167533417482,
          "x3": 2.6353789935877048
         },
         {
          "x1": -0.1687378866674316,
          "x2": -1.3836506706729395,
          "x3": 2.8317285344370804
         },
         {
          "x1": 0.07056311624274425,
          "x2": -1.3836506706729395,
          "x3": 2.8317285344370804
         },
         {
          "x1": -0.1687378866674316,
          "x2": -2.641514916739248,
          "x3": 2.8317285344370804
         },
         {
          "x1": -0.1687378866674316,
          "x2": -1.3836506706729395,
          "x3": 0.27918450339520495
         },
         {
          "x1": 0.07056311624274425,
          "x2": -2.641514916739248,
          "x3": 0.27918450339520495
         },
         {
          "x1": 2.972854766922568,
          "x2": 1.7579419829170604,
          "x3": -0.3098641191529201
         },
         {
          "x1": -3.071029537347256,
          "x2": 1.7579419829170604,
          "x3": -0.3098641191529201
         },
         {
          "x1": 2.972854766922568,
          "x2": 0.5000777368507521,
          "x3": -0.3098641191529201
         },
         {
          "x1": 2.972854766922568,
          "x2": 1.7579419829170604,
          "x3": -2.862408150194795
         },
         {
          "x1": -3.071029537347256,
          "x2": 0.5000777368507521,
          "x3": -2.862408150194795
         },
         {
          "x1": 1.4020584401275684,
          "x2": -2.9544469974679397,
          "x3": 1.26093220764208
         },
         {
          "x1": 1.6413594430377438,
          "x2": -2.9544469974679397,
          "x3": 1.26093220764208
         },
         {
          "x1": 1.4020584401275684,
          "x2": 2.0708740636457517,
          "x3": 1.26093220764208
         },
         {
          "x1": 1.4020584401275684,
          "x2": -2.9544469974679397,
          "x3": -1.2916118233997949
         },
         {
          "x1": 1.6413594430377438,
          "x2": 2.0708740636457517,
          "x3": -1.2916118233997949
         },
         {
          "x1": -1.7395342134624316,
          "x2": 0.18714565612206036,
          "x3": -1.88066044594792
         },
         {
          "x1": -1.5002332105522558,
          "x2": 0.18714565612206036,
          "x3": -1.88066044594792
         },
         {
          "x1": -1.7395342134624316,
          "x2": -1.070718589944248,
          "x3": -1.88066044594792
         },
         {
          "x1": -1.7395342134624316,
          "x2": 0.18714565612206036,
          "x3": 1.849980830190205
         },
         {
          "x1": -1.5002332105522558,
          "x2": -1.070718589944248,
          "x3": 1.849980830190205
         },
         {
          "x1": -2.132233295161182,
          "x2": -0.20555342557668954,
          "x3": 0.8682331259433305
         },
         {
          "x1": -2.678330455648506,
          "x2": -0.20555342557668954,
          "x3": 0.8682331259433305
         },
         {
          "x1": -2.132233295161182,
          "x2": 2.463573145344502,
          "x3": 0.8682331259433305
         },
         {
          "x1": -2.132233295161182,
          "x2": -0.20555342557668954,
          "x3": 3.028078075286455
         },
         {
          "x1": -2.678330455648506,
          "x2": 2.463573145344502,
          "x3": 3.028078075286455
         },
         {
          "x1": 1.009359358428818,
          "x2": 2.9360392280133105,
          "x3": -2.27335952764667
         },
         {
          "x1": 0.46326219794149415,
          "x2": 2.9360392280133105,
          "x3": -2.27335952764667
         },
         {
          "x1": 1.009359358428818,
          "x2": -0.6780195082454981,
          "x3": -2.27335952764667
         },
         {
          "x1": 1.009359358428818,
          "x2": 2.9360392280133105,
          "x3": -0.11351457830354494
         },
         {
          "x1": 0.46326219794149415,
          "x2": -0.6780195082454981,
          "x3": -0.11351457830354494
         },
         {
          "x1": 2.5801556852238186,
          "x2": -1.7763497523716896,
          "x3": 2.43902945273833
         },
         {
          "x1": -1.1075341288535059,
          "x2": -1.7763497523716896,
          "x3": 2.43902945273833
         },
         {
          "x1": 2.5801556852238186,
          "x2": -2.248815835040498,
          "x3": 2.43902945273833
         },
         {
          "x1": 2.5801556852238186,
          "x2": -1.7763497523716896,
          "x3": -1.684310905098545
         },
         {
          "x1": -1.1075341288535059,
          "x2": -2.248815835040498,
          "x3": -1.684310905098545
         },
         {
          "x1": -0.5614369683661815,
          "x2": 1.365242901218311,
          "x3": -0.70256320085167
         },
         {
          "x1": 2.034058524736494,
          "x2": 1.365242901218311,
          "x3": -0.70256320085167
         },
         {
          "x1": -0.5614369683661815,
          "x2": 0.8927768185495015,
          "x3": -0.70256320085167
         },
         {
          "x1": -0.5614369683661815,
          "x2": 1.365242901218311,
          "x3": 1.4572817484914555
         },
         {
          "x1": 2.034058524736494,
          "x2": 0.8927768185495015,
          "x3": 1.4572817484914555
         },
         {
          "x1": -1.3468351317636817,
          "x2": -2.5617479157691894,
          "x3": -3.05875769104417
         },
         {
          "x1": 2.819456688133994,
          "x2": -2.5617479157691894,
          "x3": -3.05875769104417
         },
         {
          "x1": -1.3468351317636817,
          "x2": 0.10737865515200173,
          "x3": -3.05875769104417
         },
         {
          "x1": -1.3468351317636817,
          "x2": -2.5617479157691894,
          "x3": 2.2426799118889553
         },
         {
          "x1": 2.819456688133994,
          "x2": 0.10737865515200173,
          "x3": 2.2426799118889553
         },
         {
          "x1": 1.7947575218263188,
          "x2": 0.5798447378208107,
          "x3": 0.08283496254583023
         },
         {
          "x1": -0.32213596545600565,
          "x2": 0.5798447378208107,
          "x3": 0.08283496254583023
         },
         {
          "x1": 1.7947575218263188,
          "x2": -3.0342139984379983,
          "x3": 0.08283496254583023
         },
         {
          "x1": 1.7947575218263188,
          "x2": 0.5798447378208107,
          "x3": -0.8989127417010447
         },
         {
          "x1": -0.32213596545600565,
          "x2": -3.0342139984379983,
          "x3": -0.8989127417010447
         },
         {
          "x1": 0.22396119503131828,
          "x2": -0.9909515889741893,
          "x3": -1.48796136424917
         },
         {
          "x1": 1.2486603613389944,
          "x2": -0.9909515889741893,
          "x3": -1.48796136424917
         },
         {
          "x1": 0.22396119503131828,
          "x2": -1.463417671642998,
          "x3": -1.48796136424917
         },
         {
          "x1": 0.22396119503131828,
          "x2": -0.9909515889741893,
          "x3": -2.469709068496045
         },
         {
          "x1": 1.2486603613389944,
          "x2": -1.463417671642998,
          "x3": -2.469709068496045
         },
         {
          "x1": -2.917631458558682,
          "x2": 2.1506410646158107,
          "x3": 1.6536312893408303
         },
         {
          "x1": -1.892932292251006,
          "x2": 2.1506410646158107,
          "x3": 1.6536312893408303
         },
         {
          "x1": -2.917631458558682,
          "x2": 1.6781749819470022,
          "x3": 1.6536312893408303
         },
         {
          "x1": -2.917631458558682,
          "x2": 2.1506410646158107,
          "x3": 0.6718835850939553
         },
         {
          "x1": -1.892932292251006,
          "x2": 1.6781749819470022,
          "x3": 0.6718835850939553
         },
         {
          "x1": -2.819456688133994,
          "x2": -2.463573145344502,
          "x3": 0.7700583555186427
         },
         {
          "x1": -1.4020584401275684,
          "x2": -2.463573145344502,
          "x3": 0.7700583555186427
         },
         {
          "x1": -2.819456688133994,
          "x2": -2.5433401463145606,
          "x3": 0.7700583555186427
         },
         {
          "x1": -2.819456688133994,
          "x2": -2.463573145344502,
          "x3": 1.5554565189161424
         },
         {
          "x1": -1.4020584401275684,
          "x2": -2.5433401463145606,
          "x3": 1.5554565189161424
         },
         {
          "x1": 0.32213596545600565,
          "x2": 0.6780195082454981,
          "x3": -2.3715342980713574
         },
         {
          "x1": 1.7395342134624316,
          "x2": 0.6780195082454981,
          "x3": -2.3715342980713574
         },
         {
          "x1": 0.32213596545600565,
          "x2": 0.5982525072754394,
          "x3": -2.3715342980713574
         },
         {
          "x1": 0.32213596545600565,
          "x2": 0.6780195082454981,
          "x3": -1.5861361346738574
         },
         {
          "x1": 1.7395342134624316,
          "x2": 0.5982525072754394,
          "x3": -1.5861361346738574
         },
         {
          "x1": 1.8929322922510057,
          "x2": -0.892776818549502,
          "x3": 2.3408546823136422
         },
         {
          "x1": -2.9728547669225684,
          "x2": -0.892776818549502,
          "x3": 2.3408546823136422
         },
         {
          "x1": 1.8929322922510057,
          "x2": 2.1690488340704395,
          "x3": 2.3408546823136422
         },
         {
          "x1": 1.8929322922510057,
          "x2": -0.892776818549502,
          "x3": -0.015339807878857581
         },
         {
          "x1": -2.9728547669225684,
          "x2": 2.1690488340704395,
          "x3": -0.015339807878857581
         },
         {
          "x1": -1.2486603613389942,
          "x2": 2.2488158350404985,
          "x3": -0.8007379712763574
         },
         {
          "x1": 0.1687378866674316,
          "x2": 2.2488158350404985,
          "x3": -0.8007379712763574
         },
         {
          "x1": -1.2486603613389942,
          "x2": -0.9725438195195606,
          "x3": -0.8007379712763574
         },
         {
          "x1": -1.2486603613389942,
          "x2": 2.2488158350404985,
          "x3": 3.126252845711143
         },
         {
          "x1": 0.1687378866674316,
          "x2": -0.9725438195195606,
          "x3": 3.126252845711143
         },
         {
          "x1": -0.46326219794149415,
          "x2": -0.10737865515200173,
          "x3": -1.5861361346738574
         },
         {
          "x1": 0.9541360500649319,
          "x2": -0.10737865515200173,
          "x3": -1.5861361346738574
         },
         {
          "x1": -0.46326219794149415,
          "x2": -0.18714565612206036,
          "x3": -1.5861361346738574
         },
         {
          "x1": -0.46326219794149415,
          "x2": -0.10737865515200173,
          "x3": 0.7700583555186427
         },
         {
          "x1": 0.9541360500649319,
          "x2": -0.18714565612206036,
          "x3": 0.7700583555186427
         },
         {
          "x1": 2.6783304556485055,
          "x2": 3.0342139984379983,
          "x3": 1.5554565189161424
         },
         {
          "x1": -2.187456603525068,
          "x2": 3.0342139984379983,
          "x3": 1.5554565189161424
         },
         {
          "x1": 2.6783304556485055,
          "x2": 2.9544469974679393,
          "x3": 1.5554565189161424
         },
         {
          "x1": 2.6783304556485055,
          "x2": 3.0342139984379983,
          "x3": -2.3715342980713574
         },
         {
          "x1": -2.187456603525068,
          "x2": 2.9544469974679393,
          "x3": -2.3715342980713574
         },
         {
          "x1": 1.1075341288535059,
          "x2": -1.678174981947002,
          "x3": -0.015339807878857581
         },
         {
          "x1": 2.5249323768599314,
          "x2": -1.678174981947002,
          "x3": -0.015339807878857581
         },
         {
          "x1": 1.1075341288535059,
          "x2": 1.3836506706729397,
          "x3": -0.015339807878857581
         },
         {
          "x1": 1.1075341288535059,
          "x2": -1.678174981947002,
          "x3": -0.8007379712763574
         },
         {
          "x1": 2.5249323768599314,
          "x2": 1.3836506706729397,
          "x3": -0.8007379712763574
         },
         {
          "x1": -2.034058524736494,
          "x2": 1.4634176716429979,
          "x3": 3.126252845711143
         },
         {
          "x1": -0.6166602767300682,
          "x2": 1.4634176716429979,
          "x3": 3.126252845711143
         },
         {
          "x1": -2.034058524736494,
          "x2": -1.7579419829170606,
          "x3": 3.126252845711143
         },
         {
          "x1": -2.034058524736494,
          "x2": 1.4634176716429979,
          "x3": 2.3408546823136422
         },
         {
          "x1": -0.6166602767300682,
          "x2": -1.7579419829170606,
          "x3": 2.3408546823136422
         },
         {
          "x1": -1.6413594430377443,
          "x2": -1.2854759002482519,
          "x3": -0.4080388895776075
         },
         {
          "x1": -1.7947575218263183,
          "x2": -1.2854759002482519,
          "x3": -0.4080388895776075
         },
         {
          "x1": -1.6413594430377443,
          "x2": 0.20555342557668954,
          "x3": -0.4080388895776075
         },
         {
          "x1": -1.6413594430377443,
          "x2": -1.2854759002482519,
          "x3": 2.7335537640123926
         },
         {
          "x1": -1.7947575218263183,
          "x2": 0.20555342557668954,
          "x3": 2.7335537640123926
         },
         {
          "x1": 1.5002332105522562,
          "x2": 1.8561167533417482,
          "x3": 2.7335537640123926
         },
         {
          "x1": 1.3468351317636813,
          "x2": 1.8561167533417482,
          "x3": 2.7335537640123926
         },
         {
          "x1": 1.5002332105522562,
          "x2": -2.9360392280133105,
          "x3": 2.7335537640123926
         },
         {
          "x1": 1.5002332105522562,
          "x2": 1.8561167533417482,
          "x3": -0.4080388895776075
         },
         {
          "x1": 1.3468351317636813,
          "x2": -2.9360392280133105,
          "x3": -0.4080388895776075
         },
         {
          "x1": 3.071029537347256,
          "x2": -2.856272227043252,
          "x3": -1.9788352163726075
         },
         {
          "x1": -0.22396119503131828,
          "x2": -2.856272227043252,
          "x3": -1.9788352163726075
         },
         {
          "x1": 3.071029537347256,
          "x2": -1.3652429012183105,
          "x3": -1.9788352163726075
         },
         {
          "x1": 3.071029537347256,
          "x2": -2.856272227043252,
          "x3": -1.9788352163726075
         },
         {
          "x1": -0.22396119503131828,
          "x2": -1.3652429012183105,
          "x3": -1.9788352163726075
         },
         {
          "x1": -0.07056311624274425,
          "x2": 0.28532042654674816,
          "x3": 1.162757437217393
         },
         {
          "x1": 2.917631458558682,
          "x2": 0.28532042654674816,
          "x3": 1.162757437217393
         },
         {
          "x1": -0.07056311624274425,
          "x2": 1.7763497523716891,
          "x3": 1.162757437217393
         },
         {
          "x1": -0.07056311624274425,
          "x2": 0.28532042654674816,
          "x3": 1.162757437217393
         },
         {
          "x1": 2.917631458558682,
          "x2": 1.7763497523716891,
          "x3": 1.162757437217393
         },
         {
          "x1": -0.855961279640244,
          "x2": -2.0708740636457517,
          "x3": 1.9481556006148928
         },
         {
          "x1": 2.132233295161182,
          "x2": -2.0708740636457517,
          "x3": 1.9481556006148928
         },
         {
          "x1": -0.855961279640244,
          "x2": 2.56174791576919,
          "x3": 1.9481556006148928
         },
         {
          "x1": -0.855961279640244,
          "x2": -2.0708740636457517,
          "x3": 1.9481556006148928
         },
         {
          "x1": 2.132233295161182,
          "x2": 2.56174791576919,
          "x3": 1.9481556006148928
         },
         {
          "x1": 2.285631373949756,
          "x2": 1.0707185899442484,
          "x3": -1.1934370529751075
         },
         {
          "x1": -1.0093593584288185,
          "x2": 1.0707185899442484,
          "x3": -1.1934370529751075
         },
         {
          "x1": 2.285631373949756,
          "x2": -0.5798447378208107,
          "x3": -1.1934370529751075
         },
         {
          "x1": 2.285631373949756,
          "x2": 1.0707185899442484,
          "x3": -1.1934370529751075
         },
         {
          "x1": -1.0093593584288185,
          "x2": -0.5798447378208107,
          "x3": -1.1934370529751075
         },
         {
          "x1": 0.714835047154756,
          "x2": -0.5000777368507521,
          "x3": 0.37735927381989276
         },
         {
          "x1": 0.5614369683661815,
          "x2": -0.5000777368507521,
          "x3": 0.37735927381989276
         },
         {
          "x1": 0.714835047154756,
          "x2": -2.1506410646158107,
          "x3": 0.37735927381989276
         },
         {
          "x1": 0.714835047154756,
          "x2": -0.5000777368507521,
          "x3": -2.7642333797701073
         },
         {
          "x1": 0.5614369683661815,
          "x2": -2.1506410646158107,
          "x3": -2.7642333797701073
         },
         {
          "x1": -2.426757606435244,
          "x2": 2.641514916739248,
          "x3": -2.7642333797701073
         },
         {
          "x1": -2.5801556852238186,
          "x2": 2.641514916739248,
          "x3": -2.7642333797701073
         },
         {
          "x1": -2.426757606435244,
          "x2": 0.9909515889741893,
          "x3": -2.7642333797701073
         },
         {
          "x1": -2.426757606435244,
          "x2": 2.641514916739248,
          "x3": 0.37735927381989276
         },
         {
          "x1": -2.5801556852238186,
          "x2": 0.9909515889741893,
          "x3": 0.37735927381989276
         },
         {
          "x1": -2.6231071472846192,
          "x2": -0.6964272777001268,
          "x3": 2.537204223163018
         },
         {
          "x1": 2.721281917709307,
          "x2": -0.6964272777001268,
          "x3": 2.537204223163018
         },
         {
          "x1": -2.6231071472846192,
          "x2": -1.1688933603689355,
          "x3": 2.537204223163018
         },
         {
          "x1": -2.6231071472846192,
          "x2": -0.6964272777001268,
          "x3": -1.3897865938244824
         },
         {
          "x1": 2.721281917709307,
          "x2": -1.1688933603689355,
          "x3": -1.3897865938244824
         },
         {
          "x1": 0.5184855063053808,
          "x2": 2.4451653758898733,
          "x3": -0.6043884304269826
         },
         {
          "x1": -0.42031073588069345,
          "x2": 2.4451653758898733,
          "x3": -0.6043884304269826
         },
         {
          "x1": 0.5184855063053808,
          "x2": 1.9726992932210647,
          "x3": -0.6043884304269826
         },
         {
          "x1": 0.5184855063053808,
          "x2": 2.4451653758898733,
          "x3": 1.7518060597655172
         },
         {
          "x1": -0.42031073588069345,
          "x2": 1.9726992932210647,
          "x3": 1.7518060597655172
         },
         {
          "x1": 2.0892818331003813,
          "x2": -2.267223604495127,
          "x3": 0.9664078963680174
         },
         {
          "x1": 1.1504855909143066,
          "x2": -2.267223604495127,
          "x3": 0.9664078963680174
         },
         {
          "x1": 2.0892818331003813,
          "x2": 0.40190296642606427,
          "x3": 0.9664078963680174
         },
         {
          "x1": 2.0892818331003813,
          "x2": -2.267223604495127,
          "x3": 0.1810097329705176
         },
         {
          "x1": 1.1504855909143066,
          "x2": 0.40190296642606427,
          "x3": 0.1810097329705176
         },
         {
          "x1": -1.0523108204896192,
          "x2": 0.8743690490948728,
          "x3": -2.1751847572219827
         },
         {
          "x1": -1.9911070626756935,
          "x2": 0.8743690490948728,
          "x3": -2.1751847572219827
         },
         {
          "x1": -1.0523108204896192,
          "x2": -2.739689687163936,
          "x3": -2.1751847572219827
         },
         {
          "x1": -1.0523108204896192,
          "x2": 0.8743690490948728,
          "x3": -2.9605829206194825
         },
         {
          "x1": -1.9911070626756935,
          "x2": -2.739689687163936,
          "x3": -2.9605829206194825
         },
         {
          "x1": -0.266912657092119,
          "x2": -3.052621767892627,
          "x3": -1.3897865938244824
         },
         {
          "x1": -2.7765052260731933,
          "x2": -3.052621767892627,
          "x3": -1.3897865938244824
         },
         {
          "x1": -0.266912657092119,
          "x2": -1.9542915237664356,
          "x3": -1.3897865938244824
         },
         {
          "x1": -0.266912657092119,
          "x2": -3.052621767892627,
          "x3": -0.6043884304269826
         },
         {
          "x1": -2.7765052260731933,
          "x2": -1.9542915237664356,
          "x3": -0.6043884304269826
         },
         {
          "x1": 2.874679996497881,
          "x2": 0.08897088569737299,
          "x3": 1.7518060597655172
         },
         {
          "x1": 0.3650874275168068,
          "x2": 0.08897088569737299,
          "x3": 1.7518060597655172
         },
         {
          "x1": 2.874679996497881,
          "x2": 1.187301129823564,
          "x3": 1.7518060597655172
         },
         {
          "x1": 2.874679996497881,
          "x2": 0.08897088569737299,
          "x3": 2.537204223163018
         },
         {
          "x1": 0.3650874275168068,
          "x2": 1.187301129823564,
          "x3": 2.537204223163018
         },
         {
          "x1": 1.3038836697028806,
          "x2": -1.481825441097627,
          "x3": -2.9605829206194825
         },
         {
          "x1": -1.2057088992781935,
          "x2": -1.481825441097627,
          "x3": -2.9605829206194825
         },
         {
          "x1": 1.3038836697028806,
          "x2": 2.7580974566185645,
          "x3": -2.9605829206194825
         },
         {
          "x1": 1.3038836697028806,
          "x2": -1.481825441097627,
          "x3": 0.9664078963680174
         },
         {
          "x1": -1.2057088992781935,
          "x2": 2.7580974566185645,
          "x3": 0.9664078963680174
         },
         {
          "x1": -1.8377089838871192,
          "x2": 1.6597672124923735,
          "x3": 0.1810097329705176
         },
         {
          "x1": 1.9358837543118064,
          "x2": 1.6597672124923735,
          "x3": 0.1810097329705176
         },
         {
          "x1": -1.8377089838871192,
          "x2": -0.3834951969714355,
          "x3": 0.1810097329705176
         },
         {
          "x1": -1.8377089838871192,
          "x2": 1.6597672124923735,
          "x3": -2.1751847572219827
         },
         {
          "x1": 1.9358837543118064,
          "x2": -0.3834951969714355,
          "x3": -2.1751847572219827
         },
         {
          "x1": -2.2304080655858693,
          "x2": -1.874524522796377,
          "x3": -2.5678838389207326
         },
         {
          "x1": 0.7577865092155567,
          "x2": -1.874524522796377,
          "x3": -2.5678838389207326
         },
         {
          "x1": -2.2304080655858693,
          "x2": 1.5800002115223144,
          "x3": -2.5678838389207326
         },
         {
          "x1": -2.2304080655858693,
          "x2": -1.874524522796377,
          "x3": -2.5678838389207326
         },
         {
          "x1": 0.7577865092155567,
          "x2": 1.5800002115223144,
          "x3": -2.5678838389207326
         },
         {
          "x1": 0.9111845880041312,
          "x2": 1.2670681307936231,
          "x3": 0.5737088146692675
         },
         {
          "x1": -2.3838061443744434,
          "x2": 1.2670681307936231,
          "x3": 0.5737088146692675
         },
         {
          "x1": 0.9111845880041312,
          "x2": -1.5615924420676857,
          "x3": 0.5737088146692675
         },
         {
          "x1": 0.9111845880041312,
          "x2": 1.2670681307936231,
          "x3": 0.5737088146692675
         },
         {
          "x1": -2.3838061443744434,
          "x2": -1.5615924420676857,
          "x3": 0.5737088146692675
         },
         {
          "x1": 2.4819809147991307,
          "x2": -0.3037281960013769,
          "x3": -0.9970875121257325
         },
         {
          "x1": 2.3285828360105567,
          "x2": -0.3037281960013769,
          "x3": -0.9970875121257325
         },
         {
          "x1": 2.4819809147991307,
          "x2": -3.1323887688626857,
          "x3": -0.9970875121257325
         },
         {
          "x1": 2.4819809147991307,
          "x2": -0.3037281960013769,
          "x3": 2.1445051414642675
         },
         {
          "x1": 2.3285828360105567,
          "x2": -3.1323887688626857,
          "x3": 2.1445051414642675
         },
         {
          "x1": -0.6596117387908693,
          "x2": 2.8378644575886227,
          "x3": 2.1445051414642675
         },
         {
          "x1": -0.8130098175794434,
          "x2": 2.8378644575886227,
          "x3": 2.1445051414642675
         },
         {
          "x1": -0.6596117387908693,
          "x2": 0.009203884727314371,
          "x3": 2.1445051414642675
         },
         {
          "x1": -0.6596117387908693,
          "x2": 2.8378644575886227,
          "x3": -0.9970875121257325
         },
         {
          "x1": -0.8130098175794434,
          "x2": 0.009203884727314371,
          "x3": -0.9970875121257325
         },
         {
          "x1": -1.445009902188369,
          "x2": -1.0891263593988771,
          "x3": 1.3591069780667677
         },
         {
          "x1": -0.027611654181943557,
          "x2": -1.0891263593988771,
          "x3": 1.3591069780667677
         },
         {
          "x1": -1.445009902188369,
          "x2": 0.7946020481248146,
          "x3": 1.3591069780667677
         },
         {
          "x1": -1.445009902188369,
          "x2": -1.0891263593988771,
          "x3": -1.7824856755232326
         },
         {
          "x1": -0.027611654181943557,
          "x2": 0.7946020481248146,
          "x3": -1.7824856755232326
         },
         {
          "x1": 1.696582751401631,
          "x2": 2.052466294191123,
          "x3": -1.7824856755232326
         },
         {
          "x1": 3.1139809994080565,
          "x2": 2.052466294191123,
          "x3": -1.7824856755232326
         },
         {
          "x1": 1.696582751401631,
          "x2": -2.3469906054651855,
          "x3": -1.7824856755232326
         },
         {
          "x1": 1.696582751401631,
          "x2": 2.052466294191123,
          "x3": 1.3591069780667677
         },
         {
          "x1": 3.1139809994080565,
          "x2": -2.3469906054651855,
          "x3": 1.3591069780667677
         },
         {
          "x1": 0.12578642460663092,
          "x2": -2.659922686193877,
          "x3": 2.9299033048617673
         },
         {
          "x1": -1.5984079809769434,
          "x2": -2.659922686193877,
          "x3": 2.9299033048617673
         },
         {
          "x1": 0.12578642460663092,
          "x2": -0.7761942786701854,
          "x3": 2.9299033048617673
         },
         {
          "x1": 0.12578642460663092,
          "x2": -2.659922686193877,
          "x3": 2.9299033048617673
         },
         {
          "x1": -1.5984079809769434,
          "x2": -0.7761942786701854,
          "x3": 2.9299033048617673
         },
         {
          "x1": -3.015806228983369,
          "x2": 0.4816699673961229,
          "x3": -0.2116893487282323
         },
         {
          "x1": 1.543184672613057,
          "x2": 0.4816699673961229,
          "x3": -0.2116893487282323
         },
         {
          "x1": -3.015806228983369,
          "x2": 2.365398374919814,
          "x3": -0.2116893487282323
         },
         {
          "x1": -3.015806228983369,
          "x2": 0.4816699673961229,
          "x3": -0.2116893487282323
         },
         {
          "x1": 1.543184672613057,
          "x2": 2.365398374919814,
          "x3": -0.2116893487282323
         },
         {
          "x1": -2.9667188437710257,
          "x2": -1.7272623671593457,
          "x3": 2.978990690074111
         },
         {
          "x1": -2.4328935295867873,
          "x2": -1.7272623671593457,
          "x3": 2.978990690074111
         },
         {
          "x1": -2.9667188437710257,
          "x2": 0.6473398924877833,
          "x3": 2.978990690074111
         },
         {
          "x1": -2.9667188437710257,
          "x2": -1.7272623671593457,
          "x3": -2.3224469128590135
         },
         {
          "x1": -2.4328935295867873,
          "x2": 0.6473398924877833,
          "x3": -2.3224469128590135
         },
         {
          "x1": 0.17487380981897482,
          "x2": 1.414330286430654,
          "x3": -0.16260196351588885
         },
         {
          "x1": 0.7086991240032128,
          "x2": 1.414330286430654,
          "x3": -0.16260196351588885
         },
         {
          "x1": 0.17487380981897482,
          "x2": -2.4942527611022167,
          "x3": -0.16260196351588885
         },
         {
          "x1": 0.17487380981897482,
          "x2": 1.414330286430654,
          "x3": 0.8191457407309866
         },
         {
          "x1": 0.7086991240032128,
          "x2": -2.4942527611022167,
          "x3": 0.8191457407309866
         },
         {
          "x1": 1.7456701366139749,
          "x2": -0.15646604036434564,
          "x3": 1.4081943632791116
         },
         {
          "x1": -0.8620972027917873,
          "x2": -0.15646604036434564,
          "x3": 1.4081943632791116
         },
         {
          "x1": 1.7456701366139749,
          "x2": -0.9234564343072167,
          "x3": 1.4081943632791116
         },
         {
          "x1": 1.7456701366139749,
          "x2": -0.15646604036434564,
          "x3": 2.389942067525986
         },
         {
          "x1": -0.8620972027917873,
          "x2": -0.9234564343072167,
          "x3": 2.389942067525986
         },
         {
          "x1": -1.3959225169760254,
          "x2": 2.9851266132256544,
          "x3": -1.7333982903108887
         },
         {
          "x1": 2.279495450798213,
          "x2": 2.9851266132256544,
          "x3": -1.7333982903108887
         },
         {
          "x1": -1.3959225169760254,
          "x2": 2.2181362192827834,
          "x3": -1.7333982903108887
         },
         {
          "x1": -1.3959225169760254,
          "x2": 2.9851266132256544,
          "x3": -0.7516505860640135
         },
         {
          "x1": 2.279495450798213,
          "x2": 2.2181362192827834,
          "x3": -0.7516505860640135
         },
         {
          "x1": -0.6105243535785254,
          "x2": -0.9418642037618459,
          "x3": -0.9480001269133886
         },
         {
          "x1": 3.0648936141957126,
          "x2": -0.9418642037618459,
          "x3": -0.9480001269133886
         },
         {
          "x1": -0.6105243535785254,
          "x2": 3.003534382680283,
          "x3": -0.9480001269133886
         },
         {
          "x1": -0.6105243535785254,
          "x2": -0.9418642037618459,
          "x3": -3.1078450762565137
         },
         {
          "x1": 3.0648936141957126,
          "x2": 3.003534382680283,
          "x3": -3.1078450762565137
         },
         {
          "x1": 2.5310683000114746,
          "x2": 2.1997284498281546,
          "x3": 2.1935925266766114
         },
         {
          "x1": -0.07669903939428702,
          "x2": 2.1997284498281546,
          "x3": 2.1935925266766114
         },
         {
          "x1": 2.5310683000114746,
          "x2": -0.1380582709097169,
          "x3": 2.1935925266766114
         },
         {
          "x1": 2.5310683000114746,
          "x2": 2.1997284498281546,
          "x3": 0.03374757733348632
         },
         {
          "x1": -0.07669903939428702,
          "x2": -0.1380582709097169,
          "x3": 0.03374757733348632
         },
         {
          "x1": 0.9602719732164751,
          "x2": -2.512660530556846,
          "x3": -2.5187964537083887
         },
         {
          "x1": 1.494097287400713,
          "x2": -2.512660530556846,
          "x3": -2.5187964537083887
         },
         {
          "x1": 0.9602719732164751,
          "x2": -1.708854597704717,
          "x3": -2.5187964537083887
         },
         {
          "x1": 0.9602719732164751,
          "x2": -2.512660530556846,
          "x3": 1.6045439041284864
         },
         {
          "x1": 1.494097287400713,
          "x2": -1.708854597704717,
          "x3": 1.6045439041284864
         },
         {
          "x1": -2.1813206803735254,
          "x2": 0.6289321230331542,
          "x3": 0.6227961998816114
         },
         {
          "x1": -1.647495366189287,
          "x2": 0.6289321230331542,
          "x3": 0.6227961998816114
         },
         {
          "x1": -2.1813206803735254,
          "x2": 1.4327380558852836,
          "x3": 0.6227961998816114
         },
         {
          "x1": -2.1813206803735254,
          "x2": 0.6289321230331542,
          "x3": -1.5370487494615137
         },
         {
          "x1": -1.647495366189287,
          "x2": 1.4327380558852836,
          "x3": -1.5370487494615137
         },
         {
          "x1": -1.7886215986747753,
          "x2": -0.5491651220630955,
          "x3": -2.9114955354071386
         },
         {
          "x1": -0.4693981210930369,
          "x2": -0.5491651220630955,
          "x3": -2.9114955354071386
         },
         {
          "x1": -1.7886215986747753,
          "x2": -2.8869518428009666,
          "x3": -2.9114955354071386
         },
         {
          "x1": -1.7886215986747753,
          "x2": -0.5491651220630955,
          "x3": -0.3589515043652636
         },
         {
          "x1": -0.4693981210930369,
          "x2": -2.8869518428009666,
          "x3": -0.3589515043652636
         },
         {
          "x1": 1.3529710549152245,
          "x2": 2.592427531526904,
          "x3": 0.2300971181828615
         },
         {
          "x1": 2.672194532496963,
          "x2": 2.592427531526904,
          "x3": 0.2300971181828615
         },
         {
          "x1": 1.3529710549152245,
          "x2": 0.254640810789033,
          "x3": 0.2300971181828615
         },
         {
          "x1": 1.3529710549152245,
          "x2": 2.592427531526904,
          "x3": 2.7826411492247365
         },
         {
          "x1": 2.672194532496963,
          "x2": 0.254640810789033,
          "x3": 2.7826411492247365
         },
         {
          "x1": 2.923767381710225,
          "x2": -2.1199614488580956,
          "x3": -1.3406992086121388
         },
         {
          "x1": -2.0401944478880374,
          "x2": -2.1199614488580956,
          "x3": -1.3406992086121388
         },
         {
          "x1": 2.923767381710225,
          "x2": 1.825437137584033,
          "x3": -1.3406992086121388
         },
         {
          "x1": 2.923767381710225,
          "x2": -2.1199614488580956,
          "x3": 1.211844822429736
         },
         {
          "x1": -2.0401944478880374,
          "x2": 1.825437137584033,
          "x3": 1.211844822429736
         },
         {
          "x1": -0.21782527187977552,
          "x2": 1.0216312047319045,
          "x3": 1.800893444977861
         },
         {
          "x1": 1.1013982057019627,
          "x2": 1.0216312047319045,
          "x3": 1.800893444977861
         },
         {
          "x1": -0.21782527187977552,
          "x2": -1.3161555160059668,
          "x3": 1.800893444977861
         },
         {
          "x1": -0.21782527187977552,
          "x2": 1.0216312047319045,
          "x3": -1.9297478311602636
         },
         {
          "x1": 1.1013982057019627,
          "x2": -1.3161555160059668,
          "x3": -1.9297478311602636
         },
         {
          "x1": -1.0032234352772753,
          "x2": -2.905359612255596,
          "x3": 1.0154952815803613
         },
         {
          "x1": 0.3160000423044629,
          "x2": -2.905359612255596,
          "x3": 1.0154952815803613
         },
         {
          "x1": -1.0032234352772753,
          "x2": -0.5307573526084668,
          "x3": 1.0154952815803613
         },
         {
          "x1": -1.0032234352772753,
          "x2": -2.905359612255596,
          "x3": -1.1443496677627636
         },
         {
          "x1": 0.3160000423044629,
          "x2": -0.5307573526084668,
          "x3": -1.1443496677627636
         },
         {
          "x1": 2.1383692183127243,
          "x2": 0.23623304133440426,
          "x3": -2.1260973720096388
         },
         {
          "x1": -2.825592611285537,
          "x2": 0.23623304133440426,
          "x3": -2.1260973720096388
         },
         {
          "x1": 2.1383692183127243,
          "x2": 2.610835300981533,
          "x3": -2.1260973720096388
         },
         {
          "x1": 2.1383692183127243,
          "x2": 0.23623304133440426,
          "x3": 1.9972429858272367
         },
         {
          "x1": -2.825592611285537,
          "x2": 2.610835300981533,
          "x3": 1.9972429858272367
         },
         {
          "x1": 0.5675728915177247,
          "x2": -1.3345632854605958,
          "x3": 2.5862916083753618
         },
         {
          "x1": 1.8867963690994634,
          "x2": -1.3345632854605958,
          "x3": 2.5862916083753618
         },
         {
          "x1": 0.5675728915177247,
          "x2": 1.0400389741865332,
          "x3": 2.5862916083753618
         },
         {
          "x1": 0.5675728915177247,
          "x2": -1.3345632854605958,
          "x3": 0.4264466590322362
         },
         {
          "x1": 1.8867963690994634,
          "x2": 1.0400389741865332,
          "x3": 0.4264466590322362
         },
         {
          "x1": -2.5740197620722753,
          "x2": 1.8070293681294043,
          "x3": -0.5553010452146387
         },
         {
          "x1": -1.2547962844905372,
          "x2": 1.8070293681294043,
          "x3": -0.5553010452146387
         },
         {
          "x1": -2.5740197620722753,
          "x2": -2.101553679403467,
          "x3": -0.5553010452146387
         },
         {
          "x1": -2.5740197620722753,
          "x2": 1.8070293681294043,
          "x3": -2.715145994557764
         },
         {
          "x1": -1.2547962844905372,
          "x2": -2.101553679403467,
          "x3": -2.715145994557764
         },
         {
          "x1": -2.3776702212229006,
          "x2": -1.5309128263099707,
          "x3": 0.03374757733348632
         },
         {
          "x1": 1.2977477465513383,
          "x2": -1.5309128263099707,
          "x3": 0.03374757733348632
         },
         {
          "x1": -2.3776702212229006,
          "x2": 2.0217866784334086,
          "x3": 0.03374757733348632
         },
         {
          "x1": -2.3776702212229006,
          "x2": -1.5309128263099707,
          "x3": 2.1935925266766114
         },
         {
          "x1": 1.2977477465513383,
          "x2": 2.0217866784334086,
          "x3": 2.1935925266766114
         },
         {
          "x1": 0.7639224323670994,
          "x2": 1.6106798272800296,
          "x3": -3.1078450762565137
         },
         {
          "x1": -1.8438449070386622,
          "x2": 1.6106798272800296,
          "x3": -3.1078450762565137
         },
         {
          "x1": 0.7639224323670994,
          "x2": -1.1198059751565919,
          "x3": -3.1078450762565137
         },
         {
          "x1": 0.7639224323670994,
          "x2": 1.6106798272800296,
          "x3": -0.9480001269133886
         },
         {
          "x1": -1.8438449070386622,
          "x2": -1.1198059751565919,
          "x3": -0.9480001269133886
         },
         {
          "x1": 2.3347187591621,
          "x2": -3.101709153104971,
          "x3": 1.6045439041284864
         },
         {
          "x1": 2.868544073346338,
          "x2": -3.101709153104971,
          "x3": 1.6045439041284864
         },
         {
          "x1": 2.3347187591621,
          "x2": -2.690602301951592,
          "x3": 1.6045439041284864
         },
         {
          "x1": 2.3347187591621,
          "x2": -3.101709153104971,
          "x3": -2.5187964537083887
         },
         {
          "x1": 2.868544073346338,
          "x2": -2.690602301951592,
          "x3": -2.5187964537083887
         },
         {
          "x1": -0.8068738944279006,
          "x2": 0.03988350048502909,
          "x3": -1.5370487494615137
         },
         {
          "x1": -0.2730485802436622,
          "x2": 0.03988350048502909,
          "x3": -1.5370487494615137
         },
         {
          "x1": -0.8068738944279006,
          "x2": 0.45099035163840817,
          "x3": -1.5370487494615137
         },
         {
          "x1": -0.8068738944279006,
          "x2": 0.03988350048502909,
          "x3": 0.6227961998816114
         },
         {
          "x1": -0.2730485802436622,
          "x2": 0.45099035163840817,
          "x3": 0.6227961998816114
         },
         {
          "x1": -0.021475731030400347,
          "x2": -2.3163109897074707,
          "x3": -2.3224469128590135
         },
         {
          "x1": -1.058446743641162,
          "x2": -2.3163109897074707,
          "x3": -2.3224469128590135
         },
         {
          "x1": -0.021475731030400347,
          "x2": 1.236388515035908,
          "x3": -2.3224469128590135
         },
         {
          "x1": -0.021475731030400347,
          "x2": -2.3163109897074707,
          "x3": 2.978990690074111
         },
         {
          "x1": -1.058446743641162,
          "x2": 1.236388515035908,
          "x3": 2.978990690074111
         },
         {
          "x1": 3.1201169225595997,
          "x2": 0.8252816638825293,
          "x3": 0.8191457407309866
         },
         {
          "x1": 2.083145909948838,
          "x2": 0.8252816638825293,
          "x3": 0.8191457407309866
         },
         {
          "x1": 3.1201169225595997,
          "x2": -1.9052041385540919,
          "x3": 0.8191457407309866
         },
         {
          "x1": 3.1201169225595997,
          "x2": 0.8252816638825293,
          "x3": -0.16260196351588885
         },
         {
          "x1": 2.083145909948838,
          "x2": -1.9052041385540919,
          "x3": -0.16260196351588885
         },
         {
          "x1": 1.5493205957645992,
          "x2": -0.7455146629124707,
          "x3": -0.7516505860640135
         },
         {
          "x1": -2.629243070436162,
          "x2": -0.7455146629124707,
          "x3": -0.7516505860640135
         },
         {
          "x1": 1.5493205957645992,
          "x2": -0.3344078117590916,
          "x3": -0.7516505860640135
         },
         {
          "x1": 1.5493205957645992,
          "x2": -0.7455146629124707,
          "x3": -1.7333982903108887
         },
         {
          "x1": -2.629243070436162,
          "x2": -0.3344078117590916,
          "x3": -1.7333982903108887
         },
         {
          "x1": -1.5922720578254004,
          "x2": 2.3960779906775294,
          "x3": 2.389942067525986
         },
         {
          "x1": 0.512349583153838,
          "x2": 2.3960779906775294,
          "x3": 2.389942067525986
         },
         {
          "x1": -1.5922720578254004,
          "x2": 2.8071848418309084,
          "x3": 2.389942067525986
         },
         {
          "x1": -1.5922720578254004,
          "x2": 2.3960779906775294,
          "x3": 1.4081943632791116
         },
         {
          "x1": 0.512349583153838,
          "x2": 2.8071848418309084,
          "x3": 1.4081943632791116
         },
         {
          "x1": -1.9849711395241505,
          "x2": -2.7090100714062206,
          "x3": -0.3589515043652636
         },
         {
          "x1": 1.6904468282500877,
          "x2": -2.7090100714062206,
          "x3": -0.3589515043652636
         },
         {
          "x1": -1.9849711395241505,
          "x2": -1.5125050568553418,
          "x3": -0.3589515043652636
         },
         {
          "x1": -1.9849711395241505,
          "x2": -2.7090100714062206,
          "x3": 0.2300971181828615
         },
         {
          "x1": 1.6904468282500877,
          "x2": -1.5125050568553418,
          "x3": 0.2300971181828615
         },
         {
          "x1": 1.1566215140658498,
          "x2": 0.43258258218377943,
          "x3": 2.7826411492247365
         },
         {
          "x1": -1.451145825339912,
          "x2": 0.43258258218377943,
          "x3": 2.7826411492247365
         },
         {
          "x1": 1.1566215140658498,
          "x2": 1.6290875967346583,
          "x3": 2.7826411492247365
         },
         {
          "x1": 1.1566215140658498,
          "x2": 0.43258258218377943,
          "x3": -2.9114955354071386
         },
         {
          "x1": -1.451145825339912,
          "x2": 1.6290875967346583,
          "x3": -2.9114955354071386
         },
         {
          "x1": 2.7274178408608494,
          "x2": -1.1382137446112206,
          "x3": -1.9297478311602636
         },
         {
          "x1": 0.11965050145508771,
          "x2": -1.1382137446112206,
          "x3": -1.9297478311602636
         },
         {
          "x1": 2.7274178408608494,
          "x2": 0.058291269939658275,
          "x3": -1.9297478311602636
         },
         {
          "x1": 2.7274178408608494,
          "x2": -1.1382137446112206,
          "x3": -1.3406992086121388
         },
         {
          "x1": 0.11965050145508771,
          "x2": 0.058291269939658275,
          "x3": -1.3406992086121388
         },
         {
          "x1": -0.41417481272915024,
          "x2": 2.003378908978779,
          "x3": 1.211844822429736
         },
         {
          "x1": -3.0219421521349124,
          "x2": 2.003378908978779,
          "x3": 1.211844822429736
         },
         {
          "x1": -0.41417481272915024,
          "x2": -3.083301383650342,
          "x3": 1.211844822429736
         },
         {
          "x1": -0.41417481272915024,
          "x2": 2.003378908978779,
          "x3": 1.800893444977861
         },
         {
          "x1": -3.0219421521349124,
          "x2": -3.083301383650342,
          "x3": 1.800893444977861
         },
         {
          "x1": -1.1995729761266505,
          "x2": -0.3528155812137208,
          "x3": 1.9972429858272367
         },
         {
          "x1": -2.236543988737412,
          "x2": -0.3528155812137208,
          "x3": 1.9972429858272367
         },
         {
          "x1": -1.1995729761266505,
          "x2": -2.297903220252842,
          "x3": 1.9972429858272367
         },
         {
          "x1": -1.1995729761266505,
          "x2": -0.3528155812137208,
          "x3": 1.0154952815803613
         },
         {
          "x1": -2.236543988737412,
          "x2": -2.297903220252842,
          "x3": 1.0154952815803613
         },
         {
          "x1": 1.9420196774633496,
          "x2": 2.7887770723762797,
          "x3": -1.1443496677627636
         },
         {
          "x1": 0.905048664852588,
          "x2": 2.7887770723762797,
          "x3": -1.1443496677627636
         },
         {
          "x1": 1.9420196774633496,
          "x2": 0.8436894333371581,
          "x3": -1.1443496677627636
         },
         {
          "x1": 1.9420196774633496,
          "x2": 2.7887770723762797,
          "x3": -2.1260973720096388
         },
         {
          "x1": 0.905048664852588,
          "x2": 0.8436894333371581,
          "x3": -2.1260973720096388
         },
         {
          "x1": 0.37122335066834955,
          "x2": -1.9236119080087208,
          "x3": 0.4264466590322362
         },
         {
          "x1": -0.6657476619424121,
          "x2": -1.9236119080087208,
          "x3": 0.4264466590322362
         },
         {
          "x1": 0.37122335066834955,
          "x2": 2.414485760132158,
          "x3": 0.4264466590322362
         },
         {
          "x1": 0.37122335066834955,
          "x2": -1.9236119080087208,
          "x3": -0.5553010452146387
         },
         {
          "x1": -0.6657476619424121,
          "x2": 2.414485760132158,
          "x3": -0.5553010452146387
         },
         {
          "x1": -2.7703693029216505,
          "x2": 1.2179807455812792,
          "x3": -2.715145994557764
         },
         {
          "x1": 2.4758449916475875,
          "x2": 1.2179807455812792,
          "x3": -2.715145994557764
         },
         {
          "x1": -2.7703693029216505,
          "x2": -0.727106893457842,
          "x3": -2.715145994557764
         },
         {
          "x1": -2.7703693029216505,
          "x2": 1.2179807455812792,
          "x3": 2.5862916083753618
         },
         {
          "x1": 2.4758449916475875,
          "x2": -0.727106893457842,
          "x3": 2.5862916083753618
         },
         {
          "x1": -2.868544073346338,
          "x2": -0.058291269939658275,
          "x3": -1.2425244381874512
         },
         {
          "x1": 0.41417481272915024,
          "x2": -0.058291269939658275,
          "x3": -1.2425244381874512
         },
         {
          "x1": -2.868544073346338,
          "x2": 1.5309128263099705,
          "x3": -1.2425244381874512
         },
         {
          "x1": -2.868544073346338,
          "x2": -0.058291269939658275,
          "x3": 1.8990682154025489
         },
         {
          "x1": 0.41417481272915024,
          "x2": 1.5309128263099705,
          "x3": 1.8990682154025489
         },
         {
          "x1": 0.2730485802436622,
          "x2": 3.0833013836503422,
          "x3": 1.8990682154025489
         },
         {
          "x1": -2.72741784086085,
          "x2": 3.0833013836503422,
          "x3": 1.8990682154025489
         },
         {
          "x1": 0.2730485802436622,
          "x2": -1.6106798272800293,
          "x3": 1.8990682154025489
         },
         {
          "x1": 0.2730485802436622,
          "x2": 3.0833013836503422,
          "x3": -1.2425244381874512
         },
         {
          "x1": -2.72741784086085,
          "x2": -1.6106798272800293,
          "x3": -1.2425244381874512
         },
         {
          "x1": 1.8438449070386618,
          "x2": -1.6290875967346583,
          "x3": -2.813320764982451
         },
         {
          "x1": 1.9849711395241503,
          "x2": -1.6290875967346583,
          "x3": -2.813320764982451
         },
         {
          "x1": 1.8438449070386618,
          "x2": -0.03988350048502909,
          "x3": -2.813320764982451
         },
         {
          "x1": 1.8438449070386618,
          "x2": -1.6290875967346583,
          "x3": -2.813320764982451
         },
         {
          "x1": 1.9849711395241503,
          "x2": -0.03988350048502909,
          "x3": -2.813320764982451
         },
         {
          "x1": -1.2977477465513378,
          "x2": 1.5125050568553418,
          "x3": 0.32827188860754886
         },
         {
          "x1": -1.1566215140658496,
          "x2": 1.5125050568553418,
          "x3": 0.32827188860754886
         },
         {
          "x1": -1.2977477465513378,
          "x2": 3.101709153104971,
          "x3": 0.32827188860754886
         },
         {
          "x1": -1.2977477465513378,
          "x2": 1.5125050568553418,
          "x3": 0.32827188860754886
         },
         {
          "x1": -1.1566215140658496,
          "x2": 3.101709153104971,
          "x3": 0.32827188860754886
         },
         {
          "x1": -0.512349583153838,
          "x2": -2.414485760132158,
          "x3": 2.6844663788000487
         },
         {
          "x1": -0.37122335066834955,
          "x2": -2.414485760132158,
          "x3": 2.6844663788000487
         },
         {
          "x1": -0.512349583153838,
          "x2": 2.316310989707471,
          "x3": 2.6844663788000487
         },
         {
          "x1": -0.512349583153838,
          "x2": -2.414485760132158,
          "x3": 2.6844663788000487
         },
         {
          "x1": -0.37122335066834955,
          "x2": 2.316310989707471,
          "x3": 2.6844663788000487
         },
         {
          "x1": 2.6292430704361625,
          "x2": 0.727106893457842,
          "x3": -0.4571262747899514
         },
         {
          "x1": 2.77036930292165,
          "x2": 0.727106893457842,
          "x3": -0.4571262747899514
         },
         {
          "x1": 2.6292430704361625,
          "x2": -0.8252816638825293,
          "x3": -0.4571262747899514
         },
         {
          "x1": 2.6292430704361625,
          "x2": 0.727106893457842,
          "x3": -0.4571262747899514
         },
         {
          "x1": 2.77036930292165,
          "x2": -0.8252816638825293,
          "x3": -0.4571262747899514
         },
         {
          "x1": 1.058446743641162,
          "x2": -0.8436894333371581,
          "x3": 1.113670052005049
         },
         {
          "x1": -1.9420196774633496,
          "x2": -0.8436894333371581,
          "x3": 1.113670052005049
         },
         {
          "x1": 1.058446743641162,
          "x2": -2.3960779906775294,
          "x3": 1.113670052005049
         },
         {
          "x1": 1.058446743641162,
          "x2": -0.8436894333371581,
          "x3": -2.027922601584951
         },
         {
          "x1": -1.9420196774633496,
          "x2": -2.3960779906775294,
          "x3": -2.027922601584951
         },
         {
          "x1": -2.083145909948838,
          "x2": 2.2979032202528415,
          "x3": -2.027922601584951
         },
         {
          "x1": 1.1995729761266505,
          "x2": 2.2979032202528415,
          "x3": -2.027922601584951
         },
         {
          "x1": -2.083145909948838,
          "x2": 0.7455146629124707,
          "x3": -2.027922601584951
         },
         {
          "x1": -2.083145909948838,
          "x2": 2.2979032202528415,
          "x3": 1.113670052005049
         },
         {
          "x1": 1.1995729761266505,
          "x2": 0.7455146629124707,
          "x3": 1.113670052005049
         },
         {
          "x1": -1.690446828250088,
          "x2": -2.021786678433408,
          "x3": 1.5063691337037985
         },
         {
          "x1": 2.3776702212229006,
          "x2": -2.021786678433408,
          "x3": 1.5063691337037985
         },
         {
          "x1": -1.690446828250088,
          "x2": -2.003378908978779,
          "x3": 1.5063691337037985
         },
         {
          "x1": -1.690446828250088,
          "x2": -2.021786678433408,
          "x3": 0.7209709703062988
         },
         {
          "x1": 2.3776702212229006,
          "x2": -2.003378908978779,
          "x3": 0.7209709703062988
         },
         {
          "x1": 1.4511458253399123,
          "x2": 1.1198059751565914,
          "x3": -1.6352235198862013
         },
         {
          "x1": -0.7639224323670994,
          "x2": 1.1198059751565914,
          "x3": -1.6352235198862013
         },
         {
          "x1": 1.4511458253399123,
          "x2": 1.138213744611221,
          "x3": -1.6352235198862013
         },
         {
          "x1": 1.4511458253399123,
          "x2": 1.1198059751565914,
          "x3": -2.4206216832837013
         },
         {
          "x1": -0.7639224323670994,
          "x2": 1.138213744611221,
          "x3": -2.4206216832837013
         },
         {
          "x1": 3.021942152134912,
          "x2": -0.45099035163840817,
          "x3": 3.077165460498799
         },
         {
          "x1": 0.8068738944279006,
          "x2": -0.45099035163840817,
          "x3": 3.077165460498799
         },
         {
          "x1": 3.021942152134912,
          "x2": 2.7090100714062206,
          "x3": 3.077165460498799
         },
         {
          "x1": 3.021942152134912,
          "x2": -0.45099035163840817,
          "x3": -0.8498253564887013
         },
         {
          "x1": 0.8068738944279006,
          "x2": 2.7090100714062206,
          "x3": -0.8498253564887013
         },
         {
          "x1": -0.11965050145508771,
          "x2": 2.690602301951592,
          "x3": -0.06442719309120104
         },
         {
          "x1": -2.3347187591621,
          "x2": 2.690602301951592,
          "x3": -0.06442719309120104
         },
         {
          "x1": -0.11965050145508771,
          "x2": -0.43258258218377943,
          "x3": -0.06442719309120104
         },
         {
          "x1": -0.11965050145508771,
          "x2": 2.690602301951592,
          "x3": 2.2917672971012992
         },
         {
          "x1": -2.3347187591621,
          "x2": -0.43258258218377943,
          "x3": 2.2917672971012992
         },
         {
          "x1": -0.905048664852588,
          "x2": -1.2363885150359082,
          "x3": -2.4206216832837013
         },
         {
          "x1": -3.1201169225595997,
          "x2": -1.2363885150359082,
          "x3": -2.4206216832837013
         },
         {
          "x1": -0.905048664852588,
          "x2": -1.2179807455812792,
          "x3": -2.4206216832837013
         },
         {
          "x1": -0.905048664852588,
          "x2": -1.2363885150359082,
          "x3": 1.5063691337037985
         },
         {
          "x1": -3.1201169225595997,
          "x2": -1.2179807455812792,
          "x3": 1.5063691337037985
         },
         {
          "x1": 2.236543988737412,
          "x2": 1.905204138554092,
          "x3": 0.7209709703062988
         },
         {
          "x1": 0.021475731030400347,
          "x2": 1.905204138554092,
          "x3": 0.7209709703062988
         },
         {
          "x1": 2.236543988737412,
          "x2": 1.9236119080087208,
          "x3": 0.7209709703062988
         },
         {
          "x1": 2.236543988737412,
          "x2": 1.905204138554092,
          "x3": -1.6352235198862013
         },
         {
          "x1": 0.021475731030400347,
          "x2": 1.9236119080087208,
          "x3": -1.6352235198862013
         },
         {
          "x1": 0.6657476619424121,
          "x2": -2.8071848418309084,
          "x3": -0.8498253564887013
         },
         {
          "x1": -1.5493205957645997,
          "x2": -2.8071848418309084,
          "x3": -0.8498253564887013
         },
         {
          "x1": 0.6657476619424121,
          "x2": 0.3528155812137208,
          "x3": -0.8498253564887013
         },
         {
          "x1": 0.6657476619424121,
          "x2": -2.8071848418309084,
          "x3": -0.06442719309120104
         },
         {
          "x1": -1.5493205957645997,
          "x2": 0.3528155812137208,
          "x3": -0.06442719309120104
         },
         {
          "x1": -2.475844991647588,
          "x2": 0.3344078117590916,
          "x3": 2.2917672971012992
         },
         {
          "x1": 1.5922720578254008,
          "x2": 0.3344078117590916,
          "x3": 2.2917672971012992
         },
         {
          "x1": -2.475844991647588,
          "x2": -2.7887770723762793,
          "x3": 2.2917672971012992
         },
         {
          "x1": -2.475844991647588,
          "x2": 0.3344078117590916,
          "x3": 3.077165460498799
         },
         {
          "x1": 1.5922720578254008,
          "x2": -2.7887770723762793,
          "x3": 3.077165460498799
         },
         {
          "x1": -2.672194532496963,
          "x2": -3.003534382680283,
          "x3": -1.8315730607355762
         },
         {
          "x1": -1.7456701366139746,
          "x2": -3.003534382680283,
          "x3": -1.8315730607355762
         },
         {
          "x1": -2.672194532496963,
          "x2": 2.9053596122555954,
          "x3": -1.8315730607355762
         },
         {
          "x1": -2.672194532496963,
          "x2": -3.003534382680283,
          "x3": -1.8315730607355762
         },
         {
          "x1": -1.7456701366139746,
          "x2": 2.9053596122555954,
          "x3": -1.8315730607355762
         },
         {
          "x1": 0.4693981210930369,
          "x2": 0.1380582709097169,
          "x3": 1.3100195928544238
         },
         {
          "x1": 1.3959225169760252,
          "x2": 0.1380582709097169,
          "x3": 1.3100195928544238
         },
         {
          "x1": 0.4693981210930369,
          "x2": -0.23623304133440426,
          "x3": 1.3100195928544238
         },
         {
          "x1": 0.4693981210930369,
          "x2": 0.1380582709097169,
          "x3": 1.3100195928544238
         },
         {
          "x1": 1.3959225169760252,
          "x2": -0.23623304133440426,
          "x3": 1.3100195928544238
         },
         {
          "x1": 2.0401944478880374,
          "x2": -1.4327380558852831,
          "x3": -0.2607767339405762
         },
         {
          "x1": -0.17487380981897482,
          "x2": -1.4327380558852831,
          "x3": -0.2607767339405762
         },
         {
          "x1": 2.0401944478880374,
          "x2": -1.8070293681294043,
          "x3": -0.2607767339405762
         },
         {
          "x1": 2.0401944478880374,
          "x2": -1.4327380558852831,
          "x3": 2.8808159196494243
         },
         {
          "x1": -0.17487380981897482,
          "x2": -1.8070293681294043,
          "x3": 2.8808159196494243
         },
         {
          "x1": -1.1013982057019631,
          "x2": 1.7088545977047165,
          "x3": 2.8808159196494243
         },
         {
          "x1": 2.9667188437710257,
          "x2": 1.7088545977047165,
          "x3": 2.8808159196494243
         },
         {
          "x1": -1.1013982057019631,
          "x2": 1.3345632854605958,
          "x3": 2.8808159196494243
         },
         {
          "x1": -1.1013982057019631,
          "x2": 1.7088545977047165,
          "x3": -0.2607767339405762
         },
         {
          "x1": 2.9667188437710257,
          "x2": 1.3345632854605958,
          "x3": -0.2607767339405762
         },
         {
          "x1": -0.3160000423044629,
          "x2": -0.6473398924877833,
          "x3": 0.524621429456924
         },
         {
          "x1": 2.181320680373525,
          "x2": -0.6473398924877833,
          "x3": 0.524621429456924
         },
         {
          "x1": -0.3160000423044629,
          "x2": 0.5491651220630955,
          "x3": 0.524621429456924
         },
         {
          "x1": -0.3160000423044629,
          "x2": -0.6473398924877833,
          "x3": -2.616971224133076
         },
         {
          "x1": 2.181320680373525,
          "x2": 0.5491651220630955,
          "x3": -2.616971224133076
         },
         {
          "x1": 2.825592611285537,
          "x2": 2.494252761102217,
          "x3": -2.616971224133076
         },
         {
          "x1": -0.9602719732164746,
          "x2": 2.494252761102217,
          "x3": -2.616971224133076
         },
         {
          "x1": 2.825592611285537,
          "x2": -2.592427531526904,
          "x3": -2.616971224133076
         },
         {
          "x1": 2.825592611285537,
          "x2": 2.494252761102217,
          "x3": 0.524621429456924
         },
         {
          "x1": -0.9602719732164746,
          "x2": -2.592427531526904,
          "x3": 0.524621429456924
         },
         {
          "x1": 1.2547962844905367,
          "x2": -2.2181362192827834,
          "x3": 2.0954177562519236
         },
         {
          "x1": 0.6105243535785254,
          "x2": -2.2181362192827834,
          "x3": 2.0954177562519236
         },
         {
          "x1": 1.2547962844905367,
          "x2": -1.0216312047319045,
          "x3": 2.0954177562519236
         },
         {
          "x1": 1.2547962844905367,
          "x2": -2.2181362192827834,
          "x3": 2.0954177562519236
         },
         {
          "x1": 0.6105243535785254,
          "x2": -1.0216312047319045,
          "x3": 2.0954177562519236
         },
         {
          "x1": -1.886796369099463,
          "x2": 0.9234564343072167,
          "x3": -1.046174897338076
         },
         {
          "x1": -2.5310683000114746,
          "x2": 0.9234564343072167,
          "x3": -1.046174897338076
         },
         {
          "x1": -1.886796369099463,
          "x2": 2.1199614488580956,
          "x3": -1.046174897338076
         },
         {
          "x1": -1.886796369099463,
          "x2": 0.9234564343072167,
          "x3": -1.046174897338076
         },
         {
          "x1": -2.5310683000114746,
          "x2": 2.1199614488580956,
          "x3": -1.046174897338076
         },
         {
          "x1": -2.279495450798213,
          "x2": -1.0400389741865332,
          "x3": 1.7027186745531742
         },
         {
          "x1": -1.3529710549152247,
          "x2": -1.0400389741865332,
          "x3": 1.7027186745531742
         },
         {
          "x1": -2.279495450798213,
          "x2": -0.6289321230331542,
          "x3": 1.7027186745531742
         },
         {
          "x1": -2.279495450798213,
          "x2": -1.0400389741865332,
          "x3": -0.6534758156393261
         },
         {
          "x1": -1.3529710549152247,
          "x2": -0.6289321230331542,
          "x3": -0.6534758156393261
         },
         {
          "x1": 0.8620972027917873,
          "x2": 2.101553679403467,
          "x3": -1.4388739790368261
         },
         {
          "x1": 1.7886215986747755,
          "x2": 2.101553679403467,
          "x3": -1.4388739790368261
         },
         {
          "x1": 0.8620972027917873,
          "x2": 2.512660530556846,
          "x3": -1.4388739790368261
         },
         {
          "x1": 0.8620972027917873,
          "x2": 2.101553679403467,
          "x3": 2.488116837950674
         },
         {
          "x1": 1.7886215986747755,
          "x2": 2.512660530556846,
          "x3": 2.488116837950674
         },
         {
          "x1": 2.432893529586787,
          "x2": -2.6108353009815333,
          "x3": 0.13192234775817369
         },
         {
          "x1": -2.9237673817102245,
          "x2": -2.6108353009815333,
          "x3": 0.13192234775817369
         },
         {
          "x1": 2.432893529586787,
          "x2": 0.9418642037618454,
          "x3": 0.13192234775817369
         },
         {
          "x1": 2.432893529586787,
          "x2": -2.6108353009815333,
          "x3": 0.9173205111556735
         },
         {
          "x1": -2.9237673817102245,
          "x2": 0.9418642037618454,
          "x3": 0.9173205111556735
         },
         {
          "x1": -0.7086991240032128,
          "x2": 0.5307573526084668,
          "x3": -3.0096703058318264
         },
         {
          "x1": 0.21782527187977552,
          "x2": 0.5307573526084668,
          "x3": -3.0096703058318264
         },
         {
          "x1": -0.7086991240032128,
          "x2": -2.199728449828154,
          "x3": -3.0096703058318264
         },
         {
          "x1": -0.7086991240032128,
          "x2": 0.5307573526084668,
          "x3": -2.224272142434326
         },
         {
          "x1": 0.21782527187977552,
          "x2": -2.199728449828154,
          "x3": -2.224272142434326
         },
         {
          "x1": -1.494097287400713,
          "x2": -1.8254371375840333,
          "x3": -0.6534758156393261
         },
         {
          "x1": 1.0032234352772758,
          "x2": -1.8254371375840333,
          "x3": -0.6534758156393261
         },
         {
          "x1": -1.494097287400713,
          "x2": -2.9851266132256544,
          "x3": -0.6534758156393261
         },
         {
          "x1": -1.494097287400713,
          "x2": -1.8254371375840333,
          "x3": -1.4388739790368261
         },
         {
          "x1": 1.0032234352772758,
          "x2": -2.9851266132256544,
          "x3": -1.4388739790368261
         },
         {
          "x1": 1.647495366189287,
          "x2": 1.316155516005967,
          "x3": 2.488116837950674
         },
         {
          "x1": -2.1383692183127248,
          "x2": 1.316155516005967,
          "x3": 2.488116837950674
         },
         {
          "x1": 1.647495366189287,
          "x2": 0.15646604036434564,
          "x3": 2.488116837950674
         },
         {
          "x1": 1.647495366189287,
          "x2": 1.316155516005967,
          "x3": 1.7027186745531742
         },
         {
          "x1": -2.1383692183127248,
          "x2": 0.15646604036434564,
          "x3": 1.7027186745531742
         },
         {
          "x1": 0.07669903939428702,
          "x2": -0.254640810789033,
          "x3": -2.224272142434326
         },
         {
          "x1": 2.5740197620722753,
          "x2": -0.254640810789033,
          "x3": -2.224272142434326
         },
         {
          "x1": 0.07669903939428702,
          "x2": 1.7272623671593461,
          "x3": -2.224272142434326
         },
         {
          "x1": 0.07669903939428702,
          "x2": -0.254640810789033,
          "x3": 0.13192234775817369
         },
         {
          "x1": 2.5740197620722753,
          "x2": 1.7272623671593461,
          "x3": 0.13192234775817369
         },
         {
          "x1": -3.064893614195713,
          "x2": 2.8869518428009666,
          "x3": 0.9173205111556735
         },
         {
          "x1": -0.5675728915177247,
          "x2": 2.8869518428009666,
          "x3": 0.9173205111556735
         },
         {
          "x1": -3.064893614195713,
          "x2": -1.4143302864306544,
          "x3": 0.9173205111556735
         },
         {
          "x1": -3.064893614195713,
          "x2": 2.8869518428009666,
          "x3": -3.0096703058318264
         },
         {
          "x1": -0.5675728915177247,
          "x2": -1.4143302864306544,
          "x3": -3.0096703058318264
         },
         {
          "x1": -3.089437306801885,
          "x2": -2.880815919649424,
          "x3": -0.7761942786701854
         },
         {
          "x1": 3.0403499215895406,
          "x2": -2.880815919649424,
          "x3": -0.7761942786701854
         },
         {
          "x1": -3.089437306801885,
          "x2": 2.2426799118889553,
          "x3": -0.7761942786701854
         },
         {
          "x1": -3.089437306801885,
          "x2": -2.880815919649424,
          "x3": 3.101709153104971
         },
         {
          "x1": 3.0403499215895406,
          "x2": 2.2426799118889553,
          "x3": 3.101709153104971
         },
         {
          "x1": 0.052155346788115065,
          "x2": 0.2607767339405762,
          "x3": 2.365398374919814
         },
         {
          "x1": -0.10124273200045897,
          "x2": 0.2607767339405762,
          "x3": 2.365398374919814
         },
         {
          "x1": 0.052155346788115065,
          "x2": -0.8989127417010447,
          "x3": 2.365398374919814
         },
         {
          "x1": 0.052155346788115065,
          "x2": 0.2607767339405762,
          "x3": -0.03988350048502909
         },
         {
          "x1": -0.10124273200045897,
          "x2": -0.8989127417010447,
          "x3": -0.03988350048502909
         },
         {
          "x1": 1.622951673583115,
          "x2": -1.3100195928544238,
          "x3": -2.3469906054651855
         },
         {
          "x1": 1.469553594794541,
          "x2": -1.3100195928544238,
          "x3": -2.3469906054651855
         },
         {
          "x1": 1.622951673583115,
          "x2": -2.469709068496045,
          "x3": -2.3469906054651855
         },
         {
          "x1": 1.622951673583115,
          "x2": -1.3100195928544238,
          "x3": -1.6106798272800293
         },
         {
          "x1": 1.469553594794541,
          "x2": -2.469709068496045,
          "x3": -1.6106798272800293
         },
         {
          "x1": -1.5186409800068847,
          "x2": 1.8315730607355762,
          "x3": 0.7946020481248146
         },
         {
          "x1": -1.672039058795459,
          "x2": 1.8315730607355762,
          "x3": 0.7946020481248146
         },
         {
          "x1": -1.5186409800068847,
          "x2": 0.6718835850939553,
          "x3": 0.7946020481248146
         },
         {
          "x1": -1.5186409800068847,
          "x2": 1.8315730607355762,
          "x3": 1.5309128263099705
         },
         {
          "x1": -1.672039058795459,
          "x2": 0.6718835850939553,
          "x3": 1.5309128263099705
         },
         {
          "x1": -0.7332428166093847,
          "x2": -0.524621429456924,
          "x3": 1.5800002115223144
         },
         {
          "x1": -2.457437222192959,
          "x2": -0.524621429456924,
          "x3": 1.5800002115223144
         },
         {
          "x1": -0.7332428166093847,
          "x2": 1.4572817484914555,
          "x3": 1.5800002115223144
         },
         {
          "x1": -0.7332428166093847,
          "x2": -0.524621429456924,
          "x3": 2.316310989707471
         },
         {
          "x1": -2.457437222192959,
          "x2": 1.4572817484914555,
          "x3": 2.316310989707471
         },
         {
          "x1": 2.408349836980615,
          "x2": 2.616971224133076,
          "x3": -1.5615924420676857
         },
         {
          "x1": 0.6841554313970408,
          "x2": 2.616971224133076,
          "x3": -1.5615924420676857
         },
         {
          "x1": 2.408349836980615,
          "x2": -1.684310905098545,
          "x3": -1.5615924420676857
         },
         {
          "x1": 2.408349836980615,
          "x2": 2.616971224133076,
          "x3": -0.8252816638825293
         },
         {
          "x1": 0.6841554313970408,
          "x2": -1.684310905098545,
          "x3": -0.8252816638825293
         },
         {
          "x1": 0.8375535101856153,
          "x2": -2.0954177562519236,
          "x3": 0.009203884727314371
         },
         {
          "x1": -0.8866408953979592,
          "x2": -2.0954177562519236,
          "x3": 0.009203884727314371
         },
         {
          "x1": 0.8375535101856153,
          "x2": -0.11351457830354494,
          "x3": 0.009203884727314371
         },
         {
          "x1": 0.8375535101856153,
          "x2": -2.0954177562519236,
          "x3": -2.3960779906775294
         },
         {
          "x1": -0.8866408953979592,
          "x2": -0.11351457830354494,
          "x3": -2.3960779906775294
         },
         {
          "x1": -2.3040391434043848,
          "x2": 1.0461748973380764,
          "x3": -3.1323887688626857
         },
         {
          "x1": 2.254951758192041,
          "x2": 1.0461748973380764,
          "x3": -3.1323887688626857
         },
         {
          "x1": -2.3040391434043848,
          "x2": 3.028078075286455,
          "x3": -3.1323887688626857
         },
         {
          "x1": -2.3040391434043848,
          "x2": 1.0461748973380764,
          "x3": 0.7455146629124707
         },
         {
          "x1": 2.254951758192041,
          "x2": 3.028078075286455,
          "x3": 0.7455146629124707
         },
         {
          "x1": -1.9113400617056349,
          "x2": -0.9173205111556739,
          "x3": 0.40190296642606427
         },
         {
          "x1": 0.29145634969829093,
          "x2": -0.9173205111556739,
          "x3": 0.40190296642606427
         },
         {
          "x1": -1.9113400617056349,
          "x2": -1.2916118233997949,
          "x3": 0.40190296642606427
         },
         {
          "x1": -1.9113400617056349,
          "x2": -0.9173205111556739,
          "x3": 1.138213744611221
         },
         {
          "x1": 0.29145634969829093,
          "x2": -1.2916118233997949,
          "x3": 1.138213744611221
         },
         {
          "x1": 1.2302525918843656,
          "x2": 2.2242721424343266,
          "x3": -2.739689687163936
         },
         {
          "x1": -2.850136303891709,
          "x2": 2.2242721424343266,
          "x3": -2.739689687163936
         },
         {
          "x1": 1.2302525918843656,
          "x2": 1.849980830190205,
          "x3": -2.739689687163936
         },
         {
          "x1": 1.2302525918843656,
          "x2": 2.2242721424343266,
          "x3": -2.003378908978779
         },
         {
          "x1": -2.850136303891709,
          "x2": 1.849980830190205,
          "x3": -2.003378908978779
         },
         {
          "x1": 2.8010489186793652,
          "x2": -2.488116837950674,
          "x3": 1.9726992932210647
         },
         {
          "x1": 1.8622526764932914,
          "x2": -2.488116837950674,
          "x3": 1.9726992932210647
         },
         {
          "x1": 2.8010489186793652,
          "x2": 0.27918450339520495,
          "x3": 1.9726992932210647
         },
         {
          "x1": 2.8010489186793652,
          "x2": -2.488116837950674,
          "x3": -0.43258258218377943
         },
         {
          "x1": 1.8622526764932914,
          "x2": 0.27918450339520495,
          "x3": -0.43258258218377943
         },
         {
          "x1": -0.34054373491063483,
          "x2": 0.6534758156393261,
          "x3": -1.1688933603689355
         },
         {
          "x1": -1.279339977096709,
          "x2": 0.6534758156393261,
          "x3": -1.1688933603689355
         },
         {
          "x1": -0.34054373491063483,
          "x2": -2.862408150194795,
          "x3": -1.1688933603689355
         },
         {
          "x1": -0.34054373491063483,
          "x2": 0.6534758156393261,
          "x3": 2.7090100714062206
         },
         {
          "x1": -1.279339977096709,
          "x2": -2.862408150194795,
          "x3": 2.7090100714062206
         },
         {
          "x1": -1.1259418983081346,
          "x2": -1.702718674553174,
          "x3": -1.9542915237664356
         },
         {
          "x1": -0.49394181369920886,
          "x2": -1.702718674553174,
          "x3": -1.9542915237664356
         },
         {
          "x1": -1.1259418983081346,
          "x2": -2.077009986797295,
          "x3": -1.9542915237664356
         },
         {
          "x1": -1.1259418983081346,
          "x2": -1.702718674553174,
          "x3": 0.3528155812137208
         },
         {
          "x1": -0.49394181369920886,
          "x2": -2.077009986797295,
          "x3": 0.3528155812137208
         },
         {
          "x1": 2.0156507552818654,
          "x2": 1.438873979036826,
          "x3": 1.187301129823564
         },
         {
          "x1": 2.647650839890791,
          "x2": 1.438873979036826,
          "x3": 1.187301129823564
         },
         {
          "x1": 2.0156507552818654,
          "x2": 1.0645826667927052,
          "x3": 1.187301129823564
         },
         {
          "x1": 2.0156507552818654,
          "x2": 1.438873979036826,
          "x3": -2.7887770723762793
         },
         {
          "x1": 2.647650839890791,
          "x2": 1.0645826667927052,
          "x3": -2.7887770723762793
         },
         {
          "x1": 0.4448544284868654,
          "x2": -0.13192234775817369,
          "x3": -0.3834951969714355
         },
         {
          "x1": -2.0647381404942093,
          "x2": -0.13192234775817369,
          "x3": -0.3834951969714355
         },
         {
          "x1": 0.4448544284868654,
          "x2": 2.6353789935877048,
          "x3": -0.3834951969714355
         },
         {
          "x1": 0.4448544284868654,
          "x2": -0.13192234775817369,
          "x3": -1.2179807455812792
         },
         {
          "x1": -2.0647381404942093,
          "x2": 2.6353789935877048,
          "x3": -1.2179807455812792
         },
         {
          "x1": -2.6967382251031347,
          "x2": 3.0096703058318264,
          "x3": 2.7580974566185645
         },
         {
          "x1": 1.0768545130957907,
          "x2": 3.0096703058318264,
          "x3": 2.7580974566185645
         },
         {
          "x1": -2.6967382251031347,
          "x2": -0.5062136600022948,
          "x3": 2.7580974566185645
         },
         {
          "x1": -2.6967382251031347,
          "x2": 3.0096703058318264,
          "x3": 1.9236119080087208
         },
         {
          "x1": 1.0768545130957907,
          "x2": -0.5062136600022948,
          "x3": 1.9236119080087208
         },
         {
          "x1": -2.50038868425376,
          "x2": -0.32827188860754886,
          "x3": -2.5433401463145606
         },
         {
          "x1": -1.082990436247334,
          "x2": -0.32827188860754886,
          "x3": -2.5433401463145606
         },
         {
          "x1": -2.50038868425376,
          "x2": 0.4755340442445801,
          "x3": -2.5433401463145606
         },
         {
          "x1": -2.50038868425376,
          "x2": -0.32827188860754886,
          "x3": -2.9851266132256544
         },
         {
          "x1": -1.082990436247334,
          "x2": 0.4755340442445801,
          "x3": -2.9851266132256544
         },
         {
          "x1": 0.6412039693362401,
          "x2": 2.8133207649824516,
          "x3": 0.5982525072754394
         },
         {
          "x1": 2.058602217342666,
          "x2": 2.8133207649824516,
          "x3": 0.5982525072754394
         },
         {
          "x1": 0.6412039693362401,
          "x2": -2.66605860934542,
          "x3": 0.5982525072754394
         },
         {
          "x1": 0.6412039693362401,
          "x2": 2.8133207649824516,
          "x3": 0.15646604036434564
         },
         {
          "x1": 2.058602217342666,
          "x2": -2.66605860934542,
          "x3": 0.15646604036434564
         },
         {
          "x1": 2.21200029613124,
          "x2": -1.8990682154025489,
          "x3": -0.9725438195195606
         },
         {
          "x1": -2.653786763042334,
          "x2": -1.8990682154025489,
          "x3": -0.9725438195195606
         },
         {
          "x1": 2.21200029613124,
          "x2": -1.09526228255042,
          "x3": -0.9725438195195606
         },
         {
          "x1": 2.21200029613124,
          "x2": -1.8990682154025489,
          "x3": 1.7272623671593461
         },
         {
          "x1": -2.653786763042334,
          "x2": -1.09526228255042,
          "x3": 1.7272623671593461
         },
         {
          "x1": -0.9295923574587599,
          "x2": 1.2425244381874512,
          "x3": 2.1690488340704395
         },
         {
          "x1": 0.4878058905476661,
          "x2": 1.2425244381874512,
          "x3": 2.1690488340704395
         },
         {
          "x1": -0.9295923574587599,
          "x2": 2.0463303710395797,
          "x3": 2.1690488340704395
         },
         {
          "x1": -0.9295923574587599,
          "x2": 1.2425244381874512,
          "x3": -1.4143302864306544
         },
         {
          "x1": 0.4878058905476661,
          "x2": 2.0463303710395797,
          "x3": -1.4143302864306544
         },
         {
          "x1": -0.14419419406125966,
          "x2": -2.6844663788000487,
          "x3": 1.3836506706729397
         },
         {
          "x1": 1.2732040539451663,
          "x2": -2.6844663788000487,
          "x3": 1.3836506706729397
         },
         {
          "x1": -0.14419419406125966,
          "x2": 2.8317285344370804,
          "x3": 1.3836506706729397
         },
         {
          "x1": -0.14419419406125966,
          "x2": -2.6844663788000487,
          "x3": -2.199728449828154
         },
         {
          "x1": 1.2732040539451663,
          "x2": 2.8317285344370804,
          "x3": -2.199728449828154
         },
         {
          "x1": 2.99739845952874,
          "x2": 0.4571262747899514,
          "x3": -1.7579419829170606
         },
         {
          "x1": -1.868388599644834,
          "x2": 0.4571262747899514,
          "x3": -1.7579419829170606
         },
         {
          "x1": 2.99739845952874,
          "x2": -0.3098641191529201,
          "x3": -1.7579419829170606
         },
         {
          "x1": 2.99739845952874,
          "x2": 0.4571262747899514,
          "x3": 0.9418642037618454
         },
         {
          "x1": -1.868388599644834,
          "x2": -0.3098641191529201,
          "x3": 0.9418642037618454
         },
         {
          "x1": 1.4266021327337404,
          "x2": -1.1136700520050486,
          "x3": 2.9544469974679393
         },
         {
          "x1": 2.844000380740166,
          "x2": -1.1136700520050486,
          "x3": 2.9544469974679393
         },
         {
          "x1": 1.4266021327337404,
          "x2": -1.88066044594792,
          "x3": 2.9544469974679393
         },
         {
          "x1": 1.4266021327337404,
          "x2": -1.1136700520050486,
          "x3": 2.512660530556846
         },
         {
          "x1": 2.844000380740166,
          "x2": -1.88066044594792,
          "x3": 2.512660530556846
         },
         {
          "x1": -1.7149905208562597,
          "x2": 2.027922601584951,
          "x3": -0.18714565612206036
         },
         {
          "x1": -0.29759227284983414,
          "x2": 2.027922601584951,
          "x3": -0.18714565612206036
         },
         {
          "x1": -1.7149905208562597,
          "x2": 1.26093220764208,
          "x3": -0.18714565612206036
         },
         {
          "x1": -1.7149905208562597,
          "x2": 2.027922601584951,
          "x3": -0.6289321230331542
         },
         {
          "x1": -0.29759227284983414,
          "x2": 1.26093220764208,
          "x3": -0.6289321230331542
         },
         {
          "x1": -2.10768960255501,
          "x2": -2.291767297101299,
          "x3": 2.56174791576919
         },
         {
          "x1": -2.261087681343584,
          "x2": -2.291767297101299,
          "x3": 2.56174791576919
         },
         {
          "x1": -2.10768960255501,
          "x2": -3.05875769104417,
          "x3": 2.56174791576919
         },
         {
          "x1": -2.10768960255501,
          "x2": -2.291767297101299,
          "x3": -1.0216312047319045
         },
         {
          "x1": -2.261087681343584,
          "x2": -3.05875769104417,
          "x3": -1.0216312047319045
         },
         {
          "x1": 1.03390305103499,
          "x2": 0.8498253564887013,
          "x3": -0.5798447378208107
         },
         {
          "x1": 0.880504972246416,
          "x2": 0.8498253564887013,
          "x3": -0.5798447378208107
         },
         {
          "x1": 1.03390305103499,
          "x2": 0.08283496254583023,
          "x3": -0.5798447378208107
         },
         {
          "x1": 1.03390305103499,
          "x2": 0.8498253564887013,
          "x3": 2.1199614488580956
         },
         {
          "x1": 0.880504972246416,
          "x2": 0.08283496254583023,
          "x3": 2.1199614488580956
         },
         {
          "x1": 2.6046993778299905,
          "x2": -0.7209709703062988,
          "x3": 0.9909515889741893
         },
         {
          "x1": -0.690291354548584,
          "x2": -0.7209709703062988,
          "x3": 0.9909515889741893
         },
         {
          "x1": 2.6046993778299905,
          "x2": 1.6536312893408303,
          "x3": 0.9909515889741893
         },
         {
          "x1": 2.6046993778299905,
          "x2": -0.7209709703062988,
          "x3": 0.5491651220630955
         },
         {
          "x1": -0.690291354548584,
          "x2": 1.6536312893408303,
          "x3": 0.5491651220630955
         },
         {
          "x1": -0.5368932757600096,
          "x2": 2.4206216832837013,
          "x3": -2.1506410646158107
         },
         {
          "x1": 2.4513012990414165,
          "x2": 2.4206216832837013,
          "x3": -2.1506410646158107
         },
         {
          "x1": -0.5368932757600096,
          "x2": -1.48796136424917,
          "x3": -2.1506410646158107
         },
         {
          "x1": -0.5368932757600096,
          "x2": 2.4206216832837013,
          "x3": -2.592427531526904
         },
         {
          "x1": 2.4513012990414165,
          "x2": -1.48796136424917,
          "x3": -2.592427531526904
         },
         {
          "x1": -1.3222914391575098,
          "x2": -1.5063691337037988,
          "x3": -1.3652429012183105
         },
         {
          "x1": 1.6659031356439158,
          "x2": -1.5063691337037988,
          "x3": -1.3652429012183105
         },
         {
          "x1": -1.3222914391575098,
          "x2": -0.70256320085167,
          "x3": -1.3652429012183105
         },
         {
          "x1": -1.3222914391575098,
          "x2": -1.5063691337037988,
          "x3": -0.23623304133440426
         },
         {
          "x1": 1.6659031356439158,
          "x2": -0.70256320085167,
          "x3": -0.23623304133440426
         },
         {
          "x1": 1.8193012144324907,
          "x2": 1.6352235198862015,
          "x3": 1.7763497523716891
         },
         {
          "x1": -1.475689517946084,
          "x2": 1.6352235198862015,
          "x3": 1.7763497523716891
         },
         {
          "x1": 1.8193012144324907,
          "x2": 2.43902945273833,
          "x3": 1.7763497523716891
         },
         {
          "x1": 1.8193012144324907,
          "x2": 1.6352235198862015,
          "x3": 2.9053596122555954
         },
         {
          "x1": -1.475689517946084,
          "x2": 2.43902945273833,
          "x3": 2.9053596122555954
         },
         {
          "x1": 0.24850488763749023,
          "x2": -3.077165460498799,
          "x3": -2.9360392280133105
         },
         {
          "x1": 0.0951068088489162,
          "x2": -3.077165460498799,
          "x3": -2.9360392280133105
         },
         {
          "x1": 0.24850488763749023,
          "x2": 0.8682331259433305,
          "x3": -2.9360392280133105
         },
         {
          "x1": 0.24850488763749023,
          "x2": -3.077165460498799,
          "x3": 1.3345632854605958
         },
         {
          "x1": 0.0951068088489162,
          "x2": 0.8682331259433305,
          "x3": 1.3345632854605958
         },
         {
          "x1": -2.89308776595251,
          "x2": 0.06442719309120104,
          "x3": 0.20555342557668954
         },
         {
          "x1": -3.046485844741084,
          "x2": 0.06442719309120104,
          "x3": 0.20555342557668954
         },
         {
          "x1": -2.89308776595251,
          "x2": -2.27335952764667,
          "x3": 0.20555342557668954
         },
         {
          "x1": -2.89308776595251,
          "x2": 0.06442719309120104,
          "x3": -1.8070293681294043
         },
         {
          "x1": -3.046485844741084,
          "x2": -2.27335952764667,
          "x3": -1.8070293681294043
         },
         {
          "x1": -2.7949129955278225,
          "x2": -1.2118448224297365,
          "x3": 2.0708740636457517
         },
         {
          "x1": -0.19941750242514633,
          "x2": -1.2118448224297365,
          "x3": 2.0708740636457517
         },
         {
          "x1": -2.7949129955278225,
          "x2": 3.126252845711143,
          "x3": 2.0708740636457517
         },
         {
          "x1": -2.7949129955278225,
          "x2": -1.2118448224297365,
          "x3": -2.690602301951592
         },
         {
          "x1": -0.19941750242514633,
          "x2": 3.126252845711143,
          "x3": -2.690602301951592
         },
         {
          "x1": 0.3466796580621776,
          "x2": 1.929747831160264,
          "x3": -1.070718589944248
         },
         {
          "x1": 2.9421751511648537,
          "x2": 1.929747831160264,
          "x3": -1.070718589944248
         },
         {
          "x1": 0.3466796580621776,
          "x2": -0.015339807878857581,
          "x3": -1.070718589944248
         },
         {
          "x1": 0.3466796580621776,
          "x2": 1.929747831160264,
          "x3": 0.45099035163840817
         },
         {
          "x1": 2.9421751511648537,
          "x2": -0.015339807878857581,
          "x3": 0.45099035163840817
         },
         {
          "x1": 1.9174759848571776,
          "x2": -2.7826411492247365,
          "x3": 0.5000777368507521
         },
         {
          "x1": -1.7702138292201466,
          "x2": -2.7826411492247365,
          "x3": 0.5000777368507521
         },
         {
          "x1": 1.9174759848571776,
          "x2": -1.5861361346738574,
          "x3": 0.5000777368507521
         },
         {
          "x1": 1.9174759848571776,
          "x2": -2.7826411492247365,
          "x3": 2.0217866784334086
         },
         {
          "x1": -1.7702138292201466,
          "x2": -1.5861361346738574,
          "x3": 2.0217866784334086
         },
         {
          "x1": -1.2241166687328222,
          "x2": 0.3589515043652636,
          "x3": -2.641514916739248
         },
         {
          "x1": 1.3713788243698533,
          "x2": 0.3589515043652636,
          "x3": -2.641514916739248
         },
         {
          "x1": -1.2241166687328222,
          "x2": 1.5554565189161424,
          "x3": -2.641514916739248
         },
         {
          "x1": -1.2241166687328222,
          "x2": 0.3589515043652636,
          "x3": -1.1198059751565919
         },
         {
          "x1": 1.3713788243698533,
          "x2": 1.5554565189161424,
          "x3": -1.1198059751565919
         },
         {
          "x1": -0.4387185053353222,
          "x2": -1.9972429858272365,
          "x3": -0.28532042654674816
         },
         {
          "x1": 0.5859806609723535,
          "x2": -1.9972429858272365,
          "x3": -0.28532042654674816
         },
         {
          "x1": -0.4387185053353222,
          "x2": 0.7700583555186427,
          "x3": -0.28532042654674816
         },
         {
          "x1": -0.4387185053353222,
          "x2": -1.9972429858272365,
          "x3": -1.9052041385540919
         },
         {
          "x1": 0.5859806609723535,
          "x2": 0.7700583555186427,
          "x3": -1.9052041385540919
         },
         {
          "x1": 2.7028741482546774,
          "x2": 1.1443496677627634,
          "x3": 2.8562722270432523
         },
         {
          "x1": -2.5556119926176466,
          "x2": 1.1443496677627634,
          "x3": 2.8562722270432523
         },
         {
          "x1": 2.7028741482546774,
          "x2": -2.3715342980713574,
          "x3": 2.8562722270432523
         },
         {
          "x1": 2.7028741482546774,
          "x2": 1.1443496677627634,
          "x3": 1.236388515035908
         },
         {
          "x1": -2.5556119926176466,
          "x2": -2.3715342980713574,
          "x3": 1.236388515035908
         },
         {
          "x1": 1.1320778214596778,
          "x2": -0.4264466590322362,
          "x3": -1.8561167533417482
         },
         {
          "x1": 2.156776987767354,
          "x2": -0.4264466590322362,
          "x3": -1.8561167533417482
         },
         {
          "x1": 1.1320778214596778,
          "x2": -0.8007379712763574,
          "x3": -1.8561167533417482
         },
         {
          "x1": 1.1320778214596778,
          "x2": -0.4264466590322362,
          "x3": 2.8071848418309084
         },
         {
          "x1": 2.156776987767354,
          "x2": -0.8007379712763574,
          "x3": 2.8071848418309084
         },
         {
          "x1": -2.0095148321303222,
          "x2": 2.715145994557764,
          "x3": 1.2854759002482519
         },
         {
          "x1": -0.9848156658226466,
          "x2": 2.715145994557764,
          "x3": 1.2854759002482519
         },
         {
          "x1": -2.0095148321303222,
          "x2": 2.3408546823136422,
          "x3": 1.2854759002482519
         },
         {
          "x1": -2.0095148321303222,
          "x2": 2.715145994557764,
          "x3": -0.3344078117590916
         },
         {
          "x1": -0.9848156658226466,
          "x2": 2.3408546823136422,
          "x3": -0.3344078117590916
         },
         {
          "x1": -1.6168157504315723,
          "x2": -2.389942067525986,
          "x3": -2.248815835040498
         },
         {
          "x1": -2.9483110743163965,
          "x2": -2.389942067525986,
          "x3": -2.248815835040498
         },
         {
          "x1": -1.6168157504315723,
          "x2": -0.4080388895776075,
          "x3": -2.248815835040498
         },
         {
          "x1": -1.6168157504315723,
          "x2": -2.389942067525986,
          "x3": -1.5125050568553418
         },
         {
          "x1": -2.9483110743163965,
          "x2": -0.4080388895776075,
          "x3": -1.5125050568553418
         },
         {
          "x1": 1.5247769031584282,
          "x2": 0.7516505860640135,
          "x3": 0.8927768185495015
         },
         {
          "x1": 0.19328157927360357,
          "x2": 0.7516505860640135,
          "x3": 0.8927768185495015
         },
         {
          "x1": 1.5247769031584282,
          "x2": 2.7335537640123926,
          "x3": 0.8927768185495015
         },
         {
          "x1": 1.5247769031584282,
          "x2": 0.7516505860640135,
          "x3": 1.6290875967346583
         },
         {
          "x1": 0.19328157927360357,
          "x2": 2.7335537640123926,
          "x3": 1.6290875967346583
         },
         {
          "x1": 3.0955732299534278,
          "x2": -0.8191457407309866,
          "x3": -0.6780195082454981
         },
         {
          "x1": -1.3775147475213965,
          "x2": -0.8191457407309866,
          "x3": -0.6780195082454981
         },
         {
          "x1": 3.0955732299534278,
          "x2": 1.162757437217393,
          "x3": -0.6780195082454981
         },
         {
          "x1": 3.0955732299534278,
          "x2": -0.8191457407309866,
          "x3": 0.058291269939658275
         },
         {
          "x1": -1.3775147475213965,
          "x2": 1.162757437217393,
          "x3": 0.058291269939658275
         },
         {
          "x1": -0.0460194236365723,
          "x2": 2.3224469128590135,
          "x3": 2.463573145344502
         },
         {
          "x1": 1.7640779060686036,
          "x2": 2.3224469128590135,
          "x3": 2.463573145344502
         },
         {
          "x1": -0.0460194236365723,
          "x2": -1.9788352163726075,
          "x3": 2.463573145344502
         },
         {
          "x1": -0.0460194236365723,
          "x2": 2.3224469128590135,
          "x3": -3.083301383650342
         },
         {
          "x1": 1.7640779060686036,
          "x2": -1.9788352163726075,
          "x3": -3.083301383650342
         },
         {
          "x1": -0.8314175870340721,
          "x2": -0.03374757733348632,
          "x3": 0.10737865515200173
         },
         {
          "x1": 2.5494760694661034,
          "x2": -0.03374757733348632,
          "x3": 0.10737865515200173
         },
         {
          "x1": -0.8314175870340721,
          "x2": -2.7642333797701073,
          "x3": 0.10737865515200173
         },
         {
          "x1": -0.8314175870340721,
          "x2": -0.03374757733348632,
          "x3": -0.727106893457842
         },
         {
          "x1": 2.5494760694661034,
          "x2": -2.7642333797701073,
          "x3": -0.727106893457842
         },
         {
          "x1": 2.310175066555928,
          "x2": 3.1078450762565133,
          "x3": -3.0342139984379983
         },
         {
          "x1": -0.5921165841238967,
          "x2": 3.1078450762565133,
          "x3": -3.0342139984379983
         },
         {
          "x1": 2.310175066555928,
          "x2": 0.37735927381989276,
          "x3": -3.0342139984379983
         },
         {
          "x1": 2.310175066555928,
          "x2": 3.1078450762565133,
          "x3": 2.414485760132158
         },
         {
          "x1": -0.5921165841238967,
          "x2": 0.37735927381989276,
          "x3": 2.414485760132158
         },
         {
          "x1": 0.7393787397609279,
          "x2": -1.6045439041284864,
          "x3": 1.6781749819470022
         },
         {
          "x1": 0.9786797426711038,
          "x2": -1.6045439041284864,
          "x3": 1.6781749819470022
         },
         {
          "x1": 0.7393787397609279,
          "x2": 1.9481556006148928,
          "x3": 1.6781749819470022
         },
         {
          "x1": 0.7393787397609279,
          "x2": -1.6045439041284864,
          "x3": 0.8436894333371581
         },
         {
          "x1": 0.9786797426711038,
          "x2": 1.9481556006148928,
          "x3": 0.8436894333371581
         },
         {
          "x1": -2.4022139138290726,
          "x2": 1.5370487494615137,
          "x3": -1.463417671642998
         },
         {
          "x1": -2.1629129109188963,
          "x2": 1.5370487494615137,
          "x3": -1.463417671642998
         },
         {
          "x1": -2.4022139138290726,
          "x2": -1.1934370529751075,
          "x3": -1.463417671642998
         },
         {
          "x1": -2.4022139138290726,
          "x2": 1.5370487494615137,
          "x3": -2.297903220252842
         },
         {
          "x1": -2.1629129109188963,
          "x2": -1.1934370529751075,
          "x3": -2.297903220252842
         },
         {
          "x1": -2.5985634546784473,
          "x2": -1.8008934449778613,
          "x3": 1.0891263593988771
         },
         {
          "x1": 2.3531265286167287,
          "x2": -1.8008934449778613,
          "x3": 1.0891263593988771
         },
         {
          "x1": -2.5985634546784473,
          "x2": 1.3591069780667677,
          "x3": 1.0891263593988771
         },
         {
          "x1": -2.5985634546784473,
          "x2": -1.8008934449778613,
          "x3": 2.610835300981533
         },
         {
          "x1": 2.3531265286167287,
          "x2": 1.3591069780667677,
          "x3": 2.610835300981533
         },
         {
          "x1": 0.5430291989115528,
          "x2": 1.340699208612139,
          "x3": -2.052466294191123
         },
         {
          "x1": -0.7884661249732714,
          "x2": 1.340699208612139,
          "x3": -2.052466294191123
         },
         {
          "x1": 0.5430291989115528,
          "x2": -1.7824856755232326,
          "x3": -2.052466294191123
         },
         {
          "x1": 0.5430291989115528,
          "x2": 1.340699208612139,
          "x3": -0.5307573526084668
         },
         {
          "x1": -0.7884661249732714,
          "x2": -1.7824856755232326,
          "x3": -0.5307573526084668
         },
         {
          "x1": 2.1138255257065524,
          "x2": -0.2300971181828615,
          "x3": 2.6599226861938767
         },
         {
          "x1": 0.7823302018217286,
          "x2": -0.2300971181828615,
          "x3": 2.6599226861938767
         },
         {
          "x1": 2.1138255257065524,
          "x2": -0.2116893487282323,
          "x3": 2.6599226861938767
         },
         {
          "x1": 2.1138255257065524,
          "x2": -0.2300971181828615,
          "x3": -2.101553679403467
         },
         {
          "x1": 0.7823302018217286,
          "x2": -0.2116893487282323,
          "x3": -2.101553679403467
         },
         {
          "x1": -1.0277671278834473,
          "x2": 2.9114955354071386,
          "x3": -0.4816699673961229
         },
         {
          "x1": -2.3592624517682714,
          "x2": 2.9114955354071386,
          "x3": -0.4816699673961229
         },
         {
          "x1": -1.0277671278834473,
          "x2": 2.9299033048617673,
          "x3": -0.4816699673961229
         },
         {
          "x1": -1.0277671278834473,
          "x2": 2.9114955354071386,
          "x3": 1.0400389741865332
         },
         {
          "x1": -2.3592624517682714,
          "x2": 2.9299033048617673,
          "x3": 1.0400389741865332
         },
         {
          "x1": -0.24236896448594747,
          "x2": -1.0154952815803613,
          "x3": -2.837864457588623
         },
         {
          "x1": -1.5738642883707714,
          "x2": -1.0154952815803613,
          "x3": -2.837864457588623
         },
         {
          "x1": -0.24236896448594747,
          "x2": 2.1445051414642675,
          "x3": -2.837864457588623
         },
         {
          "x1": -0.24236896448594747,
          "x2": -1.0154952815803613,
          "x3": 1.825437137584033
         },
         {
          "x1": -1.5738642883707714,
          "x2": 2.1445051414642675,
          "x3": 1.825437137584033
         },
         {
          "x1": 2.899223689104053,
          "x2": 2.1260973720096388,
          "x3": 0.3037281960013769
         },
         {
          "x1": 1.5677283652192289,
          "x2": 2.1260973720096388,
          "x3": 0.3037281960013769
         },
         {
          "x1": 2.899223689104053,
          "x2": -0.9970875121257325,
          "x3": 0.3037281960013769
         },
         {
          "x1": 2.899223689104053,
          "x2": 2.1260973720096388,
          "x3": -1.3161555160059668
         },
         {
          "x1": 1.5677283652192289,
          "x2": -0.9970875121257325,
          "x3": -1.3161555160059668
         },
         {
          "x1": 1.3284273623090526,
          "x2": -2.5862916083753613,
          "x3": -1.2670681307936231
         },
         {
          "x1": -0.003067961575771605,
          "x2": -2.5862916083753613,
          "x3": -1.2670681307936231
         },
         {
          "x1": 1.3284273623090526,
          "x2": -2.5678838389207326,
          "x3": -1.2670681307936231
         },
         {
          "x1": 1.3284273623090526,
          "x2": -2.5862916083753613,
          "x3": -2.8869518428009666
         },
         {
          "x1": -0.003067961575771605,
          "x2": -2.5678838389207326,
          "x3": -2.8869518428009666
         },
         {
          "x1": -1.8131652912809473,
          "x2": 0.5553010452146387,
          "x3": 1.874524522796377
         },
         {
          "x1": 3.1385246920142285,
          "x2": 0.5553010452146387,
          "x3": 1.874524522796377
         },
         {
          "x1": -1.8131652912809473,
          "x2": 0.5737088146692675,
          "x3": 1.874524522796377
         },
         {
          "x1": -1.8131652912809473,
          "x2": 0.5553010452146387,
          "x3": 0.254640810789033
         },
         {
          "x1": 3.1385246920142285,
          "x2": 0.5737088146692675,
          "x3": 0.254640810789033
         },
         {
          "x1": -2.2058643729796974,
          "x2": -0.6227961998816114,
          "x3": -0.8743690490948732
         },
         {
          "x1": 1.1750292835204785,
          "x2": -0.6227961998816114,
          "x3": -0.8743690490948732
         },
         {
          "x1": -2.2058643729796974,
          "x2": -2.1751847572219827,
          "x3": -0.8743690490948732
         },
         {
          "x1": -2.2058643729796974,
          "x2": -0.6227961998816114,
          "x3": 1.4327380558852836
         },
         {
          "x1": 1.1750292835204785,
          "x2": -2.1751847572219827,
          "x3": 1.4327380558852836
         },
         {
          "x1": 0.9357282806103031,
          "x2": 2.518796453708389,
          "x3": 2.2672236044951273
         },
         {
          "x1": -1.9665633700695215,
          "x2": 2.518796453708389,
          "x3": 2.2672236044951273
         },
         {
          "x1": 0.9357282806103031,
          "x2": 0.9664078963680174,
          "x3": 2.2672236044951273
         },
         {
          "x1": 0.9357282806103031,
          "x2": 2.518796453708389,
          "x3": -1.708854597704717
         },
         {
          "x1": -1.9665633700695215,
          "x2": 0.9664078963680174,
          "x3": -1.708854597704717
         },
         {
          "x1": 2.5065246074053027,
          "x2": -2.1935925266766114,
          "x3": -2.4451653758898733
         },
         {
          "x1": 2.745825610315479,
          "x2": -2.1935925266766114,
          "x3": -2.4451653758898733
         },
         {
          "x1": 2.5065246074053027,
          "x2": 2.537204223163018,
          "x3": -2.4451653758898733
         },
         {
          "x1": 2.5065246074053027,
          "x2": -2.1935925266766114,
          "x3": -0.1380582709097169
         },
         {
          "x1": 2.745825610315479,
          "x2": 2.537204223163018,
          "x3": -0.1380582709097169
         },
         {
          "x1": -0.6350680461846974,
          "x2": 0.9480001269133886,
          "x3": 0.6964272777001268
         },
         {
          "x1": -0.3957670432745215,
          "x2": 0.9480001269133886,
          "x3": 0.6964272777001268
         },
         {
          "x1": -0.6350680461846974,
          "x2": -0.6043884304269826,
          "x3": 0.6964272777001268
         },
         {
          "x1": -0.6350680461846974,
          "x2": 0.9480001269133886,
          "x3": 3.003534382680283
         },
         {
          "x1": -0.3957670432745215,
          "x2": -0.6043884304269826,
          "x3": 3.003534382680283
         },
         {
          "x1": -1.4204662095821974,
          "x2": -2.978990690074111,
          "x3": 3.052621767892627
         },
         {
          "x1": -1.1811652066720215,
          "x2": -2.978990690074111,
          "x3": 3.052621767892627
         },
         {
          "x1": -1.4204662095821974,
          "x2": -1.3897865938244824,
          "x3": 3.052621767892627
         },
         {
          "x1": -1.4204662095821974,
          "x2": -2.978990690074111,
          "x3": 0.6473398924877833
         },
         {
          "x1": -1.1811652066720215,
          "x2": -1.3897865938244824,
          "x3": 0.6473398924877833
         },
         {
          "x1": 1.721126444007803,
          "x2": 0.16260196351588885,
          "x3": -0.08897088569737299
         },
         {
          "x1": 1.9604274469179783,
          "x2": 0.16260196351588885,
          "x3": -0.08897088569737299
         },
         {
          "x1": 1.721126444007803,
          "x2": 1.7518060597655172,
          "x3": -0.08897088569737299
         },
         {
          "x1": 1.721126444007803,
          "x2": 0.16260196351588885,
          "x3": -2.4942527611022167
         },
         {
          "x1": 1.9604274469179783,
          "x2": 1.7518060597655172,
          "x3": -2.4942527611022167
         },
         {
          "x1": 0.15033011721280287,
          "x2": -1.4081943632791114,
          "x3": 1.4818254410976266
         },
         {
          "x1": -2.7519615334670213,
          "x2": -1.4081943632791114,
          "x3": 1.4818254410976266
         },
         {
          "x1": 0.15033011721280287,
          "x2": 0.1810097329705176,
          "x3": 1.4818254410976266
         },
         {
          "x1": 0.15033011721280287,
          "x2": -1.4081943632791114,
          "x3": -0.9234564343072167
         },
         {
          "x1": -2.7519615334670213,
          "x2": 0.1810097329705176,
          "x3": -0.9234564343072167
         },
         {
          "x1": -2.991262536377197,
          "x2": 1.7333982903108884,
          "x3": -1.659767212492373
         },
         {
          "x1": 0.38963112012297874,
          "x2": 1.7333982903108884,
          "x3": -1.659767212492373
         },
         {
          "x1": -2.991262536377197,
          "x2": -2.9605829206194825,
          "x3": -1.659767212492373
         },
         {
          "x1": -2.991262536377197,
          "x2": 1.7333982903108884,
          "x3": 2.2181362192827834
         },
         {
          "x1": 0.38963112012297874,
          "x2": -2.9605829206194825,
          "x3": 2.2181362192827834
         },
         {
          "x1": -3.040349921589541,
          "x2": -0.4755340442445801,
          "x3": 1.236388515035908
         },
         {
          "x1": -2.0156507552818654,
          "x2": -0.4755340442445801,
          "x3": 1.236388515035908
         },
         {
          "x1": -3.040349921589541,
          "x2": -0.06442719309120104,
          "x3": 1.236388515035908
         },
         {
          "x1": -3.040349921589541,
          "x2": -0.4755340442445801,
          "x3": 0.3037281960013769
         },
         {
          "x1": -2.0156507552818654,
          "x2": -0.06442719309120104,
          "x3": 0.3037281960013769
         },
         {
          "x1": 0.10124273200045897,
          "x2": 2.66605860934542,
          "x3": -1.9052041385540919
         },
         {
          "x1": 1.1259418983081346,
          "x2": 2.66605860934542,
          "x3": -1.9052041385540919
         },
         {
          "x1": 0.10124273200045897,
          "x2": 3.077165460498799,
          "x3": -1.9052041385540919
         },
         {
          "x1": 0.10124273200045897,
          "x2": 2.66605860934542,
          "x3": -2.837864457588623
         },
         {
          "x1": 1.1259418983081346,
          "x2": 3.077165460498799,
          "x3": -2.837864457588623
         },
         {
          "x1": 1.672039058795459,
          "x2": -2.04633037103958,
          "x3": 2.8071848418309084
         },
         {
          "x1": -0.4448544284868654,
          "x2": -2.04633037103958,
          "x3": 2.8071848418309084
         },
         {
          "x1": 1.672039058795459,
          "x2": 1.5063691337037985,
          "x3": 2.8071848418309084
         },
         {
          "x1": 1.672039058795459,
          "x2": -2.04633037103958,
          "x3": -1.2670681307936231
         },
         {
          "x1": -0.4448544284868654,
          "x2": 1.5063691337037985,
          "x3": -1.2670681307936231
         },
         {
          "x1": -1.469553594794541,
          "x2": 1.0952622825504204,
          "x3": -0.3344078117590916
         },
         {
          "x1": 2.696738225103135,
          "x2": 1.0952622825504204,
          "x3": -0.3344078117590916
         },
         {
          "x1": -1.469553594794541,
          "x2": -1.6352235198862013,
          "x3": -0.3344078117590916
         },
         {
          "x1": -1.469553594794541,
          "x2": 1.0952622825504204,
          "x3": 1.874524522796377
         },
         {
          "x1": 2.696738225103135,
          "x2": -1.6352235198862013,
          "x3": 1.874524522796377
         },
         {
          "x1": -0.6841554313970408,
          "x2": -2.83172853443708,
          "x3": -2.690602301951592
         },
         {
          "x1": 1.9113400617056344,
          "x2": -2.83172853443708,
          "x3": -2.690602301951592
         },
         {
          "x1": -0.6841554313970408,
          "x2": -2.4206216832837013,
          "x3": -2.690602301951592
         },
         {
          "x1": -0.6841554313970408,
          "x2": -2.83172853443708,
          "x3": 1.0891263593988771
         },
         {
          "x1": 1.9113400617056344,
          "x2": -2.4206216832837013,
          "x3": 1.0891263593988771
         },
         {
          "x1": 2.457437222192959,
          "x2": 0.3098641191529201,
          "x3": 0.45099035163840817
         },
         {
          "x1": -1.2302525918843652,
          "x2": 0.3098641191529201,
          "x3": 0.45099035163840817
         },
         {
          "x1": 2.457437222192959,
          "x2": 0.7209709703062988,
          "x3": 0.45099035163840817
         },
         {
          "x1": 2.457437222192959,
          "x2": 0.3098641191529201,
          "x3": -2.052466294191123
         },
         {
          "x1": -1.2302525918843652,
          "x2": 0.7209709703062988,
          "x3": -2.052466294191123
         },
         {
          "x1": 0.8866408953979592,
          "x2": -1.2609322076420801,
          "x3": -1.1198059751565919
         },
         {
          "x1": 0.34054373491063483,
          "x2": -1.2609322076420801,
          "x3": -1.1198059751565919
         },
         {
          "x1": 0.8866408953979592,
          "x2": 2.2917672971012992,
          "x3": -1.1198059751565919
         },
         {
          "x1": 0.8866408953979592,
          "x2": -1.2609322076420801,
          "x3": -0.4816699673961229
         },
         {
          "x1": 0.34054373491063483,
          "x2": 2.2917672971012992,
          "x3": -0.4816699673961229
         },
         {
          "x1": -2.254951758192041,
          "x2": 1.8806604459479201,
          "x3": 2.0217866784334086
         },
         {
          "x1": -2.8010489186793652,
          "x2": 1.8806604459479201,
          "x3": 2.0217866784334086
         },
         {
          "x1": -2.254951758192041,
          "x2": -0.8498253564887013,
          "x3": 2.0217866784334086
         },
         {
          "x1": -2.254951758192041,
          "x2": 1.8806604459479201,
          "x3": 2.6599226861938767
         },
         {
          "x1": -2.8010489186793652,
          "x2": -0.8498253564887013,
          "x3": 2.6599226861938767
         },
         {
          "x1": -1.862252676493291,
          "x2": -1.65363128934083,
          "x3": -1.5125050568553418
         },
         {
          "x1": -0.8375535101856153,
          "x2": -1.65363128934083,
          "x3": -1.5125050568553418
         },
         {
          "x1": -1.862252676493291,
          "x2": 2.6844663788000487,
          "x3": -1.5125050568553418
         },
         {
          "x1": -1.862252676493291,
          "x2": -1.65363128934083,
          "x3": 2.2672236044951273
         },
         {
          "x1": -0.8375535101856153,
          "x2": 2.6844663788000487,
          "x3": 2.2672236044951273
         },
         {
          "x1": 1.2793399770967087,
          "x2": 1.4879613642491698,
          "x3": 1.6290875967346583
         },
         {
          "x1": 2.3040391434043848,
          "x2": 1.4879613642491698,
          "x3": 1.6290875967346583
         },
         {
          "x1": 1.2793399770967087,
          "x2": -0.4571262747899514,
          "x3": 1.6290875967346583
         },
         {
          "x1": 1.2793399770967087,
          "x2": 1.4879613642491698,
          "x3": -0.8743690490948732
         },
         {
          "x1": 2.3040391434043848,
          "x2": -0.4571262747899514,
          "x3": -0.8743690490948732
         },
         {
          "x1": 2.850136303891709,
          "x2": -0.08283496254583023,
          "x3": -3.083301383650342
         },
         {
          "x1": -2.4083498369806153,
          "x2": -0.08283496254583023,
          "x3": -3.083301383650342
         },
         {
          "x1": 2.850136303891709,
          "x2": -2.027922601584951,
          "x3": -3.083301383650342
         },
         {
          "x1": 2.850136303891709,
          "x2": -0.08283496254583023,
          "x3": -2.4451653758898733
         },
         {
          "x1": -2.4083498369806153,
          "x2": -2.027922601584951,
          "x3": -2.4451653758898733
         },
         {
          "x1": -0.29145634969829093,
          "x2": 3.0587576910441703,
          "x3": 0.058291269939658275
         },
         {
          "x1": 0.7332428166093847,
          "x2": 3.0587576910441703,
          "x3": 0.058291269939658275
         },
         {
          "x1": -0.29145634969829093,
          "x2": 1.113670052005049,
          "x3": 0.058291269939658275
         },
         {
          "x1": -0.29145634969829093,
          "x2": 3.0587576910441703,
          "x3": 0.6964272777001268
         },
         {
          "x1": 0.7332428166093847,
          "x2": 1.113670052005049,
          "x3": 0.6964272777001268
         },
         {
          "x1": -1.0768545130957912,
          "x2": -0.86823312594333,
          "x3": 2.414485760132158
         },
         {
          "x1": 1.518640980006885,
          "x2": -0.86823312594333,
          "x3": 2.414485760132158
         },
         {
          "x1": -1.0768545130957912,
          "x2": 0.32827188860754886,
          "x3": 2.414485760132158
         },
         {
          "x1": -1.0768545130957912,
          "x2": -0.86823312594333,
          "x3": 3.052621767892627
         },
         {
          "x1": 1.518640980006885,
          "x2": 0.32827188860754886,
          "x3": 3.052621767892627
         },
         {
          "x1": 2.0647381404942093,
          "x2": 2.2733595276466696,
          "x3": -0.727106893457842
         },
         {
          "x1": -1.6229516735831153,
          "x2": 2.2733595276466696,
          "x3": -0.727106893457842
         },
         {
          "x1": 2.0647381404942093,
          "x2": -2.813320764982451,
          "x3": -0.727106893457842
         },
         {
          "x1": 2.0647381404942093,
          "x2": 2.2733595276466696,
          "x3": -0.08897088569737299
         },
         {
          "x1": -1.6229516735831153,
          "x2": -2.813320764982451,
          "x3": -0.08897088569737299
         },
         {
          "x1": 0.49394181369920886,
          "x2": -2.43902945273833,
          "x3": 0.8436894333371581
         },
         {
          "x1": 3.0894373068018846,
          "x2": -2.43902945273833,
          "x3": 0.8436894333371581
         },
         {
          "x1": 0.49394181369920886,
          "x2": -1.2425244381874512,
          "x3": 0.8436894333371581
         },
         {
          "x1": 0.49394181369920886,
          "x2": -2.43902945273833,
          "x3": -1.659767212492373
         },
         {
          "x1": 3.0894373068018846,
          "x2": -1.2425244381874512,
          "x3": -1.659767212492373
         },
         {
          "x1": -2.647650839890791,
          "x2": 0.70256320085167,
          "x3": -2.297903220252842
         },
         {
          "x1": -0.052155346788115065,
          "x2": 0.70256320085167,
          "x3": -2.297903220252842
         },
         {
          "x1": -2.647650839890791,
          "x2": 1.8990682154025489,
          "x3": -2.297903220252842
         },
         {
          "x1": -2.647650839890791,
          "x2": 0.70256320085167,
          "x3": 1.4818254410976266
         },
         {
          "x1": -0.052155346788115065,
          "x2": 1.8990682154025489,
          "x3": 1.4818254410976266
         }
        ]
       },
       "encoding": {
        "x": {
         "bin": true,
         "field": "x1",
         "type": "quantitative"
        },
        "y": {
         "aggregate": "count",
         "type": "quantitative"
        }
       },
       "mark": "bar"
      },
      "image/png": "[encoded data removed]",
      "image/svg+xml": [
       "<?xml version=\"1.0\" encoding=\"utf-8\"?>\n",
       "<!DOCTYPE svg PUBLIC \"-//W3C//DTD SVG 1.1//EN\" \"http://www.w3.org/Graphics/SVG/1.1/DTD/svg11.dtd\">\n",
       "<svg class=\"marks\" width=\"260\" height=\"251\" viewBox=\"0 0 260 251\" version=\"1.1\" xmlns=\"http://www.w3.org/2000/svg\" xmlns:xlink=\"http://www.w3.org/1999/xlink\"><g transform=\"translate(54,11)\"><g class=\"mark-group role-frame root\"><g transform=\"translate(0,0)\"><path class=\"background\" d=\"M0.5,0.5h200v200h-200Z\" style=\"fill: none; stroke: #ddd;\"></path><g><g class=\"mark-group role-axis\"><g transform=\"translate(0.5,0.5)\"><path class=\"background\" d=\"M0,0h0v0h0Z\" style=\"pointer-events: none; fill: none;\"></path><g><g class=\"mark-rule role-axis-grid\" style=\"pointer-events: none;\"><line transform=\"translate(0,200)\" x2=\"200\" y2=\"0\" style=\"fill: none; stroke: #ddd; stroke-width: 1; opacity: 1;\"></line><line transform=\"translate(0,150)\" x2=\"200\" y2=\"0\" style=\"fill: none; stroke: #ddd; stroke-width: 1; opacity: 1;\"></line><line transform=\"translate(0,100)\" x2=\"200\" y2=\"0\" style=\"fill: none; stroke: #ddd; stroke-width: 1; opacity: 1;\"></line><line transform=\"translate(0,50)\" x2=\"200\" y2=\"0\" style=\"fill: none; stroke: #ddd; stroke-width: 1; opacity: 1;\"></line><line transform=\"translate(0,0)\" x2=\"200\" y2=\"0\" style=\"fill: none; stroke: #ddd; stroke-width: 1; opacity: 1;\"></line></g></g></g></g><g class=\"mark-rect role-mark marks\"><path d=\"M51,0.5h24v199.5h-24Z\" style=\"fill: #4c78a8;\"></path><path d=\"M126,0.75h24v199.25h-24Z\" style=\"fill: #4c78a8;\"></path><path d=\"M26,2h24v198h-24Z\" style=\"fill: #4c78a8;\"></path><path d=\"M151,1h24v199h-24Z\" style=\"fill: #4c78a8;\"></path><path d=\"M76,1.25h24v198.75h-24Z\" style=\"fill: #4c78a8;\"></path><path d=\"M101,1.25h24v198.75h-24Z\" style=\"fill: #4c78a8;\"></path><path d=\"M1,171.25h24v28.75h-24Z\" style=\"fill: #4c78a8;\"></path><path d=\"M176,172h24v28h-24Z\" style=\"fill: #4c78a8;\"></path></g><g class=\"mark-group role-axis\"><g transform=\"translate(0.5,200.5)\"><path class=\"background\" d=\"M0,0h0v0h0Z\" style=\"pointer-events: none; fill: none;\"></path><g><g class=\"mark-rule role-axis-tick\" style=\"pointer-events: none;\"><line transform=\"translate(0,0)\" x2=\"0\" y2=\"5\" style=\"fill: none; stroke: #888; stroke-width: 1; opacity: 1;\"></line><line transform=\"translate(25,0)\" x2=\"0\" y2=\"5\" style=\"fill: none; stroke: #888; stroke-width: 1; opacity: 1;\"></line><line transform=\"translate(50,0)\" x2=\"0\" y2=\"5\" style=\"fill: none; stroke: #888; stroke-width: 1; opacity: 1;\"></line><line transform=\"translate(75,0)\" x2=\"0\" y2=\"5\" style=\"fill: none; stroke: #888; stroke-width: 1; opacity: 1;\"></line><line transform=\"translate(100,0)\" x2=\"0\" y2=\"5\" style=\"fill: none; stroke: #888; stroke-width: 1; opacity: 1;\"></line><line transform=\"translate(125,0)\" x2=\"0\" y2=\"5\" style=\"fill: none; stroke: #888; stroke-width: 1; opacity: 1;\"></line><line transform=\"translate(150,0)\" x2=\"0\" y2=\"5\" style=\"fill: none; stroke: #888; stroke-width: 1; opacity: 1;\"></line><line transform=\"translate(175,0)\" x2=\"0\" y2=\"5\" style=\"fill: none; stroke: #888; stroke-width: 1; opacity: 1;\"></line><line transform=\"translate(200,0)\" x2=\"0\" y2=\"5\" style=\"fill: none; stroke: #888; stroke-width: 1; opacity: 1;\"></line></g><g class=\"mark-text role-axis-label\" style=\"pointer-events: none;\"><text text-anchor=\"start\" transform=\"translate(0,15)\" style=\"font-family: sans-serif; font-size: 10px; fill: #000; opacity: 1;\">-4</text><text text-anchor=\"middle\" transform=\"translate(25,15)\" style=\"font-family: sans-serif; font-size: 10px; fill: #000; opacity: 0;\">-3</text><text text-anchor=\"middle\" transform=\"translate(50,15)\" style=\"font-family: sans-serif; font-size: 10px; fill: #000; opacity: 1;\">-2</text><text text-anchor=\"middle\" transform=\"translate(75,15)\" style=\"font-family: sans-serif; font-size: 10px; fill: #000; opacity: 0;\">-1</text><text text-anchor=\"middle\" transform=\"translate(100,15)\" style=\"font-family: sans-serif; font-size: 10px; fill: #000; opacity: 1;\">0</text><text text-anchor=\"middle\" transform=\"translate(125,15)\" style=\"font-family: sans-serif; font-size: 10px; fill: #000; opacity: 0;\">1</text><text text-anchor=\"middle\" transform=\"translate(150,15)\" style=\"font-family: sans-serif; font-size: 10px; fill: #000; opacity: 1;\">2</text><text text-anchor=\"middle\" transform=\"translate(175,15)\" style=\"font-family: sans-serif; font-size: 10px; fill: #000; opacity: 0;\">3</text><text text-anchor=\"end\" transform=\"translate(200,15)\" style=\"font-family: sans-serif; font-size: 10px; fill: #000; opacity: 1;\">4</text></g><g class=\"mark-rule role-axis-domain\" style=\"pointer-events: none;\"><line transform=\"translate(0,0)\" x2=\"200\" y2=\"0\" style=\"fill: none; stroke: #888; stroke-width: 1; opacity: 1;\"></line></g><g class=\"mark-text role-axis-title\" style=\"pointer-events: none;\"><text text-anchor=\"middle\" transform=\"translate(100,31)\" style=\"font-family: sans-serif; font-size: 11px; font-weight: bold; fill: #000; opacity: 1;\">x1 (binned)</text></g></g></g></g><g class=\"mark-group role-axis\"><g transform=\"translate(0.5,0.5)\"><path class=\"background\" d=\"M0,0h0v0h0Z\" style=\"pointer-events: none; fill: none;\"></path><g><g class=\"mark-rule role-axis-tick\" style=\"pointer-events: none;\"><line transform=\"translate(0,200)\" x2=\"-5\" y2=\"0\" style=\"fill: none; stroke: #888; stroke-width: 1; opacity: 1;\"></line><line transform=\"translate(0,150)\" x2=\"-5\" y2=\"0\" style=\"fill: none; stroke: #888; stroke-width: 1; opacity: 1;\"></line><line transform=\"translate(0,100)\" x2=\"-5\" y2=\"0\" style=\"fill: none; stroke: #888; stroke-width: 1; opacity: 1;\"></line><line transform=\"translate(0,50)\" x2=\"-5\" y2=\"0\" style=\"fill: none; stroke: #888; stroke-width: 1; opacity: 1;\"></line><line transform=\"translate(0,0)\" x2=\"-5\" y2=\"0\" style=\"fill: none; stroke: #888; stroke-width: 1; opacity: 1;\"></line></g><g class=\"mark-text role-axis-label\" style=\"pointer-events: none;\"><text text-anchor=\"end\" transform=\"translate(-7,203)\" style=\"font-family: sans-serif; font-size: 10px; fill: #000; opacity: 1;\">0</text><text text-anchor=\"end\" transform=\"translate(-7,153)\" style=\"font-family: sans-serif; font-size: 10px; fill: #000; opacity: 1;\">200</text><text text-anchor=\"end\" transform=\"translate(-7,103)\" style=\"font-family: sans-serif; font-size: 10px; fill: #000; opacity: 1;\">400</text><text text-anchor=\"end\" transform=\"translate(-7,53)\" style=\"font-family: sans-serif; font-size: 10px; fill: #000; opacity: 1;\">600</text><text text-anchor=\"end\" transform=\"translate(-7,3)\" style=\"font-family: sans-serif; font-size: 10px; fill: #000; opacity: 1;\">800</text></g><g class=\"mark-rule role-axis-domain\" style=\"pointer-events: none;\"><line transform=\"translate(0,200)\" x2=\"0\" y2=\"-200\" style=\"fill: none; stroke: #888; stroke-width: 1; opacity: 1;\"></line></g><g class=\"mark-text role-axis-title\" style=\"pointer-events: none;\"><text text-anchor=\"middle\" transform=\"translate(-36,100) rotate(-90) translate(0,-2)\" style=\"font-family: sans-serif; font-size: 11px; font-weight: bold; fill: #000; opacity: 1;\">Number of Records</text></g></g></g></g></g></g></g></g></svg>"
      ],
      "text/plain": [
       "VegaLite.VLSpec{:plot}"
      ]
     },
     "execution_count": 18,
     "metadata": {},
     "output_type": "execute_result"
    }
   ],
   "source": [
    "DataFrame(param_values) |>\n",
    "@vlplot(\n",
    "    :bar, \n",
    "    x={:x1, bin=true}, \n",
    "    y=\"count()\"\n",
    ")"
   ]
  },
  {
   "cell_type": "markdown",
   "metadata": {},
   "source": [
    "### 2. Analyze"
   ]
  },
  {
   "cell_type": "code",
   "execution_count": 19,
   "metadata": {},
   "outputs": [],
   "source": [
    "Y = ishigami(param_values);"
   ]
  },
  {
   "cell_type": "code",
   "execution_count": 22,
   "metadata": {},
   "outputs": [
    {
     "data": {
      "text/plain": [
       "3-element Array{Float64,1}:\n",
       "  0.3079752196157346  \n",
       "  0.4477666102451368  \n",
       " -0.004253961705403433"
      ]
     },
     "execution_count": 22,
     "metadata": {},
     "output_type": "execute_result"
    }
   ],
   "source": [
    "results = analyze(data, Y)\n",
    "results[:firstorder]"
   ]
  },
  {
   "cell_type": "code",
   "execution_count": null,
   "metadata": {},
   "outputs": [],
   "source": []
  }
 ],
 "metadata": {
  "kernelspec": {
   "display_name": "Julia 1.0.0",
   "language": "julia",
   "name": "julia-1.0"
  },
  "language_info": {
   "file_extension": ".jl",
   "mimetype": "application/julia",
   "name": "julia",
   "version": "1.0.0"
  }
 },
 "nbformat": 4,
 "nbformat_minor": 2
}
